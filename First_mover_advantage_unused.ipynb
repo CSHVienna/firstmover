{
  "nbformat": 4,
  "nbformat_minor": 0,
  "metadata": {
    "colab": {
      "name": "First-mover advantage unused",
      "provenance": [],
      "collapsed_sections": [
        "VbT3ucoz8gk5",
        "WTJnBOyR8k9J",
        "mGrfv-jeJjhJ",
        "EvOi2N03xWI6"
      ],
      "include_colab_link": true
    },
    "kernelspec": {
      "name": "python3",
      "display_name": "Python 3"
    }
  },
  "cells": [
    {
      "cell_type": "markdown",
      "metadata": {
        "id": "view-in-github",
        "colab_type": "text"
      },
      "source": [
        "<a href=\"https://colab.research.google.com/github/therobinkay/firstmover/blob/main/First_mover_advantage_unused.ipynb\" target=\"_parent\"><img src=\"https://colab.research.google.com/assets/colab-badge.svg\" alt=\"Open In Colab\"/></a>"
      ]
    },
    {
      "cell_type": "code",
      "metadata": {
        "colab": {
          "base_uri": "https://localhost:8080/"
        },
        "id": "SQcbBIzbm3fP",
        "outputId": "705d30d0-58a0-4b64-cb21-5fcc90e78434"
      },
      "source": [
        "from google.colab import drive\n",
        "drive.mount('/content/drive/')"
      ],
      "execution_count": null,
      "outputs": [
        {
          "output_type": "stream",
          "name": "stdout",
          "text": [
            "Mounted at /content/drive/\n"
          ]
        }
      ]
    },
    {
      "cell_type": "code",
      "metadata": {
        "id": "gXIay7x8m43v"
      },
      "source": [
        "!cd \"drive/My Drive\""
      ],
      "execution_count": null,
      "outputs": []
    },
    {
      "cell_type": "code",
      "metadata": {
        "id": "ddiEVDeSEfiS"
      },
      "source": [
        "# import all necessary packages\n",
        "\n",
        "import io\n",
        "import pandas as pd\n",
        "import os\n",
        "import itertools\n",
        "import numpy as np\n",
        "import scipy.stats\n",
        "import time\n",
        "\n",
        "import matplotlib.pyplot as plt\n",
        "import seaborn as sns\n",
        "\n",
        "from tqdm import tqdm\n",
        "\n",
        "import math\n",
        "\n",
        "from collections import defaultdict\n",
        "from itertools import combinations as comb\n",
        "\n",
        "import networkx as nx\n",
        "import random"
      ],
      "execution_count": null,
      "outputs": []
    },
    {
      "cell_type": "code",
      "metadata": {
        "id": "dl3dGhekFBYi"
      },
      "source": [
        "# read necessary data files\n",
        "\n",
        "data = pd.read_csv(\"drive/My Drive/codes/data.csv\")\n",
        "dp = pd.read_csv(\"drive/My Drive/codes/doipacs.csv\")\n",
        "cen = pd.read_csv('drive/My Drive/codes/cen.csv')\n",
        "# cdata = pd.read_csv('drive/My Drive/codes/cdata.csv')\n",
        "cb = pd.read_csv(\"drive/My Drive/codes/citationBara.csv\")"
      ],
      "execution_count": null,
      "outputs": []
    },
    {
      "cell_type": "code",
      "metadata": {
        "id": "ISz3b1U0PiOF"
      },
      "source": [
        "############## SELECT DESIRED PACS (HOMOPHILY ONLY) ###############\n",
        "\n",
        "# Select subfield (0-9)\n",
        "N = 0\n",
        "\n",
        "homn = pd.read_csv(f\"drive/My Drive/codes/hom{N}.csv\")\n",
        "\n",
        "# q thresholds by subfield\n",
        "qs = [0.002, 0.003, 0.003, 0.002, 0.0025, 0.006, 0.0018, 0.002, 0.0025, 0.006]\n",
        "\n",
        "# print(len(homn))\n",
        "# homn.head()"
      ],
      "execution_count": null,
      "outputs": []
    },
    {
      "cell_type": "markdown",
      "metadata": {
        "id": "UjGNM-FNfS17"
      },
      "source": [
        "# UNUSED"
      ]
    },
    {
      "cell_type": "markdown",
      "metadata": {
        "id": "VbT3ucoz8gk5"
      },
      "source": [
        "## Female participation by year"
      ]
    },
    {
      "cell_type": "code",
      "metadata": {
        "id": "dDvzEYd_Q8Bs"
      },
      "source": [
        "# Observe female participation by year, separated by primary\n",
        "\n",
        "tdata = data.copy()\n",
        "tdata.sort_values(\"id\", inplace = True)\n",
        "tdata.drop_duplicates(subset = [\"id\", \"year\"],\n",
        "                         keep = \"first\", inplace = True)\n",
        "\n",
        "fmtdata = tdata[tdata['gender'] == 'female'].groupby(['year'])['year'].count()\n",
        "\n",
        "# Treating primary authors only\n",
        "pdata = tdata[tdata['order'] == 1]\n",
        "\n",
        "fmpdata = pdata[pdata['gender'] == 'female'].groupby(['year'])['year'].count()"
      ],
      "execution_count": null,
      "outputs": []
    },
    {
      "cell_type": "code",
      "metadata": {
        "id": "yoAqGsluEHrP"
      },
      "source": [
        "# Year vs. Proportion of Female Authors (Plot)\n",
        "\n",
        "fig, ax = plt.subplots(figsize=(6,4.5))\n",
        "right_side = ax.spines[\"right\"]\n",
        "top_side = ax.spines[\"top\"]\n",
        "right_side.set_visible(False)\n",
        "top_side.set_visible(False)\n",
        "\n",
        "# Overall\n",
        "(fmtdata/tdata.groupby(['year'])['year'].count()).plot(\n",
        "    style='.-', color='black', lw=3)\n",
        "# Primary\n",
        "(fmpdata/pdata.groupby(['year'])['year'].count()).plot(\n",
        "    style='.-', color='red', lw=3)\n",
        "\n",
        "plt.legend(('overall', 'primary'), loc='upper left', fontsize=20)\n",
        "plt.xticks(np.arange(1960, 2010, step=10), fontsize=20)\n",
        "plt.xlabel('Year', fontsize=20)\n",
        "plt.xlim(xmin=1960, xmax=2010)\n",
        "plt.ylabel('Proportion of Female Authors', fontsize=20)\n",
        "plt.yticks(fontsize=20)\n",
        "plt.ylim(ymin=0, ymax = 0.2)\n",
        "\n",
        "plt.tight_layout()"
      ],
      "execution_count": null,
      "outputs": []
    },
    {
      "cell_type": "markdown",
      "metadata": {
        "id": "WTJnBOyR8k9J"
      },
      "source": [
        "## K-S Test for Productivity"
      ]
    },
    {
      "cell_type": "code",
      "metadata": {
        "id": "mERAuxNs2j4o"
      },
      "source": [
        "# Creating a DataFrame with productivity calculated\n",
        "prod = data.groupby(['id', 'gender']).agg({'year': [min, max, 'count']})\n",
        "\n",
        "prod['career_age'] = prod['year']['max'] - prod['year']['min']\n",
        "prod['prod'] = prod['year']['count'] / (prod['career_age'])\n",
        "prod = prod[prod['career_age'] != 0]\n",
        "\n",
        "prod.sort_values([('year','count')], ascending=False).head()\n",
        "\n",
        "# Separating the DataFrame by gender\n",
        "prod_m = prod.xs('male', level='gender').sort_values(\n",
        "    by=['prod'],ascending=False, ignore_index=True)\n",
        "prod_fm = prod.xs('female', level='gender').sort_values(\n",
        "    by=['prod'],ascending=False)\n",
        "\n",
        "# Career Age by gender\n",
        "camale = prod_m.groupby(['career_age'])['career_age'].count()\n",
        "cafemale = prod_fm.groupby(['career_age'])['career_age'].count()"
      ],
      "execution_count": null,
      "outputs": []
    },
    {
      "cell_type": "code",
      "metadata": {
        "id": "O9nLldXBt6xp"
      },
      "source": [
        "#ks test (two-tailed)\n",
        "from scipy.stats import ks_2samp\n",
        "print(ks_2samp(prod_m['prod'], prod_fm['prod']))\n",
        "\n",
        "#ks test: male > female\n",
        "print(ks_2samp(prod_m['prod'], prod_fm['prod'], alternative='greater'))\n",
        "\n",
        "#ks test: male < female\n",
        "print(ks_2samp(prod_m['prod'], prod_fm['prod'], alternative='less'))"
      ],
      "execution_count": null,
      "outputs": []
    },
    {
      "cell_type": "code",
      "metadata": {
        "id": "kuu9AGnLBKeq"
      },
      "source": [
        "# finding where the biggest difference occurs\n",
        "\n",
        "def ks_2samp_x(data1, data2, alternative=\"two-sided\"):\n",
        "    data1 = np.sort(data1)\n",
        "    data2 = np.sort(data2)\n",
        "    n1 = data1.shape[0]\n",
        "    n2 = data2.shape[0]\n",
        "\n",
        "    data_all = np.concatenate([data1, data2])\n",
        "    # using searchsorted solves equal data problem\n",
        "    cdf1 = np.searchsorted(data1, data_all, side='right') / n1\n",
        "    cdf2 = np.searchsorted(data2, data_all, side='right') / n2\n",
        "    cddiffs = cdf1 - cdf2\n",
        "    minS = np.argmin(cddiffs)   # ks_2samp uses np.min or np.max respectively \n",
        "    maxS = np.argmax(cddiffs)   # now we get instead the index in data_all\n",
        "    alt2Dvalue = {'less': minS, 'greater': maxS, 'two-sided': max(minS, maxS)}\n",
        "    d_arg = alt2Dvalue[alternative]\n",
        "    return data_all[d_arg]\n",
        "\n",
        "print(ks_2samp_x(prod_m['prod'], prod_fm['prod']))\n",
        "print(ks_2samp_x(prod_m['prod'], prod_fm['prod'], alternative=\"greater\"))\n",
        "print(ks_2samp_x(prod_m['prod'], prod_fm['prod'], alternative=\"less\"))"
      ],
      "execution_count": null,
      "outputs": []
    },
    {
      "cell_type": "markdown",
      "metadata": {
        "id": "mGrfv-jeJjhJ"
      },
      "source": [
        "## Self-citation proportion comparison"
      ]
    },
    {
      "cell_type": "code",
      "metadata": {
        "id": "yCd3gOG6Jn8g"
      },
      "source": [
        "# create a DataFrame with self-citing authors by gender\n",
        "\n",
        "# all sample (population)\n",
        "pop = cdata.copy().groupby(['citing_year'])['citing_year'].count()\n",
        "\n",
        "# male authors\n",
        "mpop = cdata.copy().loc[cdata['citing_gender'] == 'male'].groupby(\n",
        "    ['citing_year'])['citing_year'].count()\n",
        "# female authors\n",
        "fpop = cdata.copy().loc[cdata['citing_gender'] == 'female'].groupby(\n",
        "    ['citing_year'])['citing_year'].count()\n",
        "\n",
        "# self citing authors\n",
        "selfcit = cdata.copy().loc[cdata['citing_id'] == cdata['cited_id']].groupby(\n",
        "    ['citing_year'])['citing_year'].count()\n",
        "\n",
        "# male and self citing authors\n",
        "m_sc = cdata.copy().loc[(cdata['citing_id'] == cdata['cited_id']) &\n",
        "                   (cdata['citing_gender'] == 'male')].groupby(\n",
        "                       ['citing_year'])['citing_year'].count()\n",
        "# female and self citing authors\n",
        "f_sc = cdata.copy().loc[(cdata['citing_id'] == cdata['cited_id']) & \n",
        "                     (cdata['citing_gender'] == 'female')].groupby(\n",
        "                         ['citing_year'])['citing_year'].count()\n",
        "\n",
        "# missing values to 0\n",
        "pop[np.isnan(pop)] = 0\n",
        "mpop[np.isnan(mpop)] = 0\n",
        "fpop[np.isnan(fpop)] = 0\n",
        "selfcit[np.isnan(selfcit)] = 0\n",
        "m_sc[np.isnan(m_sc)] = 0\n",
        "f_sc[np.isnan(f_sc)] = 0"
      ],
      "execution_count": null,
      "outputs": []
    },
    {
      "cell_type": "code",
      "metadata": {
        "id": "VGl3CXKLJq_a"
      },
      "source": [
        "# create a self-citation ratio plot by year\n",
        "fig, ax = plt.subplots(figsize=(6,4.5))\n",
        "right_side = ax.spines[\"right\"]\n",
        "top_side = ax.spines[\"top\"]\n",
        "right_side.set_visible(False)\n",
        "top_side.set_visible(False)\n",
        "\n",
        "(m_sc/mpop).plot(style='.-', color='#67a9cf', lw=3)\n",
        "(f_sc/fpop).plot(style='.-',color='#ef8a62', lw=3)\n",
        "\n",
        "# /plt.title('Self-citation Ratio by Year')\n",
        "plt.legend(('male', 'female'), loc='upper right', fontsize=20)\n",
        "plt.xlabel('Year', fontsize=20)\n",
        "plt.xlim(xmin=1950)\n",
        "plt.xlim(xmax=2010)\n",
        "plt.ylabel('Proportion of Self-citation', fontsize=20)\n",
        "plt.ylim(ymin=0, ymax=0.15)\n",
        "\n",
        "plt.xticks(fontsize=20)\n",
        "plt.yticks(fontsize=20)\n",
        "plt.tight_layout()"
      ],
      "execution_count": null,
      "outputs": []
    },
    {
      "cell_type": "markdown",
      "metadata": {
        "id": "EvOi2N03xWI6"
      },
      "source": [
        "## Missing Links"
      ]
    },
    {
      "cell_type": "code",
      "metadata": {
        "id": "ZcRKsJdIxW77"
      },
      "source": [
        "# evaluate similar pairs by different p*\n",
        "# evaluate the citation relationship within pairs\n",
        "\n",
        "homn_qval = np.array(homn['qval'])\n",
        "\n",
        "plist = np.unique(homn_qval)\n",
        "klist = []\n",
        "mlist = []\n",
        "\n",
        "for pstar in plist:\n",
        "    result = homn_qval < pstar\n",
        "    sim = homn[result]\n",
        "    mlist.append(len(sim))\n",
        "    klist.append(sum(sim[\"k\"]))"
      ],
      "execution_count": null,
      "outputs": []
    },
    {
      "cell_type": "code",
      "metadata": {
        "colab": {
          "base_uri": "https://localhost:8080/",
          "height": 369
        },
        "id": "jnnejk75nKGp",
        "outputId": "5da1a614-a85c-40fd-8301-7a59788c7b76"
      },
      "source": [
        "# create a P(p*) plot\n",
        "\n",
        "fig, ax = plt.subplots(figsize=(6,4.5))\n",
        "right_side = ax.spines[\"right\"]\n",
        "top_side = ax.spines[\"top\"]\n",
        "right_side.set_visible(False)\n",
        "top_side.set_visible(False)\n",
        "\n",
        "y_low = 0.2\n",
        "y_high = 0.9\n",
        "\n",
        "plt.figure(1)\n",
        "plt.plot(plist, 1-np.array(klist)/np.array(mlist), color ='red', lw=2)\n",
        "\n",
        "plt.title(f'PACS {N}0', fontsize = 20)\n",
        "plt.xlabel(\"p*\", fontsize=20)\n",
        "plt.xticks(fontsize=20)\n",
        "plt.xlim(0.0000001,0.01)\n",
        "plt.ylabel(\"U(p*)\", fontsize=20)\n",
        "plt.yticks(fontsize=20)\n",
        "plt.ylim(ymin=y_low, ymax=y_high)\n",
        "\n",
        "plt.tight_layout()"
      ],
      "execution_count": null,
      "outputs": [
        {
          "output_type": "stream",
          "name": "stderr",
          "text": [
            "/usr/local/lib/python3.7/dist-packages/ipykernel_launcher.py:13: RuntimeWarning: invalid value encountered in true_divide\n",
            "  del sys.path[0]\n"
          ]
        },
        {
          "output_type": "display_data",
          "data": {
            "image/png": "[encoded data removed]",
            "text/plain": [
              "<Figure size 432x324 with 1 Axes>"
            ]
          },
          "metadata": {
            "needs_background": "light"
          }
        }
      ]
    }
  ]
}