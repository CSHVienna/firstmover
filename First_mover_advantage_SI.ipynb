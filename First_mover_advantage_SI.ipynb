{
  "nbformat": 4,
  "nbformat_minor": 0,
  "metadata": {
    "colab": {
      "name": "First-mover advantage SI",
      "provenance": [],
      "collapsed_sections": [
        "VX3LGYrs_ZBb",
        "NqKYVr0-UDbB",
        "guG1D5R-OTtA",
        "2smPc9FuxjBI",
        "O9snlMnjyAM4"
      ],
      "include_colab_link": true
    },
    "kernelspec": {
      "name": "python3",
      "display_name": "Python 3"
    }
  },
  "cells": [
    {
      "cell_type": "markdown",
      "metadata": {
        "id": "view-in-github",
        "colab_type": "text"
      },
      "source": [
        "<a href=\"https://colab.research.google.com/github/therobinkay/firstmover/blob/main/First_mover_advantage_SI.ipynb\" target=\"_parent\"><img src=\"https://colab.research.google.com/assets/colab-badge.svg\" alt=\"Open In Colab\"/></a>"
      ]
    },
    {
      "cell_type": "code",
      "metadata": {
        "colab": {
          "base_uri": "https://localhost:8080/"
        },
        "id": "SQcbBIzbm3fP",
        "outputId": "705d30d0-58a0-4b64-cb21-5fcc90e78434"
      },
      "source": [
        "from google.colab import drive\n",
        "drive.mount('/content/drive/')"
      ],
      "execution_count": null,
      "outputs": [
        {
          "output_type": "stream",
          "name": "stdout",
          "text": [
            "Mounted at /content/drive/\n"
          ]
        }
      ]
    },
    {
      "cell_type": "code",
      "metadata": {
        "id": "gXIay7x8m43v"
      },
      "source": [
        "!cd \"drive/My Drive\""
      ],
      "execution_count": null,
      "outputs": []
    },
    {
      "cell_type": "code",
      "metadata": {
        "id": "ddiEVDeSEfiS"
      },
      "source": [
        "# import necessary packages\n",
        "\n",
        "import io\n",
        "import pandas as pd\n",
        "import os\n",
        "import itertools\n",
        "import numpy as np\n",
        "import scipy.stats\n",
        "import time\n",
        "\n",
        "import matplotlib.pyplot as plt\n",
        "import seaborn as sns\n",
        "\n",
        "from tqdm import tqdm\n",
        "\n",
        "import math\n",
        "\n",
        "from collections import defaultdict\n",
        "from itertools import combinations as comb\n",
        "\n",
        "import networkx as nx\n",
        "import random"
      ],
      "execution_count": null,
      "outputs": []
    },
    {
      "cell_type": "code",
      "metadata": {
        "id": "dl3dGhekFBYi"
      },
      "source": [
        "# read necessary data files\n",
        "\n",
        "data = pd.read_csv(\"drive/My Drive/codes/data.csv\")\n",
        "dp = pd.read_csv(\"drive/My Drive/codes/doipacs.csv\")\n",
        "cen = pd.read_csv('drive/My Drive/codes/cen.csv')\n",
        "cdata = pd.read_csv('drive/My Drive/codes/cdata.csv')\n",
        "cb = pd.read_csv(\"drive/My Drive/codes/citationBara.csv\")"
      ],
      "execution_count": null,
      "outputs": []
    },
    {
      "cell_type": "code",
      "metadata": {
        "id": "ISz3b1U0PiOF"
      },
      "source": [
        "############## SELECT DESIRED PACS (HOMOPHILY ONLY) ###############\n",
        "\n",
        "# Select subfield (0-9)\n",
        "N = 0\n",
        "\n",
        "homn = pd.read_csv(f\"drive/My Drive/codes/hom{N}.csv\")\n",
        "\n",
        "# q thresholds by subfield\n",
        "qs = [0.002, 0.003, 0.003, 0.002, 0.0025, 0.006, 0.0018, 0.002, 0.0025, 0.006]\n",
        "\n",
        "# print(len(homn))\n",
        "# homn.head()"
      ],
      "execution_count": null,
      "outputs": []
    },
    {
      "cell_type": "markdown",
      "metadata": {
        "id": "ZOpg02AE8Zig"
      },
      "source": [
        "# Supplementary Materials"
      ]
    },
    {
      "cell_type": "markdown",
      "metadata": {
        "id": "VX3LGYrs_ZBb"
      },
      "source": [
        "## 1. Productivity Plots"
      ]
    },
    {
      "cell_type": "code",
      "metadata": {
        "id": "v73ww3FX_Yio"
      },
      "source": [
        "# Creating a DataFrame with productivity calculated\n",
        "prod = data.groupby(['id', 'gender']).agg({'year': [min, max, 'count']})\n",
        "\n",
        "prod['career_age'] = prod['year']['max'] - prod['year']['min']\n",
        "prod['prod'] = prod['year']['count'] / (prod['career_age'])\n",
        "prod = prod[prod['career_age'] != 0]\n",
        "\n",
        "prod.sort_values([('year','count')], ascending=False).head()\n",
        "\n",
        "# Separating the DataFrame by gender\n",
        "prod_m = prod.xs('male', level='gender').sort_values(\n",
        "    by=['prod'],ascending=False, ignore_index=True)\n",
        "prod_fm = prod.xs('female', level='gender').sort_values(\n",
        "    by=['prod'],ascending=False)\n",
        "\n",
        "# Career Age by gender\n",
        "camale = prod_m.groupby(['career_age'])['career_age'].count()\n",
        "cafemale = prod_fm.groupby(['career_age'])['career_age'].count()"
      ],
      "execution_count": null,
      "outputs": []
    },
    {
      "cell_type": "code",
      "metadata": {
        "id": "SakVKdW9_cOx"
      },
      "source": [
        "# Career age vs. Number of authors, separated by gender\n",
        "fig, ax = plt.subplots(figsize=(6,4.5))\n",
        "right_side = ax.spines[\"right\"]\n",
        "top_side = ax.spines[\"top\"]\n",
        "right_side.set_visible(False)\n",
        "top_side.set_visible(False)\n",
        "\n",
        "# Male authors\n",
        "camale.plot(color='#67a9cf', lw=3)\n",
        "# Female authors\n",
        "cafemale.plot(color='#ef8a62', lw=3)\n",
        "\n",
        "plt.xticks(fontsize=20)\n",
        "plt.xlim(1,35)\n",
        "plt.yticks(fontsize=20)\n",
        "plt.legend(['male', 'female'], loc='upper right', fontsize=20)\n",
        "plt.xlabel('Career Age', fontsize=20)\n",
        "plt.ylabel('Number of authors', fontsize=20)\n",
        "plt.tight_layout()"
      ],
      "execution_count": null,
      "outputs": []
    },
    {
      "cell_type": "code",
      "metadata": {
        "id": "pcqo5iNF_zHG"
      },
      "source": [
        "# creating CDF data for productivity\n",
        "\n",
        "from scipy.interpolate import make_interp_spline, BSpline\n",
        "from scipy.interpolate import interp1d\n",
        "\n",
        "cdf1=np.arange(len(prod_m))/float(len(prod_m)-1)\n",
        "cdf2=np.arange(len(prod_fm))/float(len(prod_fm)-1)"
      ],
      "execution_count": null,
      "outputs": []
    },
    {
      "cell_type": "code",
      "metadata": {
        "id": "TufsEh9m_zJO"
      },
      "source": [
        "# Productivity CDF Plots\n",
        "fig, ax = plt.subplots(figsize=(6,4.5))\n",
        "right_side = ax.spines[\"right\"]\n",
        "top_side = ax.spines[\"top\"]\n",
        "right_side.set_visible(False)\n",
        "top_side.set_visible(False)\n",
        "\n",
        "# Male authors\n",
        "plt.plot(prod_m['prod'],1-cdf1, color='#67a9cf', lw=2)\n",
        "# Female authors\n",
        "plt.plot(prod_fm['prod'],1-cdf2, color='#ef8a62', lw=2)\n",
        "\n",
        "plt.xlabel('Productivity', fontsize=20)\n",
        "plt.xticks(fontsize=20)\n",
        "plt.xlim(xmin=0, xmax=4)\n",
        "plt.ylabel('Probability', fontsize=20)\n",
        "plt.yticks(fontsize=20)\n",
        "plt.legend(['male', 'female'], loc='lower right', fontsize=20)\n",
        "plt.tight_layout()\n",
        "\n",
        "# Use the following xlim, ylim instead for zoomed-in plot\n",
        "# plt.xlim(xmin=0.45, xmax=0.55)\n",
        "# plt.ylim(ymin=0.15, ymax=0.25)"
      ],
      "execution_count": null,
      "outputs": []
    },
    {
      "cell_type": "markdown",
      "metadata": {
        "id": "NqKYVr0-UDbB"
      },
      "source": [
        "## 2. Statistical Tests comparing degree centrality among top ranks"
      ]
    },
    {
      "cell_type": "code",
      "metadata": {
        "id": "AKmgirF0UCV1"
      },
      "source": [
        "# non-alphabetically ordered primary gender paper\n",
        "na = data[data['is_alpha'] == False]\n",
        "na_p = na[na['order'] == 1]\n",
        "\n",
        "# consider degree centrality > 0\n",
        "vc = cb['cited_doi'].value_counts()\n",
        "cb_sub = vc[vc.to_numpy() > 0].to_frame()\n",
        "\n",
        "cited = pd.merge(cb_sub, na_p, left_index = True, right_on = 'doi')\n",
        "\n",
        "# observe male and female nodes\n",
        "cited_m = cited[cited['gender'] == 'male']\n",
        "cited_fm = cited[cited['gender'] == 'female']\n",
        "\n",
        "# unique number of degree centrality\n",
        "cu = cited['cited_doi'].unique()\n",
        "\n",
        "# Insert desired ranks for xxx:\n",
        "\n",
        "# print(len(cited_m[cited_m['cited_doi'] >= cu[len(cu)*xxx]]))\n",
        "# print(len(cited_fm[cited_fm['cited_doi'] >= cu[len(cu)*xxx]]))"
      ],
      "execution_count": null,
      "outputs": []
    },
    {
      "cell_type": "markdown",
      "metadata": {
        "id": "guG1D5R-OTtA"
      },
      "source": [
        "## 3. Difference in received citations among similar pairs"
      ]
    },
    {
      "cell_type": "code",
      "metadata": {
        "id": "1fZ941FDOXVG"
      },
      "source": [
        "# apply nx.graph to citation relationship network\n",
        "Graphtype = nx.DiGraph()\n",
        "\n",
        "C = nx.from_pandas_edgelist(cen, source='citing_doi',\n",
        "                            target='cited_doi', create_using=Graphtype)\n",
        "\n",
        "# observe author id & gender (primary author)\n",
        "nodedata = data.query('is_alpha == False & order == 1').drop(\n",
        "    ['order', 'numAuthor',\t'is_last',\t'is_alpha',\t'year',\n",
        "    'articleType',\t'journal'], axis=1)\n",
        "\n",
        "# assign PageRank centrality to each paper\n",
        "pr = nx.pagerank(C)\n",
        "\n",
        "# create a centrality dataframe\n",
        "prs = pd.DataFrame()\n",
        "prs['doi'] = pr.keys()\n",
        "prs['PRcen'] = pr.values()"
      ],
      "execution_count": null,
      "outputs": []
    },
    {
      "cell_type": "code",
      "metadata": {
        "id": "GcF_QTfCP0a4"
      },
      "source": [
        "# Calculate (male centrality - female centrality)\n",
        "\n",
        "# Create a dataframe concerning both centrality info of 2 papers\n",
        "prs_sim = prs.merge(nodedata, left_on='doi', right_on='Label',\n",
        "                    how='left').drop(['Label'], axis=1)\n",
        "prs_sim = prs_sim[[\"doi\", 'id', 'Gender', 'centrality']].sort_values(\n",
        "    'centrality', ascending=False)\n",
        "\n",
        "ph = pd.merge(homn, prs_sim, left_on = \"paper1\", right_on = \"doi\",\n",
        "              how = \"left\").drop([\"doi\", \"id\", \"Gender\"], axis=1).rename(\n",
        "                  columns={\"centrality\": \"cen1\"})\n",
        "\n",
        "ph = ph.merge(prs_sim, left_on = \"paper2\", right_on = \"doi\",\n",
        "              how = \"left\").drop([\"doi\", \"id\", \"Gender\"], axis=1).rename(\n",
        "                  columns={\"centrality\": \"cen2\"})\n",
        "\n",
        "# consider only m-f pairs\n",
        "ph = ph[ph['gender1'] != ph['gender2']].reset_index(drop=True)\n",
        "\n",
        "# get the difference column\n",
        "listd = []\n",
        "\n",
        "for c in range(len(ph)):\n",
        "  if ph['gender1'][c] == 'male':\n",
        "    listd.append(ph['cen1'][c] - ph['cen2'][c])\n",
        "  else:\n",
        "    listd.append(ph['cen2'][c] - ph['cen1'][c])\n",
        "ph['cen_d'] = listd"
      ],
      "execution_count": null,
      "outputs": []
    },
    {
      "cell_type": "code",
      "metadata": {
        "id": "wjwV_z3QQQcl"
      },
      "source": [
        "# Extract subDataFrame with q-value less than p threshold\n",
        "\n",
        "p = qs[N]\n",
        "\n",
        "phsub = ph[ph['qval'] < p].sort_values('cen_d').reset_index(drop=True)\n",
        "\n",
        "# calculate for both male and female\n",
        "mlist = []\n",
        "fmlist = []\n",
        "\n",
        "for i in range(len(phsub)):\n",
        "  if phsub['gender1'][i] == 'male':\n",
        "    mlist.append(phsub['cen1'][i])\n",
        "    fmlist.append(phsub['cen2'][i])\n",
        "  else:\n",
        "    mlist.append(phsub['cen2'][i])\n",
        "    fmlist.append(phsub['cen1'][i])\n",
        "\n",
        "# Find the standard deviation\n",
        "sd = math.sqrt((np.std(mlist) ** 2 + np.std(fmlist) ** 2)/len(phsub))\n",
        "\n",
        "# Find z-scores (for p-values)\n",
        "print((np.mean(mlist)-np.mean(fmlist))/sd)"
      ],
      "execution_count": null,
      "outputs": []
    },
    {
      "cell_type": "markdown",
      "metadata": {
        "id": "2smPc9FuxjBI"
      },
      "source": [
        "## 4. Number of sampled similar pairs by year"
      ]
    },
    {
      "cell_type": "code",
      "metadata": {
        "id": "VWAIh3TgxpCp"
      },
      "source": [
        "## Load data\n",
        "y_lst = []\n",
        "n_lst = []\n",
        "with open(\"../data/se_count.csv\",\"r\") as f:\n",
        "    print (next(f))\n",
        "    for l in f.readlines():\n",
        "        l_lst = l.split(\",\")\n",
        "        y_lst.append(int(l_lst[0]))\n",
        "        n_lst.append(int(l_lst[1]))"
      ],
      "execution_count": null,
      "outputs": []
    },
    {
      "cell_type": "code",
      "metadata": {
        "id": "d7NrkkqFxxxB"
      },
      "source": [
        "from mpl_toolkits.axes_grid1.inset_locator import mark_inset, inset_axes\n",
        "\n",
        "## Create small figure so typography is scaled up\n",
        "plt.figure(figsize=(.5*8,.5*6))\n",
        "\n",
        "ax = plt.axes()\n",
        "plt.plot(y_lst[3:], n_lst[3:], \"-o\",color=\"k\")\n",
        "\n",
        "plt.xlim(1985,2010)\n",
        "plt.xlabel(\"Year\")\n",
        "plt.ylabel(\"Count\")\n",
        "\n",
        "ax.spines['right'].set_visible(False)\n",
        "ax.spines['top'].set_visible(False)\n",
        "\n",
        "## Create inset axis\n",
        "axins = inset_axes(ax, \n",
        "                   width=\"70%\",\n",
        "                   height=\"70%\", \n",
        "                   bbox_to_anchor=(-.00, .3, .6, .7),\n",
        "                   bbox_transform=ax.transAxes)\n",
        "plt.sca(axins) ## sca=set current axes\n",
        "\n",
        "plt.plot(y_lst[3:9], n_lst[3:9], \"-o\",color=\"k\")\n",
        "\n",
        "## ylim and xlim will control both the span of the inset axes \n",
        "## and the rectangle drawn in main axes\n",
        "plt.ylim(0,350)\n",
        "plt.xlim(1985.5,1991.5)\n",
        "\n",
        "plt.xticks([1986,1988,1990],rotation=45) ## note the rotation\n",
        "plt.locator_params(axis='y', nbins=4)\n",
        "\n",
        "## Tool to mark the zoomed part\n",
        "mark_inset(ax, axins, \n",
        "           loc1=2, loc2=4, \n",
        "           fc=\"none\", \n",
        "           ec=\"0.5\",\n",
        "           zorder=0,\n",
        "          lw=1)\n",
        "\n",
        "plt.tight_layout()\n",
        "plt.show()"
      ],
      "execution_count": null,
      "outputs": []
    },
    {
      "cell_type": "markdown",
      "metadata": {
        "id": "O9snlMnjyAM4"
      },
      "source": [
        "## 5. Percentile Plots of difference by Year"
      ]
    },
    {
      "cell_type": "code",
      "metadata": {
        "id": "LSoBUiQ7x_LB"
      },
      "source": [
        "# DataFrame: {citing_doi, citing_year, cited_doi}\n",
        "citinfo = data[[\"doi\", \"year\"]].drop_duplicates(subset = 'doi')\n",
        "cols = ['citing_doi', 'citing_year', 'cited_doi']\n",
        "\n",
        "citinfo = citinfo.merge(cb, left_on = 'doi', right_on = 'citing_doi',\n",
        "              how = 'inner').drop(['doi'], axis=1).rename(\n",
        "                  {'year': 'citing_year'}, axis=1).reindex(\n",
        "                      columns=cols).sort_values('cited_doi')\n",
        "\n",
        "# DataFrame: info among different gender pair\n",
        "sim_mf = pair[pair[\"gender1\"] != pair[\"gender2\"]].reset_index(drop=True)\n",
        "\n",
        "# Create a dummy data (test) to perform SQL:\n",
        "# Create a DataFrame that treats citation info for male and female papers\n",
        "test = sim_mf.merge(citinfo, left_on = 'paper1',\n",
        "                    right_on = 'cited_doi', how = 'left').drop(\n",
        "                        [\"cited_doi\", \"citing_year\"], axis=1).drop_duplicates(\n",
        "                            subset=['paper1', 'citing_doi'])\n",
        "test['count'] = test.groupby(['paper1'])['paper1'].transform('count')\n",
        "test = test.drop([\"citing_doi\"], axis=1).rename({'count': 'count1'}, axis=1)\n",
        "\n",
        "test = test.drop_duplicates(subset=['paper1', 'paper2']).drop(\n",
        "    ['gender1', 'year1', 'paper2', 'gender2', 'year2', 'qval', 'k'], axis=1)\n",
        "sim_mf = sim_mf.merge(test, on='paper1', how='inner')\n",
        "\n",
        "test = sim_mf.merge(citinfo, left_on = 'paper2',\n",
        "                    right_on = 'cited_doi', how = 'left').drop(\n",
        "                        [\"cited_doi\", \"citing_year\"], axis=1).drop_duplicates(\n",
        "                            subset=['paper2', 'citing_doi'])\n",
        "test['count'] = test.groupby(['paper2'])['paper2'].transform('count')\n",
        "test = test.drop([\"citing_doi\"], axis=1).rename(\n",
        "    {'count': 'count2'}, axis=1).drop_duplicates(\n",
        "        subset=['paper1', 'paper2']).drop(\n",
        "            ['gender1', 'year1', 'paper1', 'gender2', 'count1',\n",
        "             'year2', 'qval', 'k'], axis=1)\n",
        "sim_mf = sim_mf.merge(test, on='paper2', how='inner')\n",
        "\n",
        "# Delete the dummy data\n",
        "del test"
      ],
      "execution_count": null,
      "outputs": []
    },
    {
      "cell_type": "code",
      "metadata": {
        "id": "HevZ3vlyyoW9"
      },
      "source": [
        "# Assign latter year as a publication year\n",
        "\n",
        "listc = []\n",
        "\n",
        "for j in range(len(sim_mf)):\n",
        "  listc.append(max(sim_mf['year1'][j], sim_mf['year2'][j]))\n",
        "\n",
        "sim_mf['year'] = listc\n",
        "\n",
        "# Calculate year & centrality difference among pairs\n",
        "\n",
        "listd = []\n",
        "listy = []\n",
        "\n",
        "for c in range(len(sim_mf)):\n",
        "  if sim_mf['gender1'][c] == 'male':\n",
        "    listd.append(sim_mf['count1'][c] - sim_mf['count2'][c])\n",
        "    listy.append(sim_mf['year1'][c] - sim_mf['year2'][c])\n",
        "  else:\n",
        "    listd.append(sim_mf['count2'][c] - sim_mf['count1'][c])\n",
        "    listy.append(sim_mf['year2'][c] - sim_mf['year1'][c])\n",
        "\n",
        "sim_mf['countd'] = listd\n",
        "sim_mf['yeard'] = listy\n",
        "\n",
        "# Restrict the year difference to 3 years\n",
        "sim_mf = sim_mf[sim_mf['yeard'] > -4].sort_values(\n",
        "    'yeard').reset_index(drop=True)\n",
        "sim_mf = sim_mf[sim_mf['yeard'] < 4].sort_values(\n",
        "    'yeard').reset_index(drop=True)\n",
        "\n",
        "# Set the set p-threshold\n",
        "p = 0.002\n",
        "\n",
        "# Treat pairs with qval less than p-threshold only\n",
        "sim_mf = sim_mf[sim_mf['qval'] < p].sort_values('countd').reset_index(drop=True)\n",
        "\n",
        "# Extract a subdataframe\n",
        "sim_mf = sim_mf[['year', 'countd']].sort_values(by=['year', 'countd'])"
      ],
      "execution_count": null,
      "outputs": []
    },
    {
      "cell_type": "code",
      "metadata": {
        "id": "XlM0zFn8yoYj"
      },
      "source": [
        "# Apply the identical process for M-M pairs\n",
        "\n",
        "# Assign latter year as a publication year\n",
        "listc = []\n",
        "\n",
        "for j in range(len(sim_mm)):\n",
        "  listc.append(max(sim_mm['year1'][j], sim_mm['year2'][j]))\n",
        "\n",
        "sim_mm['year'] = listc\n",
        "\n",
        "# Calculate year & centrality difference among pairs\n",
        "listd = []\n",
        "listy = []\n",
        "\n",
        "for c in range(len(sim_mm)):\n",
        "  if sim_mm['gender1'][c] == 'male':\n",
        "    listd.append(sim_mm['count1'][c] - sim_mm['count2'][c])\n",
        "    listy.append(sim_mm['year1'][c] - sim_mm['year2'][c])\n",
        "  else:\n",
        "    listd.append(sim_mm['count2'][c] - sim_mm['count1'][c])\n",
        "    listy.append(sim_mm['year2'][c] - sim_mm['year1'][c])\n",
        "\n",
        "sim_mm['countd'] = listd\n",
        "sim_mm['yeard'] = listy\n",
        "\n",
        "# Restrict the year difference to 3 years\n",
        "sim_mm = sim_mm[sim_mm['yeard'] > -4].sort_values(\n",
        "    'yeard').reset_index(drop=True)\n",
        "sim_mm = sim_mm[sim_mm['yeard'] < 4].sort_values(\n",
        "    'yeard').reset_index(drop=True)\n",
        "\n",
        "# Set the set p-threshold\n",
        "p = 0.001\n",
        "\n",
        "# Treat pairs with qval less than p-threshold only\n",
        "sim_mm = sim_mm[sim_mm['qval'] < p].sort_values(\n",
        "    'countd').reset_index(drop=True)\n",
        "\n",
        "# Extract a subdataframe\n",
        "sim_mm = sim_mm[['year', 'countd']].sort_values(by=['year', 'countd'])"
      ],
      "execution_count": null,
      "outputs": []
    },
    {
      "cell_type": "code",
      "metadata": {
        "id": "PvbHf3kayoai"
      },
      "source": [
        "def percentile(n):\n",
        "    def percentile_(x):\n",
        "        return np.percentile(x, n)\n",
        "    percentile_.__name__ = 'percentile_%s' % n\n",
        "    return percentile_\n",
        "\n",
        "# Get percentiles for M-F pairs\n",
        "mfpair = mf.groupby('year').agg([np.mean, percentile(10), percentile(20),\n",
        "                                 percentile(30), percentile(40), np.median,\n",
        "                                 percentile(60), percentile(70), percentile(80),\n",
        "                                 percentile(90)]).reset_index()"
      ],
      "execution_count": null,
      "outputs": []
    },
    {
      "cell_type": "code",
      "metadata": {
        "id": "13qx6zJmyoex"
      },
      "source": [
        "# Plot Publication Year vs. Citation Difference for M-F pairs\n",
        "\n",
        "fig, ax = plt.subplots(figsize=(6,4.5))\n",
        "right_side = ax.spines[\"right\"]\n",
        "top_side = ax.spines[\"top\"]\n",
        "right_side.set_visible(False)\n",
        "top_side.set_visible(False)\n",
        "\n",
        "# color code\n",
        "cm = sns.color_palette(\"Reds\",10)\n",
        "\n",
        "# equilibrium line\n",
        "plt.axhline(y=0, color='black', linestyle='dotted', lw=3)\n",
        "\n",
        "# Plot the median\n",
        "plt.plot(mfpair.year,mfpair.countd[\"median\"],\"-\",label=\"M-F Median\",\n",
        "         color=cm[9], lw=3)\n",
        "\n",
        "# Fill in the percentiles\n",
        "plt.fill_between(mfpair.year, mfpair.countd[\"percentile_10\"],\n",
        "                 mfpair.countd[\"percentile_20\"], color=cm[1])\n",
        "plt.fill_between(mfpair.year, mfpair.countd[\"percentile_20\"],\n",
        "                 mfpair.countd[\"percentile_30\"], color=cm[3])\n",
        "plt.fill_between(mfpair.year, mfpair.countd[\"percentile_30\"],\n",
        "                 mfpair.countd[\"percentile_40\"], color=cm[5])\n",
        "plt.fill_between(mfpair.year, mfpair.countd[\"percentile_40\"],\n",
        "                 mfpair.countd[\"median\"], color=cm[7])\n",
        "plt.fill_between(mfpair.year, mfpair.countd[\"median\"],\n",
        "                 mfpair.countd[\"percentile_60\"], color=cm[7])\n",
        "plt.fill_between(mfpair.year, mfpair.countd[\"percentile_60\"],\n",
        "                 mfpair.countd[\"percentile_70\"], color=cm[5])\n",
        "plt.fill_between(mfpair.year, mfpair.countd[\"percentile_70\"],\n",
        "                 mfpair.countd[\"percentile_80\"], color=cm[3])\n",
        "plt.fill_between(mfpair.year, mfpair.countd[\"percentile_80\"],\n",
        "                 mfpair.countd[\"percentile_90\"], color=cm[1])\n",
        "\n",
        "plt.xticks(fontsize=20)\n",
        "plt.yticks(fontsize=20)\n",
        "plt.xlabel(\"Publication Year\", fontsize=20)\n",
        "plt.ylabel(\"\\u0394(Citation)\", fontsize=20)\n",
        "plt.xlim(xmin=1986, xmax=2009)\n",
        "\n",
        "plt.tight_layout()"
      ],
      "execution_count": null,
      "outputs": []
    },
    {
      "cell_type": "code",
      "metadata": {
        "id": "vi8rI9TgzIck"
      },
      "source": [
        "# Create a reference list for each year of M-F pair publication\n",
        "ref = sim_mf.year.unique()\n",
        "numlist = []\n",
        "\n",
        "# mm is the DataFrame for the final plot (M-M pairs)\n",
        "mm = pd.DataFrame(columns=['year'])\n",
        "\n",
        "for num in range(1983,2010):\n",
        "  numlist.append(num)\n",
        "mm['year'] = numlist"
      ],
      "execution_count": null,
      "outputs": []
    },
    {
      "cell_type": "code",
      "metadata": {
        "id": "KwzRr9sHzIee"
      },
      "source": [
        "import warnings\n",
        "warnings.filterwarnings(\"ignore\")\n",
        "\n",
        "# Getting a mean of means with 100 simulations for M-M pairs\n",
        "for k in range(100):\n",
        "  df = pd.DataFrame(columns=['year', 'countd'])\n",
        "  vlist = []\n",
        "\n",
        "  for i in range(len(ref)):\n",
        "    appended_df = sim_mm[sim_mm['year'] == ref[i]].sample(\n",
        "        sim_mf.year.value_counts().sort_index().iloc[i], replace=True)\n",
        "    df = pd.concat([df,appended_df])\n",
        "    \n",
        "  for j in range(len(df)):\n",
        "    if randint(0,1) == 0:\n",
        "      vlist.append(df.countd.iloc[j])\n",
        "    else:\n",
        "      vlist.append(df.countd.iloc[j] * -1)\n",
        "    \n",
        "  df['value'] = vlist\n",
        "  df = df.groupby(\"year\").agg(\n",
        "      [np.mean]).reset_index().drop(['year'], axis=1)\n",
        "\n",
        "  mm = pd.concat([mm, df], axis=1)"
      ],
      "execution_count": null,
      "outputs": []
    },
    {
      "cell_type": "code",
      "metadata": {
        "id": "QTb8lCIYzIho"
      },
      "source": [
        "# Create data columns for all percentiles for M-M pairs\n",
        "\n",
        "mmpair = mm.copy()\n",
        "\n",
        "list_1 = []\n",
        "list_2 = []\n",
        "list_3 = []\n",
        "list_4 = []\n",
        "mlist = []\n",
        "list_6 = []\n",
        "list_7 = []\n",
        "list_8 = []\n",
        "list_9 = []\n",
        "\n",
        "for i in range(len(mmpair)):\n",
        "  list_1.append(np.percentile(mmpair.iloc[i,1:],10))\n",
        "  list_2.append(np.percentile(mmpair.iloc[i,1:],20))\n",
        "  list_3.append(np.percentile(mmpair.iloc[i,1:],30))\n",
        "  list_4.append(np.percentile(mmpair.iloc[i,1:],40))\n",
        "  mlist.append(np.median(mmpair.iloc[i,1:]))\n",
        "  list_6.append(np.percentile(mmpair.iloc[i,1:],60))\n",
        "  list_7.append(np.percentile(mmpair.iloc[i,1:],70))\n",
        "  list_8.append(np.percentile(mmpair.iloc[i,1:],80))\n",
        "  list_9.append(np.percentile(mmpair.iloc[i,1:],90))\n",
        "\n",
        "mmpair['percentile_10'] = list_1\n",
        "mmpair['percentile_20'] = list_2\n",
        "mmpair['percentile_30'] = list_3\n",
        "mmpair['percentile_40'] = list_4\n",
        "mmpair['median'] = mlist\n",
        "mmpair['percentile_60'] = list_6\n",
        "mmpair['percentile_70'] = list_7\n",
        "mmpair['percentile_80'] = list_8\n",
        "mmpair['percentile_90'] = list_9\n",
        "\n",
        "# Drop unnecessary columns\n",
        "mmpair = mmpair[['year', 'percentile_10','percentile_20','percentile_30',\n",
        "                 'percentile_40','median','percentile_60','percentile_70',\n",
        "                 'percentile_80','percentile_90']]"
      ],
      "execution_count": null,
      "outputs": []
    },
    {
      "cell_type": "code",
      "metadata": {
        "id": "QGg6iiG4zIj_"
      },
      "source": [
        "# Plot Publication Year vs. Citation Difference for M-M pairs\n",
        "\n",
        "fig, ax = plt.subplots(figsize=(6,4.5))\n",
        "right_side = ax.spines[\"right\"]\n",
        "top_side = ax.spines[\"top\"]\n",
        "right_side.set_visible(False)\n",
        "top_side.set_visible(False)\n",
        "\n",
        "# color code\n",
        "cm2 = sns.color_palette(\"Blues\",10)\n",
        "\n",
        "# equilibrium line\n",
        "plt.axhline(y=0, color='black', linestyle='dotted', lw=3)\n",
        "\n",
        "# Plot the median\n",
        "plt.plot(mmpair.year,mmpair[\"median\"],\"-\",label=\"M-M Median\",\n",
        "         color=cm2[9], lw=3)\n",
        "\n",
        "# Fill in the percentiles\n",
        "plt.fill_between(mmpair.year, mmpair[\"percentile_10\"],\n",
        "                 mmpair[\"percentile_20\"], color=cm2[1])\n",
        "plt.fill_between(mmpair.year, mmpair[\"percentile_20\"],\n",
        "                 mmpair[\"percentile_30\"], color=cm2[3])\n",
        "plt.fill_between(mmpair.year, mmpair[\"percentile_30\"],\n",
        "                 mmpair[\"percentile_40\"], color=cm2[5])\n",
        "plt.fill_between(mmpair.year, mmpair[\"percentile_40\"],\n",
        "                 mmpair[\"median\"], color=cm2[7])\n",
        "plt.fill_between(mmpair.year, mmpair[\"median\"],\n",
        "                 mmpair[\"percentile_60\"], color=cm2[7])\n",
        "plt.fill_between(mmpair.year, mmpair[\"percentile_60\"],\n",
        "                 mmpair[\"percentile_70\"], color=cm2[5])\n",
        "plt.fill_between(mmpair.year, mmpair[\"percentile_70\"],\n",
        "                 mmpair[\"percentile_80\"], color=cm2[3])\n",
        "plt.fill_between(mmpair.year, mmpair[\"percentile_80\"],\n",
        "                 mmpair[\"percentile_90\"], color=cm2[1])\n",
        "\n",
        "plt.xticks(fontsize=20)\n",
        "plt.yticks(fontsize=20)\n",
        "plt.xlabel(\"Publication Year\", fontsize=20)\n",
        "plt.ylabel(\"\\u0394(Citation)\", fontsize=20)\n",
        "\n",
        "plt.xlim(xmin=1983, xmax=2009)\n",
        "\n",
        "plt.tight_layout()"
      ],
      "execution_count": null,
      "outputs": []
    }
  ]
}