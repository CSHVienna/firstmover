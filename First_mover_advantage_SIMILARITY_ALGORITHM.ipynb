{
 "cells": [
  {
   "cell_type": "code",
   "execution_count": null,
   "id": "45af3ade",
   "metadata": {},
   "outputs": [],
   "source": [
    "# import all necessary packages\n",
    "\n",
    "import pandas as pd\n",
    "import scipy.stats\n",
    "from collections import defaultdict\n",
    "from itertools import combinations as comb"
   ]
  },
  {
   "cell_type": "code",
   "execution_count": null,
   "id": "779693f7",
   "metadata": {},
   "outputs": [],
   "source": [
    "# read all necessary .csv files\n",
    "\n",
    "cdata = pd.read_csv('../firstmover/python/cdata.csv')\n",
    "\n",
    "cb = pd.read_csv(\"../firstmover/python/citationBara.csv\")\n",
    "# extra modification for this analysis\n",
    "cb['pair'] = \"(\" + cb[\"citing_doi\"] + \", \" + cb[\"cited_doi\"] + \")\"\n",
    "cb['pair2'] = \"(\" + cb[\"cited_doi\"] + \", \" + cb[\"citing_doi\"] + \")\""
   ]
  },
  {
   "cell_type": "markdown",
   "id": "915e7267",
   "metadata": {},
   "source": [
    "# Similarity Preparations"
   ]
  },
  {
   "cell_type": "code",
   "execution_count": null,
   "id": "2cdefae7",
   "metadata": {},
   "outputs": [],
   "source": [
    "# Step 00a: Creating a DataFrame:\n",
    "# p(doi, id, gender, year, PACS),\n",
    "# r(doi, id, gender, year, PACS)\n",
    "hdata = cdata.query('citing_order == 1 & cited_order == 1\\\n",
    " & citing_is_alpha == False & cited_is_alpha == False').drop(['citing_order',\n",
    "  'cited_order', 'citing_numAuthor', 'cited_numAuthor', 'citing_is_last',\n",
    "  'cited_is_last', 'citing_is_alpha', 'cited_is_alpha', 'cited_year',\n",
    "  'citing_articleType', 'cited_articleType', 'citing_journal', 'cited_journal',\n",
    "  'citing_exceptions', 'cited_exceptions'],axis=1)"
   ]
  },
  {
   "cell_type": "code",
   "execution_count": null,
   "id": "fc0ea0b6",
   "metadata": {},
   "outputs": [],
   "source": [
    "# Step 00b: Creating a DataFrame: paper, gender, year\n",
    "\n",
    "refsim = hdata[['citing_doi', 'citing_gender', 'citing_year']].drop_duplicates(\n",
    "    subset = 'citing_doi')\n",
    "refsim.columns = [\"paper\", \"gender\", \"year\"]"
   ]
  },
  {
   "cell_type": "code",
   "execution_count": null,
   "id": "513857ff",
   "metadata": {},
   "outputs": [],
   "source": [
    "# Step 01: Creating a DataFrame: paper, reference, count (of reference)\n",
    "\n",
    "N = 1 #enter sim number\n",
    "for N in range(N+1):\n",
    "    cited = 'cited_'+str(N)\n",
    "    citing = 'citing_'+str(N)\n",
    "  \n",
    "    sim = hdata[hdata[cited] == True]\n",
    "    sim = sim[sim[citing] == True]\n",
    "    sim['count'] = sim.groupby('cited_doi')['cited_doi'].transform('count')\n",
    "    sim.sort_values(\"count\", axis = 0, ascending = True, inplace = True,\n",
    "                  na_position ='first')\n",
    "    sim = sim[['citing_doi', 'cited_doi', 'count']]\n",
    "    sim.columns = [\"paper\", \"reference\", \"count\"]"
   ]
  },
  {
   "cell_type": "code",
   "execution_count": null,
   "id": "cb12b2b0",
   "metadata": {},
   "outputs": [],
   "source": [
    "# Step 02: Creating a dictionary of 'sim's by count\n",
    "\n",
    "sim_x={key:sim[sim['count']==key] for key in sim['count'].unique()}"
   ]
  },
  {
   "cell_type": "code",
   "execution_count": null,
   "id": "262b25a3",
   "metadata": {},
   "outputs": [],
   "source": [
    "# Step 03: Link papers with connections together as groups\n",
    "\n",
    "sim_y = {}\n",
    "nunique_list = {}\n",
    "for key, sim_x_sub in sim_x.items():\n",
    "    cbt = sim_x_sub\n",
    "    from_doi = cbt[\"paper\"]\n",
    "    to_doi = cbt[\"reference\"]\n",
    "\n",
    "    nunique_list[key] = len(to_doi.unique())\n",
    "\n",
    "    parent = {}\n",
    "    for ref in to_doi.unique():\n",
    "        parent[ref] = []\n",
    "    for a, b in zip(from_doi, to_doi):\n",
    "        parent[b].append(a)\n",
    "\n",
    "    pair_count = {}\n",
    "    for l in parent.values():\n",
    "        for tp in comb(sorted(l), 2):\n",
    "            if tp in pair_count:\n",
    "                pair_count[tp] += 1\n",
    "            else:\n",
    "                pair_count[tp] = 1\n",
    "    dfc = []\n",
    "    for p, value in pair_count.items():\n",
    "        dfc.append([p[0], p[1], value])\n",
    "    dfc = pd.DataFrame(dfc, columns=['paper1', 'paper2', 'common'])\n",
    "    sim_y[key] = dfc"
   ]
  },
  {
   "cell_type": "code",
   "execution_count": null,
   "id": "fe30b6d8",
   "metadata": {},
   "outputs": [],
   "source": [
    "# Step 04: Creating a dictionary: paper1, paper2, reference, common, freq1, freq2\n",
    "\n",
    "freq = {}\n",
    "\n",
    "for key, tables in sim_y.items():\n",
    "    ftable = sim_x[key].groupby([\"paper\"]).size().reset_index(name='frequency')\n",
    "    freq[key] = ftable\n",
    "\n",
    "fin = {}\n",
    "for key, tables in sim_y.items():\n",
    "    if len(tables) > 0:\n",
    "        tcount = freq[key]\n",
    "        final_table = tables.merge(tcount, left_on='paper1', right_on='paper')\n",
    "        final_table = final_table.merge(tcount, left_on='paper2', right_on='paper')\n",
    "        final_table = final_table.drop(['paper_x', 'paper_y'], axis=1)\n",
    "    \n",
    "        fin[key] = final_table"
   ]
  },
  {
   "cell_type": "code",
   "execution_count": null,
   "id": "8e6d4faf",
   "metadata": {},
   "outputs": [],
   "source": [
    "# Step 05: Assigning q-values to all pairs\n",
    "\n",
    "H_func = scipy.stats.hypergeom.pmf\n",
    "\n",
    "for key, table in fin.items():\n",
    "    qval = []\n",
    "    _dp = {}\n",
    "    nbk = nunique_list[key]\n",
    "\n",
    "    for i, r in table.iterrows():\n",
    "        Hs = []\n",
    "        di, dj = r['frequency_x'], r['frequency_y']\n",
    "        nijk = r['common']\n",
    "\n",
    "        for X in range(nijk):\n",
    "            _ref = (X, nbk, di, dj)\n",
    "            if _ref in _dp:\n",
    "                H = _dp[_ref]\n",
    "            else:\n",
    "                H = H_func(X, nbk, di, dj)\n",
    "                _dp[_ref] = H\n",
    "            Hs.append(H)\n",
    "\n",
    "        qval.append(1-sum(Hs))\n",
    "\n",
    "    fin[key]['qval'] = qval"
   ]
  },
  {
   "cell_type": "code",
   "execution_count": null,
   "id": "875a0b9c",
   "metadata": {},
   "outputs": [],
   "source": [
    "# Step 06: Creating a DataFrame: paper1, paper2, common, freq1, freq2, qval\n",
    "\n",
    "df = pd.concat(fin.values())\n",
    "df.groupby(['paper1', 'paper2']).size()\n",
    "df = df.sort_values(['paper1', 'paper2'])"
   ]
  },
  {
   "cell_type": "code",
   "execution_count": null,
   "id": "aa656f30",
   "metadata": {},
   "outputs": [],
   "source": [
    "# Step 07: Combining equivalent pairs together with the minimum qval\n",
    "\n",
    "df = df.drop([\"common\", \"frequency_x\", \"frequency_y\"], axis=1).sort_values(\n",
    "    [\"paper1\", \"paper2\", \"qval\"]).reset_index(drop=True).groupby(\n",
    "        [\"paper1\", \"paper2\"], as_index=False).min()"
   ]
  },
  {
   "cell_type": "code",
   "execution_count": null,
   "id": "972a87ef",
   "metadata": {},
   "outputs": [],
   "source": [
    "# Step 08: Assigning k to all pairs\n",
    "\n",
    "pairs = \"(\" + df[\"paper1\"] + \", \" + df[\"paper2\"] + \")\"\n",
    "df['k'] = pairs.isin(cb.pair) | pairs.isin(cb.pair2)"
   ]
  },
  {
   "cell_type": "code",
   "execution_count": null,
   "id": "d882fea4",
   "metadata": {},
   "outputs": [],
   "source": [
    "# Step 09: Merging a DataFrame: adding gender & year\n",
    "\n",
    "df = df.merge(refsim, left_on='paper1', right_on='paper', how='inner').drop(\n",
    "    ['paper'], axis=1).rename({'gender': 'gender1', 'year': 'year1'}, axis=1)\n",
    "df = df.merge(refsim, left_on='paper2', right_on='paper', how='inner').drop(\n",
    "    ['paper'], axis=1).rename({'gender': 'gender2', 'year': 'year2'}, axis=1)\n",
    "\n",
    "cols = ['paper1', 'gender1', 'year1', 'paper2', 'gender2', 'year2', 'qval', 'k']\n",
    "df = df.reindex(columns=cols)"
   ]
  },
  {
   "cell_type": "code",
   "execution_count": null,
   "id": "ccb65109",
   "metadata": {},
   "outputs": [],
   "source": [
    "# Step XX: Converting to .csv file\n",
    "\n",
    "# df.to_csv(r'../firstmover/python/sim1.csv',index=False)"
   ]
  }
 ],
 "metadata": {
  "kernelspec": {
   "display_name": "Python 3",
   "language": "python",
   "name": "python3"
  },
  "language_info": {
   "codemirror_mode": {
    "name": "ipython",
    "version": 3
   },
   "file_extension": ".py",
   "mimetype": "text/x-python",
   "name": "python",
   "nbconvert_exporter": "python",
   "pygments_lexer": "ipython3",
   "version": "3.8.8"
  }
 },
 "nbformat": 4,
 "nbformat_minor": 5
}
