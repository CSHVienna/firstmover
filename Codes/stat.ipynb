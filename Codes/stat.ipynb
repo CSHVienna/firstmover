{
 "cells": [
  {
   "cell_type": "code",
   "execution_count": 1,
   "id": "c66b2344",
   "metadata": {
    "ExecuteTime": {
     "end_time": "2022-08-28T07:12:14.363667Z",
     "start_time": "2022-08-28T07:12:13.345262Z"
    }
   },
   "outputs": [],
   "source": [
    "# import necessary packages\n",
    "\n",
    "import pandas as pd\n",
    "import numpy as np\n",
    "import matplotlib.pyplot as plt\n",
    "import seaborn as sns\n",
    "\n",
    "from scipy.stats import ks_2samp\n",
    "from statsmodels.stats.proportion import proportions_ztest\n",
    "from math import sqrt\n",
    "\n",
    "import warnings\n",
    "warnings.filterwarnings(\"ignore\")\n",
    "\n",
    "import os\n",
    "\n",
    "path = os.getcwd()\n",
    "os.chdir(f\"{path}\")"
   ]
  },
  {
   "cell_type": "code",
   "execution_count": 2,
   "id": "74669cad",
   "metadata": {
    "ExecuteTime": {
     "end_time": "2022-08-28T07:12:20.815302Z",
     "start_time": "2022-08-28T07:12:14.364833Z"
    }
   },
   "outputs": [],
   "source": [
    "# import necessary data\n",
    "\n",
    "result = pd.read_csv(\"../Data/result.csv\")\n",
    "paperdata = pd.read_csv(\"../Data/paperdata.csv\")\n",
    "primdata = pd.read_csv(\"../Data/primdata.csv\")\n",
    "lastdata = pd.read_csv(\"../Data/lastdata.csv\")"
   ]
  },
  {
   "cell_type": "markdown",
   "id": "69e0b615",
   "metadata": {},
   "source": [
    "# Statistical Analyses\n",
    "\n",
    "## Basic Statistics"
   ]
  },
  {
   "cell_type": "code",
   "execution_count": 3,
   "id": "9fa582fd",
   "metadata": {
    "ExecuteTime": {
     "end_time": "2022-08-28T07:12:21.476536Z",
     "start_time": "2022-08-28T07:12:20.818099Z"
    }
   },
   "outputs": [
    {
     "name": "stdout",
     "output_type": "stream",
     "text": [
      "Total papers:  541448\n",
      "Papers with gender info:  375736\n",
      "Papers with primary gender info:  273016\n",
      "Papers with last gender info:  288395\n"
     ]
    }
   ],
   "source": [
    "print(\"Total papers: \", result.doi.nunique())\n",
    "print(\"Papers with gender info: \", paperdata.doi.nunique())\n",
    "print(\"Papers with primary gender info: \", primdata.doi.nunique())\n",
    "print(\"Papers with last gender info: \", lastdata.doi.nunique())"
   ]
  },
  {
   "cell_type": "code",
   "execution_count": 4,
   "id": "2fa85fc0",
   "metadata": {
    "ExecuteTime": {
     "end_time": "2022-08-28T07:12:21.567076Z",
     "start_time": "2022-08-28T07:12:21.477734Z"
    }
   },
   "outputs": [
    {
     "name": "stdout",
     "output_type": "stream",
     "text": [
      "Oldest paper:  1893\n",
      "Newest paper:  2009\n",
      "Number of journal categories:  11\n"
     ]
    }
   ],
   "source": [
    "print(\"Oldest paper: \", paperdata.year.min())\n",
    "print(\"Newest paper: \", paperdata.year.max())\n",
    "print(\"Number of journal categories: \", paperdata.journal.nunique())"
   ]
  },
  {
   "cell_type": "code",
   "execution_count": 5,
   "id": "f6e9f724",
   "metadata": {
    "ExecuteTime": {
     "end_time": "2022-08-28T07:12:21.848106Z",
     "start_time": "2022-08-28T07:12:21.568281Z"
    }
   },
   "outputs": [
    {
     "name": "stdout",
     "output_type": "stream",
     "text": [
      "Total authors:  120776\n",
      "Total men authors:  103014\n",
      "Total women authors:  17762\n"
     ]
    }
   ],
   "source": [
    "print(\"Total authors: \", paperdata.id.nunique())\n",
    "print(\"Total men authors: \", paperdata.query('gender == \"male\"').id.nunique())\n",
    "print(\"Total women authors: \", paperdata.query('gender == \"female\"').id.nunique())"
   ]
  },
  {
   "cell_type": "code",
   "execution_count": 6,
   "id": "7ad916bc",
   "metadata": {
    "ExecuteTime": {
     "end_time": "2022-08-28T07:12:22.228208Z",
     "start_time": "2022-08-28T07:12:21.849217Z"
    }
   },
   "outputs": [
    {
     "name": "stdout",
     "output_type": "stream",
     "text": [
      "Total PRA papers:  65170\n",
      "PRA papers with gender info:  45061\n",
      "\n",
      "PRA papers with primary gender info:  33687\n",
      "PRA papers written by primary man author:  29780\n",
      "PRA papers written by primary woman author:  3907\n",
      "\n",
      "PRA papers with last gender info:  35139\n",
      "PRA papers written by last man author:  32034\n",
      "PRA papers written by last woman author:  3105\n"
     ]
    }
   ],
   "source": [
    "# journal query condition\n",
    "\n",
    "s = \"PRA\"\n",
    "\n",
    "print(f\"Total {s} papers: \",\n",
    "      result[result['journal'] == s].doi.nunique())\n",
    "print(f\"{s} papers with gender info: \",\n",
    "      paperdata[paperdata['journal'] == s].doi.nunique())\n",
    "\n",
    "df = primdata[primdata['journal'] == s]\n",
    "print(\"\")\n",
    "print(f\"{s} papers with primary gender info: \", df.doi.nunique())\n",
    "print(f\"{s} papers written by primary man author: \", len(df[df['gender']=='male']))\n",
    "print(f\"{s} papers written by primary woman author: \", len(df[df['gender']=='female']))\n",
    "\n",
    "df2 = lastdata[lastdata['journal'] == s]\n",
    "print(\"\")\n",
    "print(f\"{s} papers with last gender info: \", df2.doi.nunique())\n",
    "print(f\"{s} papers written by last man author: \", len(df2[df2['gender']=='male']))\n",
    "print(f\"{s} papers written by last woman author: \", len(df2[df2['gender']=='female']))"
   ]
  },
  {
   "cell_type": "code",
   "execution_count": 7,
   "id": "692342d1",
   "metadata": {
    "ExecuteTime": {
     "end_time": "2022-08-28T07:12:22.524603Z",
     "start_time": "2022-08-28T07:12:22.229425Z"
    }
   },
   "outputs": [
    {
     "name": "stdout",
     "output_type": "stream",
     "text": [
      "Total PACS 80 papers:  48558\n",
      "PACS 80 papers with gender info:  32735\n",
      "\n",
      "PACS 80 papers with primary gender info:  24676\n",
      "PACS 80 papers written by primary man author:  21407\n",
      "PACS 80 papers written by primary woman author:  3269\n",
      "\n",
      "PACS 80 papers with last gender info:  25762\n",
      "PACS 80 papers written by last man author:  23315\n",
      "PACS 80 papers written by last woman author:  2447\n"
     ]
    }
   ],
   "source": [
    "# PACS query condition\n",
    "\n",
    "pacs = 8\n",
    "\n",
    "print(f\"Total PACS {pacs}0 papers: \",\n",
    "      result[result[f'pacs{pacs}0'] == 1].doi.nunique())\n",
    "print(f\"PACS {pacs}0 papers with gender info: \",\n",
    "      paperdata[paperdata[f'pacs{pacs}0'] == 1].doi.nunique())\n",
    "\n",
    "df = primdata[primdata[f'pacs{pacs}0'] == 1]\n",
    "print(\"\")\n",
    "print(f\"PACS {pacs}0 papers with primary gender info: \", df.doi.nunique())\n",
    "print(f\"PACS {pacs}0 papers written by primary man author: \", len(df[df['gender']=='male']))\n",
    "print(f\"PACS {pacs}0 papers written by primary woman author: \", len(df[df['gender']=='female']))\n",
    "\n",
    "df2 = lastdata[lastdata[f'pacs{pacs}0'] == 1]\n",
    "print(\"\")\n",
    "print(f\"PACS {pacs}0 papers with last gender info: \", df2.doi.nunique())\n",
    "print(f\"PACS {pacs}0 papers written by last man author: \", len(df2[df2['gender']=='male']))\n",
    "print(f\"PACS {pacs}0 papers written by last woman author: \", len(df2[df2['gender']=='female']))"
   ]
  },
  {
   "cell_type": "markdown",
   "id": "2dbc4c2f",
   "metadata": {},
   "source": [
    "### Alphabetically ordered papers and Author order analysis"
   ]
  },
  {
   "cell_type": "code",
   "execution_count": 8,
   "id": "c408097c",
   "metadata": {
    "ExecuteTime": {
     "end_time": "2022-08-28T07:12:25.354191Z",
     "start_time": "2022-08-28T07:12:22.526679Z"
    }
   },
   "outputs": [
    {
     "name": "stdout",
     "output_type": "stream",
     "text": [
      "Total alphabetically ordered papers:  19159\n",
      "\n",
      "Total PACS 00 papers: 104571\n",
      "Alphabetically ordered: 4141\n",
      "Proportion of alpha papers: 3.96 %\n",
      "\n",
      "Total PACS 10 papers: 55650\n",
      "Alphabetically ordered: 6088\n",
      "Proportion of alpha papers: 10.94 %\n",
      "\n",
      "Total PACS 20 papers: 35026\n",
      "Alphabetically ordered: 1877\n",
      "Proportion of alpha papers: 5.36 %\n",
      "\n",
      "Total PACS 30 papers: 42794\n",
      "Alphabetically ordered: 1088\n",
      "Proportion of alpha papers: 2.54 %\n",
      "\n",
      "Total PACS 40 papers: 57467\n",
      "Alphabetically ordered: 1558\n",
      "Proportion of alpha papers: 2.71 %\n",
      "\n",
      "Total PACS 50 papers: 12330\n",
      "Alphabetically ordered: 296\n",
      "Proportion of alpha papers: 2.40 %\n",
      "\n",
      "Total PACS 60 papers: 89689\n",
      "Alphabetically ordered: 1912\n",
      "Proportion of alpha papers: 2.13 %\n",
      "\n",
      "Total PACS 70 papers: 155517\n",
      "Alphabetically ordered: 2686\n",
      "Proportion of alpha papers: 1.73 %\n",
      "\n",
      "Total PACS 80 papers: 48558\n",
      "Alphabetically ordered: 1007\n",
      "Proportion of alpha papers: 2.07 %\n",
      "\n",
      "Total PACS 90 papers: 26601\n",
      "Alphabetically ordered: 1885\n",
      "Proportion of alpha papers: 7.09 %\n"
     ]
    }
   ],
   "source": [
    "# alphabetically ordered paper statistics\n",
    "\n",
    "print(\"Total alphabetically ordered papers: \",\n",
    "      len(result.query('is_alpha == True').drop_duplicates('doi')))\n",
    "\n",
    "for i in range(10):\n",
    "    print('')\n",
    "    print(f\"Total PACS {i}0 papers:\", result.query(f'pacs{i}0 == 1').doi.nunique())\n",
    "    print(\"Alphabetically ordered:\",result.query(\n",
    "        f'is_alpha == True & pacs{i}0 == 1').doi.nunique())\n",
    "    print(\"Proportion of alpha papers:\", format(result.query(\n",
    "        f'is_alpha == True & pacs{i}0 == 1').doi.nunique()/result.query(\n",
    "        f'pacs{i}0 == 1').doi.nunique() * 100, \".2f\"),'%')"
   ]
  },
  {
   "cell_type": "code",
   "execution_count": 9,
   "id": "d263b5c9",
   "metadata": {
    "ExecuteTime": {
     "end_time": "2022-08-28T07:12:25.668980Z",
     "start_time": "2022-08-28T07:12:25.359239Z"
    }
   },
   "outputs": [],
   "source": [
    "# Author order categorization\n",
    "\n",
    "# filter out alphabetically ordered papers\n",
    "nonalpha = paperdata.query('is_alpha == False')\n",
    "\n",
    "first_author = nonalpha.query('order == 1').reset_index(drop=True)\n",
    "second_author = nonalpha.query('order == 2 & numAuthor != 2').reset_index(drop=True)\n",
    "middle_author = nonalpha.query('order >= 3 & order != numAuthor').reset_index(drop=True)\n",
    "last_author = nonalpha.query('order == numAuthor & order != 1').reset_index(drop=True)\n",
    "\n",
    "authors = [first_author, second_author, middle_author, last_author]\n",
    "authors_name = ['first', 'second', 'middle', 'last']"
   ]
  },
  {
   "cell_type": "code",
   "execution_count": 10,
   "id": "c9196853",
   "metadata": {
    "ExecuteTime": {
     "end_time": "2022-08-28T07:12:29.167953Z",
     "start_time": "2022-08-28T07:12:25.669963Z"
    }
   },
   "outputs": [
    {
     "name": "stdout",
     "output_type": "stream",
     "text": [
      "\n",
      "Total first authors:  273016\n",
      "Total first men authors:  242290\n",
      "first men authors' proportion:  0.3275\n",
      "Total first women authors:  30726\n",
      "first women authors' proportion:  0.3437\n",
      "z-score: -9.74\n",
      "p-value: 1.99e-22\n",
      "\n",
      "Total second authors:  131612\n",
      "Total second men authors:  116326\n",
      "second men authors' proportion:  0.1572\n",
      "Total second women authors:  15286\n",
      "second women authors' proportion:  0.1710\n",
      "z-score: -10.63\n",
      "p-value: 2.09e-26\n",
      "\n",
      "Total middle authors:  198075\n",
      "Total middle men authors:  174786\n",
      "middle men authors' proportion:  0.2363\n",
      "Total middle women authors:  23289\n",
      "middle women authors' proportion:  0.2605\n",
      "z-score: -16.07\n",
      "p-value: 4.15e-58\n",
      "\n",
      "Total last authors:  226463\n",
      "Total last men authors:  206374\n",
      "last men authors' proportion:  0.2790\n",
      "Total last women authors:  20089\n",
      "last women authors' proportion:  0.2247\n",
      "z-score: 34.37\n",
      "p-value: 6.07e-259\n"
     ]
    }
   ],
   "source": [
    "# author order statistics\n",
    "\n",
    "for i in range(4):\n",
    "    ao_m, ao_w = 0, 0\n",
    "    for j in range(len(authors[i])):\n",
    "        if authors[i]['gender'][j] == 'male':\n",
    "            ao_m += 1\n",
    "        elif authors[i]['gender'][j] == 'female':\n",
    "            ao_w += 1\n",
    "    print('')\n",
    "    print(f\"Total {authors_name[i]} authors: \", len(authors[i]))\n",
    "    print(f\"Total {authors_name[i]} men authors: \", ao_m)\n",
    "    print(f\"{authors_name[i]} men authors' proportion: \", format(\n",
    "        ao_m/len(nonalpha.query('gender == \"male\"')), \".4f\"))\n",
    "    print(f\"Total {authors_name[i]} women authors: \", ao_w)\n",
    "    print(f\"{authors_name[i]} women authors' proportion: \", format(\n",
    "        ao_w/len(nonalpha.query('gender == \"female\"')), \".4f\"))\n",
    "    zscore, pval = proportions_ztest([ao_m, ao_w],\n",
    "        [len(nonalpha.query('gender == \"male\"')), len(nonalpha.query('gender == \"female\"'))])\n",
    "    print('z-score:', format(zscore, \".2f\"))\n",
    "    print('p-value:', '{:g}'.format(float('{:.3g}'.format(pval))))"
   ]
  },
  {
   "cell_type": "markdown",
   "id": "184dcec8",
   "metadata": {},
   "source": [
    "### Participation Growth"
   ]
  },
  {
   "cell_type": "code",
   "execution_count": 11,
   "id": "cc5b6f7b",
   "metadata": {
    "ExecuteTime": {
     "end_time": "2022-08-28T07:12:29.574361Z",
     "start_time": "2022-08-28T07:12:29.168849Z"
    }
   },
   "outputs": [],
   "source": [
    "# Observe number of authors by year, separated by gender\n",
    "\n",
    "tdata = paperdata.copy()\n",
    "tdata.sort_values(\"id\", inplace = True)\n",
    "tdata.drop_duplicates(subset = [\"id\", \"year\"],\n",
    "                         keep = \"first\", inplace = True)\n",
    "\n",
    "m_tdata = tdata[tdata['gender'] == 'male'].groupby(['year'])['year'].count()\n",
    "w_tdata = tdata[tdata['gender'] == 'female'].groupby(['year'])['year'].count()"
   ]
  },
  {
   "cell_type": "code",
   "execution_count": 12,
   "id": "f1e78e10",
   "metadata": {
    "ExecuteTime": {
     "end_time": "2022-08-28T07:12:29.684711Z",
     "start_time": "2022-08-28T07:12:29.575323Z"
    }
   },
   "outputs": [
    {
     "data": {
      "image/png": "[encoded data removed]",
      "text/plain": [
       "<Figure size 432x324 with 1 Axes>"
      ]
     },
     "metadata": {
      "needs_background": "light"
     },
     "output_type": "display_data"
    }
   ],
   "source": [
    "# Year vs. Number of Authors (Plot)\n",
    "\n",
    "# Regular graph format throughout this paper\n",
    "fig, ax = plt.subplots(figsize=(6,4.5))\n",
    "right_side = ax.spines[\"right\"]\n",
    "top_side = ax.spines[\"top\"]\n",
    "right_side.set_visible(False)\n",
    "top_side.set_visible(False)\n",
    "\n",
    "# Male authors\n",
    "m_tdata.plot(style='.-',color='#67a9cf', lw=3)\n",
    "# Female authors\n",
    "w_tdata.plot(style='.-',color='#ef8a62', lw=3)\n",
    "\n",
    "plt.legend(('men', 'women'), loc='upper left', fontsize=20)\n",
    "plt.xticks(np.arange(1950, 2010, step=10), fontsize=20, rotation=30)\n",
    "plt.xlabel('Year', fontsize=20)\n",
    "plt.xlim(xmin=1950, xmax=2010)\n",
    "plt.ylabel('Number of Authors', fontsize=20)\n",
    "plt.yticks(fontsize=20)\n",
    "plt.ylim(ymin=0)\n",
    "\n",
    "plt.tight_layout()"
   ]
  },
  {
   "cell_type": "markdown",
   "id": "b1d2eb97",
   "metadata": {},
   "source": [
    "## Calculating Productivity and Dropout Rates\n",
    "\n",
    "### Productivity Comparison"
   ]
  },
  {
   "cell_type": "code",
   "execution_count": 13,
   "id": "083c5637",
   "metadata": {
    "ExecuteTime": {
     "end_time": "2022-08-28T07:12:29.856929Z",
     "start_time": "2022-08-28T07:12:29.685613Z"
    }
   },
   "outputs": [],
   "source": [
    "# Creating a DataFrame with productivity calculated\n",
    "prod = paperdata.copy().groupby(['id', 'gender']).agg({'year': [min, max, 'count']})\n",
    "\n",
    "prod['career_age'] = prod['year']['max'] - prod['year']['min']\n",
    "prod['prod'] = prod['year']['count'] / (prod['career_age'])"
   ]
  },
  {
   "cell_type": "code",
   "execution_count": 14,
   "id": "9f61b063",
   "metadata": {
    "ExecuteTime": {
     "end_time": "2022-08-28T07:12:29.898725Z",
     "start_time": "2022-08-28T07:12:29.857866Z"
    }
   },
   "outputs": [
    {
     "name": "stdout",
     "output_type": "stream",
     "text": [
      "Proportion of men authors with CA 0:  39.94 %\n",
      "Proportion of women authors with CA 0:  47.56 %\n"
     ]
    }
   ],
   "source": [
    "# what is the ratio of men / women authors with career age of 0?\n",
    "\n",
    "ca_zero = prod[prod['career_age'] == 0]\n",
    "ca_zero.sort_values([('year','count')], ascending=False).head()\n",
    "\n",
    "# Separating the DataFrame by gender\n",
    "prod_all_m = prod.copy().xs('male', level='gender').sort_values(\n",
    "    by=['prod'],ascending=False, ignore_index=True)\n",
    "prod_all_w = prod.copy().xs('female', level='gender').sort_values(\n",
    "    by=['prod'],ascending=False)\n",
    "\n",
    "ca_zero_m = ca_zero.copy().xs('male', level='gender').sort_values(\n",
    "    by=['prod'],ascending=False, ignore_index=True)\n",
    "ca_zero_w = ca_zero.copy().xs('female', level='gender').sort_values(\n",
    "    by=['prod'],ascending=False)\n",
    "\n",
    "# Career Age by gender\n",
    "ca_all_m = prod_all_m.groupby(['career_age'])['career_age'].count()\n",
    "ca_all_w = prod_all_w.groupby(['career_age'])['career_age'].count()\n",
    "\n",
    "ca_zero_m = ca_zero_m.groupby(['career_age'])['career_age'].count()\n",
    "ca_zero_w = ca_zero_w.groupby(['career_age'])['career_age'].count()\n",
    "\n",
    "print(\"Proportion of men authors with CA 0: \", format(sum(ca_zero_m)/sum(ca_all_m) * 100, \".2f\"), \"%\")\n",
    "print(\"Proportion of women authors with CA 0: \", format(sum(ca_zero_w)/sum(ca_all_w) * 100, \".2f\"), \"%\")"
   ]
  },
  {
   "cell_type": "code",
   "execution_count": 15,
   "id": "506ab32a",
   "metadata": {
    "ExecuteTime": {
     "end_time": "2022-08-28T07:12:29.925731Z",
     "start_time": "2022-08-28T07:12:29.899580Z"
    }
   },
   "outputs": [],
   "source": [
    "# exclude 0 career age\n",
    "prod = prod[prod['career_age'] != 0]\n",
    "\n",
    "prod.sort_values([('year','count')], ascending=False).head()\n",
    "\n",
    "# Separating the DataFrame by gender\n",
    "prod_m = prod.xs('male', level='gender').sort_values(\n",
    "    by=['prod'],ascending=False, ignore_index=True)\n",
    "prod_w = prod.xs('female', level='gender').sort_values(\n",
    "    by=['prod'],ascending=False)\n",
    "\n",
    "# Career Age by gender\n",
    "ca_m = prod_m.groupby(['career_age'])['career_age'].count()\n",
    "ca_w = prod_w.groupby(['career_age'])['career_age'].count()"
   ]
  },
  {
   "cell_type": "code",
   "execution_count": 16,
   "id": "3ccf9a19",
   "metadata": {
    "ExecuteTime": {
     "end_time": "2022-08-28T07:12:29.939572Z",
     "start_time": "2022-08-28T07:12:29.926762Z"
    }
   },
   "outputs": [
    {
     "data": {
      "text/html": [
       "<div>\n",
       "<style scoped>\n",
       "    .dataframe tbody tr th:only-of-type {\n",
       "        vertical-align: middle;\n",
       "    }\n",
       "\n",
       "    .dataframe tbody tr th {\n",
       "        vertical-align: top;\n",
       "    }\n",
       "\n",
       "    .dataframe thead th {\n",
       "        text-align: right;\n",
       "    }\n",
       "</style>\n",
       "<table border=\"1\" class=\"dataframe\">\n",
       "  <thead>\n",
       "    <tr style=\"text-align: right;\">\n",
       "      <th></th>\n",
       "      <th>career_age</th>\n",
       "      <th>men_count</th>\n",
       "      <th>women_count</th>\n",
       "    </tr>\n",
       "  </thead>\n",
       "  <tbody>\n",
       "    <tr>\n",
       "      <th>0</th>\n",
       "      <td>1</td>\n",
       "      <td>6301</td>\n",
       "      <td>1224</td>\n",
       "    </tr>\n",
       "    <tr>\n",
       "      <th>1</th>\n",
       "      <td>2</td>\n",
       "      <td>5432</td>\n",
       "      <td>1038</td>\n",
       "    </tr>\n",
       "    <tr>\n",
       "      <th>2</th>\n",
       "      <td>3</td>\n",
       "      <td>4542</td>\n",
       "      <td>793</td>\n",
       "    </tr>\n",
       "    <tr>\n",
       "      <th>3</th>\n",
       "      <td>4</td>\n",
       "      <td>3890</td>\n",
       "      <td>698</td>\n",
       "    </tr>\n",
       "    <tr>\n",
       "      <th>4</th>\n",
       "      <td>5</td>\n",
       "      <td>3373</td>\n",
       "      <td>562</td>\n",
       "    </tr>\n",
       "  </tbody>\n",
       "</table>\n",
       "</div>"
      ],
      "text/plain": [
       "   career_age  men_count  women_count\n",
       "0           1       6301         1224\n",
       "1           2       5432         1038\n",
       "2           3       4542          793\n",
       "3           4       3890          698\n",
       "4           5       3373          562"
      ]
     },
     "execution_count": 16,
     "metadata": {},
     "output_type": "execute_result"
    }
   ],
   "source": [
    "# only for data extraction\n",
    "\n",
    "menca = ca_m.to_frame(name = 'men_count')\n",
    "menca.reset_index(inplace=True)\n",
    "\n",
    "womenca = ca_w.to_frame(name = 'women_count')\n",
    "womenca.reset_index(inplace=True)\n",
    "\n",
    "ca_df = menca.merge(womenca, on='career_age', how='outer').fillna(0).sort_values('career_age')\n",
    "ca_df = ca_df.astype(int)\n",
    "ca_df.head()"
   ]
  },
  {
   "cell_type": "code",
   "execution_count": 17,
   "id": "fb3699da",
   "metadata": {
    "ExecuteTime": {
     "end_time": "2022-08-28T07:12:30.033065Z",
     "start_time": "2022-08-28T07:12:29.940584Z"
    }
   },
   "outputs": [
    {
     "data": {
      "image/png": "[encoded data removed]",
      "text/plain": [
       "<Figure size 432x324 with 1 Axes>"
      ]
     },
     "metadata": {
      "needs_background": "light"
     },
     "output_type": "display_data"
    }
   ],
   "source": [
    "# Career age vs. Number of authors, separated by gender\n",
    "fig, ax = plt.subplots(figsize=(6,4.5))\n",
    "right_side = ax.spines[\"right\"]\n",
    "top_side = ax.spines[\"top\"]\n",
    "right_side.set_visible(False)\n",
    "top_side.set_visible(False)\n",
    "\n",
    "# Men authors\n",
    "ca_m.plot(color='#67a9cf', lw=3)\n",
    "# Women authors\n",
    "ca_w.plot(color='#ef8a62', lw=3)\n",
    "\n",
    "plt.xticks(fontsize=20)\n",
    "plt.xlim(1,35)\n",
    "plt.yticks(fontsize=20)\n",
    "plt.legend(['men', 'women'], loc='upper right', fontsize=20)\n",
    "plt.xlabel('Career Age', fontsize=20)\n",
    "plt.ylabel('Number of authors', fontsize=20)\n",
    "plt.tight_layout()"
   ]
  },
  {
   "cell_type": "code",
   "execution_count": 18,
   "id": "70410b15",
   "metadata": {
    "ExecuteTime": {
     "end_time": "2022-08-28T07:12:30.333264Z",
     "start_time": "2022-08-28T07:12:30.034011Z"
    }
   },
   "outputs": [
    {
     "data": {
      "image/png": "[encoded data removed]",
      "text/plain": [
       "<Figure size 432x324 with 1 Axes>"
      ]
     },
     "metadata": {
      "needs_background": "light"
     },
     "output_type": "display_data"
    }
   ],
   "source": [
    "# Comparing PDFs\n",
    "\n",
    "fig, ax = plt.subplots(figsize=(6,4.5))\n",
    "right_side = ax.spines[\"right\"]\n",
    "top_side = ax.spines[\"top\"]\n",
    "right_side.set_visible(False)\n",
    "top_side.set_visible(False)\n",
    "\n",
    "ax1 = sns.distplot(prod_m['prod'], ax=ax, label='male', color= '#67a9cf',kde_kws=dict(linewidth=3))\n",
    "fit = ax1.get_lines()[0].get_data() # Getting the data from the plotted line\n",
    "xfit, yfit = fit[0], fit[1]\n",
    "ax1.legend()\n",
    "\n",
    "ax2 = sns.distplot(prod_w['prod'], ax=ax, label='female', color= '#ef8a62',kde_kws=dict(linewidth=3))\n",
    "fit = ax2.get_lines()[0].get_data() # Getting the data from the plotted line\n",
    "xfit, yfit = fit[0], fit[1]\n",
    "ax2.legend()\n",
    "\n",
    "plt.legend(('men', 'women'), loc='upper right', fontsize=20)\n",
    "plt.xlabel('Productivity', fontsize=20)\n",
    "plt.xlim(xmin=-1, xmax=6)\n",
    "plt.ylim(ymax=1)\n",
    "plt.xticks(fontsize=20)\n",
    "plt.yticks(fontsize=20)\n",
    "plt.ylabel('Probability', fontsize=20)\n",
    "\n",
    "plt.tight_layout()"
   ]
  },
  {
   "cell_type": "code",
   "execution_count": 19,
   "id": "2e055ebb",
   "metadata": {
    "ExecuteTime": {
     "end_time": "2022-08-28T07:12:30.336344Z",
     "start_time": "2022-08-28T07:12:30.334352Z"
    }
   },
   "outputs": [],
   "source": [
    "# creating CDF data for productivity\n",
    "\n",
    "cdf1=np.arange(len(prod_m))/float(len(prod_m)-1)\n",
    "cdf2=np.arange(len(prod_w))/float(len(prod_w)-1)"
   ]
  },
  {
   "cell_type": "code",
   "execution_count": 20,
   "id": "0f8b5811",
   "metadata": {
    "ExecuteTime": {
     "end_time": "2022-08-28T07:12:30.431424Z",
     "start_time": "2022-08-28T07:12:30.337229Z"
    }
   },
   "outputs": [
    {
     "data": {
      "image/png": "[encoded data removed]",
      "text/plain": [
       "<Figure size 432x324 with 1 Axes>"
      ]
     },
     "metadata": {
      "needs_background": "light"
     },
     "output_type": "display_data"
    }
   ],
   "source": [
    "# Productivity CDF Plots\n",
    "fig, ax = plt.subplots(figsize=(6,4.5))\n",
    "right_side = ax.spines[\"right\"]\n",
    "top_side = ax.spines[\"top\"]\n",
    "right_side.set_visible(False)\n",
    "top_side.set_visible(False)\n",
    "\n",
    "# Men authors\n",
    "plt.plot(prod_m['prod'],1-cdf1, color='#67a9cf', lw=2)\n",
    "# Women authors\n",
    "plt.plot(prod_w['prod'],1-cdf2, color='#ef8a62', lw=2)\n",
    "\n",
    "plt.xlabel('Productivity', fontsize=20)\n",
    "plt.xticks(fontsize=20)\n",
    "plt.xlim(xmin=0, xmax=4)\n",
    "plt.ylabel('Probability', fontsize=20)\n",
    "plt.yticks(fontsize=20)\n",
    "plt.legend(['men', 'women'], loc='lower right', fontsize=20)\n",
    "plt.tight_layout()"
   ]
  },
  {
   "cell_type": "code",
   "execution_count": 21,
   "id": "9e6b4563",
   "metadata": {
    "ExecuteTime": {
     "end_time": "2022-08-28T07:12:30.469576Z",
     "start_time": "2022-08-28T07:12:30.432332Z"
    }
   },
   "outputs": [
    {
     "name": "stdout",
     "output_type": "stream",
     "text": [
      "Two-way K-S: KstestResult(statistic=0.018302046295788743, pvalue=0.008711930714457616)\n",
      "Greater K-S: KstestResult(statistic=0.018302046295788743, pvalue=0.004350112321953321)\n",
      "Less K-S: KstestResult(statistic=0.011221541461513107, pvalue=0.12906919986376664)\n"
     ]
    }
   ],
   "source": [
    "# Run K-S test to compare the productivity\n",
    "\n",
    "print('Two-way K-S:', ks_2samp(prod_m['prod'], prod_w['prod']))\n",
    "print('Greater K-S:', ks_2samp(prod_m['prod'], prod_w['prod'], alternative='greater'))\n",
    "print('Less K-S:', ks_2samp(prod_m['prod'], prod_w['prod'], alternative='less'))"
   ]
  },
  {
   "cell_type": "markdown",
   "id": "67de47ec",
   "metadata": {},
   "source": [
    "We see greater difference in productivity in favor of men authors."
   ]
  },
  {
   "cell_type": "code",
   "execution_count": 22,
   "id": "67610ced",
   "metadata": {
    "ExecuteTime": {
     "end_time": "2022-08-28T07:12:30.483406Z",
     "start_time": "2022-08-28T07:12:30.470540Z"
    }
   },
   "outputs": [
    {
     "name": "stdout",
     "output_type": "stream",
     "text": [
      "The greatest difference in productivity occurs at: 0.4909090909090909\n"
     ]
    }
   ],
   "source": [
    "# find out where the greatest difference in productivity occurs\n",
    "\n",
    "def ks_2samp_x(data1, data2, alternative=\"two-sided\"):\n",
    "    data1 = np.sort(data1)\n",
    "    data2 = np.sort(data2)\n",
    "    n1 = data1.shape[0]\n",
    "    n2 = data2.shape[0]\n",
    "\n",
    "    data_all = np.concatenate([data1, data2])\n",
    "    # using searchsorted solves equal data problem\n",
    "    cdf1 = np.searchsorted(data1, data_all, side='right') / n1\n",
    "    cdf2 = np.searchsorted(data2, data_all, side='right') / n2\n",
    "    cddiffs = cdf1 - cdf2\n",
    "    minS = np.argmin(cddiffs)   # ks_2samp uses np.min or np.max respectively \n",
    "    maxS = np.argmax(cddiffs)   # now we get instead the index in data_all\n",
    "    alt2Dvalue = {'less': minS, 'greater': maxS, 'two-sided': max(minS, maxS)}\n",
    "    d_arg = alt2Dvalue[alternative]\n",
    "    return data_all[d_arg]\n",
    "\n",
    "print(\"The greatest difference in productivity occurs at:\", \n",
    "      ks_2samp_x(prod_m['prod'], prod_w['prod'], alternative='greater'))"
   ]
  },
  {
   "cell_type": "code",
   "execution_count": 23,
   "id": "3744e4cf",
   "metadata": {
    "ExecuteTime": {
     "end_time": "2022-08-28T07:12:30.588543Z",
     "start_time": "2022-08-28T07:12:30.486831Z"
    }
   },
   "outputs": [
    {
     "data": {
      "image/png": "[encoded data removed]",
      "text/plain": [
       "<Figure size 432x324 with 1 Axes>"
      ]
     },
     "metadata": {
      "needs_background": "light"
     },
     "output_type": "display_data"
    }
   ],
   "source": [
    "# Productivity CDF Plots\n",
    "fig, ax = plt.subplots(figsize=(6,4.5))\n",
    "right_side = ax.spines[\"right\"]\n",
    "top_side = ax.spines[\"top\"]\n",
    "right_side.set_visible(False)\n",
    "top_side.set_visible(False)\n",
    "\n",
    "# Men authors\n",
    "plt.plot(prod_m['prod'],1-cdf1, color='#67a9cf', lw=2)\n",
    "# Women authors\n",
    "plt.plot(prod_w['prod'],1-cdf2, color='#ef8a62', lw=2)\n",
    "\n",
    "plt.xlabel('Productivity', fontsize=20)\n",
    "plt.xticks(fontsize=20)\n",
    "plt.xlim(xmin=0, xmax=4)\n",
    "plt.ylabel('Probability', fontsize=20)\n",
    "plt.yticks(fontsize=20)\n",
    "plt.legend(['men', 'women'], loc='lower right', fontsize=20)\n",
    "plt.tight_layout()\n",
    "\n",
    "# Use the following xlim, ylim instead for zoomed-in plot\n",
    "plt.xlim(xmin=0.45, xmax=0.55)\n",
    "plt.ylim(ymin=0.16, ymax=0.28)\n",
    "plt.tight_layout()"
   ]
  },
  {
   "cell_type": "markdown",
   "id": "7ee2472d",
   "metadata": {},
   "source": [
    "### Dropout Rate Comparison"
   ]
  },
  {
   "cell_type": "code",
   "execution_count": 24,
   "id": "e88e1600",
   "metadata": {
    "ExecuteTime": {
     "end_time": "2022-08-28T07:12:30.600986Z",
     "start_time": "2022-08-28T07:12:30.589728Z"
    }
   },
   "outputs": [],
   "source": [
    "# exclude authors who enter APS publication after 2004\n",
    "# create scatterplot of dropout authors by career age\n",
    "\n",
    "dropout = prod[prod['year']['min'] < 2004].groupby(\n",
    "    ['gender', 'career_age'])['career_age'].count()\n",
    "\n",
    "dropout_m = dropout['male'].sort_index(ascending=False)\n",
    "dropout_w = dropout['female'].sort_index(ascending=False)"
   ]
  },
  {
   "cell_type": "code",
   "execution_count": 25,
   "id": "45315531",
   "metadata": {
    "ExecuteTime": {
     "end_time": "2022-08-28T07:12:30.699064Z",
     "start_time": "2022-08-28T07:12:30.601864Z"
    }
   },
   "outputs": [
    {
     "data": {
      "image/png": "[encoded data removed]",
      "text/plain": [
       "<Figure size 432x324 with 1 Axes>"
      ]
     },
     "metadata": {
      "needs_background": "light"
     },
     "output_type": "display_data"
    }
   ],
   "source": [
    "# Career Age vs. Proportion of Dropout (plot)\n",
    "\n",
    "fig, ax = plt.subplots(figsize=(6,4.5))\n",
    "right_side = ax.spines[\"right\"]\n",
    "top_side = ax.spines[\"top\"]\n",
    "right_side.set_visible(False)\n",
    "top_side.set_visible(False)\n",
    "\n",
    "# Men authors\n",
    "(dropout_m/dropout_m.cumsum()).iloc[::-1].plot(\n",
    "    style='.-', color='#67a9cf', lw=3)\n",
    "# Women authors\n",
    "(dropout_w/dropout_w.cumsum()).iloc[::-1].plot(\n",
    "    style='.-',color='#ef8a62', lw=3)\n",
    "\n",
    "plt.legend(('men', 'women'), loc='upper left', fontsize=20)\n",
    "plt.xlabel('Career Age', fontsize=20)\n",
    "plt.xlim(0,30)\n",
    "plt.ylabel('Proportion of Dropout', fontsize=20)\n",
    "plt.ylim(0, 0.2)\n",
    "plt.xticks(fontsize=20)\n",
    "plt.yticks(fontsize=20)\n",
    "\n",
    "plt.tight_layout()"
   ]
  },
  {
   "cell_type": "code",
   "execution_count": 26,
   "id": "e12d98bf",
   "metadata": {
    "ExecuteTime": {
     "end_time": "2022-08-28T07:12:30.705454Z",
     "start_time": "2022-08-28T07:12:30.700032Z"
    }
   },
   "outputs": [
    {
     "data": {
      "text/plain": [
       "career_age\n",
       "1    0.022800\n",
       "6    0.022590\n",
       "7    0.019358\n",
       "5    0.019054\n",
       "2    0.018596\n",
       "Name: career_age, dtype: float64"
      ]
     },
     "execution_count": 26,
     "metadata": {},
     "output_type": "execute_result"
    }
   ],
   "source": [
    "# dropout rate comparison\n",
    "\n",
    "do_comparison = (dropout_w/dropout_w.cumsum() - dropout_m/dropout_m.cumsum())\n",
    "do_comparison[:19].sort_values(ascending=False)[:5]"
   ]
  },
  {
   "cell_type": "markdown",
   "id": "45ea8b8d",
   "metadata": {},
   "source": [
    "### Career Age Analysis"
   ]
  },
  {
   "cell_type": "code",
   "execution_count": 27,
   "id": "4cb96d02",
   "metadata": {
    "ExecuteTime": {
     "end_time": "2022-08-28T07:12:48.024616Z",
     "start_time": "2022-08-28T07:12:30.706388Z"
    }
   },
   "outputs": [],
   "source": [
    "# Set up DataFrames for Career Age vs. Average number of publications\n",
    "# separated by gender\n",
    "\n",
    "subdata = paperdata.copy().drop(['order','doi','numAuthor',\n",
    "                                 'is_alpha','articleType','journal'],\n",
    "                    axis=1).sort_values(by=['id', 'year'])\n",
    "subdata[\"ca\"] = subdata.groupby(\"id\")[\"year\"].transform(lambda x: x - x.min())\n",
    "\n",
    "subdata_m = subdata[subdata['gender'] == 'male'].drop(\n",
    "    ['gender', 'year'], axis=1).groupby(['id', 'ca']).size().to_frame(\n",
    "    name='count').reset_index(level='id', drop=True).reset_index()\n",
    "\n",
    "subdata_w = subdata[subdata['gender'] == 'female'].drop(\n",
    "    ['gender', 'year'], axis=1).groupby(['id', 'ca']).size().to_frame(\n",
    "    name='count').reset_index(level='id', drop=True).reset_index()\n",
    "\n",
    "subdata_m = subdata_m.groupby(\"ca\").agg(\n",
    "    ['count', np.mean, np.std]).reset_index()\n",
    "subdata_w = subdata_w.groupby(\"ca\").agg(\n",
    "    ['count', np.mean, np.std]).reset_index()"
   ]
  },
  {
   "cell_type": "code",
   "execution_count": 28,
   "id": "4efd7951",
   "metadata": {
    "ExecuteTime": {
     "end_time": "2022-08-28T07:12:48.281161Z",
     "start_time": "2022-08-28T07:12:48.025781Z"
    }
   },
   "outputs": [],
   "source": [
    "# Calculate standard error for the shaded area in plots\n",
    "\n",
    "semlist1, semlist2 = [], []\n",
    "\n",
    "for i in range(len(subdata_m)):\n",
    "    semlist1.append(subdata_m[\"count\"]['std'][i]/sqrt(subdata_m[\"count\"]['count'][i]))\n",
    "subdata_m['sem'] = semlist1\n",
    "\n",
    "for i in range(len(subdata_w)):\n",
    "    semlist2.append(subdata_w[\"count\"]['std'][i]/sqrt(subdata_w[\"count\"]['count'][i]))\n",
    "subdata_w['sem'] = semlist2\n",
    "\n",
    "# Append to the existing DataFrames\n",
    "subdata_m = subdata_m.set_index('ca').reindex(range(\n",
    "    subdata_m.ca.min(),subdata_m.ca.max()+1)).fillna(np.nan).reset_index()\n",
    "subdata_w = subdata_w.set_index('ca').reindex(range(\n",
    "    subdata_w.ca.min(),subdata_w.ca.max()+1)).fillna(np.nan).reset_index()"
   ]
  },
  {
   "cell_type": "code",
   "execution_count": 29,
   "id": "e5c6f95a",
   "metadata": {
    "ExecuteTime": {
     "end_time": "2022-08-28T07:12:48.390558Z",
     "start_time": "2022-08-28T07:12:48.282549Z"
    }
   },
   "outputs": [
    {
     "data": {
      "image/png": "[encoded data removed]",
      "text/plain": [
       "<Figure size 432x324 with 1 Axes>"
      ]
     },
     "metadata": {
      "needs_background": "light"
     },
     "output_type": "display_data"
    }
   ],
   "source": [
    "# Career age vs. Average number of publications (plot)\n",
    "\n",
    "fig, ax = plt.subplots(figsize=(6,4.5))\n",
    "right_side = ax.spines[\"right\"]\n",
    "top_side = ax.spines[\"top\"]\n",
    "right_side.set_visible(False)\n",
    "top_side.set_visible(False)\n",
    "\n",
    "# Men authors\n",
    "plt.plot(subdata_m.ca,subdata_m[\"count\"][\"mean\"],\"-\",label=\"men\",\n",
    "         color='#67a9cf', lw=3)\n",
    "\n",
    "# shading the SE area (man)\n",
    "X  = np.linspace(min(subdata_m.ca),max(subdata_m.ca),subdata_m.ca.nunique())\n",
    "plt.fill_between(X,\n",
    "                 subdata_m[\"count\"][\"mean\"] + subdata_m[\"sem\"],\n",
    "                 subdata_m[\"count\"][\"mean\"] - subdata_m[\"sem\"],\n",
    "                 color='C0',alpha=.4,edgecolor=\"none\")\n",
    "\n",
    "# Women authors\n",
    "plt.plot(subdata_w.ca,subdata_w[\"count\"][\"mean\"],\"-\",label=\"women\",\n",
    "         color='#ef8a62', lw=3)\n",
    "\n",
    "# shading the SE area (woman)\n",
    "X  = np.linspace(min(subdata_w.ca),max(subdata_w.ca),subdata_w.ca.nunique())\n",
    "plt.fill_between(X,\n",
    "                 subdata_w[\"count\"][\"mean\"] + subdata_w[\"sem\"],\n",
    "                 subdata_w[\"count\"][\"mean\"] - subdata_w[\"sem\"],\n",
    "                 color='C1',alpha=.4,edgecolor=\"none\")\n",
    "\n",
    "plt.xticks(fontsize=20)\n",
    "plt.yticks(fontsize=20)\n",
    "plt.xlabel(\"Career Age\",fontsize=20)\n",
    "plt.ylabel(\"Average Number of\\n Publications\",fontsize=20)\n",
    "plt.xlim(xmin=0, xmax=30)\n",
    "plt.ylim(ymin=1, ymax=3)\n",
    "plt.legend(loc='upper left', fontsize=20)\n",
    "\n",
    "plt.tight_layout()"
   ]
  }
 ],
 "metadata": {
  "kernelspec": {
   "display_name": "Python 3",
   "language": "python",
   "name": "python3"
  },
  "language_info": {
   "codemirror_mode": {
    "name": "ipython",
    "version": 3
   },
   "file_extension": ".py",
   "mimetype": "text/x-python",
   "name": "python",
   "nbconvert_exporter": "python",
   "pygments_lexer": "ipython3",
   "version": "3.8.8"
  }
 },
 "nbformat": 4,
 "nbformat_minor": 5
}
