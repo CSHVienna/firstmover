{
 "cells": [
  {
   "cell_type": "code",
   "execution_count": 14,
   "id": "c66b2344",
   "metadata": {
    "ExecuteTime": {
     "end_time": "2022-08-28T07:35:38.126592Z",
     "start_time": "2022-08-28T07:35:37.924961Z"
    }
   },
   "outputs": [],
   "source": [
    "# import necessary packages\n",
    "\n",
    "import pandas as pd\n",
    "import numpy as np\n",
    "import matplotlib.pyplot as plt\n",
    "import seaborn as sns\n",
    "\n",
    "import networkx as nx\n",
    "import warnings\n",
    "warnings.filterwarnings(\"ignore\")\n",
    "\n",
    "import os\n",
    "\n",
    "path = os.getcwd()\n",
    "os.chdir(f\"{path}\")"
   ]
  },
  {
   "cell_type": "code",
   "execution_count": 2,
   "id": "74669cad",
   "metadata": {
    "ExecuteTime": {
     "end_time": "2022-08-28T07:30:57.558105Z",
     "start_time": "2022-08-28T07:30:48.060294Z"
    }
   },
   "outputs": [],
   "source": [
    "# import necessary data\n",
    "\n",
    "paperdata = pd.read_csv(\"../Data/paperdata.csv\")\n",
    "cb = pd.read_csv(\"../Data/citationBara.csv\")\n",
    "primdata = pd.read_csv(\"../Data/primdata.csv\")\n",
    "lastdata = pd.read_csv(\"../Data/lastdata.csv\")"
   ]
  },
  {
   "cell_type": "markdown",
   "id": "03bc2c55",
   "metadata": {},
   "source": [
    "# Network Analyses"
   ]
  },
  {
   "cell_type": "code",
   "execution_count": 3,
   "id": "3ed3805e",
   "metadata": {
    "ExecuteTime": {
     "end_time": "2022-08-28T07:31:24.258418Z",
     "start_time": "2022-08-28T07:31:19.283465Z"
    }
   },
   "outputs": [
    {
     "data": {
      "text/html": [
       "<div>\n",
       "<style scoped>\n",
       "    .dataframe tbody tr th:only-of-type {\n",
       "        vertical-align: middle;\n",
       "    }\n",
       "\n",
       "    .dataframe tbody tr th {\n",
       "        vertical-align: top;\n",
       "    }\n",
       "\n",
       "    .dataframe thead th {\n",
       "        text-align: right;\n",
       "    }\n",
       "</style>\n",
       "<table border=\"1\" class=\"dataframe\">\n",
       "  <thead>\n",
       "    <tr style=\"text-align: right;\">\n",
       "      <th></th>\n",
       "      <th>citing_doi</th>\n",
       "      <th>citing_year</th>\n",
       "      <th>cited_doi</th>\n",
       "    </tr>\n",
       "  </thead>\n",
       "  <tbody>\n",
       "    <tr>\n",
       "      <th>120191</th>\n",
       "      <td>10.1103/PhysRev.21.250</td>\n",
       "      <td>1923</td>\n",
       "      <td>10.1103/PhysRev.1.124</td>\n",
       "    </tr>\n",
       "    <tr>\n",
       "      <th>123113</th>\n",
       "      <td>10.1103/PhysRev.40.281</td>\n",
       "      <td>1932</td>\n",
       "      <td>10.1103/PhysRev.1.124</td>\n",
       "    </tr>\n",
       "    <tr>\n",
       "      <th>120140</th>\n",
       "      <td>10.1103/PhysRev.2.109</td>\n",
       "      <td>1913</td>\n",
       "      <td>10.1103/PhysRev.1.124</td>\n",
       "    </tr>\n",
       "    <tr>\n",
       "      <th>144119</th>\n",
       "      <td>10.1103/PhysRev.8.738</td>\n",
       "      <td>1916</td>\n",
       "      <td>10.1103/PhysRev.1.124</td>\n",
       "    </tr>\n",
       "    <tr>\n",
       "      <th>2739988</th>\n",
       "      <td>10.1103/PhysRevSeriesI.2.1</td>\n",
       "      <td>1894</td>\n",
       "      <td>10.1103/PhysRev.1.2</td>\n",
       "    </tr>\n",
       "  </tbody>\n",
       "</table>\n",
       "</div>"
      ],
      "text/plain": [
       "                         citing_doi  citing_year              cited_doi\n",
       "120191       10.1103/PhysRev.21.250         1923  10.1103/PhysRev.1.124\n",
       "123113       10.1103/PhysRev.40.281         1932  10.1103/PhysRev.1.124\n",
       "120140        10.1103/PhysRev.2.109         1913  10.1103/PhysRev.1.124\n",
       "144119        10.1103/PhysRev.8.738         1916  10.1103/PhysRev.1.124\n",
       "2739988  10.1103/PhysRevSeriesI.2.1         1894    10.1103/PhysRev.1.2"
      ]
     },
     "execution_count": 3,
     "metadata": {},
     "output_type": "execute_result"
    }
   ],
   "source": [
    "### DataFrame: {citing_doi, citing_year, cited_doi}\n",
    "\n",
    "#### If primary author analysis\n",
    "citinfo = primdata[[\"doi\", \"year\"]].drop_duplicates(subset = 'doi')\n",
    "\n",
    "#### If last author analysis\n",
    "# citinfo = lastdata[[\"doi\", \"year\"]].drop_duplicates(subset = 'doi')\n",
    "\n",
    "cols = ['citing_doi', 'citing_year', 'cited_doi']\n",
    "\n",
    "citinfo = citinfo.merge(cb, left_on = 'doi', right_on = 'citing_doi',\n",
    "              how = 'inner').drop(['doi'], axis=1).rename(\n",
    "                  {'year': 'citing_year'}, axis=1).reindex(\n",
    "                      columns=cols).sort_values('cited_doi')\n",
    "\n",
    "citinfo.head()"
   ]
  },
  {
   "cell_type": "markdown",
   "id": "9d1dea74",
   "metadata": {},
   "source": [
    "## Self-citation Analysis"
   ]
  },
  {
   "cell_type": "code",
   "execution_count": 4,
   "id": "ef43bf54",
   "metadata": {
    "ExecuteTime": {
     "end_time": "2022-08-28T07:31:55.390122Z",
     "start_time": "2022-08-28T07:31:26.613863Z"
    }
   },
   "outputs": [
    {
     "name": "stdout",
     "output_type": "stream",
     "text": [
      "16136416\n"
     ]
    },
    {
     "data": {
      "text/html": [
       "<div>\n",
       "<style scoped>\n",
       "    .dataframe tbody tr th:only-of-type {\n",
       "        vertical-align: middle;\n",
       "    }\n",
       "\n",
       "    .dataframe tbody tr th {\n",
       "        vertical-align: top;\n",
       "    }\n",
       "\n",
       "    .dataframe thead th {\n",
       "        text-align: right;\n",
       "    }\n",
       "</style>\n",
       "<table border=\"1\" class=\"dataframe\">\n",
       "  <thead>\n",
       "    <tr style=\"text-align: right;\">\n",
       "      <th></th>\n",
       "      <th>citing_doi</th>\n",
       "      <th>citing_year</th>\n",
       "      <th>cited_doi</th>\n",
       "      <th>citing_id</th>\n",
       "      <th>citing_gender</th>\n",
       "      <th>cited_id</th>\n",
       "    </tr>\n",
       "  </thead>\n",
       "  <tbody>\n",
       "    <tr>\n",
       "      <th>0</th>\n",
       "      <td>10.1103/PhysRev.21.250</td>\n",
       "      <td>1923</td>\n",
       "      <td>10.1103/PhysRev.1.124</td>\n",
       "      <td>212878</td>\n",
       "      <td>male</td>\n",
       "      <td>106864</td>\n",
       "    </tr>\n",
       "    <tr>\n",
       "      <th>1</th>\n",
       "      <td>10.1103/PhysRev.40.281</td>\n",
       "      <td>1932</td>\n",
       "      <td>10.1103/PhysRev.1.124</td>\n",
       "      <td>211997</td>\n",
       "      <td>male</td>\n",
       "      <td>106864</td>\n",
       "    </tr>\n",
       "    <tr>\n",
       "      <th>2</th>\n",
       "      <td>10.1103/PhysRev.2.109</td>\n",
       "      <td>1913</td>\n",
       "      <td>10.1103/PhysRev.1.124</td>\n",
       "      <td>109426</td>\n",
       "      <td>male</td>\n",
       "      <td>106864</td>\n",
       "    </tr>\n",
       "    <tr>\n",
       "      <th>3</th>\n",
       "      <td>10.1103/PhysRev.8.738</td>\n",
       "      <td>1916</td>\n",
       "      <td>10.1103/PhysRev.1.124</td>\n",
       "      <td>165511</td>\n",
       "      <td>female</td>\n",
       "      <td>106864</td>\n",
       "    </tr>\n",
       "    <tr>\n",
       "      <th>4</th>\n",
       "      <td>10.1103/PhysRev.21.250</td>\n",
       "      <td>1923</td>\n",
       "      <td>10.1103/PhysRev.17.354</td>\n",
       "      <td>212878</td>\n",
       "      <td>male</td>\n",
       "      <td>94158</td>\n",
       "    </tr>\n",
       "  </tbody>\n",
       "</table>\n",
       "</div>"
      ],
      "text/plain": [
       "               citing_doi  citing_year               cited_doi  citing_id  \\\n",
       "0  10.1103/PhysRev.21.250         1923   10.1103/PhysRev.1.124     212878   \n",
       "1  10.1103/PhysRev.40.281         1932   10.1103/PhysRev.1.124     211997   \n",
       "2   10.1103/PhysRev.2.109         1913   10.1103/PhysRev.1.124     109426   \n",
       "3   10.1103/PhysRev.8.738         1916   10.1103/PhysRev.1.124     165511   \n",
       "4  10.1103/PhysRev.21.250         1923  10.1103/PhysRev.17.354     212878   \n",
       "\n",
       "  citing_gender  cited_id  \n",
       "0          male    106864  \n",
       "1          male    106864  \n",
       "2          male    106864  \n",
       "3        female    106864  \n",
       "4          male     94158  "
      ]
     },
     "execution_count": 4,
     "metadata": {},
     "output_type": "execute_result"
    }
   ],
   "source": [
    "# creating all citation dataset with gender information\n",
    "\n",
    "self1 = citinfo.copy()\n",
    "self2 = paperdata[['doi','id','gender']]\n",
    "\n",
    "selfinfo = self1.merge(self2, left_on='citing_doi', right_on='doi').drop(\n",
    "    ['doi'], axis=1).drop_duplicates().reset_index(drop=True)\n",
    "selfinfo.columns = ['citing_doi', 'citing_year', 'cited_doi', 'citing_id', 'citing_gender']\n",
    "\n",
    "selfinfo = selfinfo.merge(self2, left_on='cited_doi', right_on='doi').drop(\n",
    "    ['doi', 'gender'], axis=1).drop_duplicates().reset_index(drop=True)\n",
    "selfinfo.columns = ['citing_doi', 'citing_year', 'cited_doi', 'citing_id', 'citing_gender', 'cited_id']\n",
    "\n",
    "print(len(selfinfo))\n",
    "selfinfo.head()"
   ]
  },
  {
   "cell_type": "code",
   "execution_count": 5,
   "id": "e1e28125",
   "metadata": {
    "ExecuteTime": {
     "end_time": "2022-08-28T07:32:13.285157Z",
     "start_time": "2022-08-28T07:32:01.788294Z"
    }
   },
   "outputs": [],
   "source": [
    "# create a DataFrame with self-citing authors by gender\n",
    "\n",
    "# all sample (population)\n",
    "pop = selfinfo.copy().groupby(['citing_year'])['citing_year'].count()\n",
    "\n",
    "# men authors\n",
    "mpop = selfinfo.copy().loc[selfinfo['citing_gender'] == 'male'].groupby(\n",
    "    ['citing_year'])['citing_year'].count()\n",
    "\n",
    "# women authors\n",
    "wpop = selfinfo.copy().loc[selfinfo['citing_gender'] == 'female'].groupby(\n",
    "    ['citing_year'])['citing_year'].count()\n",
    "\n",
    "# self citing authors\n",
    "selfcit = selfinfo.copy().loc[selfinfo['citing_id'] == selfinfo['cited_id']].groupby(\n",
    "    ['citing_year'])['citing_year'].count()\n",
    "\n",
    "# men self citing authors\n",
    "m_sc = selfinfo.copy().loc[(selfinfo['citing_id'] == selfinfo['cited_id']) &\n",
    "                   (selfinfo['citing_gender'] == 'male')].groupby(\n",
    "                       ['citing_year'])['citing_year'].count()\n",
    "# women self citing authors\n",
    "w_sc = selfinfo.copy().loc[(selfinfo['citing_id'] == selfinfo['cited_id']) & \n",
    "                     (selfinfo['citing_gender'] == 'female')].groupby(\n",
    "                         ['citing_year'])['citing_year'].count()\n",
    "\n",
    "# missing values to 0\n",
    "pop[np.isnan(pop)] = 0\n",
    "mpop[np.isnan(mpop)] = 0\n",
    "wpop[np.isnan(wpop)] = 0\n",
    "selfcit[np.isnan(selfcit)] = 0\n",
    "m_sc[np.isnan(m_sc)] = 0\n",
    "w_sc[np.isnan(w_sc)] = 0"
   ]
  },
  {
   "cell_type": "code",
   "execution_count": 6,
   "id": "6c0573f8",
   "metadata": {
    "ExecuteTime": {
     "end_time": "2022-08-28T07:32:31.197157Z",
     "start_time": "2022-08-28T07:32:31.179561Z"
    }
   },
   "outputs": [
    {
     "name": "stdout",
     "output_type": "stream",
     "text": [
      "Total # of citations:  16136416\n",
      "Total # of citations by men:  14283295\n",
      "Proportion of men citation:  0.8852\n",
      "Total # of citations by women:  1853121\n",
      "Proportion of women citation:  0.1148\n",
      "\n",
      "Total # of self-citations:  655514\n",
      "Total # of self-citations by men:  596628\n",
      "Proportion of men self-citation:  0.9102\n",
      "Total # of self-citations by women:  58886\n",
      "Proportion of women self-citation:  0.0898\n",
      "\n",
      "Self-citation ratio:  4.06 %\n",
      "Men's self-citation ratio:  4.18 %\n",
      "Women's self-citation ratio:  3.18 %\n"
     ]
    }
   ],
   "source": [
    "# self-citation statistics per citation\n",
    "\n",
    "print(\"Total # of citations: \", sum(pop))\n",
    "print(\"Total # of citations by men: \", sum(mpop))\n",
    "print(\"Proportion of men citation: \", format(sum(mpop)/sum(pop), \".4f\"))\n",
    "print(\"Total # of citations by women: \", sum(wpop))\n",
    "print(\"Proportion of women citation: \", format(sum(wpop)/sum(pop), \".4f\"))\n",
    "print(\"\")\n",
    "print(\"Total # of self-citations: \", sum(selfcit))\n",
    "print(\"Total # of self-citations by men: \", sum(m_sc))\n",
    "print(\"Proportion of men self-citation: \", format(sum(m_sc)/sum(selfcit), \".4f\"))\n",
    "print(\"Total # of self-citations by women: \", sum(w_sc))\n",
    "print(\"Proportion of women self-citation: \", format(sum(w_sc)/sum(selfcit), \".4f\"))\n",
    "print(\"\")\n",
    "print(\"Self-citation ratio: \", format(sum(selfcit)/sum(pop) * 100, \".2f\"), \"%\")\n",
    "print(\"Men's self-citation ratio: \", format(sum(m_sc)/sum(mpop) * 100, \".2f\"), \"%\")\n",
    "print(\"Women's self-citation ratio: \", format(sum(w_sc)/sum(wpop) * 100, \".2f\"), \"%\")"
   ]
  },
  {
   "cell_type": "code",
   "execution_count": 7,
   "id": "0f122b19",
   "metadata": {
    "ExecuteTime": {
     "end_time": "2022-08-28T07:32:53.213809Z",
     "start_time": "2022-08-28T07:32:49.087163Z"
    }
   },
   "outputs": [
    {
     "name": "stdout",
     "output_type": "stream",
     "text": [
      "Total # of observed authors:  105926\n",
      "Total # of observed men authors:  90559\n",
      "Proportion of observed men authors:  0.8549\n",
      "Total # of observed women authors:  15367\n",
      "Proportion of observed women authors:  0.1451\n",
      "\n",
      "Total # of observed self-citing authors:  52978\n",
      "Total # of observed self-citing men authors:  46354\n",
      "Proportion of observed self-citing men authors:  0.8750\n",
      "Total # of observed self-citing women authors:  6624\n",
      "Proportion of observed self-citing women authors:  0.1250\n",
      "\n",
      "Self-citation ratio (per author):  50.01 %\n",
      "Men's self-citation ratio (per author):  51.19 %\n",
      "Women's self-citation ratio (per author):  43.11 %\n"
     ]
    }
   ],
   "source": [
    "# self-citation statistics per author\n",
    "\n",
    "observed = selfinfo.citing_id.nunique()\n",
    "observed_m = selfinfo.query('citing_gender == \"male\"').citing_id.nunique()\n",
    "observed_w = selfinfo.query('citing_gender == \"female\"').citing_id.nunique()\n",
    "\n",
    "selfcit_author = selfinfo.query('citing_id == cited_id').citing_id.nunique()\n",
    "selfcit_author_m = selfinfo.query(\n",
    "    'citing_id == cited_id & citing_gender == \"male\"').citing_id.nunique()\n",
    "selfcit_author_w = selfinfo.query(\n",
    "    'citing_id == cited_id & citing_gender == \"female\"').citing_id.nunique()\n",
    "\n",
    "print(\"Total # of observed authors: \", observed)\n",
    "print(\"Total # of observed men authors: \", observed_m)\n",
    "print(\"Proportion of observed men authors: \", format(observed_m/observed, \".4f\"))\n",
    "print(\"Total # of observed women authors: \", observed_w)\n",
    "print(\"Proportion of observed women authors: \", format(observed_w/observed, \".4f\"))\n",
    "print(\"\")\n",
    "print(\"Total # of observed self-citing authors: \", selfcit_author)\n",
    "print(\"Total # of observed self-citing men authors: \", selfcit_author_m)\n",
    "print(\"Proportion of observed self-citing men authors: \", format(selfcit_author_m/selfcit_author, \".4f\"))\n",
    "print(\"Total # of observed self-citing women authors: \", selfcit_author_w)\n",
    "print(\"Proportion of observed self-citing women authors: \", format(selfcit_author_w/selfcit_author, \".4f\"))\n",
    "print(\"\")\n",
    "print(\"Self-citation ratio (per author): \", format(selfcit_author/observed * 100, \".2f\"), \"%\")\n",
    "print(\"Men's self-citation ratio (per author): \", format(selfcit_author_m/observed_m * 100, \".2f\"), \"%\")\n",
    "print(\"Women's self-citation ratio (per author): \", format(selfcit_author_w/observed_w * 100, \".2f\"), \"%\")"
   ]
  },
  {
   "cell_type": "code",
   "execution_count": 8,
   "id": "86b8b5a9",
   "metadata": {
    "ExecuteTime": {
     "end_time": "2022-08-28T07:33:01.181366Z",
     "start_time": "2022-08-28T07:33:00.965785Z"
    }
   },
   "outputs": [
    {
     "data": {
      "image/png": "[encoded data removed]",
      "text/plain": [
       "<Figure size 432x324 with 1 Axes>"
      ]
     },
     "metadata": {
      "needs_background": "light"
     },
     "output_type": "display_data"
    }
   ],
   "source": [
    "# calculate r-value\n",
    "r1 = ((m_sc/selfcit)/(w_sc/selfcit))\n",
    "r2 = ((wpop/pop)/(mpop/pop))\n",
    "r = r1*r2\n",
    "\n",
    "# create r-value plot\n",
    "fig, ax = plt.subplots(figsize=(6,4.5))\n",
    "right_side = ax.spines[\"right\"]\n",
    "top_side = ax.spines[\"top\"]\n",
    "right_side.set_visible(False)\n",
    "top_side.set_visible(False)\n",
    "\n",
    "r.plot(style='.-', color='black', lw=3)\n",
    "\n",
    "plt.xlabel('Year', fontsize=20)\n",
    "plt.xlim(xmin=1950)\n",
    "# plt.xlim(xmin=1960)\n",
    "plt.xlim(xmax=2010)\n",
    "plt.ylabel('Men / women\\n self-citation bias (r)', fontsize=20)\n",
    "# plt.ylim(ymin=0.5,ymax=3.5)\n",
    "plt.ylim(ymin=0.5,ymax=3)\n",
    "plt.hlines(1,xmin=1903,xmax=2010,linestyles='dashed', lw=3)\n",
    "\n",
    "plt.xticks(fontsize=20, rotation=45)\n",
    "plt.yticks(fontsize=20)\n",
    "plt.tight_layout()"
   ]
  },
  {
   "cell_type": "markdown",
   "id": "92e29e05",
   "metadata": {},
   "source": [
    "## Degree & PageRank Centrality Statistics"
   ]
  },
  {
   "cell_type": "markdown",
   "id": "6d2c61c0",
   "metadata": {},
   "source": [
    "### Degree Centrality Proportion of Women Authors"
   ]
  },
  {
   "cell_type": "code",
   "execution_count": 9,
   "id": "96811208",
   "metadata": {
    "ExecuteTime": {
     "end_time": "2022-08-28T07:33:14.238972Z",
     "start_time": "2022-08-28T07:33:13.296766Z"
    }
   },
   "outputs": [
    {
     "data": {
      "text/html": [
       "<div>\n",
       "<style scoped>\n",
       "    .dataframe tbody tr th:only-of-type {\n",
       "        vertical-align: middle;\n",
       "    }\n",
       "\n",
       "    .dataframe tbody tr th {\n",
       "        vertical-align: top;\n",
       "    }\n",
       "\n",
       "    .dataframe thead th {\n",
       "        text-align: right;\n",
       "    }\n",
       "</style>\n",
       "<table border=\"1\" class=\"dataframe\">\n",
       "  <thead>\n",
       "    <tr style=\"text-align: right;\">\n",
       "      <th></th>\n",
       "      <th>centrality</th>\n",
       "      <th>doi</th>\n",
       "      <th>id</th>\n",
       "      <th>gender</th>\n",
       "      <th>order</th>\n",
       "      <th>numAuthor</th>\n",
       "      <th>is_alpha</th>\n",
       "      <th>year</th>\n",
       "      <th>articleType</th>\n",
       "      <th>journal</th>\n",
       "      <th>...</th>\n",
       "      <th>pacs10</th>\n",
       "      <th>pacs20</th>\n",
       "      <th>pacs30</th>\n",
       "      <th>pacs40</th>\n",
       "      <th>pacs50</th>\n",
       "      <th>pacs60</th>\n",
       "      <th>pacs70</th>\n",
       "      <th>pacs80</th>\n",
       "      <th>pacs90</th>\n",
       "      <th>yeard</th>\n",
       "    </tr>\n",
       "  </thead>\n",
       "  <tbody>\n",
       "    <tr>\n",
       "      <th>16644</th>\n",
       "      <td>5214</td>\n",
       "      <td>10.1103/PhysRev.140.A1133</td>\n",
       "      <td>219005</td>\n",
       "      <td>male</td>\n",
       "      <td>1</td>\n",
       "      <td>2</td>\n",
       "      <td>False</td>\n",
       "      <td>1965</td>\n",
       "      <td>article</td>\n",
       "      <td>PR</td>\n",
       "      <td>...</td>\n",
       "      <td>0</td>\n",
       "      <td>0</td>\n",
       "      <td>0</td>\n",
       "      <td>0</td>\n",
       "      <td>0</td>\n",
       "      <td>0</td>\n",
       "      <td>0</td>\n",
       "      <td>0</td>\n",
       "      <td>0</td>\n",
       "      <td>45</td>\n",
       "    </tr>\n",
       "    <tr>\n",
       "      <th>14878</th>\n",
       "      <td>4100</td>\n",
       "      <td>10.1103/PhysRev.136.B864</td>\n",
       "      <td>12626</td>\n",
       "      <td>male</td>\n",
       "      <td>1</td>\n",
       "      <td>2</td>\n",
       "      <td>False</td>\n",
       "      <td>1964</td>\n",
       "      <td>article</td>\n",
       "      <td>PR</td>\n",
       "      <td>...</td>\n",
       "      <td>0</td>\n",
       "      <td>0</td>\n",
       "      <td>0</td>\n",
       "      <td>0</td>\n",
       "      <td>0</td>\n",
       "      <td>0</td>\n",
       "      <td>0</td>\n",
       "      <td>0</td>\n",
       "      <td>0</td>\n",
       "      <td>46</td>\n",
       "    </tr>\n",
       "    <tr>\n",
       "      <th>151045</th>\n",
       "      <td>2519</td>\n",
       "      <td>10.1103/PhysRevB.13.5188</td>\n",
       "      <td>133666</td>\n",
       "      <td>male</td>\n",
       "      <td>1</td>\n",
       "      <td>2</td>\n",
       "      <td>False</td>\n",
       "      <td>1976</td>\n",
       "      <td>article</td>\n",
       "      <td>PRB</td>\n",
       "      <td>...</td>\n",
       "      <td>0</td>\n",
       "      <td>0</td>\n",
       "      <td>0</td>\n",
       "      <td>0</td>\n",
       "      <td>0</td>\n",
       "      <td>0</td>\n",
       "      <td>0</td>\n",
       "      <td>0</td>\n",
       "      <td>0</td>\n",
       "      <td>34</td>\n",
       "    </tr>\n",
       "    <tr>\n",
       "      <th>258027</th>\n",
       "      <td>2337</td>\n",
       "      <td>10.1103/PhysRevB.54.11169</td>\n",
       "      <td>157378</td>\n",
       "      <td>male</td>\n",
       "      <td>1</td>\n",
       "      <td>2</td>\n",
       "      <td>False</td>\n",
       "      <td>1996</td>\n",
       "      <td>article</td>\n",
       "      <td>PRB</td>\n",
       "      <td>...</td>\n",
       "      <td>0</td>\n",
       "      <td>0</td>\n",
       "      <td>0</td>\n",
       "      <td>0</td>\n",
       "      <td>0</td>\n",
       "      <td>0</td>\n",
       "      <td>1</td>\n",
       "      <td>0</td>\n",
       "      <td>0</td>\n",
       "      <td>14</td>\n",
       "    </tr>\n",
       "    <tr>\n",
       "      <th>3428</th>\n",
       "      <td>1679</td>\n",
       "      <td>10.1103/PhysRev.108.1175</td>\n",
       "      <td>165388</td>\n",
       "      <td>male</td>\n",
       "      <td>1</td>\n",
       "      <td>3</td>\n",
       "      <td>False</td>\n",
       "      <td>1957</td>\n",
       "      <td>article</td>\n",
       "      <td>PR</td>\n",
       "      <td>...</td>\n",
       "      <td>0</td>\n",
       "      <td>0</td>\n",
       "      <td>0</td>\n",
       "      <td>0</td>\n",
       "      <td>0</td>\n",
       "      <td>0</td>\n",
       "      <td>0</td>\n",
       "      <td>0</td>\n",
       "      <td>0</td>\n",
       "      <td>53</td>\n",
       "    </tr>\n",
       "  </tbody>\n",
       "</table>\n",
       "<p>5 rows × 21 columns</p>\n",
       "</div>"
      ],
      "text/plain": [
       "        centrality                        doi      id gender  order  \\\n",
       "16644         5214  10.1103/PhysRev.140.A1133  219005   male      1   \n",
       "14878         4100   10.1103/PhysRev.136.B864   12626   male      1   \n",
       "151045        2519   10.1103/PhysRevB.13.5188  133666   male      1   \n",
       "258027        2337  10.1103/PhysRevB.54.11169  157378   male      1   \n",
       "3428          1679   10.1103/PhysRev.108.1175  165388   male      1   \n",
       "\n",
       "        numAuthor  is_alpha  year articleType journal  ...  pacs10  pacs20  \\\n",
       "16644           2     False  1965     article      PR  ...       0       0   \n",
       "14878           2     False  1964     article      PR  ...       0       0   \n",
       "151045          2     False  1976     article     PRB  ...       0       0   \n",
       "258027          2     False  1996     article     PRB  ...       0       0   \n",
       "3428            3     False  1957     article      PR  ...       0       0   \n",
       "\n",
       "        pacs30  pacs40  pacs50  pacs60  pacs70  pacs80  pacs90  yeard  \n",
       "16644        0       0       0       0       0       0       0     45  \n",
       "14878        0       0       0       0       0       0       0     46  \n",
       "151045       0       0       0       0       0       0       0     34  \n",
       "258027       0       0       0       0       1       0       0     14  \n",
       "3428         0       0       0       0       0       0       0     53  \n",
       "\n",
       "[5 rows x 21 columns]"
      ]
     },
     "execution_count": 9,
     "metadata": {},
     "output_type": "execute_result"
    }
   ],
   "source": [
    "# exclude alphabetically ordered papers\n",
    "# only consider first authors\n",
    "degcen = paperdata.query('is_alpha == False & order == 1')\n",
    "\n",
    "# calculate degree centrality per paper\n",
    "vc = cb['cited_doi'].value_counts()\n",
    "cb_sub = vc[vc.to_numpy() > 0].to_frame()\n",
    "\n",
    "# create a DataFrame with degree centrality\n",
    "cited = pd.merge(cb_sub, degcen, left_index = True, right_on = 'doi').rename(\n",
    "    columns = {'cited_doi': 'centrality'})\n",
    "cited['yeard'] = 2010-cited['year']\n",
    "cited.head()"
   ]
  },
  {
   "cell_type": "code",
   "execution_count": 10,
   "id": "124402a9",
   "metadata": {
    "ExecuteTime": {
     "end_time": "2022-08-28T07:33:18.040923Z",
     "start_time": "2022-08-28T07:33:17.791703Z"
    }
   },
   "outputs": [
    {
     "name": "stdout",
     "output_type": "stream",
     "text": [
      "Top 10% Centrality (25+):  24272\n",
      "Men in Top 10% (25+):  22191\n",
      "Women in Top 10% (25+):  2081\n",
      "\n",
      "Top 20% Centrality (15+):  47843\n",
      "Men in Top 20% (15+):  43534\n",
      "Women in Top 20% (15+):  4309\n",
      "\n",
      "Top 30% Centrality (10+):  73964\n",
      "Men in Top 30% (10+):  67025\n",
      "Women in Top 30% (10+):  6939\n",
      "\n",
      "Top 40% Centrality (7+):  101289\n",
      "Men in Top 40% (7+):  91376\n",
      "Women in Top 40% (7+):  9913\n"
     ]
    }
   ],
   "source": [
    "# Top k% degree centrality basic statistics\n",
    "\n",
    "print(f\"Top 10% Centrality ({cb_sub.cited_doi[len(cb_sub)//10]}+): \", \n",
    "      len(cited[cited['centrality'] >= cb_sub.cited_doi[len(cb_sub)//10]]))\n",
    "print(f\"Men in Top 10% ({cb_sub.cited_doi[len(cb_sub)//10]}+): \",\n",
    "      len(cited[(cited['centrality'] >= cb_sub.cited_doi[len(cb_sub)//10]) & (cited['gender'] == \"male\")]))\n",
    "print(f\"Women in Top 10% ({cb_sub.cited_doi[len(cb_sub)//10]}+): \", \n",
    "      len(cited[(cited['centrality'] >= cb_sub.cited_doi[len(cb_sub)//10]) & (cited['gender'] == \"female\")]))\n",
    "print(\"\")\n",
    "print(f\"Top 20% Centrality ({cb_sub.cited_doi[len(cb_sub)//10 * 2]}+): \", \n",
    "      len(cited[cited['centrality'] >= cb_sub.cited_doi[len(cb_sub)//10 * 2]]))\n",
    "print(f\"Men in Top 20% ({cb_sub.cited_doi[len(cb_sub)//10 * 2]}+): \",\n",
    "      len(cited[(cited['centrality'] >= cb_sub.cited_doi[len(cb_sub)//10 * 2]) & (cited['gender'] == \"male\")]))\n",
    "print(f\"Women in Top 20% ({cb_sub.cited_doi[len(cb_sub)//10 * 2]}+): \", \n",
    "      len(cited[(cited['centrality'] >= cb_sub.cited_doi[len(cb_sub)//10 * 2]) & (cited['gender'] == \"female\")]))\n",
    "print(\"\")\n",
    "print(f\"Top 30% Centrality ({cb_sub.cited_doi[len(cb_sub)//10 * 3]}+): \", \n",
    "      len(cited[cited['centrality'] >= cb_sub.cited_doi[len(cb_sub)//10 * 3]]))\n",
    "print(f\"Men in Top 30% ({cb_sub.cited_doi[len(cb_sub)//10 * 3]}+): \",\n",
    "      len(cited[(cited['centrality'] >= cb_sub.cited_doi[len(cb_sub)//10 * 3]) & (cited['gender'] == \"male\")]))\n",
    "print(f\"Women in Top 30% ({cb_sub.cited_doi[len(cb_sub)//10 * 3]}+): \", \n",
    "      len(cited[(cited['centrality'] >= cb_sub.cited_doi[len(cb_sub)//10 * 3]) & (cited['gender'] == \"female\")]))\n",
    "print(\"\")\n",
    "print(f\"Top 40% Centrality ({cb_sub.cited_doi[len(cb_sub)//10 * 4]}+): \", \n",
    "      len(cited[cited['centrality'] >= cb_sub.cited_doi[len(cb_sub)//10 * 4]]))\n",
    "print(f\"Men in Top 40% ({cb_sub.cited_doi[len(cb_sub)//10 * 4]}+): \",\n",
    "      len(cited[(cited['centrality'] >= cb_sub.cited_doi[len(cb_sub)//10 * 4]) & (cited['gender'] == \"male\")]))\n",
    "print(f\"Women in Top 40% ({cb_sub.cited_doi[len(cb_sub)//10 * 4]}+): \", \n",
    "      len(cited[(cited['centrality'] >= cb_sub.cited_doi[len(cb_sub)//10 * 4]) & (cited['gender'] == \"female\")]))"
   ]
  },
  {
   "cell_type": "code",
   "execution_count": 11,
   "id": "724dfc10",
   "metadata": {
    "ExecuteTime": {
     "end_time": "2022-08-28T07:34:05.832822Z",
     "start_time": "2022-08-28T07:34:05.824175Z"
    }
   },
   "outputs": [],
   "source": [
    "def cummean(x):\n",
    "    return x.cumsum() / (np.arange(1, len(x) + 1))\n",
    "\n",
    "def plot_topk_mean_m(x):\n",
    "    n = len(x)\n",
    "    plt.plot(100 * (1 + np.arange(n)) / n, cummean(x[::-1]), color='#67a9cf',\n",
    "             lw=3, label='men')\n",
    "\n",
    "def plot_topk_mean_w(x):\n",
    "    n = len(x)\n",
    "    plt.plot(100 * (1 + np.arange(n)) / n, cummean(x[::-1]), color='#ef8a62',\n",
    "             lw=3, label='women')"
   ]
  },
  {
   "cell_type": "code",
   "execution_count": 12,
   "id": "fdb0576c",
   "metadata": {
    "ExecuteTime": {
     "end_time": "2022-08-28T07:34:08.163646Z",
     "start_time": "2022-08-28T07:34:07.974584Z"
    }
   },
   "outputs": [
    {
     "data": {
      "image/png": "[encoded data removed]",
      "text/plain": [
       "<Figure size 432x324 with 1 Axes>"
      ]
     },
     "metadata": {
      "needs_background": "light"
     },
     "output_type": "display_data"
    }
   ],
   "source": [
    "fig, ax = plt.subplots(figsize=(6,4.5))\n",
    "right_side = ax.spines[\"right\"]\n",
    "top_side = ax.spines[\"top\"]\n",
    "right_side.set_visible(False)\n",
    "top_side.set_visible(False)\n",
    "\n",
    "plot_topk_mean_w(cited.sort_values(by='centrality')['gender'] == 'female')\n",
    "\n",
    "plt.axhline(y=len(cited[cited['gender'] == 'female'])/len(cited),\n",
    "            color='black', linestyle='dotted', lw=3)\n",
    "\n",
    "plt.xlabel(\"Top h% Degree Centrality\", fontsize=20)\n",
    "plt.ylabel(\"Proportion of \\n Women Primary Authors\", fontsize=20)\n",
    "\n",
    "plt.xticks(fontsize=20)\n",
    "plt.yticks(fontsize=20)\n",
    "plt.tight_layout()"
   ]
  },
  {
   "cell_type": "markdown",
   "id": "a5f19a07",
   "metadata": {},
   "source": [
    "(Trim the first year at will for better visualization and more accurate/appropriate results.)"
   ]
  },
  {
   "cell_type": "markdown",
   "id": "83d2b01c",
   "metadata": {},
   "source": [
    "### PageRank Centrality Proportion of Women Authors"
   ]
  },
  {
   "cell_type": "code",
   "execution_count": 13,
   "id": "9d2e47f5",
   "metadata": {
    "ExecuteTime": {
     "end_time": "2022-08-28T07:35:33.715247Z",
     "start_time": "2022-08-28T07:35:30.659597Z"
    }
   },
   "outputs": [
    {
     "data": {
      "text/html": [
       "<div>\n",
       "<style scoped>\n",
       "    .dataframe tbody tr th:only-of-type {\n",
       "        vertical-align: middle;\n",
       "    }\n",
       "\n",
       "    .dataframe tbody tr th {\n",
       "        vertical-align: top;\n",
       "    }\n",
       "\n",
       "    .dataframe thead th {\n",
       "        text-align: right;\n",
       "    }\n",
       "</style>\n",
       "<table border=\"1\" class=\"dataframe\">\n",
       "  <thead>\n",
       "    <tr style=\"text-align: right;\">\n",
       "      <th></th>\n",
       "      <th>citing_doi</th>\n",
       "      <th>cited_doi</th>\n",
       "      <th>citing_gender</th>\n",
       "      <th>cited_gender</th>\n",
       "    </tr>\n",
       "  </thead>\n",
       "  <tbody>\n",
       "    <tr>\n",
       "      <th>0</th>\n",
       "      <td>10.1103/PhysRevSeriesI.11.215</td>\n",
       "      <td>10.1103/PhysRevSeriesI.1.1</td>\n",
       "      <td>male</td>\n",
       "      <td>male</td>\n",
       "    </tr>\n",
       "    <tr>\n",
       "      <th>1</th>\n",
       "      <td>10.1103/PhysRevSeriesI.17.267</td>\n",
       "      <td>10.1103/PhysRevSeriesI.1.1</td>\n",
       "      <td>male</td>\n",
       "      <td>male</td>\n",
       "    </tr>\n",
       "    <tr>\n",
       "      <th>2</th>\n",
       "      <td>10.1103/RevModPhys.51.863</td>\n",
       "      <td>10.1103/PhysRevSeriesI.1.1</td>\n",
       "      <td>male</td>\n",
       "      <td>male</td>\n",
       "    </tr>\n",
       "    <tr>\n",
       "      <th>3</th>\n",
       "      <td>10.1103/PhysRevSeriesI.4.433</td>\n",
       "      <td>10.1103/PhysRevSeriesI.1.1</td>\n",
       "      <td>male</td>\n",
       "      <td>male</td>\n",
       "    </tr>\n",
       "    <tr>\n",
       "      <th>4</th>\n",
       "      <td>10.1103/PhysRevSeriesI.17.267</td>\n",
       "      <td>10.1103/PhysRevSeriesI.11.215</td>\n",
       "      <td>male</td>\n",
       "      <td>male</td>\n",
       "    </tr>\n",
       "  </tbody>\n",
       "</table>\n",
       "</div>"
      ],
      "text/plain": [
       "                      citing_doi                      cited_doi citing_gender  \\\n",
       "0  10.1103/PhysRevSeriesI.11.215     10.1103/PhysRevSeriesI.1.1          male   \n",
       "1  10.1103/PhysRevSeriesI.17.267     10.1103/PhysRevSeriesI.1.1          male   \n",
       "2      10.1103/RevModPhys.51.863     10.1103/PhysRevSeriesI.1.1          male   \n",
       "3   10.1103/PhysRevSeriesI.4.433     10.1103/PhysRevSeriesI.1.1          male   \n",
       "4  10.1103/PhysRevSeriesI.17.267  10.1103/PhysRevSeriesI.11.215          male   \n",
       "\n",
       "  cited_gender  \n",
       "0         male  \n",
       "1         male  \n",
       "2         male  \n",
       "3         male  \n",
       "4         male  "
      ]
     },
     "execution_count": 13,
     "metadata": {},
     "output_type": "execute_result"
    }
   ],
   "source": [
    "cen1 = cb.copy()\n",
    "cen2 = primdata[['doi','gender']]\n",
    "# cen2 = lastdata[['doi','gender']]\n",
    "\n",
    "cen = cen1.merge(cen2, left_on='citing_doi', right_on='doi').drop('doi', axis=1).reset_index(drop=True)\n",
    "cen = cen.merge(cen2, left_on='cited_doi', right_on='doi').drop('doi', axis=1).reset_index(drop=True)\n",
    "cen.columns = ['citing_doi', 'cited_doi', 'citing_gender', 'cited_gender']\n",
    "cen.head()"
   ]
  },
  {
   "cell_type": "code",
   "execution_count": 15,
   "id": "7921b536",
   "metadata": {
    "ExecuteTime": {
     "end_time": "2022-08-28T07:35:47.467447Z",
     "start_time": "2022-08-28T07:35:43.053187Z"
    }
   },
   "outputs": [],
   "source": [
    "# apply nx.graph to citation relationship network\n",
    "Graphtype = nx.DiGraph()\n",
    "\n",
    "C = nx.from_pandas_edgelist(cen, source='citing_doi',\n",
    "                            target='cited_doi', create_using=Graphtype)\n",
    "# print(nx.info(C))"
   ]
  },
  {
   "cell_type": "code",
   "execution_count": 16,
   "id": "0cd91187",
   "metadata": {
    "ExecuteTime": {
     "end_time": "2022-08-28T07:35:58.942140Z",
     "start_time": "2022-08-28T07:35:58.902627Z"
    }
   },
   "outputs": [],
   "source": [
    "# observe author id & gender\n",
    "\n",
    "#### IF PRIMARY\n",
    "nodedata = primdata[['doi','id','gender']]\n",
    "\n",
    "#### IF LAST\n",
    "# nodedata = lastdata[['doi','id','gender']]"
   ]
  },
  {
   "cell_type": "code",
   "execution_count": 17,
   "id": "679248ec",
   "metadata": {
    "ExecuteTime": {
     "end_time": "2022-08-28T07:36:26.014766Z",
     "start_time": "2022-08-28T07:36:01.542079Z"
    }
   },
   "outputs": [
    {
     "data": {
      "text/html": [
       "<div>\n",
       "<style scoped>\n",
       "    .dataframe tbody tr th:only-of-type {\n",
       "        vertical-align: middle;\n",
       "    }\n",
       "\n",
       "    .dataframe tbody tr th {\n",
       "        vertical-align: top;\n",
       "    }\n",
       "\n",
       "    .dataframe thead th {\n",
       "        text-align: right;\n",
       "    }\n",
       "</style>\n",
       "<table border=\"1\" class=\"dataframe\">\n",
       "  <thead>\n",
       "    <tr style=\"text-align: right;\">\n",
       "      <th></th>\n",
       "      <th>doi</th>\n",
       "      <th>PRcen</th>\n",
       "      <th>id</th>\n",
       "      <th>gender</th>\n",
       "    </tr>\n",
       "  </thead>\n",
       "  <tbody>\n",
       "    <tr>\n",
       "      <th>5469</th>\n",
       "      <td>10.1103/PhysRev.140.A1133</td>\n",
       "      <td>0.001709</td>\n",
       "      <td>219005</td>\n",
       "      <td>male</td>\n",
       "    </tr>\n",
       "    <tr>\n",
       "      <th>42329</th>\n",
       "      <td>10.1103/PhysRev.136.B864</td>\n",
       "      <td>0.001404</td>\n",
       "      <td>12626</td>\n",
       "      <td>male</td>\n",
       "    </tr>\n",
       "    <tr>\n",
       "      <th>33589</th>\n",
       "      <td>10.1103/PhysRev.108.1175</td>\n",
       "      <td>0.001370</td>\n",
       "      <td>165388</td>\n",
       "      <td>male</td>\n",
       "    </tr>\n",
       "    <tr>\n",
       "      <th>48</th>\n",
       "      <td>10.1103/PhysRev.47.777</td>\n",
       "      <td>0.001022</td>\n",
       "      <td>38494</td>\n",
       "      <td>male</td>\n",
       "    </tr>\n",
       "    <tr>\n",
       "      <th>117022</th>\n",
       "      <td>10.1103/PhysRev.65.117</td>\n",
       "      <td>0.000763</td>\n",
       "      <td>59830</td>\n",
       "      <td>male</td>\n",
       "    </tr>\n",
       "  </tbody>\n",
       "</table>\n",
       "</div>"
      ],
      "text/plain": [
       "                              doi     PRcen      id gender\n",
       "5469    10.1103/PhysRev.140.A1133  0.001709  219005   male\n",
       "42329    10.1103/PhysRev.136.B864  0.001404   12626   male\n",
       "33589    10.1103/PhysRev.108.1175  0.001370  165388   male\n",
       "48         10.1103/PhysRev.47.777  0.001022   38494   male\n",
       "117022     10.1103/PhysRev.65.117  0.000763   59830   male"
      ]
     },
     "execution_count": 17,
     "metadata": {},
     "output_type": "execute_result"
    }
   ],
   "source": [
    "# assign PageRank centrality to each paper\n",
    "pr = nx.pagerank(C)\n",
    "\n",
    "# create a centrality dataframe\n",
    "prs = pd.DataFrame()\n",
    "prs['doi'] = pr.keys()\n",
    "prs['PRcen'] = pr.values()\n",
    "\n",
    "# merge and create a dataframe: id, gender, PageRank centrality\n",
    "prs_new = prs.merge(nodedata, on='doi', how='left').sort_values('PRcen', ascending=False)\n",
    "prs_new.head()"
   ]
  },
  {
   "cell_type": "code",
   "execution_count": 18,
   "id": "317e6885",
   "metadata": {
    "ExecuteTime": {
     "end_time": "2022-08-28T07:36:26.476574Z",
     "start_time": "2022-08-28T07:36:26.016357Z"
    }
   },
   "outputs": [],
   "source": [
    "pr_age = prs_new.merge(cited, on='doi', how='inner')\n",
    "pr_age = pr_age[['PRcen', 'doi', 'id_x', 'gender_x', 'yeard']]\n",
    "pr_age = pr_age.rename(columns={'id_x': \"id\", \"gender_x\": \"gender\"}\n",
    "                      ).sort_values('PRcen',ascending=False)"
   ]
  },
  {
   "cell_type": "code",
   "execution_count": 19,
   "id": "0dafe71a",
   "metadata": {
    "ExecuteTime": {
     "end_time": "2022-08-28T07:36:26.618660Z",
     "start_time": "2022-08-28T07:36:26.478692Z"
    }
   },
   "outputs": [
    {
     "data": {
      "image/png": "[encoded data removed]",
      "text/plain": [
       "<Figure size 432x324 with 1 Axes>"
      ]
     },
     "metadata": {
      "needs_background": "light"
     },
     "output_type": "display_data"
    }
   ],
   "source": [
    "# Comparative graph for actual female proportion vs. expected female proportion\n",
    "\n",
    "prs_gender = prs_new['gender'].to_numpy()\n",
    "cumulate_prs_gender = np.cumsum(prs_gender == \"female\")\n",
    "\n",
    "fig, ax = plt.subplots(figsize=(6,4.5))\n",
    "right_side = ax.spines[\"right\"]\n",
    "top_side = ax.spines[\"top\"]\n",
    "right_side.set_visible(False)\n",
    "top_side.set_visible(False)\n",
    "\n",
    "plt.plot((np.arange(len(prs_new))*100)/len(prs_new),\n",
    "         cumulate_prs_gender/np.arange(1, len(prs_new)+1), color='red', lw=3)\n",
    "# plt.axhline(y=0.08274119036274367, color='black', linestyle='dotted', lw=3)\n",
    "plt.axhline(y=len(prs_new[prs_new['gender'] == 'female'])/len(prs_new),\n",
    "            color='black', linestyle='dotted', lw=3)\n",
    "\n",
    "\n",
    "plt.xlabel(\"top h% PageRank Centrality\", fontsize=20)\n",
    "plt.ylabel(\"Proportion of \\n Women Primary Authors\", fontsize = 20)\n",
    "\n",
    "plt.xticks(fontsize=20)\n",
    "plt.yticks(fontsize=20)\n",
    "plt.ylim(ymax=0.175)\n",
    "plt.tight_layout()"
   ]
  },
  {
   "cell_type": "markdown",
   "id": "34c5864a",
   "metadata": {},
   "source": [
    "(Trim the first year at will for better visualization and more accurate/appropriate results.)"
   ]
  },
  {
   "cell_type": "markdown",
   "id": "4a14d8a2",
   "metadata": {},
   "source": [
    "### Degree & PageRank Centrality vs. Average Career Age (OR Average Paper Age)"
   ]
  },
  {
   "cell_type": "code",
   "execution_count": 21,
   "id": "54181a75",
   "metadata": {
    "ExecuteTime": {
     "end_time": "2022-08-28T07:37:32.884199Z",
     "start_time": "2022-08-28T07:37:32.493466Z"
    }
   },
   "outputs": [
    {
     "data": {
      "text/html": [
       "<div>\n",
       "<style scoped>\n",
       "    .dataframe tbody tr th:only-of-type {\n",
       "        vertical-align: middle;\n",
       "    }\n",
       "\n",
       "    .dataframe tbody tr th {\n",
       "        vertical-align: top;\n",
       "    }\n",
       "\n",
       "    .dataframe thead tr th {\n",
       "        text-align: left;\n",
       "    }\n",
       "\n",
       "    .dataframe thead tr:last-of-type th {\n",
       "        text-align: right;\n",
       "    }\n",
       "</style>\n",
       "<table border=\"1\" class=\"dataframe\">\n",
       "  <thead>\n",
       "    <tr>\n",
       "      <th></th>\n",
       "      <th></th>\n",
       "      <th colspan=\"3\" halign=\"left\">year</th>\n",
       "      <th>career_age</th>\n",
       "      <th>prod</th>\n",
       "    </tr>\n",
       "    <tr>\n",
       "      <th></th>\n",
       "      <th></th>\n",
       "      <th>min</th>\n",
       "      <th>max</th>\n",
       "      <th>count</th>\n",
       "      <th></th>\n",
       "      <th></th>\n",
       "    </tr>\n",
       "    <tr>\n",
       "      <th>id</th>\n",
       "      <th>gender</th>\n",
       "      <th></th>\n",
       "      <th></th>\n",
       "      <th></th>\n",
       "      <th></th>\n",
       "      <th></th>\n",
       "    </tr>\n",
       "  </thead>\n",
       "  <tbody>\n",
       "    <tr>\n",
       "      <th>162998</th>\n",
       "      <th>male</th>\n",
       "      <td>1961</td>\n",
       "      <td>2009</td>\n",
       "      <td>491</td>\n",
       "      <td>48</td>\n",
       "      <td>10.229167</td>\n",
       "    </tr>\n",
       "    <tr>\n",
       "      <th>92641</th>\n",
       "      <th>male</th>\n",
       "      <td>1979</td>\n",
       "      <td>2009</td>\n",
       "      <td>443</td>\n",
       "      <td>30</td>\n",
       "      <td>14.766667</td>\n",
       "    </tr>\n",
       "    <tr>\n",
       "      <th>145071</th>\n",
       "      <th>male</th>\n",
       "      <td>1978</td>\n",
       "      <td>2009</td>\n",
       "      <td>442</td>\n",
       "      <td>31</td>\n",
       "      <td>14.258065</td>\n",
       "    </tr>\n",
       "    <tr>\n",
       "      <th>233941</th>\n",
       "      <th>male</th>\n",
       "      <td>1953</td>\n",
       "      <td>2009</td>\n",
       "      <td>400</td>\n",
       "      <td>56</td>\n",
       "      <td>7.142857</td>\n",
       "    </tr>\n",
       "    <tr>\n",
       "      <th>140103</th>\n",
       "      <th>male</th>\n",
       "      <td>1983</td>\n",
       "      <td>2009</td>\n",
       "      <td>396</td>\n",
       "      <td>26</td>\n",
       "      <td>15.230769</td>\n",
       "    </tr>\n",
       "  </tbody>\n",
       "</table>\n",
       "</div>"
      ],
      "text/plain": [
       "               year             career_age       prod\n",
       "                min   max count                      \n",
       "id     gender                                        \n",
       "162998 male    1961  2009   491         48  10.229167\n",
       "92641  male    1979  2009   443         30  14.766667\n",
       "145071 male    1978  2009   442         31  14.258065\n",
       "233941 male    1953  2009   400         56   7.142857\n",
       "140103 male    1983  2009   396         26  15.230769"
      ]
     },
     "execution_count": 21,
     "metadata": {},
     "output_type": "execute_result"
    }
   ],
   "source": [
    "# productivity table (from stat.ipynb)\n",
    "\n",
    "prod = paperdata.copy().groupby(['id', 'gender']).agg({'year': [min, max, 'count']})\n",
    "\n",
    "prod['career_age'] = prod['year']['max'] - prod['year']['min']\n",
    "prod['prod'] = prod['year']['count'] / (prod['career_age'])\n",
    "\n",
    "prod = prod[prod['career_age'] != 0]\n",
    "\n",
    "prod.sort_values([('year','count')], ascending=False).head()"
   ]
  },
  {
   "cell_type": "code",
   "execution_count": 22,
   "id": "a6a49482",
   "metadata": {
    "ExecuteTime": {
     "end_time": "2022-08-28T07:37:35.024904Z",
     "start_time": "2022-08-28T07:37:34.778290Z"
    }
   },
   "outputs": [
    {
     "data": {
      "text/html": [
       "<div>\n",
       "<style scoped>\n",
       "    .dataframe tbody tr th:only-of-type {\n",
       "        vertical-align: middle;\n",
       "    }\n",
       "\n",
       "    .dataframe tbody tr th {\n",
       "        vertical-align: top;\n",
       "    }\n",
       "\n",
       "    .dataframe thead th {\n",
       "        text-align: right;\n",
       "    }\n",
       "</style>\n",
       "<table border=\"1\" class=\"dataframe\">\n",
       "  <thead>\n",
       "    <tr style=\"text-align: right;\">\n",
       "      <th></th>\n",
       "      <th>centrality</th>\n",
       "      <th>doi</th>\n",
       "      <th>id</th>\n",
       "      <th>gender</th>\n",
       "      <th>order</th>\n",
       "      <th>CA</th>\n",
       "    </tr>\n",
       "  </thead>\n",
       "  <tbody>\n",
       "    <tr>\n",
       "      <th>0</th>\n",
       "      <td>5214</td>\n",
       "      <td>10.1103/PhysRev.140.A1133</td>\n",
       "      <td>219005</td>\n",
       "      <td>male</td>\n",
       "      <td>1</td>\n",
       "      <td>62</td>\n",
       "    </tr>\n",
       "    <tr>\n",
       "      <th>50</th>\n",
       "      <td>2519</td>\n",
       "      <td>10.1103/PhysRevB.13.5188</td>\n",
       "      <td>133666</td>\n",
       "      <td>male</td>\n",
       "      <td>1</td>\n",
       "      <td>30</td>\n",
       "    </tr>\n",
       "    <tr>\n",
       "      <th>58</th>\n",
       "      <td>2337</td>\n",
       "      <td>10.1103/PhysRevB.54.11169</td>\n",
       "      <td>157378</td>\n",
       "      <td>male</td>\n",
       "      <td>1</td>\n",
       "      <td>16</td>\n",
       "    </tr>\n",
       "    <tr>\n",
       "      <th>71</th>\n",
       "      <td>1679</td>\n",
       "      <td>10.1103/PhysRev.108.1175</td>\n",
       "      <td>165388</td>\n",
       "      <td>male</td>\n",
       "      <td>1</td>\n",
       "      <td>60</td>\n",
       "    </tr>\n",
       "    <tr>\n",
       "      <th>121</th>\n",
       "      <td>1675</td>\n",
       "      <td>10.1103/PhysRev.124.1866</td>\n",
       "      <td>114066</td>\n",
       "      <td>male</td>\n",
       "      <td>1</td>\n",
       "      <td>50</td>\n",
       "    </tr>\n",
       "  </tbody>\n",
       "</table>\n",
       "</div>"
      ],
      "text/plain": [
       "     centrality                        doi      id gender  order  CA\n",
       "0          5214  10.1103/PhysRev.140.A1133  219005   male      1  62\n",
       "50         2519   10.1103/PhysRevB.13.5188  133666   male      1  30\n",
       "58         2337  10.1103/PhysRevB.54.11169  157378   male      1  16\n",
       "71         1679   10.1103/PhysRev.108.1175  165388   male      1  60\n",
       "121        1675   10.1103/PhysRev.124.1866  114066   male      1  50"
      ]
     },
     "execution_count": 22,
     "metadata": {},
     "output_type": "execute_result"
    }
   ],
   "source": [
    "centca = cited.merge(prod, on='id', how='inner')\n",
    "centca = centca[['centrality', 'doi', 'id', 'gender', 'order', \n",
    "                 ('career_age', '')]]\n",
    "centca.rename(columns={('career_age', ''): \"CA\"}, inplace=True)\n",
    "centca = centca.sort_values('centrality', ascending=False)\n",
    "\n",
    "centca.head()"
   ]
  },
  {
   "cell_type": "code",
   "execution_count": 23,
   "id": "cdc95356",
   "metadata": {
    "ExecuteTime": {
     "end_time": "2022-08-28T07:37:43.619266Z",
     "start_time": "2022-08-28T07:37:43.421403Z"
    }
   },
   "outputs": [
    {
     "data": {
      "text/plain": [
       "<matplotlib.legend.Legend at 0x7fafca2e5a00>"
      ]
     },
     "execution_count": 23,
     "metadata": {},
     "output_type": "execute_result"
    },
    {
     "data": {
      "image/png": "[encoded data removed]",
      "text/plain": [
       "<Figure size 432x324 with 1 Axes>"
      ]
     },
     "metadata": {
      "needs_background": "light"
     },
     "output_type": "display_data"
    }
   ],
   "source": [
    "# Degree Centrality vs. Avg Author Career Age\n",
    "\n",
    "fig, ax = plt.subplots(figsize=(6,4.5))\n",
    "right_side = ax.spines[\"right\"]\n",
    "top_side = ax.spines[\"top\"]\n",
    "right_side.set_visible(False)\n",
    "top_side.set_visible(False)\n",
    "\n",
    "plot_topk_mean_m(centca[centca['gender'] == 'male'].sort_values(\n",
    "    by='centrality')['CA'])\n",
    "\n",
    "plot_topk_mean_w(centca[centca['gender'] == 'female'].sort_values(\n",
    "    by='centrality')['CA'])\n",
    "\n",
    "plt.xlabel(\"Top h% Degree Centrality\", fontsize=20)\n",
    "plt.ylabel(\"Average Career Age of \\nPrimary Authors\", fontsize=20)\n",
    "\n",
    "plt.xticks(fontsize=20)\n",
    "plt.yticks(fontsize=20)\n",
    "plt.tight_layout()\n",
    "\n",
    "plt.legend(loc='upper right', fontsize=20)"
   ]
  },
  {
   "cell_type": "markdown",
   "id": "1476181b",
   "metadata": {},
   "source": [
    "#### w/ in-set"
   ]
  },
  {
   "cell_type": "code",
   "execution_count": 24,
   "id": "460ab8dc",
   "metadata": {
    "ExecuteTime": {
     "end_time": "2022-08-28T07:37:57.616794Z",
     "start_time": "2022-08-28T07:37:57.454499Z"
    }
   },
   "outputs": [
    {
     "data": {
      "image/png": "[encoded data removed]",
      "text/plain": [
       "<Figure size 432x324 with 1 Axes>"
      ]
     },
     "metadata": {
      "needs_background": "light"
     },
     "output_type": "display_data"
    }
   ],
   "source": [
    "# Degree Centrality vs. Avg Author Career Age (w/ inset)\n",
    "\n",
    "fig, ax = plt.subplots(figsize=(6,4.5))\n",
    "right_side = ax.spines[\"right\"]\n",
    "top_side = ax.spines[\"top\"]\n",
    "right_side.set_visible(False)\n",
    "top_side.set_visible(False)\n",
    "\n",
    "ccm = centca[centca['gender'] == 'male'].sort_values(by='centrality')\n",
    "ccfm = centca[centca['gender'] == 'female'].sort_values(by='centrality')\n",
    "\n",
    "plot_topk_mean_m(ccm.CA)\n",
    "plot_topk_mean_w(ccfm.CA)\n",
    "\n",
    "plt.xlabel(\"Top h% Degree Centrality\", fontsize=20)\n",
    "plt.ylabel(\"Average Career Age of \\nPrimary Authors\", fontsize=20)\n",
    "\n",
    "plt.xlim(xmax=5,xmin=-0.5)\n",
    "plt.ylim(ymax=65, ymin=20)\n",
    "plt.xticks(np.arange(0, 5, 1), fontsize=20)\n",
    "plt.yticks(np.arange(20, 65, 10), fontsize=20)\n",
    "plt.tight_layout()"
   ]
  },
  {
   "cell_type": "code",
   "execution_count": null,
   "id": "84bd949a",
   "metadata": {},
   "outputs": [],
   "source": []
  }
 ],
 "metadata": {
  "kernelspec": {
   "display_name": "Python 3",
   "language": "python",
   "name": "python3"
  },
  "language_info": {
   "codemirror_mode": {
    "name": "ipython",
    "version": 3
   },
   "file_extension": ".py",
   "mimetype": "text/x-python",
   "name": "python",
   "nbconvert_exporter": "python",
   "pygments_lexer": "ipython3",
   "version": "3.8.8"
  }
 },
 "nbformat": 4,
 "nbformat_minor": 5
}
