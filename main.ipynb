{
 "cells": [
  {
   "cell_type": "code",
   "execution_count": null,
   "id": "3262f792",
   "metadata": {},
   "outputs": [],
   "source": [
    "# pip install pingouin"
   ]
  },
  {
   "cell_type": "code",
   "execution_count": 1,
   "id": "c66b2344",
   "metadata": {},
   "outputs": [],
   "source": [
    "# import necessary packages\n",
    "\n",
    "import pandas as pd\n",
    "import itertools\n",
    "import numpy as np\n",
    "import scipy.stats\n",
    "from scipy.stats import ks_2samp\n",
    "from statsmodels.stats.weightstats import ztest as ztest\n",
    "from statsmodels.stats.proportion import proportions_ztest\n",
    "import time\n",
    "import statistics\n",
    "\n",
    "import matplotlib.pyplot as plt\n",
    "import seaborn as sns\n",
    "\n",
    "from tqdm import tqdm\n",
    "\n",
    "import networkx as nx\n",
    "from random import randint\n",
    "\n",
    "import math\n",
    "# import pingouin as pg\n",
    "\n",
    "import warnings\n",
    "warnings.filterwarnings(\"ignore\")"
   ]
  },
  {
   "cell_type": "code",
   "execution_count": 2,
   "id": "74669cad",
   "metadata": {},
   "outputs": [],
   "source": [
    "# import necessary data\n",
    "\n",
    "result = pd.read_csv(\"/Users/robinkong/codes/result.csv\")\n",
    "paperdata = pd.read_csv(\"/Users/robinkong/codes/paperdata.csv\")\n",
    "cb = pd.read_csv(\"/Users/robinkong/codes/citationBara.csv\")\n",
    "primdata = pd.read_csv(\"/Users/robinkong/codes/primdata.csv\")\n",
    "lastdata = pd.read_csv(\"/Users/robinkong/codes/lastdata.csv\")\n",
    "# pair = pd.read_csv(\"/Users/robinkong/codes/pairs.csv\", chunksize = 1000000)\n",
    "# mfpairs = pd.read_csv(\"/Users/robinkong/codes/mfpairs.csv\")\n",
    "sim_mf = pd.read_csv(\"/Users/robinkong/codes/mfpairs_similarity.csv\")\n",
    "# sim_mf_last = pd.read_csv(\"/Users/robinkong/codes/mfpairs_similarity_edited.csv\")"
   ]
  },
  {
   "cell_type": "markdown",
   "id": "69e0b615",
   "metadata": {},
   "source": [
    "# Statistical Analyses\n",
    "\n",
    "## Basic Statistics"
   ]
  },
  {
   "cell_type": "code",
   "execution_count": 75,
   "id": "9fa582fd",
   "metadata": {},
   "outputs": [
    {
     "name": "stdout",
     "output_type": "stream",
     "text": [
      "Total papers:  541448\n",
      "Papers with gender info:  375736\n",
      "Papers with primary gender info:  273016\n",
      "Papers with last gender info:  288395\n"
     ]
    }
   ],
   "source": [
    "print(\"Total papers: \", result.doi.nunique())\n",
    "print(\"Papers with gender info: \", paperdata.doi.nunique())\n",
    "print(\"Papers with primary gender info: \", primdata.doi.nunique())\n",
    "print(\"Papers with last gender info: \", lastdata.doi.nunique())"
   ]
  },
  {
   "cell_type": "code",
   "execution_count": 61,
   "id": "2fa85fc0",
   "metadata": {},
   "outputs": [
    {
     "name": "stdout",
     "output_type": "stream",
     "text": [
      "Oldest paper:  1893\n",
      "Newest paper:  2009\n",
      "Number of journal categories:  11\n"
     ]
    }
   ],
   "source": [
    "print(\"Oldest paper: \", paperdata.year.min())\n",
    "print(\"Newest paper: \", paperdata.year.max())\n",
    "print(\"Number of journal categories: \", paperdata.journal.nunique())"
   ]
  },
  {
   "cell_type": "code",
   "execution_count": 60,
   "id": "f6e9f724",
   "metadata": {},
   "outputs": [
    {
     "name": "stdout",
     "output_type": "stream",
     "text": [
      "Total authors:  120776\n",
      "Total men authors:  103013\n",
      "Total women authors:  17763\n"
     ]
    }
   ],
   "source": [
    "print(\"Total authors: \", paperdata.id.nunique())\n",
    "print(\"Total men authors: \", paperdata.query('gender == \"male\"').id.nunique())\n",
    "print(\"Total women authors: \", paperdata.query('gender == \"female\"').id.nunique())"
   ]
  },
  {
   "cell_type": "code",
   "execution_count": 76,
   "id": "7ad916bc",
   "metadata": {},
   "outputs": [
    {
     "name": "stdout",
     "output_type": "stream",
     "text": [
      "Total PRA papers:  65170\n",
      "PRA papers with gender info:  45061\n",
      "\n",
      "PRA papers with primary gender info:  33687\n",
      "PRA papers written by primary man author:  29780\n",
      "PRA papers written by primary woman author:  3907\n",
      "\n",
      "PRA papers with last gender info:  35139\n",
      "PRA papers written by last man author:  32034\n",
      "PRA papers written by last woman author:  3105\n"
     ]
    }
   ],
   "source": [
    "# journal query condition\n",
    "\n",
    "s = \"PRA\"\n",
    "\n",
    "print(f\"Total {s} papers: \", result[result['journal'] == s].doi.nunique())\n",
    "print(f\"{s} papers with gender info: \", paperdata[paperdata['journal'] == s].doi.nunique())\n",
    "\n",
    "df = primdata[primdata['journal'] == s]\n",
    "print(\"\")\n",
    "print(f\"{s} papers with primary gender info: \", df.doi.nunique())\n",
    "print(f\"{s} papers written by primary man author: \", len(df[df['gender']=='male']))\n",
    "print(f\"{s} papers written by primary woman author: \", len(df[df['gender']=='female']))\n",
    "\n",
    "df2 = lastdata[lastdata['journal'] == s]\n",
    "print(\"\")\n",
    "print(f\"{s} papers with last gender info: \", df2.doi.nunique())\n",
    "print(f\"{s} papers written by last man author: \", len(df2[df2['gender']=='male']))\n",
    "print(f\"{s} papers written by last woman author: \", len(df2[df2['gender']=='female']))"
   ]
  },
  {
   "cell_type": "code",
   "execution_count": 87,
   "id": "692342d1",
   "metadata": {},
   "outputs": [
    {
     "name": "stdout",
     "output_type": "stream",
     "text": [
      "Total PACS80 papers:  48558\n",
      "PACS80 papers with gender info:  32735\n",
      "\n",
      "PACS80 papers with primary gender info:  24676\n",
      "PACS80 papers written by primary man author:  21407\n",
      "PACS80 papers written by primary woman author:  3269\n",
      "\n",
      "PACS80 papers with last gender info:  25762\n",
      "PACS80 papers written by last man author:  23315\n",
      "PACS80 papers written by last woman author:  2447\n"
     ]
    }
   ],
   "source": [
    "# PACS query condition\n",
    "\n",
    "pacs = '80'\n",
    "\n",
    "print(f\"Total PACS{pacs} papers: \", result[result[f'pacs{pacs}'] == 1].doi.nunique())\n",
    "print(f\"PACS{pacs} papers with gender info: \", paperdata[paperdata[f'pacs{pacs}'] == 1].doi.nunique())\n",
    "\n",
    "df = primdata[primdata[f'pacs{pacs}'] == 1]\n",
    "print(\"\")\n",
    "print(f\"PACS{pacs} papers with primary gender info: \", df.doi.nunique())\n",
    "print(f\"PACS{pacs} papers written by primary man author: \", len(df[df['gender']=='male']))\n",
    "print(f\"PACS{pacs} papers written by primary woman author: \", len(df[df['gender']=='female']))\n",
    "\n",
    "df2 = lastdata[lastdata[f'pacs{pacs}'] == 1]\n",
    "print(\"\")\n",
    "print(f\"PACS{pacs} papers with last gender info: \", df2.doi.nunique())\n",
    "print(f\"PACS{pacs} papers written by last man author: \", len(df2[df2['gender']=='male']))\n",
    "print(f\"PACS{pacs} papers written by last woman author: \", len(df2[df2['gender']=='female']))"
   ]
  },
  {
   "cell_type": "markdown",
   "id": "2dbc4c2f",
   "metadata": {},
   "source": [
    "### Alphabetically ordered papers and Author order analysis"
   ]
  },
  {
   "cell_type": "code",
   "execution_count": 78,
   "id": "c408097c",
   "metadata": {},
   "outputs": [
    {
     "name": "stdout",
     "output_type": "stream",
     "text": [
      "Total alphabetically ordered papers:  19159\n",
      "\n",
      "Total PACS 00 papers: 104571\n",
      "Alphabetically ordered: 4141\n",
      "Proportion of alpha papers: 3.96 %\n",
      "\n",
      "Total PACS 10 papers: 55650\n",
      "Alphabetically ordered: 6088\n",
      "Proportion of alpha papers: 10.94 %\n",
      "\n",
      "Total PACS 20 papers: 35026\n",
      "Alphabetically ordered: 1877\n",
      "Proportion of alpha papers: 5.36 %\n",
      "\n",
      "Total PACS 30 papers: 42794\n",
      "Alphabetically ordered: 1088\n",
      "Proportion of alpha papers: 2.54 %\n",
      "\n",
      "Total PACS 40 papers: 57467\n",
      "Alphabetically ordered: 1558\n",
      "Proportion of alpha papers: 2.71 %\n",
      "\n",
      "Total PACS 50 papers: 12330\n",
      "Alphabetically ordered: 296\n",
      "Proportion of alpha papers: 2.40 %\n",
      "\n",
      "Total PACS 60 papers: 89689\n",
      "Alphabetically ordered: 1912\n",
      "Proportion of alpha papers: 2.13 %\n",
      "\n",
      "Total PACS 70 papers: 155517\n",
      "Alphabetically ordered: 2686\n",
      "Proportion of alpha papers: 1.73 %\n",
      "\n",
      "Total PACS 80 papers: 48558\n",
      "Alphabetically ordered: 1007\n",
      "Proportion of alpha papers: 2.07 %\n",
      "\n",
      "Total PACS 90 papers: 26601\n",
      "Alphabetically ordered: 1885\n",
      "Proportion of alpha papers: 7.09 %\n"
     ]
    }
   ],
   "source": [
    "# alphabetically ordered paper statistics\n",
    "\n",
    "print(\"Total alphabetically ordered papers: \", len(result.query('is_alpha == True').drop_duplicates('doi')))\n",
    "\n",
    "for i in range(10):\n",
    "    print('')\n",
    "    print(f\"Total PACS {i}0 papers:\", result.query(f'pacs{i}0 == 1').doi.nunique())\n",
    "    print(\"Alphabetically ordered:\",result.query(\n",
    "        f'is_alpha == True & pacs{i}0 == 1').doi.nunique())\n",
    "    print(\"Proportion of alpha papers:\", format(result.query(\n",
    "        f'is_alpha == True & pacs{i}0 == 1').doi.nunique()/result.query(\n",
    "        f'pacs{i}0 == 1').doi.nunique() * 100, \".2f\"),'%')"
   ]
  },
  {
   "cell_type": "code",
   "execution_count": 140,
   "id": "d263b5c9",
   "metadata": {},
   "outputs": [],
   "source": [
    "# Author order categorization\n",
    "\n",
    "# filter out alphabetically ordered papers\n",
    "nonalpha = paperdata.query('is_alpha == False')\n",
    "\n",
    "first_author = nonalpha.query('order == 1').reset_index(drop=True)\n",
    "second_author = nonalpha.query('order == 2 & numAuthor != 2').reset_index(drop=True)\n",
    "middle_author = nonalpha.query('order >= 3 & order != numAuthor').reset_index(drop=True)\n",
    "last_author = nonalpha.query('order == numAuthor & order != 1').reset_index(drop=True)\n",
    "\n",
    "authors = [first_author, second_author, middle_author, last_author]\n",
    "authors_name = ['first', 'second', 'middle', 'last']"
   ]
  },
  {
   "cell_type": "code",
   "execution_count": 193,
   "id": "c9196853",
   "metadata": {},
   "outputs": [
    {
     "name": "stdout",
     "output_type": "stream",
     "text": [
      "\n",
      "Total first authors:  273016\n",
      "Total first men authors:  242287\n",
      "first men authors' proportion:  0.3275\n",
      "Total first women authors:  30729\n",
      "first women authors' proportion:  0.3438\n",
      "-9.76 1.72e-22\n",
      "\n",
      "Total second authors:  131612\n",
      "Total second men authors:  116326\n",
      "second men authors' proportion:  0.1572\n",
      "Total second women authors:  15286\n",
      "second women authors' proportion:  0.1710\n",
      "-10.63 2.2e-26\n",
      "\n",
      "Total middle authors:  198075\n",
      "Total middle men authors:  174786\n",
      "middle men authors' proportion:  0.2363\n",
      "Total middle women authors:  23289\n",
      "middle women authors' proportion:  0.2605\n",
      "-16.06 4.59e-58\n",
      "\n",
      "Total last authors:  226463\n",
      "Total last men authors:  206374\n",
      "last men authors' proportion:  0.2790\n",
      "Total last women authors:  20089\n",
      "last women authors' proportion:  0.2247\n",
      "34.38 4.94e-259\n"
     ]
    }
   ],
   "source": [
    "# author order statistics\n",
    "\n",
    "# print('Total submitted positions: ', len(paperdata))\n",
    "# print('Total submitted female positions: ', len(paperdata.query('gender == \"female\"')))\n",
    "# print('Total submitted female proportion: ', len(paperdata.query('gender == \"female\"'))/len(paperdata))\n",
    "\n",
    "# print('Total submitted positions: ', len(nonalpha))\n",
    "# print('Total submitted female positions: ', len(nonalpha.query('gender == \"female\"')))\n",
    "# print('Total submitted female proportion: ', len(nonalpha.query('gender == \"female\"'))/len(nonalpha))\n",
    "\n",
    "for i in range(4):\n",
    "    ao_m, ao_w = 0, 0\n",
    "    for j in range(len(authors[i])):\n",
    "        if authors[i]['gender'][j] == 'male':\n",
    "            ao_m += 1\n",
    "        elif authors[i]['gender'][j] == 'female':\n",
    "            ao_w += 1\n",
    "    print('')\n",
    "    print(f\"Total {authors_name[i]} authors: \", len(authors[i]))\n",
    "    print(f\"Total {authors_name[i]} men authors: \", ao_m)\n",
    "    print(f\"{authors_name[i]} men authors' proportion: \", format(\n",
    "        ao_m/len(nonalpha.query('gender == \"male\"')), \".4f\"))\n",
    "    print(f\"Total {authors_name[i]} women authors: \", ao_w)\n",
    "    print(f\"{authors_name[i]} women authors' proportion: \", format(\n",
    "        ao_w/len(nonalpha.query('gender == \"female\"')), \".4f\"))\n",
    "#     print(f\"Total {authors_name[i]} women proportion: \", ao_w/len(authors[i]))\n",
    "    zscore, pval = proportions_ztest([ao_m, ao_w],\n",
    "        [len(nonalpha.query('gender == \"male\"')), len(nonalpha.query('gender == \"female\"'))])\n",
    "    print(format(zscore, \".2f\"), '{:g}'.format(float('{:.3g}'.format(pval))))\n",
    "\n",
    "#     print(proportions_ztest([ao_w, len(nonalpha.query('gender == \"female\"'))],\n",
    "#         [len(authors[i]), len(nonalpha)]))\n",
    "\n",
    "#     print(proportions_ztest([ao_w, len(paperdata.query('gender == \"female\"'))],\n",
    "#         [len(authors[i]), len(paperdata)]))"
   ]
  },
  {
   "cell_type": "markdown",
   "id": "184dcec8",
   "metadata": {},
   "source": [
    "### Participation Growth"
   ]
  },
  {
   "cell_type": "code",
   "execution_count": 142,
   "id": "cc5b6f7b",
   "metadata": {},
   "outputs": [],
   "source": [
    "# Observe number of authors by year, separated by gender\n",
    "\n",
    "tdata = paperdata.copy()\n",
    "tdata.sort_values(\"id\", inplace = True)\n",
    "tdata.drop_duplicates(subset = [\"id\", \"year\"],\n",
    "                         keep = \"first\", inplace = True)\n",
    "\n",
    "m_tdata = tdata[tdata['gender'] == 'male'].groupby(['year'])['year'].count()\n",
    "w_tdata = tdata[tdata['gender'] == 'female'].groupby(['year'])['year'].count()"
   ]
  },
  {
   "cell_type": "code",
   "execution_count": 145,
   "id": "f1e78e10",
   "metadata": {},
   "outputs": [
    {
     "data": {
      "image/png": "[encoded data removed]",
      "text/plain": [
       "<Figure size 432x324 with 1 Axes>"
      ]
     },
     "metadata": {
      "needs_background": "light"
     },
     "output_type": "display_data"
    }
   ],
   "source": [
    "# Year vs. Number of Authors (Plot)\n",
    "\n",
    "# Regular graph format throughout this paper\n",
    "fig, ax = plt.subplots(figsize=(6,4.5))\n",
    "right_side = ax.spines[\"right\"]\n",
    "top_side = ax.spines[\"top\"]\n",
    "right_side.set_visible(False)\n",
    "top_side.set_visible(False)\n",
    "\n",
    "# Male authors\n",
    "m_tdata.plot(style='.-',color='#67a9cf', lw=3)\n",
    "# Female authors\n",
    "w_tdata.plot(style='.-',color='#ef8a62', lw=3)\n",
    "\n",
    "plt.legend(('men', 'women'), loc='upper left', fontsize=20)\n",
    "plt.xticks(np.arange(1950, 2010, step=10), fontsize=20, rotation=30)\n",
    "plt.xlabel('Year', fontsize=20)\n",
    "plt.xlim(xmin=1950, xmax=2010)\n",
    "plt.ylabel('Number of Authors', fontsize=20)\n",
    "plt.yticks(fontsize=20)\n",
    "plt.ylim(ymin=0)\n",
    "\n",
    "plt.tight_layout()\n",
    "# fig.savefig(f\"/Users/robinkong/codes/Fig_1A.pdf\")"
   ]
  },
  {
   "cell_type": "markdown",
   "id": "b1d2eb97",
   "metadata": {},
   "source": [
    "## Calculating Productivity and Dropout Rates\n",
    "\n",
    "### Productivity Comparison"
   ]
  },
  {
   "cell_type": "code",
   "execution_count": 231,
   "id": "083c5637",
   "metadata": {},
   "outputs": [],
   "source": [
    "# Creating a DataFrame with productivity calculated\n",
    "prod = paperdata.copy().groupby(['id', 'gender']).agg({'year': [min, max, 'count']})\n",
    "\n",
    "prod['career_age'] = prod['year']['max'] - prod['year']['min']\n",
    "prod['prod'] = prod['year']['count'] / (prod['career_age'])"
   ]
  },
  {
   "cell_type": "code",
   "execution_count": 242,
   "id": "9f61b063",
   "metadata": {},
   "outputs": [
    {
     "name": "stdout",
     "output_type": "stream",
     "text": [
      "Proportion of men authors with CA 0:  39.94 %\n",
      "Proportion of women authors with CA 0:  47.55 %\n"
     ]
    }
   ],
   "source": [
    "# what is the ratio of men / women authors with career age of 0?\n",
    "\n",
    "ca_zero = prod[prod['career_age'] == 0]\n",
    "ca_zero.sort_values([('year','count')], ascending=False).head()\n",
    "\n",
    "# Separating the DataFrame by gender\n",
    "prod_all_m = prod.copy().xs('male', level='gender').sort_values(\n",
    "    by=['prod'],ascending=False, ignore_index=True)\n",
    "prod_all_w = prod.copy().xs('female', level='gender').sort_values(\n",
    "    by=['prod'],ascending=False)\n",
    "\n",
    "ca_zero_m = ca_zero.copy().xs('male', level='gender').sort_values(\n",
    "    by=['prod'],ascending=False, ignore_index=True)\n",
    "ca_zero_w = ca_zero.copy().xs('female', level='gender').sort_values(\n",
    "    by=['prod'],ascending=False)\n",
    "\n",
    "# Career Age by gender\n",
    "ca_all_m = prod_all_m.groupby(['career_age'])['career_age'].count()\n",
    "ca_all_w = prod_all_w.groupby(['career_age'])['career_age'].count()\n",
    "\n",
    "ca_zero_m = ca_zero_m.groupby(['career_age'])['career_age'].count()\n",
    "ca_zero_w = ca_zero_w.groupby(['career_age'])['career_age'].count()\n",
    "\n",
    "print(\"Proportion of men authors with CA 0: \", format(sum(ca_zero_m)/sum(ca_all_m) * 100, \".2f\"), \"%\")\n",
    "print(\"Proportion of women authors with CA 0: \", format(sum(ca_zero_w)/sum(ca_all_w) * 100, \".2f\"), \"%\")"
   ]
  },
  {
   "cell_type": "code",
   "execution_count": 244,
   "id": "506ab32a",
   "metadata": {},
   "outputs": [],
   "source": [
    "# exclude 0 career age\n",
    "prod = prod[prod['career_age'] != 0]\n",
    "\n",
    "prod.sort_values([('year','count')], ascending=False).head()\n",
    "\n",
    "# Separating the DataFrame by gender\n",
    "prod_m = prod.xs('male', level='gender').sort_values(\n",
    "    by=['prod'],ascending=False, ignore_index=True)\n",
    "prod_w = prod.xs('female', level='gender').sort_values(\n",
    "    by=['prod'],ascending=False)\n",
    "\n",
    "# Career Age by gender\n",
    "ca_m = prod_m.groupby(['career_age'])['career_age'].count()\n",
    "ca_w = prod_w.groupby(['career_age'])['career_age'].count()"
   ]
  },
  {
   "cell_type": "code",
   "execution_count": 147,
   "id": "fb3699da",
   "metadata": {},
   "outputs": [
    {
     "data": {
      "image/png": "[encoded data removed]",
      "text/plain": [
       "<Figure size 432x324 with 1 Axes>"
      ]
     },
     "metadata": {
      "needs_background": "light"
     },
     "output_type": "display_data"
    }
   ],
   "source": [
    "# Career age vs. Number of authors, separated by gender\n",
    "fig, ax = plt.subplots(figsize=(6,4.5))\n",
    "right_side = ax.spines[\"right\"]\n",
    "top_side = ax.spines[\"top\"]\n",
    "right_side.set_visible(False)\n",
    "top_side.set_visible(False)\n",
    "\n",
    "# Men authors\n",
    "ca_m.plot(color='#67a9cf', lw=3)\n",
    "# Women authors\n",
    "ca_w.plot(color='#ef8a62', lw=3)\n",
    "\n",
    "plt.xticks(fontsize=20)\n",
    "plt.xlim(1,35)\n",
    "plt.yticks(fontsize=20)\n",
    "plt.legend(['men', 'women'], loc='upper right', fontsize=20)\n",
    "plt.xlabel('Career Age', fontsize=20)\n",
    "plt.ylabel('Number of authors', fontsize=20)\n",
    "plt.tight_layout()\n",
    "fig.savefig(f\"/Users/robinkong/codes/SI_Fig_4.pdf\")"
   ]
  },
  {
   "cell_type": "code",
   "execution_count": 148,
   "id": "70410b15",
   "metadata": {},
   "outputs": [
    {
     "data": {
      "image/png": "[encoded data removed]",
      "text/plain": [
       "<Figure size 432x324 with 1 Axes>"
      ]
     },
     "metadata": {
      "needs_background": "light"
     },
     "output_type": "display_data"
    }
   ],
   "source": [
    "# Comparing PDFs\n",
    "\n",
    "fig, ax = plt.subplots(figsize=(6,4.5))\n",
    "right_side = ax.spines[\"right\"]\n",
    "top_side = ax.spines[\"top\"]\n",
    "right_side.set_visible(False)\n",
    "top_side.set_visible(False)\n",
    "\n",
    "ax1 = sns.distplot(prod_m['prod'], ax=ax, label='male', color= '#67a9cf',kde_kws=dict(linewidth=3))\n",
    "fit = ax1.get_lines()[0].get_data() # Getting the data from the plotted line\n",
    "xfit, yfit = fit[0], fit[1]\n",
    "ax1.legend()\n",
    "\n",
    "ax2 = sns.distplot(prod_w['prod'], ax=ax, label='female', color= '#ef8a62',kde_kws=dict(linewidth=3))\n",
    "fit = ax2.get_lines()[0].get_data() # Getting the data from the plotted line\n",
    "xfit, yfit = fit[0], fit[1]\n",
    "ax2.legend()\n",
    "\n",
    "plt.legend(('men', 'women'), loc='upper right', fontsize=20)\n",
    "plt.xlabel('Productivity', fontsize=20)\n",
    "plt.xlim(xmin=-1, xmax=6)\n",
    "plt.ylim(ymax=1)\n",
    "plt.xticks(fontsize=20)\n",
    "plt.yticks(fontsize=20)\n",
    "plt.ylabel('Probability', fontsize=20)\n",
    "\n",
    "plt.tight_layout()\n",
    "fig.savefig(f\"/Users/robinkong/codes/SI_Fig_5A.pdf\")"
   ]
  },
  {
   "cell_type": "code",
   "execution_count": 149,
   "id": "2e055ebb",
   "metadata": {},
   "outputs": [],
   "source": [
    "# creating CDF data for productivity\n",
    "\n",
    "from scipy.interpolate import make_interp_spline, BSpline\n",
    "from scipy.interpolate import interp1d\n",
    "\n",
    "cdf1=np.arange(len(prod_m))/float(len(prod_m)-1)\n",
    "cdf2=np.arange(len(prod_w))/float(len(prod_w)-1)"
   ]
  },
  {
   "cell_type": "code",
   "execution_count": 150,
   "id": "0f8b5811",
   "metadata": {},
   "outputs": [
    {
     "data": {
      "image/png": "[encoded data removed]",
      "text/plain": [
       "<Figure size 432x324 with 1 Axes>"
      ]
     },
     "metadata": {
      "needs_background": "light"
     },
     "output_type": "display_data"
    }
   ],
   "source": [
    "# Productivity CDF Plots\n",
    "fig, ax = plt.subplots(figsize=(6,4.5))\n",
    "right_side = ax.spines[\"right\"]\n",
    "top_side = ax.spines[\"top\"]\n",
    "right_side.set_visible(False)\n",
    "top_side.set_visible(False)\n",
    "\n",
    "# Men authors\n",
    "plt.plot(prod_m['prod'],1-cdf1, color='#67a9cf', lw=2)\n",
    "# Women authors\n",
    "plt.plot(prod_w['prod'],1-cdf2, color='#ef8a62', lw=2)\n",
    "\n",
    "plt.xlabel('Productivity', fontsize=20)\n",
    "plt.xticks(fontsize=20)\n",
    "plt.xlim(xmin=0, xmax=4)\n",
    "plt.ylabel('Probability', fontsize=20)\n",
    "plt.yticks(fontsize=20)\n",
    "plt.legend(['men', 'women'], loc='lower right', fontsize=20)\n",
    "plt.tight_layout()\n",
    "fig.savefig(f\"/Users/robinkong/codes/SI_Fig_5B.pdf\")"
   ]
  },
  {
   "cell_type": "code",
   "execution_count": 151,
   "id": "9e6b4563",
   "metadata": {},
   "outputs": [
    {
     "name": "stdout",
     "output_type": "stream",
     "text": [
      "KstestResult(statistic=0.018202555828965516, pvalue=0.009234174631446435)\n",
      "KstestResult(statistic=0.018202555828965516, pvalue=0.004611690077413463)\n",
      "KstestResult(statistic=0.011233456954864107, pvalue=0.12848612339506094)\n"
     ]
    }
   ],
   "source": [
    "# Run K-S test to compare the productivity\n",
    "\n",
    "print(ks_2samp(prod_m['prod'], prod_w['prod']))\n",
    "print(ks_2samp(prod_m['prod'], prod_w['prod'], alternative='greater'))\n",
    "print(ks_2samp(prod_m['prod'], prod_w['prod'], alternative='less'))"
   ]
  },
  {
   "cell_type": "markdown",
   "id": "67de47ec",
   "metadata": {},
   "source": [
    "We see greater difference in productivity in favor of men authors."
   ]
  },
  {
   "cell_type": "code",
   "execution_count": 152,
   "id": "67610ced",
   "metadata": {},
   "outputs": [
    {
     "name": "stdout",
     "output_type": "stream",
     "text": [
      "0.4909090909090909\n"
     ]
    }
   ],
   "source": [
    "# find out where the greatest difference in productivity occurs\n",
    "\n",
    "def ks_2samp_x(data1, data2, alternative=\"two-sided\"):\n",
    "    data1 = np.sort(data1)\n",
    "    data2 = np.sort(data2)\n",
    "    n1 = data1.shape[0]\n",
    "    n2 = data2.shape[0]\n",
    "\n",
    "    data_all = np.concatenate([data1, data2])\n",
    "    # using searchsorted solves equal data problem\n",
    "    cdf1 = np.searchsorted(data1, data_all, side='right') / n1\n",
    "    cdf2 = np.searchsorted(data2, data_all, side='right') / n2\n",
    "    cddiffs = cdf1 - cdf2\n",
    "    minS = np.argmin(cddiffs)   # ks_2samp uses np.min or np.max respectively \n",
    "    maxS = np.argmax(cddiffs)   # now we get instead the index in data_all\n",
    "    alt2Dvalue = {'less': minS, 'greater': maxS, 'two-sided': max(minS, maxS)}\n",
    "    d_arg = alt2Dvalue[alternative]\n",
    "    return data_all[d_arg]\n",
    "\n",
    "print(ks_2samp_x(prod_m['prod'], prod_w['prod'], alternative='greater'))"
   ]
  },
  {
   "cell_type": "code",
   "execution_count": 153,
   "id": "3744e4cf",
   "metadata": {},
   "outputs": [
    {
     "data": {
      "image/png": "[encoded data removed]",
      "text/plain": [
       "<Figure size 432x324 with 1 Axes>"
      ]
     },
     "metadata": {
      "needs_background": "light"
     },
     "output_type": "display_data"
    }
   ],
   "source": [
    "# Productivity CDF Plots\n",
    "fig, ax = plt.subplots(figsize=(6,4.5))\n",
    "right_side = ax.spines[\"right\"]\n",
    "top_side = ax.spines[\"top\"]\n",
    "right_side.set_visible(False)\n",
    "top_side.set_visible(False)\n",
    "\n",
    "# Men authors\n",
    "plt.plot(prod_m['prod'],1-cdf1, color='#67a9cf', lw=2)\n",
    "# Women authors\n",
    "plt.plot(prod_w['prod'],1-cdf2, color='#ef8a62', lw=2)\n",
    "\n",
    "plt.xlabel('Productivity', fontsize=20)\n",
    "plt.xticks(fontsize=20)\n",
    "plt.xlim(xmin=0, xmax=4)\n",
    "plt.ylabel('Probability', fontsize=20)\n",
    "plt.yticks(fontsize=20)\n",
    "plt.legend(['men', 'women'], loc='lower right', fontsize=20)\n",
    "plt.tight_layout()\n",
    "\n",
    "# Use the following xlim, ylim instead for zoomed-in plot\n",
    "plt.xlim(xmin=0.45, xmax=0.55)\n",
    "plt.ylim(ymin=0.16, ymax=0.28)\n",
    "plt.tight_layout()\n",
    "fig.savefig(f\"/Users/robinkong/codes/SI_Fig_5C.pdf\")"
   ]
  },
  {
   "cell_type": "markdown",
   "id": "7ee2472d",
   "metadata": {},
   "source": [
    "### Dropout Rate Comparison"
   ]
  },
  {
   "cell_type": "code",
   "execution_count": 245,
   "id": "e88e1600",
   "metadata": {},
   "outputs": [],
   "source": [
    "# exclude authors who enter APS publication after 2004\n",
    "# create scatterplot of dropout authors by career age\n",
    "\n",
    "dropout = prod[prod['year']['min'] < 2004].groupby(\n",
    "    ['gender', 'career_age'])['career_age'].count()\n",
    "\n",
    "dropout_m = dropout['male'].sort_index(ascending=False)\n",
    "dropout_w = dropout['female'].sort_index(ascending=False)"
   ]
  },
  {
   "cell_type": "code",
   "execution_count": 155,
   "id": "45315531",
   "metadata": {},
   "outputs": [
    {
     "data": {
      "image/png": "[encoded data removed]",
      "text/plain": [
       "<Figure size 432x324 with 1 Axes>"
      ]
     },
     "metadata": {
      "needs_background": "light"
     },
     "output_type": "display_data"
    }
   ],
   "source": [
    "# Career Age vs. Proportion of Dropout (plot)\n",
    "\n",
    "fig, ax = plt.subplots(figsize=(6,4.5))\n",
    "right_side = ax.spines[\"right\"]\n",
    "top_side = ax.spines[\"top\"]\n",
    "right_side.set_visible(False)\n",
    "top_side.set_visible(False)\n",
    "\n",
    "# Men authors\n",
    "(dropout_m/dropout_m.cumsum()).iloc[::-1].plot(\n",
    "    style='.-', color='#67a9cf', lw=3)\n",
    "# Women authors\n",
    "(dropout_w/dropout_w.cumsum()).iloc[::-1].plot(\n",
    "    style='.-',color='#ef8a62', lw=3)\n",
    "\n",
    "plt.legend(('men', 'women'), loc='upper left', fontsize=20)\n",
    "plt.xlabel('Career Age', fontsize=20)\n",
    "plt.xlim(0,30)\n",
    "plt.ylabel('Proportion of Dropout', fontsize=20)\n",
    "plt.ylim(0, 0.2)\n",
    "plt.xticks(fontsize=20)\n",
    "plt.yticks(fontsize=20)\n",
    "\n",
    "plt.tight_layout()\n",
    "fig.savefig(f\"/Users/robinkong/codes/Fig_1C.pdf\")"
   ]
  },
  {
   "cell_type": "code",
   "execution_count": 246,
   "id": "e12d98bf",
   "metadata": {},
   "outputs": [
    {
     "data": {
      "text/plain": [
       "career_age\n",
       "1    0.022787\n",
       "6    0.022569\n",
       "7    0.019336\n",
       "5    0.019038\n",
       "2    0.018583\n",
       "Name: career_age, dtype: float64"
      ]
     },
     "execution_count": 246,
     "metadata": {},
     "output_type": "execute_result"
    }
   ],
   "source": [
    "# dropout rate comparison\n",
    "\n",
    "do_comparison = (dropout_w/dropout_w.cumsum() - dropout_m/dropout_m.cumsum())\n",
    "do_comparison[:19].sort_values(ascending=False)[:5]"
   ]
  },
  {
   "cell_type": "markdown",
   "id": "45ea8b8d",
   "metadata": {},
   "source": [
    "### Career Age Analysis"
   ]
  },
  {
   "cell_type": "code",
   "execution_count": 156,
   "id": "4cb96d02",
   "metadata": {},
   "outputs": [],
   "source": [
    "# Set up DataFrames for Career Age vs. Average number of publications\n",
    "# separated by gender\n",
    "\n",
    "subdata = paperdata.copy().drop(['order','doi','numAuthor',\n",
    "                                 'is_alpha','articleType','journal'],\n",
    "                    axis=1).sort_values(by=['id', 'year'])\n",
    "subdata[\"ca\"] = subdata.groupby(\"id\")[\"year\"].transform(lambda x: x - x.min())\n",
    "\n",
    "subdata_m = subdata[subdata['gender'] == 'male'].drop(\n",
    "    ['gender', 'year'], axis=1).groupby(['id', 'ca']).size().to_frame(\n",
    "    name='count').reset_index(level='id', drop=True).reset_index()\n",
    "\n",
    "subdata_w = subdata[subdata['gender'] == 'female'].drop(\n",
    "    ['gender', 'year'], axis=1).groupby(['id', 'ca']).size().to_frame(\n",
    "    name='count').reset_index(level='id', drop=True).reset_index()\n",
    "\n",
    "subdata_m = subdata_m.groupby(\"ca\").agg(\n",
    "    ['count', np.mean, np.std]).reset_index()\n",
    "subdata_w = subdata_w.groupby(\"ca\").agg(\n",
    "    ['count', np.mean, np.std]).reset_index()"
   ]
  },
  {
   "cell_type": "code",
   "execution_count": 157,
   "id": "4efd7951",
   "metadata": {},
   "outputs": [],
   "source": [
    "# Calculate standard error for the shaded area in plots\n",
    "\n",
    "semlist1, semlist2 = [], []\n",
    "\n",
    "for i in range(len(subdata_m)):\n",
    "    semlist1.append(subdata_m[\"count\"]['std'][i]/math.sqrt(subdata_m[\"count\"]['count'][i]))\n",
    "subdata_m['sem'] = semlist1\n",
    "\n",
    "for i in range(len(subdata_w)):\n",
    "    semlist2.append(subdata_w[\"count\"]['std'][i]/math.sqrt(subdata_w[\"count\"]['count'][i]))\n",
    "subdata_w['sem'] = semlist2\n",
    "\n",
    "# Append to the existing DataFrames\n",
    "subdata_m = subdata_m.set_index('ca').reindex(range(\n",
    "    subdata_m.ca.min(),subdata_m.ca.max()+1)).fillna(np.nan).reset_index()\n",
    "subdata_w = subdata_w.set_index('ca').reindex(range(\n",
    "    subdata_w.ca.min(),subdata_w.ca.max()+1)).fillna(np.nan).reset_index()"
   ]
  },
  {
   "cell_type": "code",
   "execution_count": 158,
   "id": "e5c6f95a",
   "metadata": {},
   "outputs": [
    {
     "data": {
      "image/png": "[encoded data removed]",
      "text/plain": [
       "<Figure size 432x324 with 1 Axes>"
      ]
     },
     "metadata": {
      "needs_background": "light"
     },
     "output_type": "display_data"
    }
   ],
   "source": [
    "# Career age vs. Average number of publications (plot)\n",
    "\n",
    "fig, ax = plt.subplots(figsize=(6,4.5))\n",
    "right_side = ax.spines[\"right\"]\n",
    "top_side = ax.spines[\"top\"]\n",
    "right_side.set_visible(False)\n",
    "top_side.set_visible(False)\n",
    "\n",
    "# Men authors\n",
    "plt.plot(subdata_m.ca,subdata_m[\"count\"][\"mean\"],\"-\",label=\"men\",\n",
    "         color='#67a9cf', lw=3)\n",
    "\n",
    "# shading the SE area (man)\n",
    "X  = np.linspace(min(subdata_m.ca),max(subdata_m.ca),subdata_m.ca.nunique())\n",
    "plt.fill_between(X,\n",
    "                 subdata_m[\"count\"][\"mean\"] + subdata_m[\"sem\"],\n",
    "                 subdata_m[\"count\"][\"mean\"] - subdata_m[\"sem\"],\n",
    "                 color='C0',alpha=.4,edgecolor=\"none\")\n",
    "\n",
    "# Women authors\n",
    "plt.plot(subdata_w.ca,subdata_w[\"count\"][\"mean\"],\"-\",label=\"women\",\n",
    "         color='#ef8a62', lw=3)\n",
    "\n",
    "# shading the SE area (woman)\n",
    "X  = np.linspace(min(subdata_w.ca),max(subdata_w.ca),subdata_w.ca.nunique())\n",
    "plt.fill_between(X,\n",
    "                 subdata_w[\"count\"][\"mean\"] + subdata_w[\"sem\"],\n",
    "                 subdata_w[\"count\"][\"mean\"] - subdata_w[\"sem\"],\n",
    "                 color='C1',alpha=.4,edgecolor=\"none\")\n",
    "\n",
    "plt.xticks(fontsize=20)\n",
    "plt.yticks(fontsize=20)\n",
    "plt.xlabel(\"Career Age\",fontsize=20)\n",
    "plt.ylabel(\"Average Number of\\n Publications\",fontsize=20)\n",
    "plt.xlim(xmin=0, xmax=30)\n",
    "plt.ylim(ymin=1, ymax=3)\n",
    "plt.legend(loc='upper left', fontsize=20)\n",
    "\n",
    "plt.tight_layout()\n",
    "fig.savefig(f\"/Users/robinkong/codes/Fig_1B.pdf\")"
   ]
  },
  {
   "cell_type": "markdown",
   "id": "03bc2c55",
   "metadata": {},
   "source": [
    "# Network / Similarity Analyses\n",
    "\n",
    "## Pair matching (Pre-requisite)"
   ]
  },
  {
   "cell_type": "code",
   "execution_count": 20,
   "id": "3ed3805e",
   "metadata": {},
   "outputs": [
    {
     "data": {
      "text/html": [
       "<div>\n",
       "<style scoped>\n",
       "    .dataframe tbody tr th:only-of-type {\n",
       "        vertical-align: middle;\n",
       "    }\n",
       "\n",
       "    .dataframe tbody tr th {\n",
       "        vertical-align: top;\n",
       "    }\n",
       "\n",
       "    .dataframe thead th {\n",
       "        text-align: right;\n",
       "    }\n",
       "</style>\n",
       "<table border=\"1\" class=\"dataframe\">\n",
       "  <thead>\n",
       "    <tr style=\"text-align: right;\">\n",
       "      <th></th>\n",
       "      <th>citing_doi</th>\n",
       "      <th>citing_year</th>\n",
       "      <th>cited_doi</th>\n",
       "    </tr>\n",
       "  </thead>\n",
       "  <tbody>\n",
       "    <tr>\n",
       "      <th>120191</th>\n",
       "      <td>10.1103/PhysRev.21.250</td>\n",
       "      <td>1923</td>\n",
       "      <td>10.1103/PhysRev.1.124</td>\n",
       "    </tr>\n",
       "    <tr>\n",
       "      <th>123113</th>\n",
       "      <td>10.1103/PhysRev.40.281</td>\n",
       "      <td>1932</td>\n",
       "      <td>10.1103/PhysRev.1.124</td>\n",
       "    </tr>\n",
       "    <tr>\n",
       "      <th>120140</th>\n",
       "      <td>10.1103/PhysRev.2.109</td>\n",
       "      <td>1913</td>\n",
       "      <td>10.1103/PhysRev.1.124</td>\n",
       "    </tr>\n",
       "    <tr>\n",
       "      <th>144119</th>\n",
       "      <td>10.1103/PhysRev.8.738</td>\n",
       "      <td>1916</td>\n",
       "      <td>10.1103/PhysRev.1.124</td>\n",
       "    </tr>\n",
       "    <tr>\n",
       "      <th>2739988</th>\n",
       "      <td>10.1103/PhysRevSeriesI.2.1</td>\n",
       "      <td>1894</td>\n",
       "      <td>10.1103/PhysRev.1.2</td>\n",
       "    </tr>\n",
       "  </tbody>\n",
       "</table>\n",
       "</div>"
      ],
      "text/plain": [
       "                         citing_doi  citing_year              cited_doi\n",
       "120191       10.1103/PhysRev.21.250         1923  10.1103/PhysRev.1.124\n",
       "123113       10.1103/PhysRev.40.281         1932  10.1103/PhysRev.1.124\n",
       "120140        10.1103/PhysRev.2.109         1913  10.1103/PhysRev.1.124\n",
       "144119        10.1103/PhysRev.8.738         1916  10.1103/PhysRev.1.124\n",
       "2739988  10.1103/PhysRevSeriesI.2.1         1894    10.1103/PhysRev.1.2"
      ]
     },
     "execution_count": 20,
     "metadata": {},
     "output_type": "execute_result"
    }
   ],
   "source": [
    "# DataFrame: {citing_doi, citing_year, cited_doi}\n",
    "\n",
    "citinfo = primdata[[\"doi\", \"year\"]].drop_duplicates(subset = 'doi')\n",
    "# citinfo = lastdata[[\"doi\", \"year\"]].drop_duplicates(subset = 'doi')\n",
    "cols = ['citing_doi', 'citing_year', 'cited_doi']\n",
    "\n",
    "citinfo = citinfo.merge(cb, left_on = 'doi', right_on = 'citing_doi',\n",
    "              how = 'inner').drop(['doi'], axis=1).rename(\n",
    "                  {'year': 'citing_year'}, axis=1).reindex(\n",
    "                      columns=cols).sort_values('cited_doi')\n",
    "\n",
    "citinfo.head()"
   ]
  },
  {
   "cell_type": "markdown",
   "id": "9d1dea74",
   "metadata": {},
   "source": [
    "## Self-citation Analysis"
   ]
  },
  {
   "cell_type": "code",
   "execution_count": 21,
   "id": "ef43bf54",
   "metadata": {},
   "outputs": [
    {
     "name": "stdout",
     "output_type": "stream",
     "text": [
      "16136416\n"
     ]
    },
    {
     "data": {
      "text/html": [
       "<div>\n",
       "<style scoped>\n",
       "    .dataframe tbody tr th:only-of-type {\n",
       "        vertical-align: middle;\n",
       "    }\n",
       "\n",
       "    .dataframe tbody tr th {\n",
       "        vertical-align: top;\n",
       "    }\n",
       "\n",
       "    .dataframe thead th {\n",
       "        text-align: right;\n",
       "    }\n",
       "</style>\n",
       "<table border=\"1\" class=\"dataframe\">\n",
       "  <thead>\n",
       "    <tr style=\"text-align: right;\">\n",
       "      <th></th>\n",
       "      <th>citing_doi</th>\n",
       "      <th>citing_year</th>\n",
       "      <th>cited_doi</th>\n",
       "      <th>citing_id</th>\n",
       "      <th>citing_gender</th>\n",
       "      <th>cited_id</th>\n",
       "    </tr>\n",
       "  </thead>\n",
       "  <tbody>\n",
       "    <tr>\n",
       "      <th>0</th>\n",
       "      <td>10.1103/PhysRev.21.250</td>\n",
       "      <td>1923</td>\n",
       "      <td>10.1103/PhysRev.1.124</td>\n",
       "      <td>212878</td>\n",
       "      <td>male</td>\n",
       "      <td>106864</td>\n",
       "    </tr>\n",
       "    <tr>\n",
       "      <th>1</th>\n",
       "      <td>10.1103/PhysRev.40.281</td>\n",
       "      <td>1932</td>\n",
       "      <td>10.1103/PhysRev.1.124</td>\n",
       "      <td>211997</td>\n",
       "      <td>male</td>\n",
       "      <td>106864</td>\n",
       "    </tr>\n",
       "    <tr>\n",
       "      <th>2</th>\n",
       "      <td>10.1103/PhysRev.2.109</td>\n",
       "      <td>1913</td>\n",
       "      <td>10.1103/PhysRev.1.124</td>\n",
       "      <td>109426</td>\n",
       "      <td>male</td>\n",
       "      <td>106864</td>\n",
       "    </tr>\n",
       "    <tr>\n",
       "      <th>3</th>\n",
       "      <td>10.1103/PhysRev.8.738</td>\n",
       "      <td>1916</td>\n",
       "      <td>10.1103/PhysRev.1.124</td>\n",
       "      <td>165511</td>\n",
       "      <td>female</td>\n",
       "      <td>106864</td>\n",
       "    </tr>\n",
       "    <tr>\n",
       "      <th>4</th>\n",
       "      <td>10.1103/PhysRev.21.250</td>\n",
       "      <td>1923</td>\n",
       "      <td>10.1103/PhysRev.17.354</td>\n",
       "      <td>212878</td>\n",
       "      <td>male</td>\n",
       "      <td>94158</td>\n",
       "    </tr>\n",
       "  </tbody>\n",
       "</table>\n",
       "</div>"
      ],
      "text/plain": [
       "               citing_doi  citing_year               cited_doi  citing_id  \\\n",
       "0  10.1103/PhysRev.21.250         1923   10.1103/PhysRev.1.124     212878   \n",
       "1  10.1103/PhysRev.40.281         1932   10.1103/PhysRev.1.124     211997   \n",
       "2   10.1103/PhysRev.2.109         1913   10.1103/PhysRev.1.124     109426   \n",
       "3   10.1103/PhysRev.8.738         1916   10.1103/PhysRev.1.124     165511   \n",
       "4  10.1103/PhysRev.21.250         1923  10.1103/PhysRev.17.354     212878   \n",
       "\n",
       "  citing_gender  cited_id  \n",
       "0          male    106864  \n",
       "1          male    106864  \n",
       "2          male    106864  \n",
       "3        female    106864  \n",
       "4          male     94158  "
      ]
     },
     "execution_count": 21,
     "metadata": {},
     "output_type": "execute_result"
    }
   ],
   "source": [
    "# creating all citation dataset with gender information\n",
    "\n",
    "self1 = citinfo.copy()\n",
    "# self2 = primdata[['doi','id','gender']]\n",
    "self2 = paperdata[['doi','id','gender']]\n",
    "\n",
    "# selfinfo = self1.merge(self2, left_on='citing_doi', right_on='doi').drop(\n",
    "#     ['citing_doi', 'doi'], axis=1).drop_duplicates().reset_index(drop=True)\n",
    "# selfinfo.columns = ['citing_year', 'cited_doi', 'citing_id', 'citing_gender']\n",
    "\n",
    "selfinfo = self1.merge(self2, left_on='citing_doi', right_on='doi').drop(\n",
    "    ['doi'], axis=1).drop_duplicates().reset_index(drop=True)\n",
    "selfinfo.columns = ['citing_doi', 'citing_year', 'cited_doi', 'citing_id', 'citing_gender']\n",
    "\n",
    "# selfinfo = selfinfo.merge(self2, left_on='cited_doi', right_on='doi').drop(\n",
    "#     ['cited_doi', 'doi', 'gender'], axis=1).drop_duplicates().reset_index(drop=True)\n",
    "# selfinfo.columns = ['citing_year', 'citing_id', 'citing_gender', 'cited_id']\n",
    "\n",
    "selfinfo = selfinfo.merge(self2, left_on='cited_doi', right_on='doi').drop(\n",
    "    ['doi', 'gender'], axis=1).drop_duplicates().reset_index(drop=True)\n",
    "selfinfo.columns = ['citing_doi', 'citing_year', 'cited_doi', 'citing_id', 'citing_gender', 'cited_id']\n",
    "\n",
    "print(len(selfinfo))\n",
    "selfinfo.head()"
   ]
  },
  {
   "cell_type": "code",
   "execution_count": 23,
   "id": "e1e28125",
   "metadata": {},
   "outputs": [],
   "source": [
    "# create a DataFrame with self-citing authors by gender\n",
    "\n",
    "# all sample (population)\n",
    "pop = selfinfo.copy().groupby(['citing_year'])['citing_year'].count()\n",
    "\n",
    "# men authors\n",
    "mpop = selfinfo.copy().loc[selfinfo['citing_gender'] == 'male'].groupby(\n",
    "    ['citing_year'])['citing_year'].count()\n",
    "# women authors\n",
    "wpop = selfinfo.copy().loc[selfinfo['citing_gender'] == 'female'].groupby(\n",
    "    ['citing_year'])['citing_year'].count()\n",
    "\n",
    "# self citing authors\n",
    "selfcit = selfinfo.copy().loc[selfinfo['citing_id'] == selfinfo['cited_id']].groupby(\n",
    "    ['citing_year'])['citing_year'].count()\n",
    "\n",
    "# men self citing authors\n",
    "m_sc = selfinfo.copy().loc[(selfinfo['citing_id'] == selfinfo['cited_id']) &\n",
    "                   (selfinfo['citing_gender'] == 'male')].groupby(\n",
    "                       ['citing_year'])['citing_year'].count()\n",
    "# women self citing authors\n",
    "w_sc = selfinfo.copy().loc[(selfinfo['citing_id'] == selfinfo['cited_id']) & \n",
    "                     (selfinfo['citing_gender'] == 'female')].groupby(\n",
    "                         ['citing_year'])['citing_year'].count()\n",
    "\n",
    "# missing values to 0\n",
    "pop[np.isnan(pop)] = 0\n",
    "mpop[np.isnan(mpop)] = 0\n",
    "wpop[np.isnan(wpop)] = 0\n",
    "selfcit[np.isnan(selfcit)] = 0\n",
    "m_sc[np.isnan(m_sc)] = 0\n",
    "w_sc[np.isnan(w_sc)] = 0"
   ]
  },
  {
   "cell_type": "code",
   "execution_count": 24,
   "id": "6c0573f8",
   "metadata": {},
   "outputs": [
    {
     "name": "stdout",
     "output_type": "stream",
     "text": [
      "Total # of citations:  16136416\n",
      "Total # of citations by men:  14282632\n",
      "Proportion of men citation:  0.8851\n",
      "Total # of citations by women:  1853784\n",
      "Proportion of women citation:  0.1149\n",
      "\n",
      "Total # of self-citations:  655514\n",
      "Total # of self-citations by men:  596627\n",
      "Proportion of men self-citation:  0.9102\n",
      "Total # of self-citations by women:  58887\n",
      "Proportion of women self-citation:  0.0898\n",
      "\n",
      "Self-citation ratio:  4.06 %\n",
      "Men's self-citation ratio:  4.18 %\n",
      "Women's self-citation ratio:  3.18 %\n"
     ]
    }
   ],
   "source": [
    "# self-citation statistics per citation\n",
    "\n",
    "print(\"Total # of citations: \", sum(pop))\n",
    "print(\"Total # of citations by men: \", sum(mpop))\n",
    "print(\"Proportion of men citation: \", format(sum(mpop)/sum(pop), \".4f\"))\n",
    "print(\"Total # of citations by women: \", sum(wpop))\n",
    "print(\"Proportion of women citation: \", format(sum(wpop)/sum(pop), \".4f\"))\n",
    "print(\"\")\n",
    "print(\"Total # of self-citations: \", sum(selfcit))\n",
    "print(\"Total # of self-citations by men: \", sum(m_sc))\n",
    "print(\"Proportion of men self-citation: \", format(sum(m_sc)/sum(selfcit), \".4f\"))\n",
    "print(\"Total # of self-citations by women: \", sum(w_sc))\n",
    "print(\"Proportion of women self-citation: \", format(sum(w_sc)/sum(selfcit), \".4f\"))\n",
    "print(\"\")\n",
    "print(\"Self-citation ratio: \", format(sum(selfcit)/sum(pop) * 100, \".2f\"), \"%\")\n",
    "print(\"Men's self-citation ratio: \", format(sum(m_sc)/sum(mpop) * 100, \".2f\"), \"%\")\n",
    "print(\"Women's self-citation ratio: \", format(sum(w_sc)/sum(wpop) * 100, \".2f\"), \"%\")"
   ]
  },
  {
   "cell_type": "code",
   "execution_count": 25,
   "id": "0f122b19",
   "metadata": {},
   "outputs": [
    {
     "name": "stdout",
     "output_type": "stream",
     "text": [
      "Total # of observed authors:  105926\n",
      "Total # of observed men authors:  90558\n",
      "Proportion of observed men authors:  0.8549\n",
      "Total # of observed women authors:  15368\n",
      "Proportion of observed women authors:  0.1451\n",
      "\n",
      "Total # of observed self-citing authors:  52978\n",
      "Total # of observed self-citing men authors:  46353\n",
      "Proportion of observed self-citing men authors:  0.8749\n",
      "Total # of observed self-citing women authors:  6625\n",
      "Proportion of observed self-citing women authors:  0.1251\n",
      "\n",
      "Self-citation ratio (per author):  50.01 %\n",
      "Men's self-citation ratio (per author):  51.19 %\n",
      "Women's self-citation ratio (per author):  43.11 %\n"
     ]
    }
   ],
   "source": [
    "# self-citation statistics per author\n",
    "\n",
    "observed = selfinfo.citing_id.nunique()\n",
    "observed_m = selfinfo.query('citing_gender == \"male\"').citing_id.nunique()\n",
    "observed_w = selfinfo.query('citing_gender == \"female\"').citing_id.nunique()\n",
    "\n",
    "selfcit_author = selfinfo.query('citing_id == cited_id').citing_id.nunique()\n",
    "selfcit_author_m = selfinfo.query(\n",
    "    'citing_id == cited_id & citing_gender == \"male\"').citing_id.nunique()\n",
    "selfcit_author_w = selfinfo.query(\n",
    "    'citing_id == cited_id & citing_gender == \"female\"').citing_id.nunique()\n",
    "\n",
    "print(\"Total # of observed authors: \", observed)\n",
    "print(\"Total # of observed men authors: \", observed_m)\n",
    "print(\"Proportion of observed men authors: \", format(observed_m/observed, \".4f\"))\n",
    "print(\"Total # of observed women authors: \", observed_w)\n",
    "print(\"Proportion of observed women authors: \", format(observed_w/observed, \".4f\"))\n",
    "print(\"\")\n",
    "print(\"Total # of observed self-citing authors: \", selfcit_author)\n",
    "print(\"Total # of observed self-citing men authors: \", selfcit_author_m)\n",
    "print(\"Proportion of observed self-citing men authors: \", format(selfcit_author_m/selfcit_author, \".4f\"))\n",
    "print(\"Total # of observed self-citing women authors: \", selfcit_author_w)\n",
    "print(\"Proportion of observed self-citing women authors: \", format(selfcit_author_w/selfcit_author, \".4f\"))\n",
    "print(\"\")\n",
    "print(\"Self-citation ratio (per author): \", format(selfcit_author/observed * 100, \".2f\"), \"%\")\n",
    "print(\"Men's self-citation ratio (per author): \", format(selfcit_author_m/observed_m * 100, \".2f\"), \"%\")\n",
    "print(\"Women's self-citation ratio (per author): \", format(selfcit_author_w/observed_w * 100, \".2f\"), \"%\")"
   ]
  },
  {
   "cell_type": "code",
   "execution_count": 26,
   "id": "86b8b5a9",
   "metadata": {},
   "outputs": [
    {
     "data": {
      "image/png": "[encoded data removed]",
      "text/plain": [
       "<Figure size 432x324 with 1 Axes>"
      ]
     },
     "metadata": {
      "needs_background": "light"
     },
     "output_type": "display_data"
    }
   ],
   "source": [
    "# calculate r-value\n",
    "r1 = ((m_sc/selfcit)/(w_sc/selfcit))\n",
    "r2 = ((wpop/pop)/(mpop/pop))\n",
    "r = r1*r2\n",
    "\n",
    "# create r-value plot\n",
    "fig, ax = plt.subplots(figsize=(6,4.5))\n",
    "right_side = ax.spines[\"right\"]\n",
    "top_side = ax.spines[\"top\"]\n",
    "right_side.set_visible(False)\n",
    "top_side.set_visible(False)\n",
    "\n",
    "r.plot(style='.-', color='black', lw=3)\n",
    "\n",
    "plt.xlabel('Year', fontsize=20)\n",
    "plt.xlim(xmin=1950)\n",
    "# plt.xlim(xmin=1960)\n",
    "plt.xlim(xmax=2010)\n",
    "plt.ylabel('Men / women\\n self-citation bias (r)', fontsize=20)\n",
    "# plt.ylim(ymin=0.5,ymax=3.5)\n",
    "plt.ylim(ymin=0.5,ymax=3)\n",
    "plt.hlines(1,xmin=1903,xmax=2010,linestyles='dashed', lw=3)\n",
    "\n",
    "plt.xticks(fontsize=20, rotation=45)\n",
    "plt.yticks(fontsize=20)\n",
    "plt.tight_layout()\n",
    "fig.savefig(f\"/Users/robinkong/codes/Fig_1D.pdf\")"
   ]
  },
  {
   "cell_type": "markdown",
   "id": "92e29e05",
   "metadata": {},
   "source": [
    "## Degree & PageRank Centrality Statistics"
   ]
  },
  {
   "cell_type": "markdown",
   "id": "6d2c61c0",
   "metadata": {},
   "source": [
    "### Degree Centrality Proportion of Women Authors"
   ]
  },
  {
   "cell_type": "code",
   "execution_count": 32,
   "id": "96811208",
   "metadata": {},
   "outputs": [
    {
     "data": {
      "text/html": [
       "<div>\n",
       "<style scoped>\n",
       "    .dataframe tbody tr th:only-of-type {\n",
       "        vertical-align: middle;\n",
       "    }\n",
       "\n",
       "    .dataframe tbody tr th {\n",
       "        vertical-align: top;\n",
       "    }\n",
       "\n",
       "    .dataframe thead th {\n",
       "        text-align: right;\n",
       "    }\n",
       "</style>\n",
       "<table border=\"1\" class=\"dataframe\">\n",
       "  <thead>\n",
       "    <tr style=\"text-align: right;\">\n",
       "      <th></th>\n",
       "      <th>centrality</th>\n",
       "      <th>doi</th>\n",
       "      <th>id</th>\n",
       "      <th>gender</th>\n",
       "      <th>order</th>\n",
       "      <th>numAuthor</th>\n",
       "      <th>is_alpha</th>\n",
       "      <th>year</th>\n",
       "      <th>articleType</th>\n",
       "      <th>journal</th>\n",
       "      <th>...</th>\n",
       "      <th>pacs10</th>\n",
       "      <th>pacs20</th>\n",
       "      <th>pacs30</th>\n",
       "      <th>pacs40</th>\n",
       "      <th>pacs50</th>\n",
       "      <th>pacs60</th>\n",
       "      <th>pacs70</th>\n",
       "      <th>pacs80</th>\n",
       "      <th>pacs90</th>\n",
       "      <th>yeard</th>\n",
       "    </tr>\n",
       "  </thead>\n",
       "  <tbody>\n",
       "    <tr>\n",
       "      <th>16644</th>\n",
       "      <td>5214</td>\n",
       "      <td>10.1103/PhysRev.140.A1133</td>\n",
       "      <td>219005</td>\n",
       "      <td>male</td>\n",
       "      <td>1</td>\n",
       "      <td>2</td>\n",
       "      <td>False</td>\n",
       "      <td>1965</td>\n",
       "      <td>article</td>\n",
       "      <td>PR</td>\n",
       "      <td>...</td>\n",
       "      <td>0</td>\n",
       "      <td>0</td>\n",
       "      <td>0</td>\n",
       "      <td>0</td>\n",
       "      <td>0</td>\n",
       "      <td>0</td>\n",
       "      <td>0</td>\n",
       "      <td>0</td>\n",
       "      <td>0</td>\n",
       "      <td>45</td>\n",
       "    </tr>\n",
       "    <tr>\n",
       "      <th>14878</th>\n",
       "      <td>4100</td>\n",
       "      <td>10.1103/PhysRev.136.B864</td>\n",
       "      <td>12626</td>\n",
       "      <td>male</td>\n",
       "      <td>1</td>\n",
       "      <td>2</td>\n",
       "      <td>False</td>\n",
       "      <td>1964</td>\n",
       "      <td>article</td>\n",
       "      <td>PR</td>\n",
       "      <td>...</td>\n",
       "      <td>0</td>\n",
       "      <td>0</td>\n",
       "      <td>0</td>\n",
       "      <td>0</td>\n",
       "      <td>0</td>\n",
       "      <td>0</td>\n",
       "      <td>0</td>\n",
       "      <td>0</td>\n",
       "      <td>0</td>\n",
       "      <td>46</td>\n",
       "    </tr>\n",
       "    <tr>\n",
       "      <th>151045</th>\n",
       "      <td>2519</td>\n",
       "      <td>10.1103/PhysRevB.13.5188</td>\n",
       "      <td>133666</td>\n",
       "      <td>male</td>\n",
       "      <td>1</td>\n",
       "      <td>2</td>\n",
       "      <td>False</td>\n",
       "      <td>1976</td>\n",
       "      <td>article</td>\n",
       "      <td>PRB</td>\n",
       "      <td>...</td>\n",
       "      <td>0</td>\n",
       "      <td>0</td>\n",
       "      <td>0</td>\n",
       "      <td>0</td>\n",
       "      <td>0</td>\n",
       "      <td>0</td>\n",
       "      <td>0</td>\n",
       "      <td>0</td>\n",
       "      <td>0</td>\n",
       "      <td>34</td>\n",
       "    </tr>\n",
       "    <tr>\n",
       "      <th>258027</th>\n",
       "      <td>2337</td>\n",
       "      <td>10.1103/PhysRevB.54.11169</td>\n",
       "      <td>157378</td>\n",
       "      <td>male</td>\n",
       "      <td>1</td>\n",
       "      <td>2</td>\n",
       "      <td>False</td>\n",
       "      <td>1996</td>\n",
       "      <td>article</td>\n",
       "      <td>PRB</td>\n",
       "      <td>...</td>\n",
       "      <td>0</td>\n",
       "      <td>0</td>\n",
       "      <td>0</td>\n",
       "      <td>0</td>\n",
       "      <td>0</td>\n",
       "      <td>0</td>\n",
       "      <td>1</td>\n",
       "      <td>0</td>\n",
       "      <td>0</td>\n",
       "      <td>14</td>\n",
       "    </tr>\n",
       "    <tr>\n",
       "      <th>3428</th>\n",
       "      <td>1679</td>\n",
       "      <td>10.1103/PhysRev.108.1175</td>\n",
       "      <td>165388</td>\n",
       "      <td>male</td>\n",
       "      <td>1</td>\n",
       "      <td>3</td>\n",
       "      <td>False</td>\n",
       "      <td>1957</td>\n",
       "      <td>article</td>\n",
       "      <td>PR</td>\n",
       "      <td>...</td>\n",
       "      <td>0</td>\n",
       "      <td>0</td>\n",
       "      <td>0</td>\n",
       "      <td>0</td>\n",
       "      <td>0</td>\n",
       "      <td>0</td>\n",
       "      <td>0</td>\n",
       "      <td>0</td>\n",
       "      <td>0</td>\n",
       "      <td>53</td>\n",
       "    </tr>\n",
       "  </tbody>\n",
       "</table>\n",
       "<p>5 rows × 21 columns</p>\n",
       "</div>"
      ],
      "text/plain": [
       "        centrality                        doi      id gender  order  \\\n",
       "16644         5214  10.1103/PhysRev.140.A1133  219005   male      1   \n",
       "14878         4100   10.1103/PhysRev.136.B864   12626   male      1   \n",
       "151045        2519   10.1103/PhysRevB.13.5188  133666   male      1   \n",
       "258027        2337  10.1103/PhysRevB.54.11169  157378   male      1   \n",
       "3428          1679   10.1103/PhysRev.108.1175  165388   male      1   \n",
       "\n",
       "        numAuthor  is_alpha  year articleType journal  ...  pacs10  pacs20  \\\n",
       "16644           2     False  1965     article      PR  ...       0       0   \n",
       "14878           2     False  1964     article      PR  ...       0       0   \n",
       "151045          2     False  1976     article     PRB  ...       0       0   \n",
       "258027          2     False  1996     article     PRB  ...       0       0   \n",
       "3428            3     False  1957     article      PR  ...       0       0   \n",
       "\n",
       "        pacs30  pacs40  pacs50  pacs60  pacs70  pacs80  pacs90  yeard  \n",
       "16644        0       0       0       0       0       0       0     45  \n",
       "14878        0       0       0       0       0       0       0     46  \n",
       "151045       0       0       0       0       0       0       0     34  \n",
       "258027       0       0       0       0       1       0       0     14  \n",
       "3428         0       0       0       0       0       0       0     53  \n",
       "\n",
       "[5 rows x 21 columns]"
      ]
     },
     "execution_count": 32,
     "metadata": {},
     "output_type": "execute_result"
    }
   ],
   "source": [
    "# exclude alphabetically ordered papers\n",
    "# only consider last authors\n",
    "degcen = paperdata.query('is_alpha == False & order == 1')\n",
    "\n",
    "# calculate degree centrality per paper\n",
    "vc = cb['cited_doi'].value_counts()\n",
    "cb_sub = vc[vc.to_numpy() > 0].to_frame()\n",
    "\n",
    "# create a DataFrame with degree centrality\n",
    "cited = pd.merge(cb_sub, degcen, left_index = True, right_on = 'doi').rename(columns = {'cited_doi': 'centrality'})\n",
    "cited['yeard'] = 2010-cited['year']\n",
    "cited.head()"
   ]
  },
  {
   "cell_type": "code",
   "execution_count": 33,
   "id": "124402a9",
   "metadata": {},
   "outputs": [
    {
     "name": "stdout",
     "output_type": "stream",
     "text": [
      "Top 10% Centrality (25+):  24272\n",
      "Men in Top 10% (25+):  22189\n",
      "Women in Top 10% (25+):  2083\n",
      "\n",
      "Top 20% Centrality (15+):  47843\n",
      "Men in Top 20% (15+):  43532\n",
      "Women in Top 20% (15+):  4311\n",
      "\n",
      "Top 30% Centrality (10+):  73964\n",
      "Men in Top 30% (10+):  67023\n",
      "Women in Top 30% (10+):  6941\n",
      "\n",
      "Top 40% Centrality (7+):  101289\n",
      "Men in Top 40% (7+):  91373\n",
      "Women in Top 40% (7+):  9916\n"
     ]
    }
   ],
   "source": [
    "# Top k% degree centrality basic statistics\n",
    "\n",
    "print(f\"Top 10% Centrality ({cb_sub.cited_doi[len(cb_sub)//10]}+): \", \n",
    "      len(cited[cited['centrality'] >= cb_sub.cited_doi[len(cb_sub)//10]]))\n",
    "print(f\"Men in Top 10% ({cb_sub.cited_doi[len(cb_sub)//10]}+): \",\n",
    "      len(cited[(cited['centrality'] >= cb_sub.cited_doi[len(cb_sub)//10]) & (cited['gender'] == \"male\")]))\n",
    "print(f\"Women in Top 10% ({cb_sub.cited_doi[len(cb_sub)//10]}+): \", \n",
    "      len(cited[(cited['centrality'] >= cb_sub.cited_doi[len(cb_sub)//10]) & (cited['gender'] == \"female\")]))\n",
    "print(\"\")\n",
    "print(f\"Top 20% Centrality ({cb_sub.cited_doi[len(cb_sub)//10 * 2]}+): \", \n",
    "      len(cited[cited['centrality'] >= cb_sub.cited_doi[len(cb_sub)//10 * 2]]))\n",
    "print(f\"Men in Top 20% ({cb_sub.cited_doi[len(cb_sub)//10 * 2]}+): \",\n",
    "      len(cited[(cited['centrality'] >= cb_sub.cited_doi[len(cb_sub)//10 * 2]) & (cited['gender'] == \"male\")]))\n",
    "print(f\"Women in Top 20% ({cb_sub.cited_doi[len(cb_sub)//10 * 2]}+): \", \n",
    "      len(cited[(cited['centrality'] >= cb_sub.cited_doi[len(cb_sub)//10 * 2]) & (cited['gender'] == \"female\")]))\n",
    "print(\"\")\n",
    "print(f\"Top 30% Centrality ({cb_sub.cited_doi[len(cb_sub)//10 * 3]}+): \", \n",
    "      len(cited[cited['centrality'] >= cb_sub.cited_doi[len(cb_sub)//10 * 3]]))\n",
    "print(f\"Men in Top 30% ({cb_sub.cited_doi[len(cb_sub)//10 * 3]}+): \",\n",
    "      len(cited[(cited['centrality'] >= cb_sub.cited_doi[len(cb_sub)//10 * 3]) & (cited['gender'] == \"male\")]))\n",
    "print(f\"Women in Top 30% ({cb_sub.cited_doi[len(cb_sub)//10 * 3]}+): \", \n",
    "      len(cited[(cited['centrality'] >= cb_sub.cited_doi[len(cb_sub)//10 * 3]) & (cited['gender'] == \"female\")]))\n",
    "print(\"\")\n",
    "print(f\"Top 40% Centrality ({cb_sub.cited_doi[len(cb_sub)//10 * 4]}+): \", \n",
    "      len(cited[cited['centrality'] >= cb_sub.cited_doi[len(cb_sub)//10 * 4]]))\n",
    "print(f\"Men in Top 40% ({cb_sub.cited_doi[len(cb_sub)//10 * 4]}+): \",\n",
    "      len(cited[(cited['centrality'] >= cb_sub.cited_doi[len(cb_sub)//10 * 4]) & (cited['gender'] == \"male\")]))\n",
    "print(f\"Women in Top 40% ({cb_sub.cited_doi[len(cb_sub)//10 * 4]}+): \", \n",
    "      len(cited[(cited['centrality'] >= cb_sub.cited_doi[len(cb_sub)//10 * 4]) & (cited['gender'] == \"female\")]))"
   ]
  },
  {
   "cell_type": "code",
   "execution_count": 34,
   "id": "724dfc10",
   "metadata": {},
   "outputs": [],
   "source": [
    "def cummean(x):\n",
    "    return x.cumsum() / (np.arange(1, len(x) + 1))\n",
    "\n",
    "# def plot_topk_mean_m(x):\n",
    "#     n = len(x)\n",
    "#     plt.plot(100 * (1 + np.arange(n)) / n, cummean(x[::-1]), color='#67a9cf',\n",
    "#              lw=3, label='men')\n",
    "\n",
    "# def plot_topk_mean_w(x):\n",
    "#     n = len(x)\n",
    "#     plt.plot(100 * (1 + np.arange(n)) / n, cummean(x[::-1]), color='#ef8a62',\n",
    "#              lw=3, label='women')\n",
    "\n",
    "def plot_topk_mean_w(x):\n",
    "    n = len(x)\n",
    "    plt.plot(100 * (1 + np.arange(n)) / n, cummean(x[::-1]), color='black',\n",
    "             lw=3)"
   ]
  },
  {
   "cell_type": "code",
   "execution_count": 36,
   "id": "fdb0576c",
   "metadata": {},
   "outputs": [
    {
     "data": {
      "image/png": "[encoded data removed]",
      "text/plain": [
       "<Figure size 432x324 with 1 Axes>"
      ]
     },
     "metadata": {
      "needs_background": "light"
     },
     "output_type": "display_data"
    }
   ],
   "source": [
    "fig, ax = plt.subplots(figsize=(6,4.5))\n",
    "right_side = ax.spines[\"right\"]\n",
    "top_side = ax.spines[\"top\"]\n",
    "right_side.set_visible(False)\n",
    "top_side.set_visible(False)\n",
    "\n",
    "plot_topk_mean_w(cited.sort_values(by='centrality')['gender'] == 'female')\n",
    "\n",
    "plt.axhline(y=len(cited[cited['gender'] == 'female'])/len(cited),\n",
    "            color='black', linestyle='dotted', lw=3)\n",
    "\n",
    "plt.xlabel(\"Top h% Degree Centrality\", fontsize=20)\n",
    "plt.ylabel(\"Proportion of \\n Women Primary Authors\", fontsize=20)\n",
    "\n",
    "plt.xticks(fontsize=20)\n",
    "plt.yticks(fontsize=20)\n",
    "# plt.ylim(ymax=0.1)\n",
    "plt.tight_layout()\n",
    "\n",
    "# plt.legend(loc='upper right', fontsize=20)\n",
    "fig.savefig(f\"/Users/robinkong/codes/Fig_3A_degree.pdf\")"
   ]
  },
  {
   "cell_type": "markdown",
   "id": "83d2b01c",
   "metadata": {},
   "source": [
    "### PageRank Centrality Proportion of Women Authors"
   ]
  },
  {
   "cell_type": "code",
   "execution_count": 37,
   "id": "9d2e47f5",
   "metadata": {},
   "outputs": [
    {
     "data": {
      "text/html": [
       "<div>\n",
       "<style scoped>\n",
       "    .dataframe tbody tr th:only-of-type {\n",
       "        vertical-align: middle;\n",
       "    }\n",
       "\n",
       "    .dataframe tbody tr th {\n",
       "        vertical-align: top;\n",
       "    }\n",
       "\n",
       "    .dataframe thead th {\n",
       "        text-align: right;\n",
       "    }\n",
       "</style>\n",
       "<table border=\"1\" class=\"dataframe\">\n",
       "  <thead>\n",
       "    <tr style=\"text-align: right;\">\n",
       "      <th></th>\n",
       "      <th>citing_doi</th>\n",
       "      <th>cited_doi</th>\n",
       "      <th>citing_gender</th>\n",
       "      <th>cited_gender</th>\n",
       "    </tr>\n",
       "  </thead>\n",
       "  <tbody>\n",
       "    <tr>\n",
       "      <th>0</th>\n",
       "      <td>10.1103/PhysRevSeriesI.11.215</td>\n",
       "      <td>10.1103/PhysRevSeriesI.1.1</td>\n",
       "      <td>male</td>\n",
       "      <td>male</td>\n",
       "    </tr>\n",
       "    <tr>\n",
       "      <th>1</th>\n",
       "      <td>10.1103/PhysRevSeriesI.17.267</td>\n",
       "      <td>10.1103/PhysRevSeriesI.1.1</td>\n",
       "      <td>male</td>\n",
       "      <td>male</td>\n",
       "    </tr>\n",
       "    <tr>\n",
       "      <th>2</th>\n",
       "      <td>10.1103/RevModPhys.51.863</td>\n",
       "      <td>10.1103/PhysRevSeriesI.1.1</td>\n",
       "      <td>male</td>\n",
       "      <td>male</td>\n",
       "    </tr>\n",
       "    <tr>\n",
       "      <th>3</th>\n",
       "      <td>10.1103/PhysRevSeriesI.4.433</td>\n",
       "      <td>10.1103/PhysRevSeriesI.1.1</td>\n",
       "      <td>male</td>\n",
       "      <td>male</td>\n",
       "    </tr>\n",
       "    <tr>\n",
       "      <th>4</th>\n",
       "      <td>10.1103/PhysRevSeriesI.17.267</td>\n",
       "      <td>10.1103/PhysRevSeriesI.11.215</td>\n",
       "      <td>male</td>\n",
       "      <td>male</td>\n",
       "    </tr>\n",
       "  </tbody>\n",
       "</table>\n",
       "</div>"
      ],
      "text/plain": [
       "                      citing_doi                      cited_doi citing_gender  \\\n",
       "0  10.1103/PhysRevSeriesI.11.215     10.1103/PhysRevSeriesI.1.1          male   \n",
       "1  10.1103/PhysRevSeriesI.17.267     10.1103/PhysRevSeriesI.1.1          male   \n",
       "2      10.1103/RevModPhys.51.863     10.1103/PhysRevSeriesI.1.1          male   \n",
       "3   10.1103/PhysRevSeriesI.4.433     10.1103/PhysRevSeriesI.1.1          male   \n",
       "4  10.1103/PhysRevSeriesI.17.267  10.1103/PhysRevSeriesI.11.215          male   \n",
       "\n",
       "  cited_gender  \n",
       "0         male  \n",
       "1         male  \n",
       "2         male  \n",
       "3         male  \n",
       "4         male  "
      ]
     },
     "execution_count": 37,
     "metadata": {},
     "output_type": "execute_result"
    }
   ],
   "source": [
    "cen1 = cb.copy()\n",
    "cen2 = primdata[['doi','gender']]\n",
    "# cen2 = lastdata[['doi','gender']]\n",
    "\n",
    "cen = cen1.merge(cen2, left_on='citing_doi', right_on='doi').drop('doi', axis=1).reset_index(drop=True)\n",
    "cen = cen.merge(cen2, left_on='cited_doi', right_on='doi').drop('doi', axis=1).reset_index(drop=True)\n",
    "cen.columns = ['citing_doi', 'cited_doi', 'citing_gender', 'cited_gender']\n",
    "cen.head()"
   ]
  },
  {
   "cell_type": "code",
   "execution_count": 38,
   "id": "7921b536",
   "metadata": {},
   "outputs": [],
   "source": [
    "# apply nx.graph to citation relationship network\n",
    "Graphtype = nx.DiGraph()\n",
    "\n",
    "C = nx.from_pandas_edgelist(cen, source='citing_doi',\n",
    "                            target='cited_doi', create_using=Graphtype)\n",
    "# print(nx.info(C))"
   ]
  },
  {
   "cell_type": "code",
   "execution_count": 39,
   "id": "0cd91187",
   "metadata": {},
   "outputs": [],
   "source": [
    "# observe author id & gender\n",
    "nodedata = primdata[['doi','id','gender']]\n",
    "# nodedata = lastdata[['doi','id','gender']]"
   ]
  },
  {
   "cell_type": "code",
   "execution_count": 40,
   "id": "679248ec",
   "metadata": {},
   "outputs": [
    {
     "data": {
      "text/html": [
       "<div>\n",
       "<style scoped>\n",
       "    .dataframe tbody tr th:only-of-type {\n",
       "        vertical-align: middle;\n",
       "    }\n",
       "\n",
       "    .dataframe tbody tr th {\n",
       "        vertical-align: top;\n",
       "    }\n",
       "\n",
       "    .dataframe thead th {\n",
       "        text-align: right;\n",
       "    }\n",
       "</style>\n",
       "<table border=\"1\" class=\"dataframe\">\n",
       "  <thead>\n",
       "    <tr style=\"text-align: right;\">\n",
       "      <th></th>\n",
       "      <th>doi</th>\n",
       "      <th>PRcen</th>\n",
       "      <th>id</th>\n",
       "      <th>gender</th>\n",
       "    </tr>\n",
       "  </thead>\n",
       "  <tbody>\n",
       "    <tr>\n",
       "      <th>5469</th>\n",
       "      <td>10.1103/PhysRev.140.A1133</td>\n",
       "      <td>0.001709</td>\n",
       "      <td>219005</td>\n",
       "      <td>male</td>\n",
       "    </tr>\n",
       "    <tr>\n",
       "      <th>42329</th>\n",
       "      <td>10.1103/PhysRev.136.B864</td>\n",
       "      <td>0.001404</td>\n",
       "      <td>12626</td>\n",
       "      <td>male</td>\n",
       "    </tr>\n",
       "    <tr>\n",
       "      <th>33589</th>\n",
       "      <td>10.1103/PhysRev.108.1175</td>\n",
       "      <td>0.001370</td>\n",
       "      <td>165388</td>\n",
       "      <td>male</td>\n",
       "    </tr>\n",
       "    <tr>\n",
       "      <th>48</th>\n",
       "      <td>10.1103/PhysRev.47.777</td>\n",
       "      <td>0.001022</td>\n",
       "      <td>38494</td>\n",
       "      <td>male</td>\n",
       "    </tr>\n",
       "    <tr>\n",
       "      <th>117022</th>\n",
       "      <td>10.1103/PhysRev.65.117</td>\n",
       "      <td>0.000763</td>\n",
       "      <td>59830</td>\n",
       "      <td>male</td>\n",
       "    </tr>\n",
       "  </tbody>\n",
       "</table>\n",
       "</div>"
      ],
      "text/plain": [
       "                              doi     PRcen      id gender\n",
       "5469    10.1103/PhysRev.140.A1133  0.001709  219005   male\n",
       "42329    10.1103/PhysRev.136.B864  0.001404   12626   male\n",
       "33589    10.1103/PhysRev.108.1175  0.001370  165388   male\n",
       "48         10.1103/PhysRev.47.777  0.001022   38494   male\n",
       "117022     10.1103/PhysRev.65.117  0.000763   59830   male"
      ]
     },
     "execution_count": 40,
     "metadata": {},
     "output_type": "execute_result"
    }
   ],
   "source": [
    "# assign PageRank centrality to each paper\n",
    "pr = nx.pagerank(C)\n",
    "\n",
    "# create a centrality dataframe\n",
    "prs = pd.DataFrame()\n",
    "prs['doi'] = pr.keys()\n",
    "prs['PRcen'] = pr.values()\n",
    "\n",
    "# merge and create a dataframe: id, gender, PageRank centrality\n",
    "prs_new = prs.merge(nodedata, on='doi', how='left').sort_values('PRcen', ascending=False)\n",
    "prs_new.head()"
   ]
  },
  {
   "cell_type": "code",
   "execution_count": 41,
   "id": "317e6885",
   "metadata": {},
   "outputs": [],
   "source": [
    "pr_age = prs_new.merge(cited, on='doi', how='inner')\n",
    "pr_age = pr_age[['PRcen', 'doi', 'id_x', 'gender_x', 'yeard']]\n",
    "pr_age = pr_age.rename(columns={'id_x': \"id\", \"gender_x\": \"gender\"}\n",
    "                      ).sort_values('PRcen',ascending=False)"
   ]
  },
  {
   "cell_type": "code",
   "execution_count": 48,
   "id": "0dafe71a",
   "metadata": {},
   "outputs": [
    {
     "data": {
      "image/png": "[encoded data removed]",
      "text/plain": [
       "<Figure size 432x324 with 1 Axes>"
      ]
     },
     "metadata": {
      "needs_background": "light"
     },
     "output_type": "display_data"
    }
   ],
   "source": [
    "# Comparative graph for actual female proportion vs. expected female proportion\n",
    "\n",
    "prs_gender = prs_new['gender'].to_numpy()\n",
    "cumulate_prs_gender = np.cumsum(prs_gender == \"female\")\n",
    "\n",
    "fig, ax = plt.subplots(figsize=(6,4.5))\n",
    "right_side = ax.spines[\"right\"]\n",
    "top_side = ax.spines[\"top\"]\n",
    "right_side.set_visible(False)\n",
    "top_side.set_visible(False)\n",
    "\n",
    "plt.plot((np.arange(len(prs_new))*100)/len(prs_new),\n",
    "         cumulate_prs_gender/np.arange(1, len(prs_new)+1), color='red', lw=3)\n",
    "# plt.axhline(y=0.08274119036274367, color='black', linestyle='dotted', lw=3)\n",
    "plt.axhline(y=len(prs_new[prs_new['gender'] == 'female'])/len(prs_new),\n",
    "            color='black', linestyle='dotted', lw=3)\n",
    "\n",
    "\n",
    "plt.xlabel(\"top h% PageRank Centrality\", fontsize=20)\n",
    "plt.ylabel(\"Proportion of \\n Women Primary Authors\", fontsize = 20)\n",
    "\n",
    "plt.xticks(fontsize=20)\n",
    "plt.yticks(fontsize=20)\n",
    "plt.ylim(ymax=0.175)\n",
    "plt.tight_layout()\n",
    "fig.savefig(f\"/Users/robinkong/codes/Fig_3A_PageRank.pdf\")"
   ]
  },
  {
   "cell_type": "markdown",
   "id": "2ebc00ad",
   "metadata": {},
   "source": [
    "## Similarity Validation Statistics"
   ]
  },
  {
   "cell_type": "code",
   "execution_count": 44,
   "id": "6c3e64ab",
   "metadata": {},
   "outputs": [
    {
     "name": "stdout",
     "output_type": "stream",
     "text": [
      "man-led:  242287\n",
      "woman-led:  30729\n"
     ]
    }
   ],
   "source": [
    "# first of last author analysis?\n",
    "\n",
    "# If primary author analysis:\n",
    "\n",
    "data = primdata.copy()\n",
    "df = sim_mf.copy()\n",
    "\n",
    "# If last author analysis:\n",
    "\n",
    "# data = lastdata.copy()\n",
    "# df = sim_mf_last.copy()\n",
    "\n",
    "print(\"man-led: \", data.query(f'gender == \"male\"').doi.nunique())\n",
    "print(\"woman-led: \", data.query(f'gender == \"female\"').doi.nunique())"
   ]
  },
  {
   "cell_type": "code",
   "execution_count": null,
   "id": "102b7b20",
   "metadata": {},
   "outputs": [],
   "source": [
    "# Filter conditions (if needed)\n",
    "\n",
    "# If journal condition:\n",
    "\n",
    "# jour = 'PRL'\n",
    "# sdoi = data[data['journal'] == jour].doi\n",
    "# print(\"man-led: \", data.query(f'gender == \"male\" & journal == \"{jour}\"').doi.nunique())\n",
    "# print(\"woman-led: \", data.query(f'gender == \"female\" & journal == \"{jour}\"').doi.nunique())\n",
    "\n",
    "# IF PACS condition:\n",
    "\n",
    "# cond = 9\n",
    "# sdoi = data[data[f'pacs{cond}0'] == 1].doi\n",
    "# print(\"man-led: \", data.query(f'gender == \"male\" & pacs{cond}0 == 1').doi.nunique())\n",
    "# print(\"woman-led: \", data.query(f'gender == \"female\" & pacs{cond}0 == 1').doi.nunique())"
   ]
  },
  {
   "cell_type": "code",
   "execution_count": null,
   "id": "92302fae",
   "metadata": {},
   "outputs": [],
   "source": [
    "# Filter dataframes accordingly (skip if no filtering needed)\n",
    "\n",
    "# If primary analysis:\n",
    "\n",
    "# df = sim_mf[sim_mf['paper1'].isin(sdoi)]\n",
    "# df = df[df['paper2'].isin(sdoi)].reset_index(drop=True)\n",
    "\n",
    "# If last author analysis:\n",
    "\n",
    "# df = sim_mf_last[sim_mf_last['paper1'].isin(sdoi)]\n",
    "# df = df[df['paper2'].isin(sdoi)].reset_index(drop=True)"
   ]
  },
  {
   "cell_type": "code",
   "execution_count": 45,
   "id": "323ce5cc",
   "metadata": {},
   "outputs": [],
   "source": [
    "# filter year constraints\n",
    "\n",
    "N = 3\n",
    "\n",
    "df = df[df['yeard'] >= -N]\n",
    "df = df[df['yeard'] <= N].reset_index(drop=True)"
   ]
  },
  {
   "cell_type": "code",
   "execution_count": 46,
   "id": "e7230629",
   "metadata": {},
   "outputs": [
    {
     "name": "stdout",
     "output_type": "stream",
     "text": [
      "N:  5611686\n",
      "M/N:  0.1021\n"
     ]
    }
   ],
   "source": [
    "p = 0.001\n",
    "df_vld = df[df['qval'] < p]\n",
    "\n",
    "print(\"N: \", len(df))\n",
    "# print(\"M: \", len(df_vld))\n",
    "print(\"M/N: \", format(len(df_vld)/len(df), \".4f\"))"
   ]
  },
  {
   "cell_type": "code",
   "execution_count": 47,
   "id": "68de8796",
   "metadata": {},
   "outputs": [
    {
     "name": "stderr",
     "output_type": "stream",
     "text": [
      "100%|██████████| 573170/573170 [00:10<00:00, 55248.34it/s]"
     ]
    },
    {
     "name": "stdout",
     "output_type": "stream",
     "text": [
      "\n",
      "\n",
      "Filtered man-led papers:  154057\n",
      "Filtered woman-led papers:  28068\n"
     ]
    },
    {
     "name": "stderr",
     "output_type": "stream",
     "text": [
      "\n"
     ]
    }
   ],
   "source": [
    "# getting mlist and fmlist (count per gender)\n",
    "\n",
    "mdoi = []\n",
    "wdoi = []\n",
    "\n",
    "mlist = []\n",
    "fmlist = []\n",
    "\n",
    "for i in tqdm(range(len(df_vld))):\n",
    "    if df_vld['gender1'][i] == 'male':\n",
    "        mdoi.append(df_vld['paper1'][i])\n",
    "        wdoi.append(df_vld['paper2'][i])\n",
    "        mlist.append(df_vld['count1'][i])\n",
    "        fmlist.append(df_vld['count2'][i])\n",
    "    else:\n",
    "        mdoi.append(df_vld['paper2'][i])\n",
    "        wdoi.append(df_vld['paper1'][i])\n",
    "        mlist.append(df_vld['count2'][i])\n",
    "        fmlist.append(df_vld['count1'][i])\n",
    "\n",
    "print(\"\\n\")\n",
    "print(\"Filtered man-led papers: \", len(list(set(mdoi))))\n",
    "print(\"Filtered woman-led papers: \", len(list(set(wdoi))))"
   ]
  },
  {
   "cell_type": "code",
   "execution_count": null,
   "id": "27bb902a",
   "metadata": {},
   "outputs": [],
   "source": [
    "# Find effect size\n",
    "print(format(pg.compute_effsize(mlist, fmlist, paired=True, eftype='hedges'), \".3f\"))\n",
    "print('')\n",
    "\n",
    "# Find z-scores (for p-values)\n",
    "zscore, pval = ztest(mlist, fmlist, value=0)\n",
    "print(format(zscore, \".3f\"), pval)"
   ]
  },
  {
   "cell_type": "markdown",
   "id": "71b3af40",
   "metadata": {},
   "source": [
    "### Similarity Validation Statistics (Random Sampling w/o time constraints)"
   ]
  },
  {
   "cell_type": "code",
   "execution_count": null,
   "id": "5d8e3471",
   "metadata": {},
   "outputs": [],
   "source": [
    "# 100 randomly sampled set with the sample size of df_vld, then\n",
    "# compute mean and st.dev of zscore and pval per subfield\n",
    "\n",
    "esizes = []\n",
    "pvalues = []\n",
    "\n",
    "for _ in tqdm(range(100)):\n",
    "    sim_mf_rs = sim_mf.copy().sample(n=len(df_vld)).reset_index()\n",
    "    mlist = []\n",
    "    fmlist = []\n",
    "    for i in range(len(sim_mf_rs)):\n",
    "        if sim_mf_rs['gender1'][i] == 'male':\n",
    "            mlist.append(sim_mf_rs['count1'][i])\n",
    "            fmlist.append(sim_mf_rs['count2'][i])\n",
    "        else:\n",
    "            mlist.append(sim_mf_rs['count2'][i])\n",
    "            fmlist.append(sim_mf_rs['count1'][i])\n",
    "    esize = pg.compute_effsize(mlist, fmlist, paired=True, eftype='hedges')\n",
    "    pval = ztest(mlist, fmlist, value=0)[1]\n",
    "    esizes.append(esize)\n",
    "    pvalues.append(pval)\n",
    "\n",
    "print(\"\\n\")\n",
    "print(format(np.mean(esizes), \".3f\"))\n",
    "print(format(np.std(esizes), \".3f\"))\n",
    "print(\"\")\n",
    "print(format(np.mean(pvalues), \".3g\"))\n",
    "print(format(np.std(pvalues), \".3g\"))"
   ]
  },
  {
   "cell_type": "markdown",
   "id": "69458b8f",
   "metadata": {},
   "source": [
    "## Manual Similarity Validation"
   ]
  },
  {
   "cell_type": "code",
   "execution_count": 72,
   "id": "fc579da5",
   "metadata": {},
   "outputs": [
    {
     "name": "stdout",
     "output_type": "stream",
     "text": [
      "17351\n"
     ]
    },
    {
     "data": {
      "text/html": [
       "<div>\n",
       "<style scoped>\n",
       "    .dataframe tbody tr th:only-of-type {\n",
       "        vertical-align: middle;\n",
       "    }\n",
       "\n",
       "    .dataframe tbody tr th {\n",
       "        vertical-align: top;\n",
       "    }\n",
       "\n",
       "    .dataframe thead th {\n",
       "        text-align: right;\n",
       "    }\n",
       "</style>\n",
       "<table border=\"1\" class=\"dataframe\">\n",
       "  <thead>\n",
       "    <tr style=\"text-align: right;\">\n",
       "      <th></th>\n",
       "      <th>paper1</th>\n",
       "      <th>paper2</th>\n",
       "      <th>gender1</th>\n",
       "      <th>gender2</th>\n",
       "      <th>year1</th>\n",
       "      <th>year2</th>\n",
       "      <th>keyval</th>\n",
       "      <th>qval</th>\n",
       "      <th>count1</th>\n",
       "      <th>count2</th>\n",
       "      <th>countd</th>\n",
       "      <th>yeard</th>\n",
       "    </tr>\n",
       "  </thead>\n",
       "  <tbody>\n",
       "    <tr>\n",
       "      <th>0</th>\n",
       "      <td>10.1103/PhysRevD.73.114014</td>\n",
       "      <td>10.1103/PhysRevD.80.114008</td>\n",
       "      <td>female</td>\n",
       "      <td>male</td>\n",
       "      <td>2006</td>\n",
       "      <td>2009</td>\n",
       "      <td>6</td>\n",
       "      <td>1.433298e-12</td>\n",
       "      <td>8</td>\n",
       "      <td>1</td>\n",
       "      <td>-7</td>\n",
       "      <td>3</td>\n",
       "    </tr>\n",
       "    <tr>\n",
       "      <th>1</th>\n",
       "      <td>10.1103/PhysRevD.3.1178</td>\n",
       "      <td>10.1103/PhysRevD.4.794</td>\n",
       "      <td>male</td>\n",
       "      <td>female</td>\n",
       "      <td>1971</td>\n",
       "      <td>1971</td>\n",
       "      <td>8</td>\n",
       "      <td>2.366218e-12</td>\n",
       "      <td>7</td>\n",
       "      <td>14</td>\n",
       "      <td>-7</td>\n",
       "      <td>0</td>\n",
       "    </tr>\n",
       "    <tr>\n",
       "      <th>2</th>\n",
       "      <td>10.1103/PhysRev.105.1262</td>\n",
       "      <td>10.1103/PhysRev.119.1027</td>\n",
       "      <td>male</td>\n",
       "      <td>female</td>\n",
       "      <td>1957</td>\n",
       "      <td>1960</td>\n",
       "      <td>8</td>\n",
       "      <td>2.435607e-12</td>\n",
       "      <td>5</td>\n",
       "      <td>3</td>\n",
       "      <td>2</td>\n",
       "      <td>-3</td>\n",
       "    </tr>\n",
       "    <tr>\n",
       "      <th>3</th>\n",
       "      <td>10.1103/PhysRevB.74.045109</td>\n",
       "      <td>10.1103/PhysRevB.75.134507</td>\n",
       "      <td>male</td>\n",
       "      <td>female</td>\n",
       "      <td>2006</td>\n",
       "      <td>2007</td>\n",
       "      <td>10</td>\n",
       "      <td>4.073519e-12</td>\n",
       "      <td>1</td>\n",
       "      <td>1</td>\n",
       "      <td>0</td>\n",
       "      <td>-1</td>\n",
       "    </tr>\n",
       "    <tr>\n",
       "      <th>4</th>\n",
       "      <td>10.1103/PhysRevB.22.5997</td>\n",
       "      <td>10.1103/PhysRevB.27.7199</td>\n",
       "      <td>male</td>\n",
       "      <td>female</td>\n",
       "      <td>1980</td>\n",
       "      <td>1983</td>\n",
       "      <td>9</td>\n",
       "      <td>4.073519e-12</td>\n",
       "      <td>1</td>\n",
       "      <td>12</td>\n",
       "      <td>-11</td>\n",
       "      <td>-3</td>\n",
       "    </tr>\n",
       "    <tr>\n",
       "      <th>5</th>\n",
       "      <td>10.1103/PhysRevB.73.144513</td>\n",
       "      <td>10.1103/PhysRevB.74.024415</td>\n",
       "      <td>male</td>\n",
       "      <td>female</td>\n",
       "      <td>2006</td>\n",
       "      <td>2006</td>\n",
       "      <td>11</td>\n",
       "      <td>4.073519e-12</td>\n",
       "      <td>8</td>\n",
       "      <td>6</td>\n",
       "      <td>2</td>\n",
       "      <td>0</td>\n",
       "    </tr>\n",
       "    <tr>\n",
       "      <th>6</th>\n",
       "      <td>10.1103/PhysRevB.74.024415</td>\n",
       "      <td>10.1103/PhysRevB.74.064412</td>\n",
       "      <td>female</td>\n",
       "      <td>male</td>\n",
       "      <td>2006</td>\n",
       "      <td>2006</td>\n",
       "      <td>7</td>\n",
       "      <td>4.073519e-12</td>\n",
       "      <td>6</td>\n",
       "      <td>2</td>\n",
       "      <td>-4</td>\n",
       "      <td>0</td>\n",
       "    </tr>\n",
       "    <tr>\n",
       "      <th>7</th>\n",
       "      <td>10.1103/PhysRevA.58.2121</td>\n",
       "      <td>10.1103/PhysRevA.61.012704</td>\n",
       "      <td>male</td>\n",
       "      <td>female</td>\n",
       "      <td>1998</td>\n",
       "      <td>1999</td>\n",
       "      <td>9</td>\n",
       "      <td>4.073519e-12</td>\n",
       "      <td>5</td>\n",
       "      <td>5</td>\n",
       "      <td>0</td>\n",
       "      <td>-1</td>\n",
       "    </tr>\n",
       "    <tr>\n",
       "      <th>8</th>\n",
       "      <td>10.1103/PhysRevD.70.065010</td>\n",
       "      <td>10.1103/PhysRevD.75.125008</td>\n",
       "      <td>male</td>\n",
       "      <td>female</td>\n",
       "      <td>2004</td>\n",
       "      <td>2007</td>\n",
       "      <td>5</td>\n",
       "      <td>4.073519e-12</td>\n",
       "      <td>5</td>\n",
       "      <td>1</td>\n",
       "      <td>4</td>\n",
       "      <td>-3</td>\n",
       "    </tr>\n",
       "    <tr>\n",
       "      <th>9</th>\n",
       "      <td>10.1103/PhysRevD.2.1084</td>\n",
       "      <td>10.1103/PhysRevD.2.1342</td>\n",
       "      <td>female</td>\n",
       "      <td>male</td>\n",
       "      <td>1970</td>\n",
       "      <td>1970</td>\n",
       "      <td>11</td>\n",
       "      <td>4.073519e-12</td>\n",
       "      <td>10</td>\n",
       "      <td>3</td>\n",
       "      <td>-7</td>\n",
       "      <td>0</td>\n",
       "    </tr>\n",
       "  </tbody>\n",
       "</table>\n",
       "</div>"
      ],
      "text/plain": [
       "                       paper1                      paper2 gender1 gender2  \\\n",
       "0  10.1103/PhysRevD.73.114014  10.1103/PhysRevD.80.114008  female    male   \n",
       "1     10.1103/PhysRevD.3.1178      10.1103/PhysRevD.4.794    male  female   \n",
       "2    10.1103/PhysRev.105.1262    10.1103/PhysRev.119.1027    male  female   \n",
       "3  10.1103/PhysRevB.74.045109  10.1103/PhysRevB.75.134507    male  female   \n",
       "4    10.1103/PhysRevB.22.5997    10.1103/PhysRevB.27.7199    male  female   \n",
       "5  10.1103/PhysRevB.73.144513  10.1103/PhysRevB.74.024415    male  female   \n",
       "6  10.1103/PhysRevB.74.024415  10.1103/PhysRevB.74.064412  female    male   \n",
       "7    10.1103/PhysRevA.58.2121  10.1103/PhysRevA.61.012704    male  female   \n",
       "8  10.1103/PhysRevD.70.065010  10.1103/PhysRevD.75.125008    male  female   \n",
       "9     10.1103/PhysRevD.2.1084     10.1103/PhysRevD.2.1342  female    male   \n",
       "\n",
       "   year1  year2  keyval          qval  count1  count2  countd  yeard  \n",
       "0   2006   2009       6  1.433298e-12       8       1      -7      3  \n",
       "1   1971   1971       8  2.366218e-12       7      14      -7      0  \n",
       "2   1957   1960       8  2.435607e-12       5       3       2     -3  \n",
       "3   2006   2007      10  4.073519e-12       1       1       0     -1  \n",
       "4   1980   1983       9  4.073519e-12       1      12     -11     -3  \n",
       "5   2006   2006      11  4.073519e-12       8       6       2      0  \n",
       "6   2006   2006       7  4.073519e-12       6       2      -4      0  \n",
       "7   1998   1999       9  4.073519e-12       5       5       0     -1  \n",
       "8   2004   2007       5  4.073519e-12       5       1       4     -3  \n",
       "9   1970   1970      11  4.073519e-12      10       3      -7      0  "
      ]
     },
     "execution_count": 72,
     "metadata": {},
     "output_type": "execute_result"
    }
   ],
   "source": [
    "data = primdata.copy()\n",
    "df = sim_mf.copy()\n",
    "\n",
    "# apply time constraint\n",
    "N = 3\n",
    "\n",
    "df = df[df['yeard'] >= -N]\n",
    "df = df[df['yeard'] <= N].reset_index(drop=True)\n",
    "\n",
    "p_vld = 10e-6  # new threshold to validate similarity\n",
    "df_vld = df[df['qval'] < p_vld]\n",
    "df_vld = df_vld[df_vld['qval'] > 0].reset_index(drop=True)  # remove rounding errors\n",
    "\n",
    "print(len(df_vld))\n",
    "df_vld.head(10)"
   ]
  },
  {
   "cell_type": "code",
   "execution_count": 145,
   "id": "3863eddb",
   "metadata": {},
   "outputs": [
    {
     "name": "stdout",
     "output_type": "stream",
     "text": [
      "similarity measurement:  2.5139e-07\n",
      "citation by 10.1103/PhysRevA.36.1642 : 17\n",
      "citation by 10.1103/PhysRevA.36.3682 : 42\n",
      "common citation of these two papers:  14\n"
     ]
    }
   ],
   "source": [
    "c = randint(0, len(df_vld))\n",
    "\n",
    "doi_a = df_vld.paper1[c]\n",
    "doi_b = df_vld.paper2[c]\n",
    "\n",
    "list_a = list(cb.query(f'citing_doi == \"{doi_a}\"').cited_doi)\n",
    "list_b = list(cb.query(f'citing_doi == \"{doi_b}\"').cited_doi)\n",
    "\n",
    "print(\"similarity measurement: \", format(df_vld.qval[c], \".5g\"))\n",
    "print(\"citation by\", doi_a, \":\", len(list_a))\n",
    "print(\"citation by\", doi_b, \":\", len(list_b))\n",
    "print(\"common citation of these two papers: \", len(list(set(list_a) & set(list_b))))"
   ]
  },
  {
   "cell_type": "markdown",
   "id": "fb6d869c",
   "metadata": {},
   "source": [
    "## Centrality Difference Trend by Year (m-f pairs)"
   ]
  },
  {
   "cell_type": "code",
   "execution_count": 52,
   "id": "b80828d5",
   "metadata": {},
   "outputs": [
    {
     "data": {
      "text/html": [
       "<div>\n",
       "<style scoped>\n",
       "    .dataframe tbody tr th:only-of-type {\n",
       "        vertical-align: middle;\n",
       "    }\n",
       "\n",
       "    .dataframe tbody tr th {\n",
       "        vertical-align: top;\n",
       "    }\n",
       "\n",
       "    .dataframe thead th {\n",
       "        text-align: right;\n",
       "    }\n",
       "</style>\n",
       "<table border=\"1\" class=\"dataframe\">\n",
       "  <thead>\n",
       "    <tr style=\"text-align: right;\">\n",
       "      <th></th>\n",
       "      <th>paper1</th>\n",
       "      <th>paper2</th>\n",
       "      <th>gender1</th>\n",
       "      <th>gender2</th>\n",
       "      <th>year1</th>\n",
       "      <th>year2</th>\n",
       "      <th>keyval</th>\n",
       "      <th>qval</th>\n",
       "      <th>count1</th>\n",
       "      <th>count2</th>\n",
       "      <th>countd</th>\n",
       "      <th>yeard</th>\n",
       "    </tr>\n",
       "  </thead>\n",
       "  <tbody>\n",
       "    <tr>\n",
       "      <th>0</th>\n",
       "      <td>10.1103/PhysRevB.74.035411</td>\n",
       "      <td>10.1103/PhysRevB.75.205440</td>\n",
       "      <td>female</td>\n",
       "      <td>male</td>\n",
       "      <td>2006</td>\n",
       "      <td>2007</td>\n",
       "      <td>4</td>\n",
       "      <td>-1.117244e-10</td>\n",
       "      <td>1</td>\n",
       "      <td>1</td>\n",
       "      <td>0</td>\n",
       "      <td>1</td>\n",
       "    </tr>\n",
       "    <tr>\n",
       "      <th>1</th>\n",
       "      <td>10.1103/PhysRevB.73.075112</td>\n",
       "      <td>10.1103/PhysRevB.74.045113</td>\n",
       "      <td>female</td>\n",
       "      <td>male</td>\n",
       "      <td>2006</td>\n",
       "      <td>2006</td>\n",
       "      <td>4</td>\n",
       "      <td>-1.117173e-10</td>\n",
       "      <td>9</td>\n",
       "      <td>2</td>\n",
       "      <td>-7</td>\n",
       "      <td>0</td>\n",
       "    </tr>\n",
       "    <tr>\n",
       "      <th>2</th>\n",
       "      <td>10.1103/PhysRev.88.1109</td>\n",
       "      <td>10.1103/RevModPhys.24.321</td>\n",
       "      <td>male</td>\n",
       "      <td>female</td>\n",
       "      <td>1952</td>\n",
       "      <td>1952</td>\n",
       "      <td>2</td>\n",
       "      <td>-9.355250e-11</td>\n",
       "      <td>45</td>\n",
       "      <td>79</td>\n",
       "      <td>-34</td>\n",
       "      <td>0</td>\n",
       "    </tr>\n",
       "    <tr>\n",
       "      <th>3</th>\n",
       "      <td>10.1103/PhysRevE.70.011103</td>\n",
       "      <td>10.1103/PhysRevE.70.056128</td>\n",
       "      <td>male</td>\n",
       "      <td>female</td>\n",
       "      <td>2004</td>\n",
       "      <td>2004</td>\n",
       "      <td>3</td>\n",
       "      <td>-8.545054e-11</td>\n",
       "      <td>1</td>\n",
       "      <td>1</td>\n",
       "      <td>0</td>\n",
       "      <td>0</td>\n",
       "    </tr>\n",
       "    <tr>\n",
       "      <th>4</th>\n",
       "      <td>10.1103/PhysRevB.76.174508</td>\n",
       "      <td>10.1103/PhysRevLett.99.087001</td>\n",
       "      <td>male</td>\n",
       "      <td>female</td>\n",
       "      <td>2007</td>\n",
       "      <td>2007</td>\n",
       "      <td>3</td>\n",
       "      <td>-8.545054e-11</td>\n",
       "      <td>1</td>\n",
       "      <td>3</td>\n",
       "      <td>-2</td>\n",
       "      <td>0</td>\n",
       "    </tr>\n",
       "  </tbody>\n",
       "</table>\n",
       "</div>"
      ],
      "text/plain": [
       "                       paper1                         paper2 gender1 gender2  \\\n",
       "0  10.1103/PhysRevB.74.035411     10.1103/PhysRevB.75.205440  female    male   \n",
       "1  10.1103/PhysRevB.73.075112     10.1103/PhysRevB.74.045113  female    male   \n",
       "2     10.1103/PhysRev.88.1109      10.1103/RevModPhys.24.321    male  female   \n",
       "3  10.1103/PhysRevE.70.011103     10.1103/PhysRevE.70.056128    male  female   \n",
       "4  10.1103/PhysRevB.76.174508  10.1103/PhysRevLett.99.087001    male  female   \n",
       "\n",
       "   year1  year2  keyval          qval  count1  count2  countd  yeard  \n",
       "0   2006   2007       4 -1.117244e-10       1       1       0      1  \n",
       "1   2006   2006       4 -1.117173e-10       9       2      -7      0  \n",
       "2   1952   1952       2 -9.355250e-11      45      79     -34      0  \n",
       "3   2004   2004       3 -8.545054e-11       1       1       0      0  \n",
       "4   2007   2007       3 -8.545054e-11       1       3      -2      0  "
      ]
     },
     "execution_count": 52,
     "metadata": {},
     "output_type": "execute_result"
    }
   ],
   "source": [
    "sim_mf = pd.read_csv(\"/Users/robinkong/codes/mfpairs_similarity.csv\")\n",
    "sim_mf.head()"
   ]
  },
  {
   "cell_type": "code",
   "execution_count": 53,
   "id": "9e3d9dcb",
   "metadata": {},
   "outputs": [
    {
     "name": "stderr",
     "output_type": "stream",
     "text": [
      "100%|██████████| 5611686/5611686 [00:38<00:00, 147649.56it/s]\n"
     ]
    },
    {
     "data": {
      "text/html": [
       "<div>\n",
       "<style scoped>\n",
       "    .dataframe tbody tr th:only-of-type {\n",
       "        vertical-align: middle;\n",
       "    }\n",
       "\n",
       "    .dataframe tbody tr th {\n",
       "        vertical-align: top;\n",
       "    }\n",
       "\n",
       "    .dataframe thead th {\n",
       "        text-align: right;\n",
       "    }\n",
       "</style>\n",
       "<table border=\"1\" class=\"dataframe\">\n",
       "  <thead>\n",
       "    <tr style=\"text-align: right;\">\n",
       "      <th></th>\n",
       "      <th>paper1</th>\n",
       "      <th>paper2</th>\n",
       "      <th>gender1</th>\n",
       "      <th>gender2</th>\n",
       "      <th>year1</th>\n",
       "      <th>year2</th>\n",
       "      <th>keyval</th>\n",
       "      <th>qval</th>\n",
       "      <th>count1</th>\n",
       "      <th>count2</th>\n",
       "      <th>countd</th>\n",
       "      <th>yeard</th>\n",
       "      <th>lateryear</th>\n",
       "    </tr>\n",
       "  </thead>\n",
       "  <tbody>\n",
       "    <tr>\n",
       "      <th>0</th>\n",
       "      <td>10.1103/PhysRevB.74.035411</td>\n",
       "      <td>10.1103/PhysRevB.75.205440</td>\n",
       "      <td>female</td>\n",
       "      <td>male</td>\n",
       "      <td>2006</td>\n",
       "      <td>2007</td>\n",
       "      <td>4</td>\n",
       "      <td>-1.117244e-10</td>\n",
       "      <td>1</td>\n",
       "      <td>1</td>\n",
       "      <td>0</td>\n",
       "      <td>1</td>\n",
       "      <td>2007</td>\n",
       "    </tr>\n",
       "    <tr>\n",
       "      <th>1</th>\n",
       "      <td>10.1103/PhysRevB.73.075112</td>\n",
       "      <td>10.1103/PhysRevB.74.045113</td>\n",
       "      <td>female</td>\n",
       "      <td>male</td>\n",
       "      <td>2006</td>\n",
       "      <td>2006</td>\n",
       "      <td>4</td>\n",
       "      <td>-1.117173e-10</td>\n",
       "      <td>9</td>\n",
       "      <td>2</td>\n",
       "      <td>-7</td>\n",
       "      <td>0</td>\n",
       "      <td>2006</td>\n",
       "    </tr>\n",
       "    <tr>\n",
       "      <th>2</th>\n",
       "      <td>10.1103/PhysRev.88.1109</td>\n",
       "      <td>10.1103/RevModPhys.24.321</td>\n",
       "      <td>male</td>\n",
       "      <td>female</td>\n",
       "      <td>1952</td>\n",
       "      <td>1952</td>\n",
       "      <td>2</td>\n",
       "      <td>-9.355250e-11</td>\n",
       "      <td>45</td>\n",
       "      <td>79</td>\n",
       "      <td>-34</td>\n",
       "      <td>0</td>\n",
       "      <td>1952</td>\n",
       "    </tr>\n",
       "    <tr>\n",
       "      <th>3</th>\n",
       "      <td>10.1103/PhysRevE.70.011103</td>\n",
       "      <td>10.1103/PhysRevE.70.056128</td>\n",
       "      <td>male</td>\n",
       "      <td>female</td>\n",
       "      <td>2004</td>\n",
       "      <td>2004</td>\n",
       "      <td>3</td>\n",
       "      <td>-8.545054e-11</td>\n",
       "      <td>1</td>\n",
       "      <td>1</td>\n",
       "      <td>0</td>\n",
       "      <td>0</td>\n",
       "      <td>2004</td>\n",
       "    </tr>\n",
       "    <tr>\n",
       "      <th>4</th>\n",
       "      <td>10.1103/PhysRevB.76.174508</td>\n",
       "      <td>10.1103/PhysRevLett.99.087001</td>\n",
       "      <td>male</td>\n",
       "      <td>female</td>\n",
       "      <td>2007</td>\n",
       "      <td>2007</td>\n",
       "      <td>3</td>\n",
       "      <td>-8.545054e-11</td>\n",
       "      <td>1</td>\n",
       "      <td>3</td>\n",
       "      <td>-2</td>\n",
       "      <td>0</td>\n",
       "      <td>2007</td>\n",
       "    </tr>\n",
       "  </tbody>\n",
       "</table>\n",
       "</div>"
      ],
      "text/plain": [
       "                       paper1                         paper2 gender1 gender2  \\\n",
       "0  10.1103/PhysRevB.74.035411     10.1103/PhysRevB.75.205440  female    male   \n",
       "1  10.1103/PhysRevB.73.075112     10.1103/PhysRevB.74.045113  female    male   \n",
       "2     10.1103/PhysRev.88.1109      10.1103/RevModPhys.24.321    male  female   \n",
       "3  10.1103/PhysRevE.70.011103     10.1103/PhysRevE.70.056128    male  female   \n",
       "4  10.1103/PhysRevB.76.174508  10.1103/PhysRevLett.99.087001    male  female   \n",
       "\n",
       "   year1  year2  keyval          qval  count1  count2  countd  yeard  \\\n",
       "0   2006   2007       4 -1.117244e-10       1       1       0      1   \n",
       "1   2006   2006       4 -1.117173e-10       9       2      -7      0   \n",
       "2   1952   1952       2 -9.355250e-11      45      79     -34      0   \n",
       "3   2004   2004       3 -8.545054e-11       1       1       0      0   \n",
       "4   2007   2007       3 -8.545054e-11       1       3      -2      0   \n",
       "\n",
       "   lateryear  \n",
       "0       2007  \n",
       "1       2006  \n",
       "2       1952  \n",
       "3       2004  \n",
       "4       2007  "
      ]
     },
     "execution_count": 53,
     "metadata": {},
     "output_type": "execute_result"
    }
   ],
   "source": [
    "mfs = sim_mf[sim_mf['yeard'] <= 3]\n",
    "mfs = mfs[mfs['yeard'] >= -3].reset_index(drop=True)\n",
    "\n",
    "lateryear = []\n",
    "\n",
    "for i in tqdm(range(len(mfs))):\n",
    "    lateryear.append(max(mfs['year1'][i], mfs['year2'][i]))\n",
    "\n",
    "mfs['lateryear'] = lateryear\n",
    "\n",
    "mfs.head()"
   ]
  },
  {
   "cell_type": "code",
   "execution_count": 55,
   "id": "c264c632",
   "metadata": {},
   "outputs": [
    {
     "name": "stdout",
     "output_type": "stream",
     "text": [
      "0.10213864425058708\n"
     ]
    }
   ],
   "source": [
    "p = 0.001\n",
    "\n",
    "simp = mfs[mfs['qval'] < p].sort_values('countd').reset_index(drop=True)\n",
    "print(len(simp)/len(mfs))\n",
    "\n",
    "simp_mw = simp[['lateryear', 'countd']].sort_values(by=['lateryear', 'countd'])"
   ]
  },
  {
   "cell_type": "code",
   "execution_count": 56,
   "id": "c63bde2f",
   "metadata": {},
   "outputs": [
    {
     "data": {
      "text/plain": [
       "lateryear\n",
       "1903    3\n",
       "1916    1\n",
       "1918    1\n",
       "1921    1\n",
       "1923    2\n",
       "Name: lateryear, dtype: int64"
      ]
     },
     "execution_count": 56,
     "metadata": {},
     "output_type": "execute_result"
    }
   ],
   "source": [
    "simp_mw_yr = simp_mw.groupby(['lateryear'])['lateryear'].count()\n",
    "simp_mw_yr.head()"
   ]
  },
  {
   "cell_type": "code",
   "execution_count": 57,
   "id": "4b492254",
   "metadata": {},
   "outputs": [
    {
     "data": {
      "image/png": "[encoded data removed]",
      "text/plain": [
       "<Figure size 432x324 with 1 Axes>"
      ]
     },
     "metadata": {
      "needs_background": "light"
     },
     "output_type": "display_data"
    }
   ],
   "source": [
    "fig, ax = plt.subplots(figsize=(6,4.5))\n",
    "right_side = ax.spines[\"right\"]\n",
    "top_side = ax.spines[\"top\"]\n",
    "right_side.set_visible(False)\n",
    "top_side.set_visible(False)\n",
    "\n",
    "simp_mw_yr.plot(style='.-',color='red', lw=3)\n",
    "\n",
    "plt.xlabel('Year', fontsize=20)\n",
    "plt.xlim(xmin=1970, xmax=2010)\n",
    "plt.xticks(np.arange(1970, 2011, 10), fontsize=20)\n",
    "plt.ylabel('Number of Sampled\\nSimilar Pairs', fontsize=20)\n",
    "plt.yticks(fontsize=20)\n",
    "plt.ylim(ymin=0)\n",
    "\n",
    "plt.tight_layout()\n",
    "fig.savefig(f\"/Users/robinkong/codes/SI_Fig_7.pdf\")"
   ]
  },
  {
   "cell_type": "code",
   "execution_count": 58,
   "id": "f6652f72",
   "metadata": {},
   "outputs": [],
   "source": [
    "simp_mw_yr = pd.DataFrame({'year':simp_mw_yr.index, 'count':simp_mw_yr.values})"
   ]
  },
  {
   "cell_type": "code",
   "execution_count": 59,
   "id": "585dea42",
   "metadata": {},
   "outputs": [
    {
     "data": {
      "image/png": "[encoded data removed]",
      "text/plain": [
       "<Figure size 576x432 with 1 Axes>"
      ]
     },
     "metadata": {
      "needs_background": "light"
     },
     "output_type": "display_data"
    }
   ],
   "source": [
    "fig, ax = plt.subplots(figsize=(8,6))\n",
    "right_side = ax.spines[\"right\"]\n",
    "top_side = ax.spines[\"top\"]\n",
    "right_side.set_visible(False)\n",
    "top_side.set_visible(False)\n",
    "\n",
    "plt.plot(simp_mw_yr['year'], simp_mw_yr['count'], color='black', lw=3)\n",
    "\n",
    "inset_ax = ax.inset_axes([0.15, 0.5, 0.6, 0.45])\n",
    "inset_ax.plot(simp_mw_yr['year'][52:71], simp_mw_yr['count'][52:71], color='black', lw=2)\n",
    "inset_ax.tick_params(labelsize=15)\n",
    "\n",
    "plt.xlabel('Year', fontsize=20)\n",
    "plt.xlim(xmin=1970, xmax=2010)\n",
    "plt.xticks(np.arange(1970, 2011, 10), fontsize=20)\n",
    "plt.ylabel('Number of Sampled\\nSimilar Pairs', fontsize=20)\n",
    "plt.yticks(fontsize=20)\n",
    "plt.ylim(ymin=0)\n",
    "ax.indicate_inset_zoom(inset_ax, edgecolor=\"black\", linewidth = 4)\n",
    "\n",
    "plt.tight_layout()\n",
    "fig.savefig(f\"/Users/robinkong/codes/simpairs_zoomed.pdf\")"
   ]
  },
  {
   "cell_type": "markdown",
   "id": "fcc91772",
   "metadata": {},
   "source": [
    "## Comparing similar m-m pairs and m-w pairs\n",
    "\n",
    "### Percentile plots of centrality difference by year"
   ]
  },
  {
   "cell_type": "code",
   "execution_count": 60,
   "id": "a0a32663",
   "metadata": {},
   "outputs": [
    {
     "name": "stderr",
     "output_type": "stream",
     "text": [
      "100%|██████████| 19193545/19193545 [02:08<00:00, 149410.32it/s]\n"
     ]
    },
    {
     "name": "stdout",
     "output_type": "stream",
     "text": [
      "0.11612544738348231\n"
     ]
    }
   ],
   "source": [
    "# man-man pairs\n",
    "\n",
    "sim_mm = pd.read_csv(\"/Users/robinkong/codes/mmpairs_similarity.csv\")\n",
    "\n",
    "# apply year restriction\n",
    "\n",
    "mms = sim_mm[sim_mm['yeard'] <= 3]\n",
    "mms = mms[mms['yeard'] >= -3].reset_index(drop=True)\n",
    "\n",
    "# label the publication year of pairs as the publication year of a latter one\n",
    "\n",
    "lateryear = []\n",
    "\n",
    "for i in tqdm(range(len(mms))):\n",
    "    lateryear.append(max(mms['year1'][i], mms['year2'][i]))\n",
    "\n",
    "mms['lateryear'] = lateryear\n",
    "\n",
    "# apply similarity threshold\n",
    "\n",
    "p = 0.001\n",
    "\n",
    "simp_mm = mms[mms['qval'] < p].sort_values('countd').reset_index(drop=True)\n",
    "print(len(simp_mm)/len(mms))\n",
    "\n",
    "simp_mm = simp_mm[['lateryear', 'countd']].sort_values(by=['lateryear', 'countd'])"
   ]
  },
  {
   "cell_type": "code",
   "execution_count": 61,
   "id": "98e96c0d",
   "metadata": {},
   "outputs": [],
   "source": [
    "def percentile(n):\n",
    "    def percentile_(x):\n",
    "        return np.percentile(x, n)\n",
    "    percentile_.__name__ = 'percentile_%s' % n\n",
    "    return percentile_"
   ]
  },
  {
   "cell_type": "code",
   "execution_count": 62,
   "id": "3d87f798",
   "metadata": {},
   "outputs": [],
   "source": [
    "# find the percentile statistics for m-w pairs\n",
    "\n",
    "paired_mf = simp_mw.groupby('lateryear').agg([np.mean, percentile(10), percentile(20),\n",
    "                                      percentile(30), percentile(40), np.median,\n",
    "                                      percentile(60), percentile(70), percentile(80),\n",
    "                                      percentile(90)]).reset_index()"
   ]
  },
  {
   "cell_type": "code",
   "execution_count": 63,
   "id": "ba1f5b3d",
   "metadata": {},
   "outputs": [
    {
     "data": {
      "image/png": "[encoded data removed]",
      "text/plain": [
       "<Figure size 432x324 with 1 Axes>"
      ]
     },
     "metadata": {
      "needs_background": "light"
     },
     "output_type": "display_data"
    }
   ],
   "source": [
    "# m-w pair percentile plot\n",
    "\n",
    "fig, ax = plt.subplots(figsize=(6,4.5))\n",
    "right_side = ax.spines[\"right\"]\n",
    "top_side = ax.spines[\"top\"]\n",
    "right_side.set_visible(False)\n",
    "top_side.set_visible(False)\n",
    "\n",
    "cm = sns.color_palette(\"Reds\",10)\n",
    "\n",
    "plt.axhline(y=0, color='black', linestyle='dotted', lw=3)\n",
    "plt.plot(paired_mf.lateryear,paired_mf.countd[\"median\"],\"-\",label=\"M-F Median\", color=cm[9], lw=3)\n",
    "\n",
    "plt.fill_between(paired_mf.lateryear, paired_mf.countd[\"percentile_10\"],\n",
    "                 paired_mf.countd[\"percentile_20\"], color=cm[1])\n",
    "plt.fill_between(paired_mf.lateryear, paired_mf.countd[\"percentile_20\"],\n",
    "                 paired_mf.countd[\"percentile_30\"], color=cm[3])\n",
    "plt.fill_between(paired_mf.lateryear, paired_mf.countd[\"percentile_30\"],\n",
    "                 paired_mf.countd[\"percentile_40\"], color=cm[5])\n",
    "plt.fill_between(paired_mf.lateryear, paired_mf.countd[\"percentile_40\"],\n",
    "                 paired_mf.countd[\"median\"], color=cm[7])\n",
    "plt.fill_between(paired_mf.lateryear, paired_mf.countd[\"median\"],\n",
    "                 paired_mf.countd[\"percentile_60\"], color=cm[7])\n",
    "plt.fill_between(paired_mf.lateryear, paired_mf.countd[\"percentile_60\"],\n",
    "                 paired_mf.countd[\"percentile_70\"], color=cm[5])\n",
    "plt.fill_between(paired_mf.lateryear, paired_mf.countd[\"percentile_70\"],\n",
    "                 paired_mf.countd[\"percentile_80\"], color=cm[3])\n",
    "plt.fill_between(paired_mf.lateryear, paired_mf.countd[\"percentile_80\"],\n",
    "                 paired_mf.countd[\"percentile_90\"], color=cm[1])\n",
    "\n",
    "plt.xticks(fontsize=20, rotation=45)\n",
    "plt.yticks(fontsize=20)\n",
    "plt.xlabel(\"Publication Year\", fontsize=20)\n",
    "plt.ylabel(\"\\u0394(Citation)\", fontsize=20)\n",
    "\n",
    "plt.xlim(xmin=1970, xmax=2009)\n",
    "plt.ylim(ymin=-30, ymax=30)\n",
    "\n",
    "plt.tight_layout()\n",
    "fig.savefig(f\"/Users/robinkong/codes/mfpair_pp.pdf\")"
   ]
  },
  {
   "cell_type": "code",
   "execution_count": 65,
   "id": "11323166",
   "metadata": {},
   "outputs": [
    {
     "name": "stderr",
     "output_type": "stream",
     "text": [
      "100%|██████████| 100/100 [08:11<00:00,  4.91s/it]\n"
     ]
    },
    {
     "data": {
      "text/html": [
       "<div>\n",
       "<style scoped>\n",
       "    .dataframe tbody tr th:only-of-type {\n",
       "        vertical-align: middle;\n",
       "    }\n",
       "\n",
       "    .dataframe tbody tr th {\n",
       "        vertical-align: top;\n",
       "    }\n",
       "\n",
       "    .dataframe thead th {\n",
       "        text-align: right;\n",
       "    }\n",
       "</style>\n",
       "<table border=\"1\" class=\"dataframe\">\n",
       "  <thead>\n",
       "    <tr style=\"text-align: right;\">\n",
       "      <th></th>\n",
       "      <th>lateryear</th>\n",
       "      <th>(value, mean)</th>\n",
       "      <th>(value, mean)</th>\n",
       "      <th>(value, mean)</th>\n",
       "      <th>(value, mean)</th>\n",
       "      <th>(value, mean)</th>\n",
       "      <th>(value, mean)</th>\n",
       "      <th>(value, mean)</th>\n",
       "      <th>(value, mean)</th>\n",
       "      <th>(value, mean)</th>\n",
       "      <th>...</th>\n",
       "      <th>(value, mean)</th>\n",
       "      <th>(value, mean)</th>\n",
       "      <th>(value, mean)</th>\n",
       "      <th>(value, mean)</th>\n",
       "      <th>(value, mean)</th>\n",
       "      <th>(value, mean)</th>\n",
       "      <th>(value, mean)</th>\n",
       "      <th>(value, mean)</th>\n",
       "      <th>(value, mean)</th>\n",
       "      <th>(value, mean)</th>\n",
       "    </tr>\n",
       "  </thead>\n",
       "  <tbody>\n",
       "    <tr>\n",
       "      <th>0</th>\n",
       "      <td>1903</td>\n",
       "      <td>-0.666667</td>\n",
       "      <td>0.0</td>\n",
       "      <td>-0.666667</td>\n",
       "      <td>0.0</td>\n",
       "      <td>-0.666667</td>\n",
       "      <td>0.666667</td>\n",
       "      <td>0.0</td>\n",
       "      <td>0.0</td>\n",
       "      <td>0.666667</td>\n",
       "      <td>...</td>\n",
       "      <td>0.0</td>\n",
       "      <td>0.666667</td>\n",
       "      <td>-0.666667</td>\n",
       "      <td>0.0</td>\n",
       "      <td>-0.666667</td>\n",
       "      <td>0.0</td>\n",
       "      <td>0.0</td>\n",
       "      <td>0.0</td>\n",
       "      <td>-0.666667</td>\n",
       "      <td>0.0</td>\n",
       "    </tr>\n",
       "    <tr>\n",
       "      <th>1</th>\n",
       "      <td>1916</td>\n",
       "      <td>0.000000</td>\n",
       "      <td>9.0</td>\n",
       "      <td>1.000000</td>\n",
       "      <td>1.0</td>\n",
       "      <td>-6.000000</td>\n",
       "      <td>-5.000000</td>\n",
       "      <td>9.0</td>\n",
       "      <td>-6.0</td>\n",
       "      <td>-1.000000</td>\n",
       "      <td>...</td>\n",
       "      <td>-6.0</td>\n",
       "      <td>-5.000000</td>\n",
       "      <td>0.000000</td>\n",
       "      <td>9.0</td>\n",
       "      <td>0.000000</td>\n",
       "      <td>-5.0</td>\n",
       "      <td>-9.0</td>\n",
       "      <td>5.0</td>\n",
       "      <td>4.000000</td>\n",
       "      <td>0.0</td>\n",
       "    </tr>\n",
       "    <tr>\n",
       "      <th>2</th>\n",
       "      <td>1918</td>\n",
       "      <td>-11.000000</td>\n",
       "      <td>1.0</td>\n",
       "      <td>0.000000</td>\n",
       "      <td>-11.0</td>\n",
       "      <td>1.000000</td>\n",
       "      <td>2.000000</td>\n",
       "      <td>14.0</td>\n",
       "      <td>-1.0</td>\n",
       "      <td>2.000000</td>\n",
       "      <td>...</td>\n",
       "      <td>1.0</td>\n",
       "      <td>14.000000</td>\n",
       "      <td>1.000000</td>\n",
       "      <td>-1.0</td>\n",
       "      <td>-14.000000</td>\n",
       "      <td>0.0</td>\n",
       "      <td>0.0</td>\n",
       "      <td>0.0</td>\n",
       "      <td>-1.000000</td>\n",
       "      <td>0.0</td>\n",
       "    </tr>\n",
       "    <tr>\n",
       "      <th>3</th>\n",
       "      <td>1921</td>\n",
       "      <td>1.000000</td>\n",
       "      <td>3.0</td>\n",
       "      <td>0.000000</td>\n",
       "      <td>2.0</td>\n",
       "      <td>-1.000000</td>\n",
       "      <td>3.000000</td>\n",
       "      <td>0.0</td>\n",
       "      <td>2.0</td>\n",
       "      <td>-2.000000</td>\n",
       "      <td>...</td>\n",
       "      <td>1.0</td>\n",
       "      <td>1.000000</td>\n",
       "      <td>-2.000000</td>\n",
       "      <td>3.0</td>\n",
       "      <td>-3.000000</td>\n",
       "      <td>0.0</td>\n",
       "      <td>-3.0</td>\n",
       "      <td>-1.0</td>\n",
       "      <td>-1.000000</td>\n",
       "      <td>-1.0</td>\n",
       "    </tr>\n",
       "    <tr>\n",
       "      <th>4</th>\n",
       "      <td>1923</td>\n",
       "      <td>-2.000000</td>\n",
       "      <td>0.0</td>\n",
       "      <td>-1.000000</td>\n",
       "      <td>10.0</td>\n",
       "      <td>0.000000</td>\n",
       "      <td>0.500000</td>\n",
       "      <td>7.5</td>\n",
       "      <td>-9.5</td>\n",
       "      <td>-1.000000</td>\n",
       "      <td>...</td>\n",
       "      <td>-6.0</td>\n",
       "      <td>7.000000</td>\n",
       "      <td>-8.000000</td>\n",
       "      <td>5.5</td>\n",
       "      <td>0.000000</td>\n",
       "      <td>5.0</td>\n",
       "      <td>6.0</td>\n",
       "      <td>-4.5</td>\n",
       "      <td>1.000000</td>\n",
       "      <td>-1.5</td>\n",
       "    </tr>\n",
       "  </tbody>\n",
       "</table>\n",
       "<p>5 rows × 101 columns</p>\n",
       "</div>"
      ],
      "text/plain": [
       "   lateryear  (value, mean)  (value, mean)  (value, mean)  (value, mean)  \\\n",
       "0       1903      -0.666667            0.0      -0.666667            0.0   \n",
       "1       1916       0.000000            9.0       1.000000            1.0   \n",
       "2       1918     -11.000000            1.0       0.000000          -11.0   \n",
       "3       1921       1.000000            3.0       0.000000            2.0   \n",
       "4       1923      -2.000000            0.0      -1.000000           10.0   \n",
       "\n",
       "   (value, mean)  (value, mean)  (value, mean)  (value, mean)  (value, mean)  \\\n",
       "0      -0.666667       0.666667            0.0            0.0       0.666667   \n",
       "1      -6.000000      -5.000000            9.0           -6.0      -1.000000   \n",
       "2       1.000000       2.000000           14.0           -1.0       2.000000   \n",
       "3      -1.000000       3.000000            0.0            2.0      -2.000000   \n",
       "4       0.000000       0.500000            7.5           -9.5      -1.000000   \n",
       "\n",
       "   ...  (value, mean)  (value, mean)  (value, mean)  (value, mean)  \\\n",
       "0  ...            0.0       0.666667      -0.666667            0.0   \n",
       "1  ...           -6.0      -5.000000       0.000000            9.0   \n",
       "2  ...            1.0      14.000000       1.000000           -1.0   \n",
       "3  ...            1.0       1.000000      -2.000000            3.0   \n",
       "4  ...           -6.0       7.000000      -8.000000            5.5   \n",
       "\n",
       "   (value, mean)  (value, mean)  (value, mean)  (value, mean)  (value, mean)  \\\n",
       "0      -0.666667            0.0            0.0            0.0      -0.666667   \n",
       "1       0.000000           -5.0           -9.0            5.0       4.000000   \n",
       "2     -14.000000            0.0            0.0            0.0      -1.000000   \n",
       "3      -3.000000            0.0           -3.0           -1.0      -1.000000   \n",
       "4       0.000000            5.0            6.0           -4.5       1.000000   \n",
       "\n",
       "   (value, mean)  \n",
       "0            0.0  \n",
       "1            0.0  \n",
       "2            0.0  \n",
       "3           -1.0  \n",
       "4           -1.5  \n",
       "\n",
       "[5 rows x 101 columns]"
      ]
     },
     "execution_count": 65,
     "metadata": {},
     "output_type": "execute_result"
    }
   ],
   "source": [
    "ref = simp_mw.lateryear.unique()\n",
    "numlist = []\n",
    "\n",
    "mm_centrality = pd.DataFrame(columns=['lateryear'])\n",
    "\n",
    "for num in ref:\n",
    "    numlist.append(num)\n",
    "mm_centrality['lateryear'] = numlist\n",
    "\n",
    "# take the average of 100 random m-m pair samples per year and calculate the centrality difference\n",
    "\n",
    "for k in tqdm(range(100)):\n",
    "    df1 = pd.DataFrame(columns=['lateryear', 'countd'])\n",
    "    vlist = []\n",
    "\n",
    "    for i in range(len(ref)):\n",
    "        df2 = simp_mm[simp_mm['lateryear'] == ref[i]].sample(\n",
    "            simp_mw.lateryear.value_counts().sort_index().iloc[i], replace=True)\n",
    "        df1 = pd.concat([df1,df2])\n",
    "    \n",
    "    for j in range(len(df1)):\n",
    "        if randint(0,1) == 0:\n",
    "            vlist.append(df1.countd.iloc[j])\n",
    "        else:\n",
    "            vlist.append(df1.countd.iloc[j] * -1)\n",
    "    \n",
    "    df1['value'] = vlist\n",
    "    df1 = df1.groupby(\"lateryear\").agg([np.mean]).reset_index().drop(['lateryear'], axis=1)\n",
    "\n",
    "    mm_centrality = pd.concat([mm_centrality, df1], axis=1)\n",
    "\n",
    "mm_centrality.head()"
   ]
  },
  {
   "cell_type": "code",
   "execution_count": 66,
   "id": "f73d6d66",
   "metadata": {},
   "outputs": [],
   "source": [
    "# record the percentiles of the average statistics of 100 m-m pairs per year\n",
    "\n",
    "paired_mm = mm_centrality.copy()\n",
    "\n",
    "list_1, list_2, list_3, list_4, list_5, list_6, list_7, list_8, list_9 = [], [], [], [], [], [], [], [], []\n",
    "\n",
    "for i in range(len(paired_mm)):\n",
    "    list_1.append(np.percentile(paired_mm.iloc[i,1:],10))\n",
    "    list_2.append(np.percentile(paired_mm.iloc[i,1:],20))\n",
    "    list_3.append(np.percentile(paired_mm.iloc[i,1:],30))\n",
    "    list_4.append(np.percentile(paired_mm.iloc[i,1:],40))\n",
    "    list_5.append(np.median(paired_mm.iloc[i,1:]))\n",
    "    list_6.append(np.percentile(paired_mm.iloc[i,1:],60))\n",
    "    list_7.append(np.percentile(paired_mm.iloc[i,1:],70))\n",
    "    list_8.append(np.percentile(paired_mm.iloc[i,1:],80))\n",
    "    list_9.append(np.percentile(paired_mm.iloc[i,1:],90))\n",
    "\n",
    "paired_mm['percentile_10'] = list_1\n",
    "paired_mm['percentile_20'] = list_2\n",
    "paired_mm['percentile_30'] = list_3\n",
    "paired_mm['percentile_40'] = list_4\n",
    "paired_mm['median'] = list_5\n",
    "paired_mm['percentile_60'] = list_6\n",
    "paired_mm['percentile_70'] = list_7\n",
    "paired_mm['percentile_80'] = list_8\n",
    "paired_mm['percentile_90'] = list_9\n",
    "\n",
    "paired_mm = paired_mm[['lateryear', 'percentile_10','percentile_20','percentile_30',\n",
    "                       'percentile_40','median','percentile_60','percentile_70',\n",
    "                       'percentile_80','percentile_90']]"
   ]
  },
  {
   "cell_type": "code",
   "execution_count": 68,
   "id": "ecf90c8c",
   "metadata": {},
   "outputs": [
    {
     "data": {
      "image/png": "[encoded data removed]",
      "text/plain": [
       "<Figure size 432x324 with 1 Axes>"
      ]
     },
     "metadata": {
      "needs_background": "light"
     },
     "output_type": "display_data"
    }
   ],
   "source": [
    "# m-m averaged percentile plot\n",
    "\n",
    "fig, ax = plt.subplots(figsize=(6,4.5))\n",
    "right_side = ax.spines[\"right\"]\n",
    "top_side = ax.spines[\"top\"]\n",
    "right_side.set_visible(False)\n",
    "top_side.set_visible(False)\n",
    "\n",
    "cm2 = sns.color_palette(\"Blues\",10)\n",
    "\n",
    "plt.axhline(y=0, color='black', linestyle='dotted', lw=3)\n",
    "plt.plot(paired_mm.lateryear,paired_mm[\"median\"],\"-\",label=\"M-M Median\", color=cm2[9], lw=3)\n",
    "\n",
    "plt.fill_between(paired_mm.lateryear, paired_mm[\"percentile_10\"],\n",
    "                 paired_mm[\"percentile_20\"], color=cm2[1])\n",
    "plt.fill_between(paired_mm.lateryear, paired_mm[\"percentile_20\"],\n",
    "                 paired_mm[\"percentile_30\"], color=cm2[3])\n",
    "plt.fill_between(paired_mm.lateryear, paired_mm[\"percentile_30\"],\n",
    "                 paired_mm[\"percentile_40\"], color=cm2[5])\n",
    "plt.fill_between(paired_mm.lateryear, paired_mm[\"percentile_40\"],\n",
    "                 paired_mm[\"median\"], color=cm2[7])\n",
    "plt.fill_between(paired_mm.lateryear, paired_mm[\"median\"],\n",
    "                 paired_mm[\"percentile_60\"], color=cm2[7])\n",
    "plt.fill_between(paired_mm.lateryear, paired_mm[\"percentile_60\"],\n",
    "                 paired_mm[\"percentile_70\"], color=cm2[5])\n",
    "plt.fill_between(paired_mm.lateryear, paired_mm[\"percentile_70\"],\n",
    "                 paired_mm[\"percentile_80\"], color=cm2[3])\n",
    "plt.fill_between(paired_mm.lateryear, paired_mm[\"percentile_80\"],\n",
    "                 paired_mm[\"percentile_90\"], color=cm2[1])\n",
    "\n",
    "plt.xticks(fontsize=20, rotation=45)\n",
    "plt.yticks(fontsize=20)\n",
    "plt.xlabel(\"Publication Year\", fontsize=20)\n",
    "plt.ylabel(\"\\u0394(Citation)\", fontsize=20)\n",
    "\n",
    "plt.xlim(xmin=1970, xmax=2009)\n",
    "plt.ylim(ymin=-3, ymax=3)\n",
    "\n",
    "plt.tight_layout()\n",
    "fig.savefig(f\"/Users/robinkong/codes/mmpair_pp.pdf\")"
   ]
  },
  {
   "cell_type": "markdown",
   "id": "76546f31",
   "metadata": {},
   "source": [
    "### Centrality differences of similar m-m & m-f pairs by year"
   ]
  },
  {
   "cell_type": "code",
   "execution_count": 69,
   "id": "3aec827d",
   "metadata": {},
   "outputs": [],
   "source": [
    "# mm_ms is the DataFrame for the difference plot (M-M pairs)\n",
    "mm_ms = mm_centrality.copy()\n",
    "\n",
    "# Retrieving the list of means and SDs\n",
    "meanlist = mm_ms.iloc[:,1:].mean(axis=1).tolist()\n",
    "sdlist = mm_ms.iloc[:,1:].std(axis=1).tolist()\n",
    "\n",
    "# Appending to the DataFrame\n",
    "mm_ms['avg'] = meanlist\n",
    "mm_ms['sd'] = sdlist\n",
    "mm_ms = mm_ms[['lateryear','avg','sd']]"
   ]
  },
  {
   "cell_type": "code",
   "execution_count": 70,
   "id": "a862bc8a",
   "metadata": {},
   "outputs": [],
   "source": [
    "# mf_ms is the DataFrame for the difference plot (M-F pairs)\n",
    "mf_ms = simp_mw.groupby(\"lateryear\").agg(['count', np.mean, np.std]).reset_index()\n",
    "\n",
    "# Retrieve a standard error list for M-F pairs\n",
    "semlist = []\n",
    "\n",
    "for i in range(len(mf_ms)):\n",
    "    semlist.append(mf_ms.countd['std'][i]/math.sqrt(mf_ms.countd['count'][i]))\n",
    "\n",
    "mf_ms['sem'] = semlist"
   ]
  },
  {
   "cell_type": "code",
   "execution_count": 71,
   "id": "ade209da",
   "metadata": {},
   "outputs": [],
   "source": [
    "# remove sparse year data (not used in visualization regardlessly)\n",
    "\n",
    "mm_ms = mm_ms.loc[4:].reset_index(drop=True)\n",
    "mf_ms = mf_ms.loc[4:].reset_index(drop=True)"
   ]
  },
  {
   "cell_type": "code",
   "execution_count": 72,
   "id": "45e804ce",
   "metadata": {},
   "outputs": [
    {
     "data": {
      "image/png": "[encoded data removed]",
      "text/plain": [
       "<Figure size 432x324 with 1 Axes>"
      ]
     },
     "metadata": {
      "needs_background": "light"
     },
     "output_type": "display_data"
    }
   ],
   "source": [
    "# Creating a year vs. centrality difference plot, separated by gender\n",
    "\n",
    "fig, ax = plt.subplots(figsize=(6,4.5))\n",
    "right_side = ax.spines[\"right\"]\n",
    "top_side = ax.spines[\"top\"]\n",
    "right_side.set_visible(False)\n",
    "top_side.set_visible(False)\n",
    "\n",
    "# Equilibrium line\n",
    "plt.axhline(y=0, color='black', linestyle='dotted', lw=3)\n",
    "\n",
    "# Plotting M-M pairs\n",
    "plt.plot(mm_ms.lateryear,mm_ms.avg,\"-\",label=\"M-M Pair\",\n",
    "         color='#67a9cf', lw=3)\n",
    "\n",
    "# shading the SD area (M-M)\n",
    "X  = np.linspace(min(mm_ms.lateryear),max(mm_ms.lateryear),mm_ms.lateryear.nunique())\n",
    "plt.fill_between(X,\n",
    "                 mm_ms.avg + mm_ms.sd,\n",
    "                 mm_ms.avg - mm_ms.sd,\n",
    "                 color='C0',alpha=.4,edgecolor=\"none\")\n",
    "\n",
    "# Plotting M-F pairs\n",
    "plt.plot(mf_ms.lateryear,mf_ms.countd['mean'],\"-\",label=\"M-W Pair\",\n",
    "         color='#ef8a62', lw=3)\n",
    "\n",
    "# shading the SE area (M-F)\n",
    "plt.fill_between(X,\n",
    "                 mf_ms.countd['mean'] + mf_ms['sem'],\n",
    "                 mf_ms.countd['mean'] - mf_ms['sem'],\n",
    "                 color='C1',alpha=.4,edgecolor=\"none\")\n",
    "\n",
    "plt.xticks(fontsize=20, rotation=45)\n",
    "plt.yticks(fontsize=20)\n",
    "plt.xlabel(\"Year\",fontsize=20)\n",
    "plt.ylabel(\"\\u0394c\",fontsize=20)\n",
    "plt.xlim(xmin=1970, xmax=2009)\n",
    "plt.ylim(ymin=-10, ymax=10)\n",
    "\n",
    "plt.legend(loc='lower right', fontsize=20)\n",
    "\n",
    "plt.tight_layout()\n",
    "fig.savefig(f\"/Users/robinkong/codes/mm_mf_cdiff.pdf\")"
   ]
  },
  {
   "cell_type": "markdown",
   "id": "007bc52e",
   "metadata": {},
   "source": [
    "### Year difference vs. Centrality difference visualization by PACS"
   ]
  },
  {
   "cell_type": "code",
   "execution_count": 23,
   "id": "a5d0f216",
   "metadata": {},
   "outputs": [],
   "source": [
    "def sigfig(n):\n",
    "    if n <= 0.001:\n",
    "        return '***'\n",
    "    elif n <= 0.01:\n",
    "        return '**'\n",
    "    elif n <= 0.05:\n",
    "        return '*'\n",
    "    return 'ns'"
   ]
  },
  {
   "cell_type": "code",
   "execution_count": 42,
   "id": "bcb30fce",
   "metadata": {},
   "outputs": [
    {
     "name": "stdout",
     "output_type": "stream",
     "text": [
      "14490273\n",
      "1057275\n",
      "28262\n"
     ]
    }
   ],
   "source": [
    "# Separate into 4 quadrants depending on count difference and year difference\n",
    "\n",
    "N = 9  # subfield\n",
    "sdoi = primdata[primdata[f'pacs{N}0'] == 1].doi\n",
    "\n",
    "cy_mw = sim_mf.copy()\n",
    "print(len(cy_mw))\n",
    "cy_mw = cy_mw[cy_mw['qval'] < 0.001]  # apply threshold\n",
    "print(len(cy_mw))\n",
    "cy_mw = cy_mw[(cy_mw.paper1.isin(sdoi)) & (cy_mw.paper2.isin(sdoi))\n",
    "             ].reset_index(drop=True)  # apply subfield\n",
    "print(len(cy_mw))\n",
    "\n",
    "quad1 = cy_mw[(cy_mw.countd > 0) & (cy_mw.yeard > 0)]\n",
    "quad2 = cy_mw[(cy_mw.countd > 0) & (cy_mw.yeard < 0)]\n",
    "quad3 = cy_mw[(cy_mw.countd < 0) & (cy_mw.yeard < 0)]\n",
    "quad4 = cy_mw[(cy_mw.countd < 0) & (cy_mw.yeard > 0)]"
   ]
  },
  {
   "cell_type": "code",
   "execution_count": 12,
   "id": "ee257136",
   "metadata": {},
   "outputs": [
    {
     "data": {
      "image/png": "[encoded data removed]",
      "text/plain": [
       "<Figure size 432x324 with 1 Axes>"
      ]
     },
     "metadata": {
      "needs_background": "light"
     },
     "output_type": "display_data"
    }
   ],
   "source": [
    "# build scatterplots\n",
    "\n",
    "fig, ax = plt.subplots(figsize=(6,4.5))\n",
    "right_side = ax.spines[\"right\"]\n",
    "top_side = ax.spines[\"top\"]\n",
    "right_side.set_visible(False)\n",
    "top_side.set_visible(False)\n",
    "\n",
    "# Create year difference vs. count difference scatterplot\n",
    "plt.title(f\"PACS {N}0\", fontsize=20)\n",
    "plt.scatter(quad1.yeard, quad1.countd, s=3, c='#000000')\n",
    "plt.scatter(quad2.yeard, quad2.countd, s=3, c='#c20114')\n",
    "plt.scatter(quad3.yeard, quad3.countd, s=3, c='#59a96a')\n",
    "plt.scatter(quad4.yeard, quad4.countd, s=3, c='#985f99')\n",
    "plt.axhline(y=0, linewidth=0.5, c='k', lw=3)\n",
    "plt.axvline(x=0, linewidth=0.5, c='k', lw=3)\n",
    "plt.xlabel(\"\\u0394(Year)\", fontsize=20)\n",
    "plt.ylabel(\"\\u0394(Citation)\", fontsize=20)\n",
    "# plt.ylim(ymax=200)\n",
    "# plt.xlim(xmin=-25, xmax=25)\n",
    "\n",
    "plt.xticks(fontsize=15)\n",
    "plt.yticks(fontsize=15)\n",
    "plt.tight_layout()\n",
    "# fig.savefig(f\"/Users/robinkong/codes/SI_Fig_6_PACS{N}0.pdf\")"
   ]
  },
  {
   "cell_type": "code",
   "execution_count": 43,
   "id": "10c7cf8c",
   "metadata": {
    "scrolled": false
   },
   "outputs": [
    {
     "name": "stdout",
     "output_type": "stream",
     "text": [
      "5.2232 0.0000 ***\n",
      "2.2317 0.0256 *\n",
      "1.8725 0.0611 \n",
      "1.9107 0.0560 \n",
      "1.1279 0.2594 \n",
      "0.5537 0.5798 \n",
      "0.3924 0.6948 \n",
      "1.4787 0.1392 \n",
      "1.7341 0.0829 \n",
      "0.9210 0.3570 \n",
      "------------------------------\n",
      "4.5563 0.0000 ***\n",
      "3.4330 0.0006 ***\n",
      "3.7576 0.0002 ***\n",
      "2.8860 0.0039 **\n",
      "2.4969 0.0125 *\n",
      "4.2551 0.0000 ***\n",
      "3.0543 0.0023 **\n",
      "2.1406 0.0323 *\n",
      "1.2243 0.2208 \n",
      "3.0319 0.0024 **\n"
     ]
    }
   ],
   "source": [
    "# Q1 vs. Q3\n",
    "\n",
    "for i in range(1,11):\n",
    "    q1 = quad1[quad1['yeard'] == i]\n",
    "    q3 = quad3[quad3['yeard'] == i * -1]\n",
    "    if len(q1) < 2 or len(q3) < 2:\n",
    "        print('NA')\n",
    "    else:\n",
    "        xd = q1['countd'].mean() - abs(q3['countd']).mean()\n",
    "        var = math.sqrt(statistics.stdev(q1['countd'])**2/len(q1) +\n",
    "                    statistics.stdev(abs(q3['countd']))**2/len(q3))\n",
    "        zscore = xd/var\n",
    "        pval = scipy.stats.norm.sf(abs(xd/var))*2\n",
    "        print(format(zscore, \".4f\"), format(pval, \".4f\"), sigfig(pval))\n",
    "        \n",
    "print('-'* 30)\n",
    "\n",
    "# Q2 vs. Q4\n",
    "\n",
    "for i in range(1,11):\n",
    "    q2 = quad2[quad2['yeard'] == i * -1]\n",
    "    q4 = quad4[quad4['yeard'] == i]\n",
    "    if len(q4) < 2 or len(q2) < 2:\n",
    "        print('NA')\n",
    "    else:\n",
    "        xd = q2['countd'].mean() - abs(q4['countd']).mean()\n",
    "        var = math.sqrt(statistics.stdev(q4['countd'])**2/len(q4) +\n",
    "                    statistics.stdev(abs(q2['countd']))**2/len(q2))\n",
    "\n",
    "        zscore = xd/var\n",
    "        pval = scipy.stats.norm.sf(abs(xd/var))*2\n",
    "        print(format(zscore, \".4f\"), format(pval, \".4f\"), sigfig(pval))"
   ]
  },
  {
   "cell_type": "code",
   "execution_count": null,
   "id": "758f2c43",
   "metadata": {},
   "outputs": [],
   "source": []
  }
 ],
 "metadata": {
  "kernelspec": {
   "display_name": "Python 3",
   "language": "python",
   "name": "python3"
  },
  "language_info": {
   "codemirror_mode": {
    "name": "ipython",
    "version": 3
   },
   "file_extension": ".py",
   "mimetype": "text/x-python",
   "name": "python",
   "nbconvert_exporter": "python",
   "pygments_lexer": "ipython3",
   "version": "3.8.8"
  }
 },
 "nbformat": 4,
 "nbformat_minor": 5
}
