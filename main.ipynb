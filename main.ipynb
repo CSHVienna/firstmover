{
 "cells": [
  {
   "cell_type": "code",
   "execution_count": null,
   "id": "3262f792",
   "metadata": {},
   "outputs": [],
   "source": [
    "# pip install pingouin"
   ]
  },
  {
   "cell_type": "code",
   "execution_count": 33,
   "id": "c66b2344",
   "metadata": {},
   "outputs": [],
   "source": [
    "# import necessary packages\n",
    "\n",
    "import pandas as pd\n",
    "import itertools\n",
    "import numpy as np\n",
    "# import scipy.stats\n",
    "from statsmodels.stats.weightstats import ztest as ztest\n",
    "import time\n",
    "\n",
    "import matplotlib.pyplot as plt\n",
    "import seaborn as sns\n",
    "\n",
    "from tqdm import tqdm\n",
    "\n",
    "import networkx as nx\n",
    "from random import randint\n",
    "\n",
    "import math\n",
    "# import pingouin as pg"
   ]
  },
  {
   "cell_type": "code",
   "execution_count": 17,
   "id": "74669cad",
   "metadata": {},
   "outputs": [],
   "source": [
    "# import necessary data\n",
    "\n",
    "# result = pd.read_csv(\"/Users/robinkong/codes/result.csv\")\n",
    "# paperdata = pd.read_csv(\"/Users/robinkong/codes/paperdata.csv\")\n",
    "cb = pd.read_csv(\"/Users/robinkong/codes/citationBara.csv\")\n",
    "primdata = pd.read_csv(\"/Users/robinkong/codes/primdata.csv\")\n",
    "pair = pd.read_csv(\"/Users/robinkong/codes/pairs.csv\", chunksize = 1000000)\n",
    "# mfpairs = pd.read_csv(\"/Users/robinkong/codes/mfpairs.csv\")\n",
    "# sim_mf = pd.read_csv(\"/Users/robinkong/codes/mfpairs_similarity.csv\")"
   ]
  },
  {
   "cell_type": "code",
   "execution_count": 3,
   "id": "0cd10d73",
   "metadata": {},
   "outputs": [
    {
     "data": {
      "text/html": [
       "<div>\n",
       "<style scoped>\n",
       "    .dataframe tbody tr th:only-of-type {\n",
       "        vertical-align: middle;\n",
       "    }\n",
       "\n",
       "    .dataframe tbody tr th {\n",
       "        vertical-align: top;\n",
       "    }\n",
       "\n",
       "    .dataframe thead th {\n",
       "        text-align: right;\n",
       "    }\n",
       "</style>\n",
       "<table border=\"1\" class=\"dataframe\">\n",
       "  <thead>\n",
       "    <tr style=\"text-align: right;\">\n",
       "      <th></th>\n",
       "      <th>citing_doi</th>\n",
       "      <th>citing_year</th>\n",
       "      <th>cited_doi</th>\n",
       "    </tr>\n",
       "  </thead>\n",
       "  <tbody>\n",
       "    <tr>\n",
       "      <th>120140</th>\n",
       "      <td>10.1103/PhysRev.2.109</td>\n",
       "      <td>1913</td>\n",
       "      <td>10.1103/PhysRev.1.124</td>\n",
       "    </tr>\n",
       "    <tr>\n",
       "      <th>123113</th>\n",
       "      <td>10.1103/PhysRev.40.281</td>\n",
       "      <td>1932</td>\n",
       "      <td>10.1103/PhysRev.1.124</td>\n",
       "    </tr>\n",
       "    <tr>\n",
       "      <th>120191</th>\n",
       "      <td>10.1103/PhysRev.21.250</td>\n",
       "      <td>1923</td>\n",
       "      <td>10.1103/PhysRev.1.124</td>\n",
       "    </tr>\n",
       "    <tr>\n",
       "      <th>144119</th>\n",
       "      <td>10.1103/PhysRev.8.738</td>\n",
       "      <td>1916</td>\n",
       "      <td>10.1103/PhysRev.1.124</td>\n",
       "    </tr>\n",
       "    <tr>\n",
       "      <th>2740023</th>\n",
       "      <td>10.1103/PhysRevSeriesI.2.1</td>\n",
       "      <td>1894</td>\n",
       "      <td>10.1103/PhysRev.1.2</td>\n",
       "    </tr>\n",
       "  </tbody>\n",
       "</table>\n",
       "</div>"
      ],
      "text/plain": [
       "                         citing_doi  citing_year              cited_doi\n",
       "120140        10.1103/PhysRev.2.109         1913  10.1103/PhysRev.1.124\n",
       "123113       10.1103/PhysRev.40.281         1932  10.1103/PhysRev.1.124\n",
       "120191       10.1103/PhysRev.21.250         1923  10.1103/PhysRev.1.124\n",
       "144119        10.1103/PhysRev.8.738         1916  10.1103/PhysRev.1.124\n",
       "2740023  10.1103/PhysRevSeriesI.2.1         1894    10.1103/PhysRev.1.2"
      ]
     },
     "execution_count": 3,
     "metadata": {},
     "output_type": "execute_result"
    }
   ],
   "source": [
    "# DataFrame: {citing_doi, citing_year, cited_doi}\n",
    "\n",
    "citinfo = primdata[[\"doi\", \"year\"]].drop_duplicates(subset = 'doi')\n",
    "cols = ['citing_doi', 'citing_year', 'cited_doi']\n",
    "\n",
    "citinfo = citinfo.merge(cb, left_on = 'doi', right_on = 'citing_doi',\n",
    "              how = 'inner').drop(['doi'], axis=1).rename(\n",
    "                  {'year': 'citing_year'}, axis=1).reindex(\n",
    "                      columns=cols).sort_values('cited_doi')\n",
    "\n",
    "citinfo.head()"
   ]
  },
  {
   "cell_type": "markdown",
   "id": "69e0b615",
   "metadata": {},
   "source": [
    "# Basic Statistics"
   ]
  },
  {
   "cell_type": "code",
   "execution_count": 144,
   "id": "9fa582fd",
   "metadata": {},
   "outputs": [
    {
     "name": "stdout",
     "output_type": "stream",
     "text": [
      "Total papers:  541448\n",
      "Papers with gender info:  375738\n",
      "Papers with primary gender info:  273020\n"
     ]
    }
   ],
   "source": [
    "print(\"Total papers: \", result.doi.nunique())\n",
    "print(\"Papers with gender info: \", paperdata.doi.nunique())\n",
    "print(\"Papers with primary gender info: \", primdata.doi.nunique())"
   ]
  },
  {
   "cell_type": "code",
   "execution_count": 145,
   "id": "7ad916bc",
   "metadata": {},
   "outputs": [
    {
     "name": "stdout",
     "output_type": "stream",
     "text": [
      "Total PRL papers:  110080\n",
      "PRL papers with gender info:  76527\n",
      "PRL papers with primary gender info:  54460\n",
      "PRL papers written primarily by men:  48950\n",
      "PRL papers written primarily by women:  5510\n"
     ]
    }
   ],
   "source": [
    "# journal query condition\n",
    "\n",
    "s = \"PRL\"\n",
    "\n",
    "print(f\"Total {s} papers: \", result[result['journal'] == s].doi.nunique())\n",
    "print(f\"{s} papers with gender info: \", paperdata[paperdata['journal'] == s].doi.nunique())\n",
    "\n",
    "df = primdata[primdata['journal'] == s]\n",
    "\n",
    "print(f\"{s} papers with primary gender info: \", df.doi.nunique())\n",
    "print(f\"{s} papers written primarily by men: \", len(df[df['gender']=='male']))\n",
    "print(f\"{s} papers written primarily by women: \", len(df[df['gender']=='female']))"
   ]
  },
  {
   "cell_type": "code",
   "execution_count": 156,
   "id": "692342d1",
   "metadata": {},
   "outputs": [
    {
     "name": "stdout",
     "output_type": "stream",
     "text": [
      "Total PACS90 papers:  26601\n",
      "PACS90 papers with gender info:  12628\n",
      "PACS90 papers with primary gender info:  9597\n",
      "PACS90 papers written primarily by men:  8469\n",
      "PACS90 papers written primarily by women:  1128\n"
     ]
    }
   ],
   "source": [
    "# PACS query condition\n",
    "\n",
    "pacs = '90'\n",
    "\n",
    "print(f\"Total PACS{pacs} papers: \", result[result[f'pacs{pacs}'] == 1].doi.nunique())\n",
    "print(f\"PACS{pacs} papers with gender info: \", paperdata[paperdata[f'pacs{pacs}'] == 1].doi.nunique())\n",
    "\n",
    "df = primdata[primdata[f'pacs{pacs}'] == 1]\n",
    "\n",
    "print(f\"PACS{pacs} papers with primary gender info: \", df.doi.nunique())\n",
    "print(f\"PACS{pacs} papers written primarily by men: \", len(df[df['gender']=='male']))\n",
    "print(f\"PACS{pacs} papers written primarily by women: \", len(df[df['gender']=='female']))"
   ]
  },
  {
   "cell_type": "markdown",
   "id": "03bc2c55",
   "metadata": {},
   "source": [
    "# Pair matching\n",
    "\n",
    "## Preparing m-w similar pairs"
   ]
  },
  {
   "cell_type": "code",
   "execution_count": 18,
   "id": "a6a87456",
   "metadata": {
    "collapsed": true
   },
   "outputs": [
    {
     "ename": "KeyboardInterrupt",
     "evalue": "",
     "output_type": "error",
     "traceback": [
      "\u001b[0;31m---------------------------------------------------------------------------\u001b[0m",
      "\u001b[0;31mKeyboardInterrupt\u001b[0m                         Traceback (most recent call last)",
      "\u001b[0;32m<ipython-input-18-777d2ac28a58>\u001b[0m in \u001b[0;36m<module>\u001b[0;34m\u001b[0m\n\u001b[1;32m      1\u001b[0m \u001b[0;31m# dealing with massive pair dataFrame\u001b[0m\u001b[0;34m\u001b[0m\u001b[0;34m\u001b[0m\u001b[0;34m\u001b[0m\u001b[0m\n\u001b[1;32m      2\u001b[0m \u001b[0;34m\u001b[0m\u001b[0m\n\u001b[0;32m----> 3\u001b[0;31m \u001b[0mpair\u001b[0m \u001b[0;34m=\u001b[0m \u001b[0mlist\u001b[0m\u001b[0;34m(\u001b[0m\u001b[0mpair\u001b[0m\u001b[0;34m)\u001b[0m\u001b[0;34m\u001b[0m\u001b[0;34m\u001b[0m\u001b[0m\n\u001b[0m\u001b[1;32m      4\u001b[0m \u001b[0mmfpairs\u001b[0m \u001b[0;34m=\u001b[0m \u001b[0mpd\u001b[0m\u001b[0;34m.\u001b[0m\u001b[0mDataFrame\u001b[0m\u001b[0;34m(\u001b[0m\u001b[0mcolumns\u001b[0m\u001b[0;34m=\u001b[0m\u001b[0mlist\u001b[0m\u001b[0;34m(\u001b[0m\u001b[0mpair\u001b[0m\u001b[0;34m[\u001b[0m\u001b[0;36m0\u001b[0m\u001b[0;34m]\u001b[0m\u001b[0;34m.\u001b[0m\u001b[0mcolumns\u001b[0m\u001b[0;34m)\u001b[0m\u001b[0;34m)\u001b[0m\u001b[0;34m\u001b[0m\u001b[0;34m\u001b[0m\u001b[0m\n",
      "\u001b[0;32m~/opt/anaconda3/lib/python3.8/site-packages/pandas/io/parsers.py\u001b[0m in \u001b[0;36m__next__\u001b[0;34m(self)\u001b[0m\n\u001b[1;32m   1032\u001b[0m     \u001b[0;32mdef\u001b[0m \u001b[0m__next__\u001b[0m\u001b[0;34m(\u001b[0m\u001b[0mself\u001b[0m\u001b[0;34m)\u001b[0m\u001b[0;34m:\u001b[0m\u001b[0;34m\u001b[0m\u001b[0;34m\u001b[0m\u001b[0m\n\u001b[1;32m   1033\u001b[0m         \u001b[0;32mtry\u001b[0m\u001b[0;34m:\u001b[0m\u001b[0;34m\u001b[0m\u001b[0;34m\u001b[0m\u001b[0m\n\u001b[0;32m-> 1034\u001b[0;31m             \u001b[0;32mreturn\u001b[0m \u001b[0mself\u001b[0m\u001b[0;34m.\u001b[0m\u001b[0mget_chunk\u001b[0m\u001b[0;34m(\u001b[0m\u001b[0;34m)\u001b[0m\u001b[0;34m\u001b[0m\u001b[0;34m\u001b[0m\u001b[0m\n\u001b[0m\u001b[1;32m   1035\u001b[0m         \u001b[0;32mexcept\u001b[0m \u001b[0mStopIteration\u001b[0m\u001b[0;34m:\u001b[0m\u001b[0;34m\u001b[0m\u001b[0;34m\u001b[0m\u001b[0m\n\u001b[1;32m   1036\u001b[0m             \u001b[0mself\u001b[0m\u001b[0;34m.\u001b[0m\u001b[0mclose\u001b[0m\u001b[0;34m(\u001b[0m\u001b[0;34m)\u001b[0m\u001b[0;34m\u001b[0m\u001b[0;34m\u001b[0m\u001b[0m\n",
      "\u001b[0;32m~/opt/anaconda3/lib/python3.8/site-packages/pandas/io/parsers.py\u001b[0m in \u001b[0;36mget_chunk\u001b[0;34m(self, size)\u001b[0m\n\u001b[1;32m   1082\u001b[0m                 \u001b[0;32mraise\u001b[0m \u001b[0mStopIteration\u001b[0m\u001b[0;34m\u001b[0m\u001b[0;34m\u001b[0m\u001b[0m\n\u001b[1;32m   1083\u001b[0m             \u001b[0msize\u001b[0m \u001b[0;34m=\u001b[0m \u001b[0mmin\u001b[0m\u001b[0;34m(\u001b[0m\u001b[0msize\u001b[0m\u001b[0;34m,\u001b[0m \u001b[0mself\u001b[0m\u001b[0;34m.\u001b[0m\u001b[0mnrows\u001b[0m \u001b[0;34m-\u001b[0m \u001b[0mself\u001b[0m\u001b[0;34m.\u001b[0m\u001b[0m_currow\u001b[0m\u001b[0;34m)\u001b[0m\u001b[0;34m\u001b[0m\u001b[0;34m\u001b[0m\u001b[0m\n\u001b[0;32m-> 1084\u001b[0;31m         \u001b[0;32mreturn\u001b[0m \u001b[0mself\u001b[0m\u001b[0;34m.\u001b[0m\u001b[0mread\u001b[0m\u001b[0;34m(\u001b[0m\u001b[0mnrows\u001b[0m\u001b[0;34m=\u001b[0m\u001b[0msize\u001b[0m\u001b[0;34m)\u001b[0m\u001b[0;34m\u001b[0m\u001b[0;34m\u001b[0m\u001b[0m\n\u001b[0m\u001b[1;32m   1085\u001b[0m \u001b[0;34m\u001b[0m\u001b[0m\n\u001b[1;32m   1086\u001b[0m     \u001b[0;32mdef\u001b[0m \u001b[0m__enter__\u001b[0m\u001b[0;34m(\u001b[0m\u001b[0mself\u001b[0m\u001b[0;34m)\u001b[0m\u001b[0;34m:\u001b[0m\u001b[0;34m\u001b[0m\u001b[0;34m\u001b[0m\u001b[0m\n",
      "\u001b[0;32m~/opt/anaconda3/lib/python3.8/site-packages/pandas/io/parsers.py\u001b[0m in \u001b[0;36mread\u001b[0;34m(self, nrows)\u001b[0m\n\u001b[1;32m   1055\u001b[0m     \u001b[0;32mdef\u001b[0m \u001b[0mread\u001b[0m\u001b[0;34m(\u001b[0m\u001b[0mself\u001b[0m\u001b[0;34m,\u001b[0m \u001b[0mnrows\u001b[0m\u001b[0;34m=\u001b[0m\u001b[0;32mNone\u001b[0m\u001b[0;34m)\u001b[0m\u001b[0;34m:\u001b[0m\u001b[0;34m\u001b[0m\u001b[0;34m\u001b[0m\u001b[0m\n\u001b[1;32m   1056\u001b[0m         \u001b[0mnrows\u001b[0m \u001b[0;34m=\u001b[0m \u001b[0mvalidate_integer\u001b[0m\u001b[0;34m(\u001b[0m\u001b[0;34m\"nrows\"\u001b[0m\u001b[0;34m,\u001b[0m \u001b[0mnrows\u001b[0m\u001b[0;34m)\u001b[0m\u001b[0;34m\u001b[0m\u001b[0;34m\u001b[0m\u001b[0m\n\u001b[0;32m-> 1057\u001b[0;31m         \u001b[0mindex\u001b[0m\u001b[0;34m,\u001b[0m \u001b[0mcolumns\u001b[0m\u001b[0;34m,\u001b[0m \u001b[0mcol_dict\u001b[0m \u001b[0;34m=\u001b[0m \u001b[0mself\u001b[0m\u001b[0;34m.\u001b[0m\u001b[0m_engine\u001b[0m\u001b[0;34m.\u001b[0m\u001b[0mread\u001b[0m\u001b[0;34m(\u001b[0m\u001b[0mnrows\u001b[0m\u001b[0;34m)\u001b[0m\u001b[0;34m\u001b[0m\u001b[0;34m\u001b[0m\u001b[0m\n\u001b[0m\u001b[1;32m   1058\u001b[0m \u001b[0;34m\u001b[0m\u001b[0m\n\u001b[1;32m   1059\u001b[0m         \u001b[0;32mif\u001b[0m \u001b[0mindex\u001b[0m \u001b[0;32mis\u001b[0m \u001b[0;32mNone\u001b[0m\u001b[0;34m:\u001b[0m\u001b[0;34m\u001b[0m\u001b[0;34m\u001b[0m\u001b[0m\n",
      "\u001b[0;32m~/opt/anaconda3/lib/python3.8/site-packages/pandas/io/parsers.py\u001b[0m in \u001b[0;36mread\u001b[0;34m(self, nrows)\u001b[0m\n\u001b[1;32m   2059\u001b[0m     \u001b[0;32mdef\u001b[0m \u001b[0mread\u001b[0m\u001b[0;34m(\u001b[0m\u001b[0mself\u001b[0m\u001b[0;34m,\u001b[0m \u001b[0mnrows\u001b[0m\u001b[0;34m=\u001b[0m\u001b[0;32mNone\u001b[0m\u001b[0;34m)\u001b[0m\u001b[0;34m:\u001b[0m\u001b[0;34m\u001b[0m\u001b[0;34m\u001b[0m\u001b[0m\n\u001b[1;32m   2060\u001b[0m         \u001b[0;32mtry\u001b[0m\u001b[0;34m:\u001b[0m\u001b[0;34m\u001b[0m\u001b[0;34m\u001b[0m\u001b[0m\n\u001b[0;32m-> 2061\u001b[0;31m             \u001b[0mdata\u001b[0m \u001b[0;34m=\u001b[0m \u001b[0mself\u001b[0m\u001b[0;34m.\u001b[0m\u001b[0m_reader\u001b[0m\u001b[0;34m.\u001b[0m\u001b[0mread\u001b[0m\u001b[0;34m(\u001b[0m\u001b[0mnrows\u001b[0m\u001b[0;34m)\u001b[0m\u001b[0;34m\u001b[0m\u001b[0;34m\u001b[0m\u001b[0m\n\u001b[0m\u001b[1;32m   2062\u001b[0m         \u001b[0;32mexcept\u001b[0m \u001b[0mStopIteration\u001b[0m\u001b[0;34m:\u001b[0m\u001b[0;34m\u001b[0m\u001b[0;34m\u001b[0m\u001b[0m\n\u001b[1;32m   2063\u001b[0m             \u001b[0;32mif\u001b[0m \u001b[0mself\u001b[0m\u001b[0;34m.\u001b[0m\u001b[0m_first_chunk\u001b[0m\u001b[0;34m:\u001b[0m\u001b[0;34m\u001b[0m\u001b[0;34m\u001b[0m\u001b[0m\n",
      "\u001b[0;32mpandas/_libs/parsers.pyx\u001b[0m in \u001b[0;36mpandas._libs.parsers.TextReader.read\u001b[0;34m()\u001b[0m\n",
      "\u001b[0;32mpandas/_libs/parsers.pyx\u001b[0m in \u001b[0;36mpandas._libs.parsers.TextReader._read_low_memory\u001b[0;34m()\u001b[0m\n",
      "\u001b[0;32mpandas/_libs/parsers.pyx\u001b[0m in \u001b[0;36mpandas._libs.parsers.TextReader._read_rows\u001b[0;34m()\u001b[0m\n",
      "\u001b[0;32mpandas/_libs/parsers.pyx\u001b[0m in \u001b[0;36mpandas._libs.parsers.TextReader._convert_column_data\u001b[0;34m()\u001b[0m\n",
      "\u001b[0;32mpandas/_libs/parsers.pyx\u001b[0m in \u001b[0;36mpandas._libs.parsers.TextReader._convert_tokens\u001b[0;34m()\u001b[0m\n",
      "\u001b[0;32mpandas/_libs/parsers.pyx\u001b[0m in \u001b[0;36mpandas._libs.parsers.TextReader._convert_with_dtype\u001b[0;34m()\u001b[0m\n",
      "\u001b[0;32m~/opt/anaconda3/lib/python3.8/site-packages/pandas/core/dtypes/common.py\u001b[0m in \u001b[0;36mis_categorical_dtype\u001b[0;34m(arr_or_dtype)\u001b[0m\n\u001b[1;32m    535\u001b[0m \u001b[0;34m\u001b[0m\u001b[0m\n\u001b[1;32m    536\u001b[0m \u001b[0;34m\u001b[0m\u001b[0m\n\u001b[0;32m--> 537\u001b[0;31m \u001b[0;32mdef\u001b[0m \u001b[0mis_categorical_dtype\u001b[0m\u001b[0;34m(\u001b[0m\u001b[0marr_or_dtype\u001b[0m\u001b[0;34m)\u001b[0m \u001b[0;34m->\u001b[0m \u001b[0mbool\u001b[0m\u001b[0;34m:\u001b[0m\u001b[0;34m\u001b[0m\u001b[0;34m\u001b[0m\u001b[0m\n\u001b[0m\u001b[1;32m    538\u001b[0m     \"\"\"\n\u001b[1;32m    539\u001b[0m     \u001b[0mCheck\u001b[0m \u001b[0mwhether\u001b[0m \u001b[0man\u001b[0m \u001b[0marray\u001b[0m\u001b[0;34m-\u001b[0m\u001b[0mlike\u001b[0m \u001b[0;32mor\u001b[0m \u001b[0mdtype\u001b[0m \u001b[0;32mis\u001b[0m \u001b[0mof\u001b[0m \u001b[0mthe\u001b[0m \u001b[0mCategorical\u001b[0m \u001b[0mdtype\u001b[0m\u001b[0;34m.\u001b[0m\u001b[0;34m\u001b[0m\u001b[0;34m\u001b[0m\u001b[0m\n",
      "\u001b[0;31mKeyboardInterrupt\u001b[0m: "
     ]
    }
   ],
   "source": [
    "# dealing with massive pair dataFrame\n",
    "\n",
    "pair = list(pair)\n",
    "mfpairs = pd.DataFrame(columns=list(pair[0].columns))"
   ]
  },
  {
   "cell_type": "code",
   "execution_count": 33,
   "id": "e0d307dd",
   "metadata": {},
   "outputs": [
    {
     "name": "stderr",
     "output_type": "stream",
     "text": [
      "100%|██████████| 69/69 [31:34<00:00, 27.46s/it]\n"
     ]
    }
   ],
   "source": [
    "# choosing pairs where one primary author is woman and the other is man\n",
    "\n",
    "for p in tqdm(pair):\n",
    "    mfpairs = pd.concat([mfpairs, p[p['gender1'] != p['gender2']]])"
   ]
  },
  {
   "cell_type": "code",
   "execution_count": 58,
   "id": "87cb55a3",
   "metadata": {},
   "outputs": [
    {
     "name": "stdout",
     "output_type": "stream",
     "text": [
      "14490273\n"
     ]
    }
   ],
   "source": [
    "mfpairs = mfpairs.drop_duplicates().reset_index(drop=True)\n",
    "print(len(mfpairs))\n",
    "\n",
    "mfpairs.to_csv(f'/Users/robinkong/codes/mfpairs.csv',index=False)"
   ]
  },
  {
   "cell_type": "code",
   "execution_count": 59,
   "id": "64c153d6",
   "metadata": {},
   "outputs": [
    {
     "data": {
      "text/plain": [
       "0.10173576439864176"
      ]
     },
     "execution_count": 59,
     "metadata": {},
     "output_type": "execute_result"
    }
   ],
   "source": [
    "len(mfpairs[mfpairs['qval']<0.002])/len(mfpairs)"
   ]
  },
  {
   "cell_type": "markdown",
   "id": "78004333",
   "metadata": {},
   "source": [
    "## Preparing m-m similar pairs"
   ]
  },
  {
   "cell_type": "code",
   "execution_count": 19,
   "id": "5aab52c3",
   "metadata": {},
   "outputs": [],
   "source": [
    "# dealing with massive pair dataFrame\n",
    "\n",
    "pair = list(pair)\n",
    "mmpairs = pd.DataFrame(columns=list(pair[0].columns))"
   ]
  },
  {
   "cell_type": "code",
   "execution_count": null,
   "id": "d7d3d7b6",
   "metadata": {},
   "outputs": [
    {
     "name": "stderr",
     "output_type": "stream",
     "text": [
      " 54%|█████▎    | 37/69 [37:59<1:12:04, 135.13s/it]"
     ]
    }
   ],
   "source": [
    "# choosing pairs where both primary authors are men\n",
    "\n",
    "for p in tqdm(pair):\n",
    "    mmpairs = pd.concat([mmpairs, p[(p.gender1 == 'male') & (p.gender2 == 'male')]])"
   ]
  },
  {
   "cell_type": "code",
   "execution_count": null,
   "id": "5427723b",
   "metadata": {},
   "outputs": [],
   "source": [
    "mmpairs = mmpairs.drop_duplicates().reset_index(drop=True)\n",
    "print(len(mmpairs))\n",
    "\n",
    "mmpairs.to_csv(f'/Users/robinkong/codes/mmpairs.csv',index=False)"
   ]
  },
  {
   "cell_type": "markdown",
   "id": "d9ad22d4",
   "metadata": {},
   "source": [
    "## Preparing w-w similar pairs"
   ]
  },
  {
   "cell_type": "code",
   "execution_count": 5,
   "id": "5ee9c7e7",
   "metadata": {},
   "outputs": [],
   "source": [
    "# dealing with massive pair dataFrame\n",
    "\n",
    "pair = list(pair)\n",
    "wwpairs = pd.DataFrame(columns=list(pair[0].columns))"
   ]
  },
  {
   "cell_type": "code",
   "execution_count": 7,
   "id": "02bae6df",
   "metadata": {},
   "outputs": [
    {
     "name": "stderr",
     "output_type": "stream",
     "text": [
      "100%|██████████| 65/65 [01:20<00:00,  1.24s/it]\n"
     ]
    }
   ],
   "source": [
    "# choosing pairs where both primary authors are men\n",
    "\n",
    "for p in tqdm(pair):\n",
    "    wwpairs = pd.concat([wwpairs, p[(p.gender1 == 'female') & (p.gender2 == 'female')]])"
   ]
  },
  {
   "cell_type": "code",
   "execution_count": 8,
   "id": "539f7d21",
   "metadata": {},
   "outputs": [
    {
     "name": "stdout",
     "output_type": "stream",
     "text": [
      "1039037\n"
     ]
    }
   ],
   "source": [
    "wwpairs = wwpairs.drop_duplicates().reset_index(drop=True)\n",
    "print(len(wwpairs))\n",
    "\n",
    "wwpairs.to_csv(f'/Users/robinkong/codes/wwpairs.csv',index=False)"
   ]
  },
  {
   "cell_type": "markdown",
   "id": "4fd6840f",
   "metadata": {},
   "source": [
    "## Counting for each similar pair (m-w pairs)"
   ]
  },
  {
   "cell_type": "code",
   "execution_count": 5,
   "id": "78d6c017",
   "metadata": {},
   "outputs": [],
   "source": [
    "sim_mf = mfpairs[['paper1', 'paper2', 'gender1', 'gender2', 'year1', 'year2', 'keyval', 'qval']]"
   ]
  },
  {
   "cell_type": "code",
   "execution_count": null,
   "id": "ece8aa7e",
   "metadata": {},
   "outputs": [],
   "source": [
    "# Create a dummy data (test1, test2) to perform SQL:\n",
    "# Create a DataFrame that treats citation info for male and female papers\n",
    "test1 = sim_mf.merge(citinfo, left_on = 'paper1',\n",
    "                    right_on = 'cited_doi', how = 'left').drop(\n",
    "                        [\"cited_doi\", \"citing_year\"], axis=1).drop_duplicates(\n",
    "                            subset=['paper1', 'citing_doi'])\n",
    "test1['count'] = test1.groupby(['paper1'])['paper1'].transform('count')\n",
    "test1 = test1.drop([\"citing_doi\"], axis=1).rename({'count': 'count1'}, axis=1)\n",
    "\n",
    "test1 = test1.drop_duplicates(subset=['paper1', 'paper2'])[['paper1', 'count1']]\n",
    "sim_mf = sim_mf.merge(test1, on='paper1', how='inner')\n",
    "\n",
    "test2 = sim_mf.merge(citinfo, left_on = 'paper2',\n",
    "                    right_on = 'cited_doi', how = 'left').drop(\n",
    "                        [\"cited_doi\", \"citing_year\"], axis=1).drop_duplicates(\n",
    "                            subset=['paper2', 'citing_doi'])\n",
    "test2['count'] = test2.groupby(['paper2'])['paper2'].transform('count')\n",
    "test2 = test2.drop([\"citing_doi\"], axis=1).rename(\n",
    "    {'count': 'count2'}, axis=1).drop_duplicates(\n",
    "        subset=['paper1', 'paper2'])[['paper2', 'count2']]\n",
    "sim_mf = sim_mf.merge(test2, on='paper2', how='inner')\n",
    "\n",
    "# Delete the dummy data\n",
    "del test1\n",
    "del test2"
   ]
  },
  {
   "cell_type": "code",
   "execution_count": 22,
   "id": "9b24064e",
   "metadata": {},
   "outputs": [
    {
     "name": "stderr",
     "output_type": "stream",
     "text": [
      "100%|██████████| 14490273/14490273 [10:25<00:00, 23159.47it/s]\n"
     ]
    }
   ],
   "source": [
    "# Calculate year & centrality difference among pairs\n",
    "\n",
    "listd = []\n",
    "listy = []\n",
    "\n",
    "for c in range(len(sim_mf)):\n",
    "    if sim_mf['gender1'][c] == 'male':\n",
    "        listd.append(sim_mf['count1'][c] - sim_mf['count2'][c])\n",
    "        listy.append(sim_mf['year1'][c] - sim_mf['year2'][c])\n",
    "    else:\n",
    "        listd.append(sim_mf['count2'][c] - sim_mf['count1'][c])\n",
    "        listy.append(sim_mf['year2'][c] - sim_mf['year1'][c])\n",
    "\n",
    "sim_mf['countd'] = listd\n",
    "sim_mf['yeard'] = listy\n",
    "\n",
    "# Keep the minimum q-value per pair\n",
    "sim_mf = sim_mf.sort_values('qval').drop_duplicates(\n",
    "    subset=['paper1', 'paper2'], keep='first')"
   ]
  },
  {
   "cell_type": "code",
   "execution_count": 38,
   "id": "d4d3adf6",
   "metadata": {},
   "outputs": [],
   "source": [
    "sim_mf.to_csv(\"/Users/robinkong/codes/mfpairs_similarity.csv\", index=False)"
   ]
  },
  {
   "cell_type": "markdown",
   "id": "0d533bed",
   "metadata": {},
   "source": [
    "## Counting for each similar pair (w-w pairs)"
   ]
  },
  {
   "cell_type": "code",
   "execution_count": 10,
   "id": "3e060d4b",
   "metadata": {},
   "outputs": [],
   "source": [
    "sim_ww = wwpairs[['paper1', 'paper2', 'gender1', 'gender2', 'year1', 'year2', 'keyval', 'qval']]"
   ]
  },
  {
   "cell_type": "code",
   "execution_count": 11,
   "id": "80d426d2",
   "metadata": {},
   "outputs": [],
   "source": [
    "# Create a dummy data (test1, test2) to perform SQL:\n",
    "# Create a DataFrame that treats citation info for male and female papers\n",
    "test1 = sim_ww.merge(citinfo, left_on = 'paper1',\n",
    "                    right_on = 'cited_doi', how = 'left').drop(\n",
    "                        [\"cited_doi\", \"citing_year\"], axis=1).drop_duplicates(\n",
    "                            subset=['paper1', 'citing_doi'])\n",
    "test1['count'] = test1.groupby(['paper1'])['paper1'].transform('count')\n",
    "test1 = test1.drop([\"citing_doi\"], axis=1).rename({'count': 'count1'}, axis=1)\n",
    "\n",
    "test1 = test1.drop_duplicates(subset=['paper1', 'paper2'])[['paper1', 'count1']]\n",
    "sim_ww = sim_ww.merge(test1, on='paper1', how='inner')\n",
    "\n",
    "test2 = sim_ww.merge(citinfo, left_on = 'paper2',\n",
    "                    right_on = 'cited_doi', how = 'left').drop(\n",
    "                        [\"cited_doi\", \"citing_year\"], axis=1).drop_duplicates(\n",
    "                            subset=['paper2', 'citing_doi'])\n",
    "test2['count'] = test2.groupby(['paper2'])['paper2'].transform('count')\n",
    "test2 = test2.drop([\"citing_doi\"], axis=1).rename(\n",
    "    {'count': 'count2'}, axis=1).drop_duplicates(\n",
    "        subset=['paper1', 'paper2'])[['paper2', 'count2']]\n",
    "sim_ww = sim_ww.merge(test2, on='paper2', how='inner')\n",
    "\n",
    "# Delete the dummy data\n",
    "del test1\n",
    "del test2"
   ]
  },
  {
   "cell_type": "code",
   "execution_count": 13,
   "id": "00272de8",
   "metadata": {},
   "outputs": [
    {
     "name": "stderr",
     "output_type": "stream",
     "text": [
      "100%|██████████| 1039037/1039037 [00:40<00:00, 25500.71it/s]\n"
     ]
    }
   ],
   "source": [
    "# Calculate year & centrality difference among pairs\n",
    "\n",
    "listd = []\n",
    "listy = []\n",
    "\n",
    "for c in tqdm(range(len(sim_ww))):\n",
    "    if sim_ww['gender1'][c] == 'male':\n",
    "        listd.append(sim_ww['count1'][c] - sim_ww['count2'][c])\n",
    "        listy.append(sim_ww['year1'][c] - sim_ww['year2'][c])\n",
    "    else:\n",
    "        listd.append(sim_ww['count2'][c] - sim_ww['count1'][c])\n",
    "        listy.append(sim_ww['year2'][c] - sim_ww['year1'][c])\n",
    "\n",
    "sim_ww['countd'] = listd\n",
    "sim_ww['yeard'] = listy\n",
    "\n",
    "# Keep the minimum q-value per pair\n",
    "sim_ww = sim_ww.sort_values('qval').drop_duplicates(\n",
    "    subset=['paper1', 'paper2'], keep='first')"
   ]
  },
  {
   "cell_type": "code",
   "execution_count": 15,
   "id": "0d2ccfa3",
   "metadata": {},
   "outputs": [],
   "source": [
    "sim_ww.to_csv(\"/Users/robinkong/codes/wwpairs_similarity.csv\", index=False)"
   ]
  },
  {
   "cell_type": "markdown",
   "id": "2ebc00ad",
   "metadata": {},
   "source": [
    "# Similarity Analysis"
   ]
  },
  {
   "cell_type": "code",
   "execution_count": 76,
   "id": "1748b1f1",
   "metadata": {},
   "outputs": [],
   "source": [
    "# filter conditions\n",
    "\n",
    "# sdoi = primdata[primdata['journal'] == \"PRL\"].doi\n",
    "# sdoi = primdata[primdata['pacs90'] == 1].doi\n",
    "\n",
    "df = sim_mf.copy()\n",
    "\n",
    "# df = df[df['paper1'].isin(sdoi)]\n",
    "# df = df[df['paper2'].isin(sdoi)].reset_index(drop=True)"
   ]
  },
  {
   "cell_type": "code",
   "execution_count": null,
   "id": "323ce5cc",
   "metadata": {},
   "outputs": [],
   "source": [
    "# filter year constraints\n",
    "\n",
    "N = 3\n",
    "\n",
    "df = df[df['yeard'] >= -N]\n",
    "df = df[df['yeard'] <= N].reset_index(drop=True)"
   ]
  },
  {
   "cell_type": "code",
   "execution_count": 77,
   "id": "e7230629",
   "metadata": {},
   "outputs": [
    {
     "name": "stdout",
     "output_type": "stream",
     "text": [
      "N:  2730100\n",
      "M:  410418\n",
      "M/N:  0.15033075711512398\n"
     ]
    }
   ],
   "source": [
    "p = 0.001\n",
    "df_vld = df[df['qval'] < p]\n",
    "\n",
    "print(\"N: \", len(df))\n",
    "print(\"M: \", len(df_vld))\n",
    "print(\"M/N: \", len(df_vld)/len(df))"
   ]
  },
  {
   "cell_type": "code",
   "execution_count": 78,
   "id": "68de8796",
   "metadata": {},
   "outputs": [
    {
     "name": "stderr",
     "output_type": "stream",
     "text": [
      "100%|██████████| 410418/410418 [00:04<00:00, 95449.02it/s]\n"
     ]
    },
    {
     "data": {
      "text/plain": [
       "(19.150151095942956, 9.65063481804804e-82)"
      ]
     },
     "execution_count": 78,
     "metadata": {},
     "output_type": "execute_result"
    }
   ],
   "source": [
    "# getting mlist and fmlist (count per gender)\n",
    "\n",
    "mlist = []\n",
    "fmlist = []\n",
    "\n",
    "for i in tqdm(range(len(df_vld))):\n",
    "    if df_vld['gender1'][i] == 'male':\n",
    "        mlist.append(df_vld['count1'][i])\n",
    "        fmlist.append(df_vld['count2'][i])\n",
    "    else:\n",
    "        mlist.append(df_vld['count2'][i])\n",
    "        fmlist.append(df_vld['count1'][i])\n",
    "\n",
    "# Find z-scores (for p-values)\n",
    "ztest(mlist, fmlist, value=0)"
   ]
  },
  {
   "cell_type": "code",
   "execution_count": null,
   "id": "27bb902a",
   "metadata": {},
   "outputs": [],
   "source": [
    "# Find z-scores (for p-values)\n",
    "print(ztest(mlist, fmlist, value=0))\n",
    "print('')\n",
    "\n",
    "# Find effect size\n",
    "print(pg.compute_effsize(mlist, fmlist, paired=True, eftype='hedges'))"
   ]
  },
  {
   "cell_type": "markdown",
   "id": "fb6d869c",
   "metadata": {},
   "source": [
    "# Centrality Difference Trend by Year (m-f pairs)"
   ]
  },
  {
   "cell_type": "code",
   "execution_count": 36,
   "id": "b80828d5",
   "metadata": {},
   "outputs": [
    {
     "data": {
      "text/html": [
       "<div>\n",
       "<style scoped>\n",
       "    .dataframe tbody tr th:only-of-type {\n",
       "        vertical-align: middle;\n",
       "    }\n",
       "\n",
       "    .dataframe tbody tr th {\n",
       "        vertical-align: top;\n",
       "    }\n",
       "\n",
       "    .dataframe thead th {\n",
       "        text-align: right;\n",
       "    }\n",
       "</style>\n",
       "<table border=\"1\" class=\"dataframe\">\n",
       "  <thead>\n",
       "    <tr style=\"text-align: right;\">\n",
       "      <th></th>\n",
       "      <th>paper1</th>\n",
       "      <th>paper2</th>\n",
       "      <th>gender1</th>\n",
       "      <th>gender2</th>\n",
       "      <th>year1</th>\n",
       "      <th>year2</th>\n",
       "      <th>keyval</th>\n",
       "      <th>qval</th>\n",
       "      <th>count1</th>\n",
       "      <th>count2</th>\n",
       "      <th>countd</th>\n",
       "      <th>yeard</th>\n",
       "    </tr>\n",
       "  </thead>\n",
       "  <tbody>\n",
       "    <tr>\n",
       "      <th>0</th>\n",
       "      <td>10.1103/PhysRevB.74.035411</td>\n",
       "      <td>10.1103/PhysRevB.75.205440</td>\n",
       "      <td>female</td>\n",
       "      <td>male</td>\n",
       "      <td>2006</td>\n",
       "      <td>2007</td>\n",
       "      <td>4</td>\n",
       "      <td>-1.117244e-10</td>\n",
       "      <td>1</td>\n",
       "      <td>1</td>\n",
       "      <td>0</td>\n",
       "      <td>1</td>\n",
       "    </tr>\n",
       "    <tr>\n",
       "      <th>1</th>\n",
       "      <td>10.1103/PhysRevB.73.075112</td>\n",
       "      <td>10.1103/PhysRevB.74.045113</td>\n",
       "      <td>female</td>\n",
       "      <td>male</td>\n",
       "      <td>2006</td>\n",
       "      <td>2006</td>\n",
       "      <td>4</td>\n",
       "      <td>-1.117173e-10</td>\n",
       "      <td>9</td>\n",
       "      <td>2</td>\n",
       "      <td>-7</td>\n",
       "      <td>0</td>\n",
       "    </tr>\n",
       "    <tr>\n",
       "      <th>2</th>\n",
       "      <td>10.1103/PhysRev.88.1109</td>\n",
       "      <td>10.1103/RevModPhys.24.321</td>\n",
       "      <td>male</td>\n",
       "      <td>female</td>\n",
       "      <td>1952</td>\n",
       "      <td>1952</td>\n",
       "      <td>2</td>\n",
       "      <td>-9.355250e-11</td>\n",
       "      <td>45</td>\n",
       "      <td>79</td>\n",
       "      <td>-34</td>\n",
       "      <td>0</td>\n",
       "    </tr>\n",
       "    <tr>\n",
       "      <th>3</th>\n",
       "      <td>10.1103/PhysRevE.70.011103</td>\n",
       "      <td>10.1103/PhysRevE.70.056128</td>\n",
       "      <td>male</td>\n",
       "      <td>female</td>\n",
       "      <td>2004</td>\n",
       "      <td>2004</td>\n",
       "      <td>3</td>\n",
       "      <td>-8.545054e-11</td>\n",
       "      <td>1</td>\n",
       "      <td>1</td>\n",
       "      <td>0</td>\n",
       "      <td>0</td>\n",
       "    </tr>\n",
       "    <tr>\n",
       "      <th>4</th>\n",
       "      <td>10.1103/PhysRevB.76.174508</td>\n",
       "      <td>10.1103/PhysRevLett.99.087001</td>\n",
       "      <td>male</td>\n",
       "      <td>female</td>\n",
       "      <td>2007</td>\n",
       "      <td>2007</td>\n",
       "      <td>3</td>\n",
       "      <td>-8.545054e-11</td>\n",
       "      <td>1</td>\n",
       "      <td>3</td>\n",
       "      <td>-2</td>\n",
       "      <td>0</td>\n",
       "    </tr>\n",
       "  </tbody>\n",
       "</table>\n",
       "</div>"
      ],
      "text/plain": [
       "                       paper1                         paper2 gender1 gender2  \\\n",
       "0  10.1103/PhysRevB.74.035411     10.1103/PhysRevB.75.205440  female    male   \n",
       "1  10.1103/PhysRevB.73.075112     10.1103/PhysRevB.74.045113  female    male   \n",
       "2     10.1103/PhysRev.88.1109      10.1103/RevModPhys.24.321    male  female   \n",
       "3  10.1103/PhysRevE.70.011103     10.1103/PhysRevE.70.056128    male  female   \n",
       "4  10.1103/PhysRevB.76.174508  10.1103/PhysRevLett.99.087001    male  female   \n",
       "\n",
       "   year1  year2  keyval          qval  count1  count2  countd  yeard  \n",
       "0   2006   2007       4 -1.117244e-10       1       1       0      1  \n",
       "1   2006   2006       4 -1.117173e-10       9       2      -7      0  \n",
       "2   1952   1952       2 -9.355250e-11      45      79     -34      0  \n",
       "3   2004   2004       3 -8.545054e-11       1       1       0      0  \n",
       "4   2007   2007       3 -8.545054e-11       1       3      -2      0  "
      ]
     },
     "execution_count": 36,
     "metadata": {},
     "output_type": "execute_result"
    }
   ],
   "source": [
    "sim_mf = pd.read_csv(\"/Users/robinkong/codes/mfpairs_similarity.csv\")\n",
    "sim_mf.head()"
   ]
  },
  {
   "cell_type": "code",
   "execution_count": 37,
   "id": "9e3d9dcb",
   "metadata": {},
   "outputs": [
    {
     "name": "stderr",
     "output_type": "stream",
     "text": [
      "100%|██████████| 5611686/5611686 [00:35<00:00, 158203.68it/s]\n"
     ]
    },
    {
     "data": {
      "text/html": [
       "<div>\n",
       "<style scoped>\n",
       "    .dataframe tbody tr th:only-of-type {\n",
       "        vertical-align: middle;\n",
       "    }\n",
       "\n",
       "    .dataframe tbody tr th {\n",
       "        vertical-align: top;\n",
       "    }\n",
       "\n",
       "    .dataframe thead th {\n",
       "        text-align: right;\n",
       "    }\n",
       "</style>\n",
       "<table border=\"1\" class=\"dataframe\">\n",
       "  <thead>\n",
       "    <tr style=\"text-align: right;\">\n",
       "      <th></th>\n",
       "      <th>paper1</th>\n",
       "      <th>paper2</th>\n",
       "      <th>gender1</th>\n",
       "      <th>gender2</th>\n",
       "      <th>year1</th>\n",
       "      <th>year2</th>\n",
       "      <th>keyval</th>\n",
       "      <th>qval</th>\n",
       "      <th>count1</th>\n",
       "      <th>count2</th>\n",
       "      <th>countd</th>\n",
       "      <th>yeard</th>\n",
       "      <th>lateryear</th>\n",
       "    </tr>\n",
       "  </thead>\n",
       "  <tbody>\n",
       "    <tr>\n",
       "      <th>0</th>\n",
       "      <td>10.1103/PhysRevB.74.035411</td>\n",
       "      <td>10.1103/PhysRevB.75.205440</td>\n",
       "      <td>female</td>\n",
       "      <td>male</td>\n",
       "      <td>2006</td>\n",
       "      <td>2007</td>\n",
       "      <td>4</td>\n",
       "      <td>-1.117244e-10</td>\n",
       "      <td>1</td>\n",
       "      <td>1</td>\n",
       "      <td>0</td>\n",
       "      <td>1</td>\n",
       "      <td>2007</td>\n",
       "    </tr>\n",
       "    <tr>\n",
       "      <th>1</th>\n",
       "      <td>10.1103/PhysRevB.73.075112</td>\n",
       "      <td>10.1103/PhysRevB.74.045113</td>\n",
       "      <td>female</td>\n",
       "      <td>male</td>\n",
       "      <td>2006</td>\n",
       "      <td>2006</td>\n",
       "      <td>4</td>\n",
       "      <td>-1.117173e-10</td>\n",
       "      <td>9</td>\n",
       "      <td>2</td>\n",
       "      <td>-7</td>\n",
       "      <td>0</td>\n",
       "      <td>2006</td>\n",
       "    </tr>\n",
       "    <tr>\n",
       "      <th>2</th>\n",
       "      <td>10.1103/PhysRev.88.1109</td>\n",
       "      <td>10.1103/RevModPhys.24.321</td>\n",
       "      <td>male</td>\n",
       "      <td>female</td>\n",
       "      <td>1952</td>\n",
       "      <td>1952</td>\n",
       "      <td>2</td>\n",
       "      <td>-9.355250e-11</td>\n",
       "      <td>45</td>\n",
       "      <td>79</td>\n",
       "      <td>-34</td>\n",
       "      <td>0</td>\n",
       "      <td>1952</td>\n",
       "    </tr>\n",
       "    <tr>\n",
       "      <th>3</th>\n",
       "      <td>10.1103/PhysRevE.70.011103</td>\n",
       "      <td>10.1103/PhysRevE.70.056128</td>\n",
       "      <td>male</td>\n",
       "      <td>female</td>\n",
       "      <td>2004</td>\n",
       "      <td>2004</td>\n",
       "      <td>3</td>\n",
       "      <td>-8.545054e-11</td>\n",
       "      <td>1</td>\n",
       "      <td>1</td>\n",
       "      <td>0</td>\n",
       "      <td>0</td>\n",
       "      <td>2004</td>\n",
       "    </tr>\n",
       "    <tr>\n",
       "      <th>4</th>\n",
       "      <td>10.1103/PhysRevB.76.174508</td>\n",
       "      <td>10.1103/PhysRevLett.99.087001</td>\n",
       "      <td>male</td>\n",
       "      <td>female</td>\n",
       "      <td>2007</td>\n",
       "      <td>2007</td>\n",
       "      <td>3</td>\n",
       "      <td>-8.545054e-11</td>\n",
       "      <td>1</td>\n",
       "      <td>3</td>\n",
       "      <td>-2</td>\n",
       "      <td>0</td>\n",
       "      <td>2007</td>\n",
       "    </tr>\n",
       "  </tbody>\n",
       "</table>\n",
       "</div>"
      ],
      "text/plain": [
       "                       paper1                         paper2 gender1 gender2  \\\n",
       "0  10.1103/PhysRevB.74.035411     10.1103/PhysRevB.75.205440  female    male   \n",
       "1  10.1103/PhysRevB.73.075112     10.1103/PhysRevB.74.045113  female    male   \n",
       "2     10.1103/PhysRev.88.1109      10.1103/RevModPhys.24.321    male  female   \n",
       "3  10.1103/PhysRevE.70.011103     10.1103/PhysRevE.70.056128    male  female   \n",
       "4  10.1103/PhysRevB.76.174508  10.1103/PhysRevLett.99.087001    male  female   \n",
       "\n",
       "   year1  year2  keyval          qval  count1  count2  countd  yeard  \\\n",
       "0   2006   2007       4 -1.117244e-10       1       1       0      1   \n",
       "1   2006   2006       4 -1.117173e-10       9       2      -7      0   \n",
       "2   1952   1952       2 -9.355250e-11      45      79     -34      0   \n",
       "3   2004   2004       3 -8.545054e-11       1       1       0      0   \n",
       "4   2007   2007       3 -8.545054e-11       1       3      -2      0   \n",
       "\n",
       "   lateryear  \n",
       "0       2007  \n",
       "1       2006  \n",
       "2       1952  \n",
       "3       2004  \n",
       "4       2007  "
      ]
     },
     "execution_count": 37,
     "metadata": {},
     "output_type": "execute_result"
    }
   ],
   "source": [
    "mfs = sim_mf[sim_mf['yeard'] <= 3]\n",
    "mfs = mfs[mfs['yeard'] >= -3].reset_index(drop=True)\n",
    "\n",
    "lateryear = []\n",
    "\n",
    "for i in tqdm(range(len(mfs))):\n",
    "    lateryear.append(max(mfs['year1'][i], mfs['year2'][i]))\n",
    "\n",
    "mfs['lateryear'] = lateryear\n",
    "\n",
    "mfs.head()"
   ]
  },
  {
   "cell_type": "code",
   "execution_count": 38,
   "id": "c264c632",
   "metadata": {},
   "outputs": [
    {
     "name": "stdout",
     "output_type": "stream",
     "text": [
      "0.10213864425058708\n"
     ]
    }
   ],
   "source": [
    "p = 0.001\n",
    "\n",
    "simp = mfs[mfs['qval'] < p].sort_values('countd').reset_index(drop=True)\n",
    "print(len(simp)/len(mfs))"
   ]
  },
  {
   "cell_type": "code",
   "execution_count": 39,
   "id": "fc9ace36",
   "metadata": {},
   "outputs": [
    {
     "name": "stdout",
     "output_type": "stream",
     "text": [
      "573170\n"
     ]
    },
    {
     "data": {
      "text/html": [
       "<div>\n",
       "<style scoped>\n",
       "    .dataframe tbody tr th:only-of-type {\n",
       "        vertical-align: middle;\n",
       "    }\n",
       "\n",
       "    .dataframe tbody tr th {\n",
       "        vertical-align: top;\n",
       "    }\n",
       "\n",
       "    .dataframe thead th {\n",
       "        text-align: right;\n",
       "    }\n",
       "</style>\n",
       "<table border=\"1\" class=\"dataframe\">\n",
       "  <thead>\n",
       "    <tr style=\"text-align: right;\">\n",
       "      <th></th>\n",
       "      <th>lateryear</th>\n",
       "      <th>countd</th>\n",
       "    </tr>\n",
       "  </thead>\n",
       "  <tbody>\n",
       "    <tr>\n",
       "      <th>214976</th>\n",
       "      <td>1903</td>\n",
       "      <td>-1</td>\n",
       "    </tr>\n",
       "    <tr>\n",
       "      <th>217369</th>\n",
       "      <td>1903</td>\n",
       "      <td>-1</td>\n",
       "    </tr>\n",
       "    <tr>\n",
       "      <th>303830</th>\n",
       "      <td>1903</td>\n",
       "      <td>0</td>\n",
       "    </tr>\n",
       "    <tr>\n",
       "      <th>474746</th>\n",
       "      <td>1916</td>\n",
       "      <td>6</td>\n",
       "    </tr>\n",
       "    <tr>\n",
       "      <th>354486</th>\n",
       "      <td>1918</td>\n",
       "      <td>1</td>\n",
       "    </tr>\n",
       "  </tbody>\n",
       "</table>\n",
       "</div>"
      ],
      "text/plain": [
       "        lateryear  countd\n",
       "214976       1903      -1\n",
       "217369       1903      -1\n",
       "303830       1903       0\n",
       "474746       1916       6\n",
       "354486       1918       1"
      ]
     },
     "execution_count": 39,
     "metadata": {},
     "output_type": "execute_result"
    }
   ],
   "source": [
    "simp = simp[['lateryear', 'countd']].sort_values(by=['lateryear', 'countd'])\n",
    "\n",
    "print(len(simp))\n",
    "simp.head()"
   ]
  },
  {
   "cell_type": "code",
   "execution_count": 40,
   "id": "c63bde2f",
   "metadata": {},
   "outputs": [
    {
     "data": {
      "text/plain": [
       "lateryear\n",
       "1903    3\n",
       "1916    1\n",
       "1918    1\n",
       "1921    1\n",
       "1923    2\n",
       "Name: lateryear, dtype: int64"
      ]
     },
     "execution_count": 40,
     "metadata": {},
     "output_type": "execute_result"
    }
   ],
   "source": [
    "simp = simp.groupby(['lateryear'])['lateryear'].count()\n",
    "simp.head()"
   ]
  },
  {
   "cell_type": "code",
   "execution_count": 41,
   "id": "4b492254",
   "metadata": {},
   "outputs": [
    {
     "data": {
      "image/png": "[encoded data removed]",
      "text/plain": [
       "<Figure size 432x324 with 1 Axes>"
      ]
     },
     "metadata": {
      "needs_background": "light"
     },
     "output_type": "display_data"
    }
   ],
   "source": [
    "fig, ax = plt.subplots(figsize=(6,4.5))\n",
    "right_side = ax.spines[\"right\"]\n",
    "top_side = ax.spines[\"top\"]\n",
    "right_side.set_visible(False)\n",
    "top_side.set_visible(False)\n",
    "\n",
    "simp.plot(style='.-',color='red', lw=3)\n",
    "\n",
    "plt.xlabel('Year', fontsize=20)\n",
    "plt.xlim(xmin=1970, xmax=2010)\n",
    "plt.xticks(np.arange(1970, 2011, 10), fontsize=20)\n",
    "plt.ylabel('Number of Sampled\\nSimilar Pairs', fontsize=20)\n",
    "plt.yticks(fontsize=20)\n",
    "plt.ylim(ymin=0)\n",
    "\n",
    "plt.tight_layout()\n",
    "# fig.savefig(f\"drive/My Drive/codes/SI_fig7.pdf\")"
   ]
  },
  {
   "cell_type": "code",
   "execution_count": null,
   "id": "585dea42",
   "metadata": {},
   "outputs": [],
   "source": []
  }
 ],
 "metadata": {
  "kernelspec": {
   "display_name": "Python 3",
   "language": "python",
   "name": "python3"
  },
  "language_info": {
   "codemirror_mode": {
    "name": "ipython",
    "version": 3
   },
   "file_extension": ".py",
   "mimetype": "text/x-python",
   "name": "python",
   "nbconvert_exporter": "python",
   "pygments_lexer": "ipython3",
   "version": "3.8.8"
  }
 },
 "nbformat": 4,
 "nbformat_minor": 5
}
