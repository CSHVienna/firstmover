{
 "cells": [
  {
   "cell_type": "code",
   "execution_count": null,
   "id": "3262f792",
   "metadata": {},
   "outputs": [],
   "source": [
    "# pip install pingouin"
   ]
  },
  {
   "cell_type": "code",
   "execution_count": 1,
   "id": "c66b2344",
   "metadata": {},
   "outputs": [],
   "source": [
    "# import necessary packages\n",
    "\n",
    "import pandas as pd\n",
    "import itertools\n",
    "import numpy as np\n",
    "# import scipy.stats\n",
    "from statsmodels.stats.weightstats import ztest as ztest\n",
    "import time\n",
    "\n",
    "import matplotlib.pyplot as plt\n",
    "import seaborn as sns\n",
    "\n",
    "from tqdm import tqdm\n",
    "\n",
    "import networkx as nx\n",
    "from random import randint\n",
    "\n",
    "import math\n",
    "# import pingouin as pg\n",
    "\n",
    "import warnings\n",
    "warnings.filterwarnings(\"ignore\")"
   ]
  },
  {
   "cell_type": "code",
   "execution_count": 31,
   "id": "74669cad",
   "metadata": {},
   "outputs": [],
   "source": [
    "# import necessary data\n",
    "\n",
    "# result = pd.read_csv(\"/Users/robinkong/codes/result.csv\")\n",
    "# paperdata = pd.read_csv(\"/Users/robinkong/codes/paperdata.csv\")\n",
    "cb = pd.read_csv(\"/Users/robinkong/codes/citationBara.csv\")\n",
    "primdata = pd.read_csv(\"/Users/robinkong/codes/primdata.csv\")\n",
    "# pair = pd.read_csv(\"/Users/robinkong/codes/pairs.csv\", chunksize = 1000000)\n",
    "# mfpairs = pd.read_csv(\"/Users/robinkong/codes/mfpairs.csv\")\n",
    "# sim_mf = pd.read_csv(\"/Users/robinkong/codes/mfpairs_similarity.csv\")"
   ]
  },
  {
   "cell_type": "markdown",
   "id": "69e0b615",
   "metadata": {},
   "source": [
    "# Statistical Analyses\n",
    "\n",
    "## Basic Statistics"
   ]
  },
  {
   "cell_type": "code",
   "execution_count": 144,
   "id": "9fa582fd",
   "metadata": {},
   "outputs": [
    {
     "name": "stdout",
     "output_type": "stream",
     "text": [
      "Total papers:  541448\n",
      "Papers with gender info:  375738\n",
      "Papers with primary gender info:  273020\n"
     ]
    }
   ],
   "source": [
    "print(\"Total papers: \", result.doi.nunique())\n",
    "print(\"Papers with gender info: \", paperdata.doi.nunique())\n",
    "print(\"Papers with primary gender info: \", primdata.doi.nunique())"
   ]
  },
  {
   "cell_type": "code",
   "execution_count": 145,
   "id": "7ad916bc",
   "metadata": {},
   "outputs": [
    {
     "name": "stdout",
     "output_type": "stream",
     "text": [
      "Total PRL papers:  110080\n",
      "PRL papers with gender info:  76527\n",
      "PRL papers with primary gender info:  54460\n",
      "PRL papers written primarily by men:  48950\n",
      "PRL papers written primarily by women:  5510\n"
     ]
    }
   ],
   "source": [
    "# journal query condition\n",
    "\n",
    "s = \"PRL\"\n",
    "\n",
    "print(f\"Total {s} papers: \", result[result['journal'] == s].doi.nunique())\n",
    "print(f\"{s} papers with gender info: \", paperdata[paperdata['journal'] == s].doi.nunique())\n",
    "\n",
    "df = primdata[primdata['journal'] == s]\n",
    "\n",
    "print(f\"{s} papers with primary gender info: \", df.doi.nunique())\n",
    "print(f\"{s} papers written primarily by men: \", len(df[df['gender']=='male']))\n",
    "print(f\"{s} papers written primarily by women: \", len(df[df['gender']=='female']))"
   ]
  },
  {
   "cell_type": "code",
   "execution_count": 156,
   "id": "692342d1",
   "metadata": {},
   "outputs": [
    {
     "name": "stdout",
     "output_type": "stream",
     "text": [
      "Total PACS90 papers:  26601\n",
      "PACS90 papers with gender info:  12628\n",
      "PACS90 papers with primary gender info:  9597\n",
      "PACS90 papers written primarily by men:  8469\n",
      "PACS90 papers written primarily by women:  1128\n"
     ]
    }
   ],
   "source": [
    "# PACS query condition\n",
    "\n",
    "pacs = '90'\n",
    "\n",
    "print(f\"Total PACS{pacs} papers: \", result[result[f'pacs{pacs}'] == 1].doi.nunique())\n",
    "print(f\"PACS{pacs} papers with gender info: \", paperdata[paperdata[f'pacs{pacs}'] == 1].doi.nunique())\n",
    "\n",
    "df = primdata[primdata[f'pacs{pacs}'] == 1]\n",
    "\n",
    "print(f\"PACS{pacs} papers with primary gender info: \", df.doi.nunique())\n",
    "print(f\"PACS{pacs} papers written primarily by men: \", len(df[df['gender']=='male']))\n",
    "print(f\"PACS{pacs} papers written primarily by women: \", len(df[df['gender']=='female']))"
   ]
  },
  {
   "cell_type": "markdown",
   "id": "184dcec8",
   "metadata": {},
   "source": [
    "### Participation Growth"
   ]
  },
  {
   "cell_type": "code",
   "execution_count": 6,
   "id": "cc5b6f7b",
   "metadata": {},
   "outputs": [],
   "source": [
    "# Observe number of authors by year, separated by gender\n",
    "\n",
    "tdata = paperdata.copy()\n",
    "tdata.sort_values(\"id\", inplace = True)\n",
    "tdata.drop_duplicates(subset = [\"id\", \"year\"],\n",
    "                         keep = \"first\", inplace = True)\n",
    "\n",
    "m_tdata = tdata[tdata['gender'] == 'male'].groupby(['year'])['year'].count()\n",
    "w_tdata = tdata[tdata['gender'] == 'female'].groupby(['year'])['year'].count()"
   ]
  },
  {
   "cell_type": "code",
   "execution_count": 12,
   "id": "f1e78e10",
   "metadata": {},
   "outputs": [
    {
     "data": {
      "image/png": "[encoded data removed]",
      "text/plain": [
       "<Figure size 432x324 with 1 Axes>"
      ]
     },
     "metadata": {
      "needs_background": "light"
     },
     "output_type": "display_data"
    }
   ],
   "source": [
    "# Year vs. Number of Authors (Plot)\n",
    "\n",
    "# Regular graph format throughout this paper\n",
    "fig, ax = plt.subplots(figsize=(6,4.5))\n",
    "right_side = ax.spines[\"right\"]\n",
    "top_side = ax.spines[\"top\"]\n",
    "right_side.set_visible(False)\n",
    "top_side.set_visible(False)\n",
    "\n",
    "# Male authors\n",
    "m_tdata.plot(style='.-',color='#67a9cf', lw=3)\n",
    "# Female authors\n",
    "w_tdata.plot(style='.-',color='#ef8a62', lw=3)\n",
    "\n",
    "plt.legend(('man', 'woman'), loc='upper left', fontsize=20)\n",
    "plt.xticks(np.arange(1950, 2010, step=10), fontsize=20, rotation=30)\n",
    "plt.xlabel('Year', fontsize=20)\n",
    "plt.xlim(xmin=1950, xmax=2010)\n",
    "plt.ylabel('Number of Authors', fontsize=20)\n",
    "plt.yticks(fontsize=20)\n",
    "plt.ylim(ymin=0)\n",
    "\n",
    "plt.tight_layout()\n",
    "fig.savefig(f\"/Users/robinkong/codes/Fig_1A.pdf\")"
   ]
  },
  {
   "cell_type": "markdown",
   "id": "b1d2eb97",
   "metadata": {},
   "source": [
    "## Calculating Productivity and Dropout Rates\n",
    "\n",
    "### Dropout Rate Comparison"
   ]
  },
  {
   "cell_type": "code",
   "execution_count": 14,
   "id": "083c5637",
   "metadata": {},
   "outputs": [],
   "source": [
    "# Creating a DataFrame with productivity calculated\n",
    "prod = paperdata.copy().groupby(['id', 'gender']).agg({'year': [min, max, 'count']})\n",
    "\n",
    "prod['career_age'] = prod['year']['max'] - prod['year']['min']\n",
    "prod['prod'] = prod['year']['count'] / (prod['career_age'])\n",
    "prod = prod[prod['career_age'] != 0]\n",
    "\n",
    "prod.sort_values([('year','count')], ascending=False).head()\n",
    "\n",
    "# Separating the DataFrame by gender\n",
    "prod_m = prod.xs('male', level='gender').sort_values(\n",
    "    by=['prod'],ascending=False, ignore_index=True)\n",
    "prod_w = prod.xs('female', level='gender').sort_values(\n",
    "    by=['prod'],ascending=False)\n",
    "\n",
    "# Career Age by gender\n",
    "ca_m = prod_m.groupby(['career_age'])['career_age'].count()\n",
    "ca_w = prod_w.groupby(['career_age'])['career_age'].count()"
   ]
  },
  {
   "cell_type": "code",
   "execution_count": 15,
   "id": "e88e1600",
   "metadata": {},
   "outputs": [],
   "source": [
    "# exclude authors who enter APS publication after 2004\n",
    "# create scatterplot of dropout authors by career age\n",
    "\n",
    "dropout = prod[prod['year']['min'] < 2004].groupby(\n",
    "    ['gender', 'career_age'])['career_age'].count()\n",
    "\n",
    "dropout_m = dropout['male'].sort_index(ascending=False)\n",
    "dropout_w = dropout['female'].sort_index(ascending=False)"
   ]
  },
  {
   "cell_type": "code",
   "execution_count": 19,
   "id": "45315531",
   "metadata": {},
   "outputs": [
    {
     "data": {
      "image/png": "[encoded data removed]",
      "text/plain": [
       "<Figure size 432x324 with 1 Axes>"
      ]
     },
     "metadata": {
      "needs_background": "light"
     },
     "output_type": "display_data"
    }
   ],
   "source": [
    "# Career Age vs. Proportion of Dropout (plot)\n",
    "\n",
    "fig, ax = plt.subplots(figsize=(6,4.5))\n",
    "right_side = ax.spines[\"right\"]\n",
    "top_side = ax.spines[\"top\"]\n",
    "right_side.set_visible(False)\n",
    "top_side.set_visible(False)\n",
    "\n",
    "# Men authors\n",
    "(dropout_m/dropout_m.cumsum()).iloc[::-1].plot(\n",
    "    style='.-', color='#67a9cf', lw=3)\n",
    "# Women authors\n",
    "(dropout_w/dropout_w.cumsum()).iloc[::-1].plot(\n",
    "    style='.-',color='#ef8a62', lw=3)\n",
    "\n",
    "plt.legend(('man', 'woman'), loc='upper left', fontsize=20)\n",
    "plt.xlabel('Career Age', fontsize=20)\n",
    "plt.xlim(0,30)\n",
    "plt.ylabel('Proportion of Dropout', fontsize=20)\n",
    "plt.ylim(0, 0.2)\n",
    "plt.xticks(fontsize=20)\n",
    "plt.yticks(fontsize=20)\n",
    "\n",
    "plt.tight_layout()\n",
    "fig.savefig(f\"/Users/robinkong/codes/Fig_1C.pdf\")"
   ]
  },
  {
   "cell_type": "markdown",
   "id": "45ea8b8d",
   "metadata": {},
   "source": [
    "### Career Age Analysis"
   ]
  },
  {
   "cell_type": "code",
   "execution_count": 21,
   "id": "4cb96d02",
   "metadata": {},
   "outputs": [],
   "source": [
    "# Set up DataFrames for Career Age vs. Average number of publications\n",
    "# separated by gender\n",
    "\n",
    "subdata = paperdata.copy().drop(['order','doi','numAuthor',\n",
    "                                 'is_alpha','articleType','journal'],\n",
    "                    axis=1).sort_values(by=['id', 'year'])\n",
    "subdata[\"ca\"] = subdata.groupby(\"id\")[\"year\"].transform(lambda x: x - x.min())\n",
    "\n",
    "subdata_m = subdata[subdata['gender'] == 'male'].drop(\n",
    "    ['gender', 'year'], axis=1).groupby(['id', 'ca']).size().to_frame(\n",
    "    name='count').reset_index(level='id', drop=True).reset_index()\n",
    "\n",
    "subdata_w = subdata[subdata['gender'] == 'female'].drop(\n",
    "    ['gender', 'year'], axis=1).groupby(['id', 'ca']).size().to_frame(\n",
    "    name='count').reset_index(level='id', drop=True).reset_index()\n",
    "\n",
    "subdata_m = subdata_m.groupby(\"ca\").agg(\n",
    "    ['count', np.mean, np.std]).reset_index()\n",
    "subdata_w = subdata_w.groupby(\"ca\").agg(\n",
    "    ['count', np.mean, np.std]).reset_index()"
   ]
  },
  {
   "cell_type": "code",
   "execution_count": 22,
   "id": "4efd7951",
   "metadata": {},
   "outputs": [],
   "source": [
    "# Calculate standard error for the shaded area in plots\n",
    "\n",
    "semlist1, semlist2 = [], []\n",
    "\n",
    "for i in range(len(subdata_m)):\n",
    "    semlist1.append(subdata_m[\"count\"]['std'][i]/math.sqrt(subdata_m[\"count\"]['count'][i]))\n",
    "subdata_m['sem'] = semlist1\n",
    "\n",
    "for i in range(len(subdata_w)):\n",
    "    semlist2.append(subdata_w[\"count\"]['std'][i]/math.sqrt(subdata_w[\"count\"]['count'][i]))\n",
    "subdata_w['sem'] = semlist2\n",
    "\n",
    "# Append to the existing DataFrames\n",
    "subdata_m = subdata_m.set_index('ca').reindex(range(\n",
    "    subdata_m.ca.min(),subdata_m.ca.max()+1)).fillna(np.nan).reset_index()\n",
    "subdata_w = subdata_w.set_index('ca').reindex(range(\n",
    "    subdata_w.ca.min(),subdata_w.ca.max()+1)).fillna(np.nan).reset_index()"
   ]
  },
  {
   "cell_type": "code",
   "execution_count": 27,
   "id": "e5c6f95a",
   "metadata": {},
   "outputs": [
    {
     "data": {
      "image/png": "[encoded data removed]",
      "text/plain": [
       "<Figure size 432x324 with 1 Axes>"
      ]
     },
     "metadata": {
      "needs_background": "light"
     },
     "output_type": "display_data"
    }
   ],
   "source": [
    "# Career age vs. Average number of publications (plot)\n",
    "\n",
    "fig, ax = plt.subplots(figsize=(6,4.5))\n",
    "right_side = ax.spines[\"right\"]\n",
    "top_side = ax.spines[\"top\"]\n",
    "right_side.set_visible(False)\n",
    "top_side.set_visible(False)\n",
    "\n",
    "# Men authors\n",
    "plt.plot(subdata_m.ca,subdata_m[\"count\"][\"mean\"],\"-\",label=\"man\",\n",
    "         color='#67a9cf', lw=3)\n",
    "\n",
    "# shading the SE area (man)\n",
    "X  = np.linspace(min(subdata_m.ca),max(subdata_m.ca),subdata_m.ca.nunique())\n",
    "plt.fill_between(X,\n",
    "                 subdata_m[\"count\"][\"mean\"] + subdata_m[\"sem\"],\n",
    "                 subdata_m[\"count\"][\"mean\"] - subdata_m[\"sem\"],\n",
    "                 color='C0',alpha=.4,edgecolor=\"none\")\n",
    "\n",
    "# Women authors\n",
    "plt.plot(subdata_w.ca,subdata_w[\"count\"][\"mean\"],\"-\",label=\"woman\",\n",
    "         color='#ef8a62', lw=3)\n",
    "\n",
    "# shading the SE area (woman)\n",
    "X  = np.linspace(min(subdata_w.ca),max(subdata_w.ca),subdata_w.ca.nunique())\n",
    "plt.fill_between(X,\n",
    "                 subdata_w[\"count\"][\"mean\"] + subdata_w[\"sem\"],\n",
    "                 subdata_w[\"count\"][\"mean\"] - subdata_w[\"sem\"],\n",
    "                 color='C1',alpha=.4,edgecolor=\"none\")\n",
    "\n",
    "plt.xticks(fontsize=20)\n",
    "plt.yticks(fontsize=20)\n",
    "plt.xlabel(\"Career Age\",fontsize=20)\n",
    "plt.ylabel(\"Average Number of\\n Publications\",fontsize=20)\n",
    "plt.xlim(xmin=0, xmax=30)\n",
    "plt.ylim(ymin=1, ymax=3)\n",
    "plt.legend(loc='upper left', fontsize=20)\n",
    "\n",
    "plt.tight_layout()\n",
    "fig.savefig(f\"/Users/robinkong/codes/Fig_1B.pdf\")"
   ]
  },
  {
   "cell_type": "markdown",
   "id": "03bc2c55",
   "metadata": {},
   "source": [
    "# Network / Similarity Analyses\n",
    "\n",
    "## Pair matching (Pre-requisite)"
   ]
  },
  {
   "cell_type": "code",
   "execution_count": 32,
   "id": "3ed3805e",
   "metadata": {
    "collapsed": true
   },
   "outputs": [
    {
     "data": {
      "text/html": [
       "<div>\n",
       "<style scoped>\n",
       "    .dataframe tbody tr th:only-of-type {\n",
       "        vertical-align: middle;\n",
       "    }\n",
       "\n",
       "    .dataframe tbody tr th {\n",
       "        vertical-align: top;\n",
       "    }\n",
       "\n",
       "    .dataframe thead th {\n",
       "        text-align: right;\n",
       "    }\n",
       "</style>\n",
       "<table border=\"1\" class=\"dataframe\">\n",
       "  <thead>\n",
       "    <tr style=\"text-align: right;\">\n",
       "      <th></th>\n",
       "      <th>citing_doi</th>\n",
       "      <th>citing_year</th>\n",
       "      <th>cited_doi</th>\n",
       "    </tr>\n",
       "  </thead>\n",
       "  <tbody>\n",
       "    <tr>\n",
       "      <th>120140</th>\n",
       "      <td>10.1103/PhysRev.2.109</td>\n",
       "      <td>1913</td>\n",
       "      <td>10.1103/PhysRev.1.124</td>\n",
       "    </tr>\n",
       "    <tr>\n",
       "      <th>123113</th>\n",
       "      <td>10.1103/PhysRev.40.281</td>\n",
       "      <td>1932</td>\n",
       "      <td>10.1103/PhysRev.1.124</td>\n",
       "    </tr>\n",
       "    <tr>\n",
       "      <th>120191</th>\n",
       "      <td>10.1103/PhysRev.21.250</td>\n",
       "      <td>1923</td>\n",
       "      <td>10.1103/PhysRev.1.124</td>\n",
       "    </tr>\n",
       "    <tr>\n",
       "      <th>144119</th>\n",
       "      <td>10.1103/PhysRev.8.738</td>\n",
       "      <td>1916</td>\n",
       "      <td>10.1103/PhysRev.1.124</td>\n",
       "    </tr>\n",
       "    <tr>\n",
       "      <th>2740023</th>\n",
       "      <td>10.1103/PhysRevSeriesI.2.1</td>\n",
       "      <td>1894</td>\n",
       "      <td>10.1103/PhysRev.1.2</td>\n",
       "    </tr>\n",
       "  </tbody>\n",
       "</table>\n",
       "</div>"
      ],
      "text/plain": [
       "                         citing_doi  citing_year              cited_doi\n",
       "120140        10.1103/PhysRev.2.109         1913  10.1103/PhysRev.1.124\n",
       "123113       10.1103/PhysRev.40.281         1932  10.1103/PhysRev.1.124\n",
       "120191       10.1103/PhysRev.21.250         1923  10.1103/PhysRev.1.124\n",
       "144119        10.1103/PhysRev.8.738         1916  10.1103/PhysRev.1.124\n",
       "2740023  10.1103/PhysRevSeriesI.2.1         1894    10.1103/PhysRev.1.2"
      ]
     },
     "execution_count": 32,
     "metadata": {},
     "output_type": "execute_result"
    }
   ],
   "source": [
    "# DataFrame: {citing_doi, citing_year, cited_doi}\n",
    "\n",
    "citinfo = primdata[[\"doi\", \"year\"]].drop_duplicates(subset = 'doi')\n",
    "cols = ['citing_doi', 'citing_year', 'cited_doi']\n",
    "\n",
    "citinfo = citinfo.merge(cb, left_on = 'doi', right_on = 'citing_doi',\n",
    "              how = 'inner').drop(['doi'], axis=1).rename(\n",
    "                  {'year': 'citing_year'}, axis=1).reindex(\n",
    "                      columns=cols).sort_values('cited_doi')\n",
    "\n",
    "citinfo.head()"
   ]
  },
  {
   "cell_type": "markdown",
   "id": "db4039bd",
   "metadata": {},
   "source": [
    "### Preparing m-w similar pairs"
   ]
  },
  {
   "cell_type": "code",
   "execution_count": 18,
   "id": "a6a87456",
   "metadata": {
    "collapsed": true
   },
   "outputs": [
    {
     "ename": "KeyboardInterrupt",
     "evalue": "",
     "output_type": "error",
     "traceback": [
      "\u001b[0;31m---------------------------------------------------------------------------\u001b[0m",
      "\u001b[0;31mKeyboardInterrupt\u001b[0m                         Traceback (most recent call last)",
      "\u001b[0;32m<ipython-input-18-777d2ac28a58>\u001b[0m in \u001b[0;36m<module>\u001b[0;34m\u001b[0m\n\u001b[1;32m      1\u001b[0m \u001b[0;31m# dealing with massive pair dataFrame\u001b[0m\u001b[0;34m\u001b[0m\u001b[0;34m\u001b[0m\u001b[0;34m\u001b[0m\u001b[0m\n\u001b[1;32m      2\u001b[0m \u001b[0;34m\u001b[0m\u001b[0m\n\u001b[0;32m----> 3\u001b[0;31m \u001b[0mpair\u001b[0m \u001b[0;34m=\u001b[0m \u001b[0mlist\u001b[0m\u001b[0;34m(\u001b[0m\u001b[0mpair\u001b[0m\u001b[0;34m)\u001b[0m\u001b[0;34m\u001b[0m\u001b[0;34m\u001b[0m\u001b[0m\n\u001b[0m\u001b[1;32m      4\u001b[0m \u001b[0mmfpairs\u001b[0m \u001b[0;34m=\u001b[0m \u001b[0mpd\u001b[0m\u001b[0;34m.\u001b[0m\u001b[0mDataFrame\u001b[0m\u001b[0;34m(\u001b[0m\u001b[0mcolumns\u001b[0m\u001b[0;34m=\u001b[0m\u001b[0mlist\u001b[0m\u001b[0;34m(\u001b[0m\u001b[0mpair\u001b[0m\u001b[0;34m[\u001b[0m\u001b[0;36m0\u001b[0m\u001b[0;34m]\u001b[0m\u001b[0;34m.\u001b[0m\u001b[0mcolumns\u001b[0m\u001b[0;34m)\u001b[0m\u001b[0;34m)\u001b[0m\u001b[0;34m\u001b[0m\u001b[0;34m\u001b[0m\u001b[0m\n",
      "\u001b[0;32m~/opt/anaconda3/lib/python3.8/site-packages/pandas/io/parsers.py\u001b[0m in \u001b[0;36m__next__\u001b[0;34m(self)\u001b[0m\n\u001b[1;32m   1032\u001b[0m     \u001b[0;32mdef\u001b[0m \u001b[0m__next__\u001b[0m\u001b[0;34m(\u001b[0m\u001b[0mself\u001b[0m\u001b[0;34m)\u001b[0m\u001b[0;34m:\u001b[0m\u001b[0;34m\u001b[0m\u001b[0;34m\u001b[0m\u001b[0m\n\u001b[1;32m   1033\u001b[0m         \u001b[0;32mtry\u001b[0m\u001b[0;34m:\u001b[0m\u001b[0;34m\u001b[0m\u001b[0;34m\u001b[0m\u001b[0m\n\u001b[0;32m-> 1034\u001b[0;31m             \u001b[0;32mreturn\u001b[0m \u001b[0mself\u001b[0m\u001b[0;34m.\u001b[0m\u001b[0mget_chunk\u001b[0m\u001b[0;34m(\u001b[0m\u001b[0;34m)\u001b[0m\u001b[0;34m\u001b[0m\u001b[0;34m\u001b[0m\u001b[0m\n\u001b[0m\u001b[1;32m   1035\u001b[0m         \u001b[0;32mexcept\u001b[0m \u001b[0mStopIteration\u001b[0m\u001b[0;34m:\u001b[0m\u001b[0;34m\u001b[0m\u001b[0;34m\u001b[0m\u001b[0m\n\u001b[1;32m   1036\u001b[0m             \u001b[0mself\u001b[0m\u001b[0;34m.\u001b[0m\u001b[0mclose\u001b[0m\u001b[0;34m(\u001b[0m\u001b[0;34m)\u001b[0m\u001b[0;34m\u001b[0m\u001b[0;34m\u001b[0m\u001b[0m\n",
      "\u001b[0;32m~/opt/anaconda3/lib/python3.8/site-packages/pandas/io/parsers.py\u001b[0m in \u001b[0;36mget_chunk\u001b[0;34m(self, size)\u001b[0m\n\u001b[1;32m   1082\u001b[0m                 \u001b[0;32mraise\u001b[0m \u001b[0mStopIteration\u001b[0m\u001b[0;34m\u001b[0m\u001b[0;34m\u001b[0m\u001b[0m\n\u001b[1;32m   1083\u001b[0m             \u001b[0msize\u001b[0m \u001b[0;34m=\u001b[0m \u001b[0mmin\u001b[0m\u001b[0;34m(\u001b[0m\u001b[0msize\u001b[0m\u001b[0;34m,\u001b[0m \u001b[0mself\u001b[0m\u001b[0;34m.\u001b[0m\u001b[0mnrows\u001b[0m \u001b[0;34m-\u001b[0m \u001b[0mself\u001b[0m\u001b[0;34m.\u001b[0m\u001b[0m_currow\u001b[0m\u001b[0;34m)\u001b[0m\u001b[0;34m\u001b[0m\u001b[0;34m\u001b[0m\u001b[0m\n\u001b[0;32m-> 1084\u001b[0;31m         \u001b[0;32mreturn\u001b[0m \u001b[0mself\u001b[0m\u001b[0;34m.\u001b[0m\u001b[0mread\u001b[0m\u001b[0;34m(\u001b[0m\u001b[0mnrows\u001b[0m\u001b[0;34m=\u001b[0m\u001b[0msize\u001b[0m\u001b[0;34m)\u001b[0m\u001b[0;34m\u001b[0m\u001b[0;34m\u001b[0m\u001b[0m\n\u001b[0m\u001b[1;32m   1085\u001b[0m \u001b[0;34m\u001b[0m\u001b[0m\n\u001b[1;32m   1086\u001b[0m     \u001b[0;32mdef\u001b[0m \u001b[0m__enter__\u001b[0m\u001b[0;34m(\u001b[0m\u001b[0mself\u001b[0m\u001b[0;34m)\u001b[0m\u001b[0;34m:\u001b[0m\u001b[0;34m\u001b[0m\u001b[0;34m\u001b[0m\u001b[0m\n",
      "\u001b[0;32m~/opt/anaconda3/lib/python3.8/site-packages/pandas/io/parsers.py\u001b[0m in \u001b[0;36mread\u001b[0;34m(self, nrows)\u001b[0m\n\u001b[1;32m   1055\u001b[0m     \u001b[0;32mdef\u001b[0m \u001b[0mread\u001b[0m\u001b[0;34m(\u001b[0m\u001b[0mself\u001b[0m\u001b[0;34m,\u001b[0m \u001b[0mnrows\u001b[0m\u001b[0;34m=\u001b[0m\u001b[0;32mNone\u001b[0m\u001b[0;34m)\u001b[0m\u001b[0;34m:\u001b[0m\u001b[0;34m\u001b[0m\u001b[0;34m\u001b[0m\u001b[0m\n\u001b[1;32m   1056\u001b[0m         \u001b[0mnrows\u001b[0m \u001b[0;34m=\u001b[0m \u001b[0mvalidate_integer\u001b[0m\u001b[0;34m(\u001b[0m\u001b[0;34m\"nrows\"\u001b[0m\u001b[0;34m,\u001b[0m \u001b[0mnrows\u001b[0m\u001b[0;34m)\u001b[0m\u001b[0;34m\u001b[0m\u001b[0;34m\u001b[0m\u001b[0m\n\u001b[0;32m-> 1057\u001b[0;31m         \u001b[0mindex\u001b[0m\u001b[0;34m,\u001b[0m \u001b[0mcolumns\u001b[0m\u001b[0;34m,\u001b[0m \u001b[0mcol_dict\u001b[0m \u001b[0;34m=\u001b[0m \u001b[0mself\u001b[0m\u001b[0;34m.\u001b[0m\u001b[0m_engine\u001b[0m\u001b[0;34m.\u001b[0m\u001b[0mread\u001b[0m\u001b[0;34m(\u001b[0m\u001b[0mnrows\u001b[0m\u001b[0;34m)\u001b[0m\u001b[0;34m\u001b[0m\u001b[0;34m\u001b[0m\u001b[0m\n\u001b[0m\u001b[1;32m   1058\u001b[0m \u001b[0;34m\u001b[0m\u001b[0m\n\u001b[1;32m   1059\u001b[0m         \u001b[0;32mif\u001b[0m \u001b[0mindex\u001b[0m \u001b[0;32mis\u001b[0m \u001b[0;32mNone\u001b[0m\u001b[0;34m:\u001b[0m\u001b[0;34m\u001b[0m\u001b[0;34m\u001b[0m\u001b[0m\n",
      "\u001b[0;32m~/opt/anaconda3/lib/python3.8/site-packages/pandas/io/parsers.py\u001b[0m in \u001b[0;36mread\u001b[0;34m(self, nrows)\u001b[0m\n\u001b[1;32m   2059\u001b[0m     \u001b[0;32mdef\u001b[0m \u001b[0mread\u001b[0m\u001b[0;34m(\u001b[0m\u001b[0mself\u001b[0m\u001b[0;34m,\u001b[0m \u001b[0mnrows\u001b[0m\u001b[0;34m=\u001b[0m\u001b[0;32mNone\u001b[0m\u001b[0;34m)\u001b[0m\u001b[0;34m:\u001b[0m\u001b[0;34m\u001b[0m\u001b[0;34m\u001b[0m\u001b[0m\n\u001b[1;32m   2060\u001b[0m         \u001b[0;32mtry\u001b[0m\u001b[0;34m:\u001b[0m\u001b[0;34m\u001b[0m\u001b[0;34m\u001b[0m\u001b[0m\n\u001b[0;32m-> 2061\u001b[0;31m             \u001b[0mdata\u001b[0m \u001b[0;34m=\u001b[0m \u001b[0mself\u001b[0m\u001b[0;34m.\u001b[0m\u001b[0m_reader\u001b[0m\u001b[0;34m.\u001b[0m\u001b[0mread\u001b[0m\u001b[0;34m(\u001b[0m\u001b[0mnrows\u001b[0m\u001b[0;34m)\u001b[0m\u001b[0;34m\u001b[0m\u001b[0;34m\u001b[0m\u001b[0m\n\u001b[0m\u001b[1;32m   2062\u001b[0m         \u001b[0;32mexcept\u001b[0m \u001b[0mStopIteration\u001b[0m\u001b[0;34m:\u001b[0m\u001b[0;34m\u001b[0m\u001b[0;34m\u001b[0m\u001b[0m\n\u001b[1;32m   2063\u001b[0m             \u001b[0;32mif\u001b[0m \u001b[0mself\u001b[0m\u001b[0;34m.\u001b[0m\u001b[0m_first_chunk\u001b[0m\u001b[0;34m:\u001b[0m\u001b[0;34m\u001b[0m\u001b[0;34m\u001b[0m\u001b[0m\n",
      "\u001b[0;32mpandas/_libs/parsers.pyx\u001b[0m in \u001b[0;36mpandas._libs.parsers.TextReader.read\u001b[0;34m()\u001b[0m\n",
      "\u001b[0;32mpandas/_libs/parsers.pyx\u001b[0m in \u001b[0;36mpandas._libs.parsers.TextReader._read_low_memory\u001b[0;34m()\u001b[0m\n",
      "\u001b[0;32mpandas/_libs/parsers.pyx\u001b[0m in \u001b[0;36mpandas._libs.parsers.TextReader._read_rows\u001b[0;34m()\u001b[0m\n",
      "\u001b[0;32mpandas/_libs/parsers.pyx\u001b[0m in \u001b[0;36mpandas._libs.parsers.TextReader._convert_column_data\u001b[0;34m()\u001b[0m\n",
      "\u001b[0;32mpandas/_libs/parsers.pyx\u001b[0m in \u001b[0;36mpandas._libs.parsers.TextReader._convert_tokens\u001b[0;34m()\u001b[0m\n",
      "\u001b[0;32mpandas/_libs/parsers.pyx\u001b[0m in \u001b[0;36mpandas._libs.parsers.TextReader._convert_with_dtype\u001b[0;34m()\u001b[0m\n",
      "\u001b[0;32m~/opt/anaconda3/lib/python3.8/site-packages/pandas/core/dtypes/common.py\u001b[0m in \u001b[0;36mis_categorical_dtype\u001b[0;34m(arr_or_dtype)\u001b[0m\n\u001b[1;32m    535\u001b[0m \u001b[0;34m\u001b[0m\u001b[0m\n\u001b[1;32m    536\u001b[0m \u001b[0;34m\u001b[0m\u001b[0m\n\u001b[0;32m--> 537\u001b[0;31m \u001b[0;32mdef\u001b[0m \u001b[0mis_categorical_dtype\u001b[0m\u001b[0;34m(\u001b[0m\u001b[0marr_or_dtype\u001b[0m\u001b[0;34m)\u001b[0m \u001b[0;34m->\u001b[0m \u001b[0mbool\u001b[0m\u001b[0;34m:\u001b[0m\u001b[0;34m\u001b[0m\u001b[0;34m\u001b[0m\u001b[0m\n\u001b[0m\u001b[1;32m    538\u001b[0m     \"\"\"\n\u001b[1;32m    539\u001b[0m     \u001b[0mCheck\u001b[0m \u001b[0mwhether\u001b[0m \u001b[0man\u001b[0m \u001b[0marray\u001b[0m\u001b[0;34m-\u001b[0m\u001b[0mlike\u001b[0m \u001b[0;32mor\u001b[0m \u001b[0mdtype\u001b[0m \u001b[0;32mis\u001b[0m \u001b[0mof\u001b[0m \u001b[0mthe\u001b[0m \u001b[0mCategorical\u001b[0m \u001b[0mdtype\u001b[0m\u001b[0;34m.\u001b[0m\u001b[0;34m\u001b[0m\u001b[0;34m\u001b[0m\u001b[0m\n",
      "\u001b[0;31mKeyboardInterrupt\u001b[0m: "
     ]
    }
   ],
   "source": [
    "# dealing with massive pair dataFrame\n",
    "\n",
    "pair = list(pair)\n",
    "mfpairs = pd.DataFrame(columns=list(pair[0].columns))"
   ]
  },
  {
   "cell_type": "code",
   "execution_count": 33,
   "id": "e0d307dd",
   "metadata": {},
   "outputs": [
    {
     "name": "stderr",
     "output_type": "stream",
     "text": [
      "100%|██████████| 69/69 [31:34<00:00, 27.46s/it]\n"
     ]
    }
   ],
   "source": [
    "# choosing pairs where one primary author is woman and the other is man\n",
    "\n",
    "for p in tqdm(pair):\n",
    "    mfpairs = pd.concat([mfpairs, p[p['gender1'] != p['gender2']]])"
   ]
  },
  {
   "cell_type": "code",
   "execution_count": 58,
   "id": "87cb55a3",
   "metadata": {},
   "outputs": [
    {
     "name": "stdout",
     "output_type": "stream",
     "text": [
      "14490273\n"
     ]
    }
   ],
   "source": [
    "mfpairs = mfpairs.drop_duplicates().reset_index(drop=True)\n",
    "print(len(mfpairs))\n",
    "\n",
    "mfpairs.to_csv(f'/Users/robinkong/codes/mfpairs.csv',index=False)"
   ]
  },
  {
   "cell_type": "code",
   "execution_count": 59,
   "id": "64c153d6",
   "metadata": {},
   "outputs": [
    {
     "data": {
      "text/plain": [
       "0.10173576439864176"
      ]
     },
     "execution_count": 59,
     "metadata": {},
     "output_type": "execute_result"
    }
   ],
   "source": [
    "len(mfpairs[mfpairs['qval']<0.002])/len(mfpairs)"
   ]
  },
  {
   "cell_type": "markdown",
   "id": "78004333",
   "metadata": {},
   "source": [
    "### Preparing m-m similar pairs"
   ]
  },
  {
   "cell_type": "code",
   "execution_count": 19,
   "id": "5aab52c3",
   "metadata": {},
   "outputs": [],
   "source": [
    "# dealing with massive pair dataFrame\n",
    "\n",
    "pair = list(pair)\n",
    "mmpairs = pd.DataFrame(columns=list(pair[0].columns))"
   ]
  },
  {
   "cell_type": "code",
   "execution_count": null,
   "id": "d7d3d7b6",
   "metadata": {},
   "outputs": [
    {
     "name": "stderr",
     "output_type": "stream",
     "text": [
      " 54%|█████▎    | 37/69 [37:59<1:12:04, 135.13s/it]"
     ]
    }
   ],
   "source": [
    "# choosing pairs where both primary authors are men\n",
    "\n",
    "for p in tqdm(pair):\n",
    "    mmpairs = pd.concat([mmpairs, p[(p.gender1 == 'male') & (p.gender2 == 'male')]])"
   ]
  },
  {
   "cell_type": "code",
   "execution_count": null,
   "id": "5427723b",
   "metadata": {},
   "outputs": [],
   "source": [
    "mmpairs = mmpairs.drop_duplicates().reset_index(drop=True)\n",
    "print(len(mmpairs))\n",
    "\n",
    "mmpairs.to_csv(f'/Users/robinkong/codes/mmpairs.csv',index=False)"
   ]
  },
  {
   "cell_type": "markdown",
   "id": "d9ad22d4",
   "metadata": {},
   "source": [
    "### Preparing w-w similar pairs"
   ]
  },
  {
   "cell_type": "code",
   "execution_count": 5,
   "id": "5ee9c7e7",
   "metadata": {},
   "outputs": [],
   "source": [
    "# dealing with massive pair dataFrame\n",
    "\n",
    "pair = list(pair)\n",
    "wwpairs = pd.DataFrame(columns=list(pair[0].columns))"
   ]
  },
  {
   "cell_type": "code",
   "execution_count": 7,
   "id": "02bae6df",
   "metadata": {},
   "outputs": [
    {
     "name": "stderr",
     "output_type": "stream",
     "text": [
      "100%|██████████| 65/65 [01:20<00:00,  1.24s/it]\n"
     ]
    }
   ],
   "source": [
    "# choosing pairs where both primary authors are men\n",
    "\n",
    "for p in tqdm(pair):\n",
    "    wwpairs = pd.concat([wwpairs, p[(p.gender1 == 'female') & (p.gender2 == 'female')]])"
   ]
  },
  {
   "cell_type": "code",
   "execution_count": 8,
   "id": "539f7d21",
   "metadata": {},
   "outputs": [
    {
     "name": "stdout",
     "output_type": "stream",
     "text": [
      "1039037\n"
     ]
    }
   ],
   "source": [
    "wwpairs = wwpairs.drop_duplicates().reset_index(drop=True)\n",
    "print(len(wwpairs))\n",
    "\n",
    "wwpairs.to_csv(f'/Users/robinkong/codes/wwpairs.csv',index=False)"
   ]
  },
  {
   "cell_type": "markdown",
   "id": "4fd6840f",
   "metadata": {},
   "source": [
    "### Counting for each similar pair (m-w pairs)"
   ]
  },
  {
   "cell_type": "code",
   "execution_count": 5,
   "id": "78d6c017",
   "metadata": {},
   "outputs": [],
   "source": [
    "sim_mf = mfpairs[['paper1', 'paper2', 'gender1', 'gender2', 'year1', 'year2', 'keyval', 'qval']]"
   ]
  },
  {
   "cell_type": "code",
   "execution_count": null,
   "id": "ece8aa7e",
   "metadata": {},
   "outputs": [],
   "source": [
    "# Create a dummy data (test1, test2) to perform SQL:\n",
    "# Create a DataFrame that treats citation info for male and female papers\n",
    "test1 = sim_mf.merge(citinfo, left_on = 'paper1',\n",
    "                    right_on = 'cited_doi', how = 'left').drop(\n",
    "                        [\"cited_doi\", \"citing_year\"], axis=1).drop_duplicates(\n",
    "                            subset=['paper1', 'citing_doi'])\n",
    "test1['count'] = test1.groupby(['paper1'])['paper1'].transform('count')\n",
    "test1 = test1.drop([\"citing_doi\"], axis=1).rename({'count': 'count1'}, axis=1)\n",
    "\n",
    "test1 = test1.drop_duplicates(subset=['paper1', 'paper2'])[['paper1', 'count1']]\n",
    "sim_mf = sim_mf.merge(test1, on='paper1', how='inner')\n",
    "\n",
    "test2 = sim_mf.merge(citinfo, left_on = 'paper2',\n",
    "                    right_on = 'cited_doi', how = 'left').drop(\n",
    "                        [\"cited_doi\", \"citing_year\"], axis=1).drop_duplicates(\n",
    "                            subset=['paper2', 'citing_doi'])\n",
    "test2['count'] = test2.groupby(['paper2'])['paper2'].transform('count')\n",
    "test2 = test2.drop([\"citing_doi\"], axis=1).rename(\n",
    "    {'count': 'count2'}, axis=1).drop_duplicates(\n",
    "        subset=['paper1', 'paper2'])[['paper2', 'count2']]\n",
    "sim_mf = sim_mf.merge(test2, on='paper2', how='inner')\n",
    "\n",
    "# Delete the dummy data\n",
    "del test1\n",
    "del test2"
   ]
  },
  {
   "cell_type": "code",
   "execution_count": 22,
   "id": "9b24064e",
   "metadata": {},
   "outputs": [
    {
     "name": "stderr",
     "output_type": "stream",
     "text": [
      "100%|██████████| 14490273/14490273 [10:25<00:00, 23159.47it/s]\n"
     ]
    }
   ],
   "source": [
    "# Calculate year & centrality difference among pairs\n",
    "\n",
    "listd = []\n",
    "listy = []\n",
    "\n",
    "for c in range(len(sim_mf)):\n",
    "    if sim_mf['gender1'][c] == 'male':\n",
    "        listd.append(sim_mf['count1'][c] - sim_mf['count2'][c])\n",
    "        listy.append(sim_mf['year1'][c] - sim_mf['year2'][c])\n",
    "    else:\n",
    "        listd.append(sim_mf['count2'][c] - sim_mf['count1'][c])\n",
    "        listy.append(sim_mf['year2'][c] - sim_mf['year1'][c])\n",
    "\n",
    "sim_mf['countd'] = listd\n",
    "sim_mf['yeard'] = listy\n",
    "\n",
    "# Keep the minimum q-value per pair\n",
    "sim_mf = sim_mf.sort_values('qval').drop_duplicates(\n",
    "    subset=['paper1', 'paper2'], keep='first')"
   ]
  },
  {
   "cell_type": "code",
   "execution_count": 38,
   "id": "d4d3adf6",
   "metadata": {},
   "outputs": [],
   "source": [
    "sim_mf.to_csv(\"/Users/robinkong/codes/mfpairs_similarity.csv\", index=False)"
   ]
  },
  {
   "cell_type": "markdown",
   "id": "0d533bed",
   "metadata": {},
   "source": [
    "### Counting for each similar pair (w-w pairs)"
   ]
  },
  {
   "cell_type": "code",
   "execution_count": 10,
   "id": "3e060d4b",
   "metadata": {},
   "outputs": [],
   "source": [
    "sim_ww = wwpairs[['paper1', 'paper2', 'gender1', 'gender2', 'year1', 'year2', 'keyval', 'qval']]"
   ]
  },
  {
   "cell_type": "code",
   "execution_count": 11,
   "id": "80d426d2",
   "metadata": {},
   "outputs": [],
   "source": [
    "# Create a dummy data (test1, test2) to perform SQL:\n",
    "# Create a DataFrame that treats citation info for male and female papers\n",
    "test1 = sim_ww.merge(citinfo, left_on = 'paper1',\n",
    "                    right_on = 'cited_doi', how = 'left').drop(\n",
    "                        [\"cited_doi\", \"citing_year\"], axis=1).drop_duplicates(\n",
    "                            subset=['paper1', 'citing_doi'])\n",
    "test1['count'] = test1.groupby(['paper1'])['paper1'].transform('count')\n",
    "test1 = test1.drop([\"citing_doi\"], axis=1).rename({'count': 'count1'}, axis=1)\n",
    "\n",
    "test1 = test1.drop_duplicates(subset=['paper1', 'paper2'])[['paper1', 'count1']]\n",
    "sim_ww = sim_ww.merge(test1, on='paper1', how='inner')\n",
    "\n",
    "test2 = sim_ww.merge(citinfo, left_on = 'paper2',\n",
    "                    right_on = 'cited_doi', how = 'left').drop(\n",
    "                        [\"cited_doi\", \"citing_year\"], axis=1).drop_duplicates(\n",
    "                            subset=['paper2', 'citing_doi'])\n",
    "test2['count'] = test2.groupby(['paper2'])['paper2'].transform('count')\n",
    "test2 = test2.drop([\"citing_doi\"], axis=1).rename(\n",
    "    {'count': 'count2'}, axis=1).drop_duplicates(\n",
    "        subset=['paper1', 'paper2'])[['paper2', 'count2']]\n",
    "sim_ww = sim_ww.merge(test2, on='paper2', how='inner')\n",
    "\n",
    "# Delete the dummy data\n",
    "del test1\n",
    "del test2"
   ]
  },
  {
   "cell_type": "code",
   "execution_count": 13,
   "id": "00272de8",
   "metadata": {},
   "outputs": [
    {
     "name": "stderr",
     "output_type": "stream",
     "text": [
      "100%|██████████| 1039037/1039037 [00:40<00:00, 25500.71it/s]\n"
     ]
    }
   ],
   "source": [
    "# Calculate year & centrality difference among pairs\n",
    "\n",
    "listd = []\n",
    "listy = []\n",
    "\n",
    "for c in tqdm(range(len(sim_ww))):\n",
    "    if sim_ww['gender1'][c] == 'male':\n",
    "        listd.append(sim_ww['count1'][c] - sim_ww['count2'][c])\n",
    "        listy.append(sim_ww['year1'][c] - sim_ww['year2'][c])\n",
    "    else:\n",
    "        listd.append(sim_ww['count2'][c] - sim_ww['count1'][c])\n",
    "        listy.append(sim_ww['year2'][c] - sim_ww['year1'][c])\n",
    "\n",
    "sim_ww['countd'] = listd\n",
    "sim_ww['yeard'] = listy\n",
    "\n",
    "# Keep the minimum q-value per pair\n",
    "sim_ww = sim_ww.sort_values('qval').drop_duplicates(\n",
    "    subset=['paper1', 'paper2'], keep='first')"
   ]
  },
  {
   "cell_type": "code",
   "execution_count": 15,
   "id": "0d2ccfa3",
   "metadata": {},
   "outputs": [],
   "source": [
    "sim_ww.to_csv(\"/Users/robinkong/codes/wwpairs_similarity.csv\", index=False)"
   ]
  },
  {
   "cell_type": "markdown",
   "id": "9d1dea74",
   "metadata": {},
   "source": [
    "## Self-citation Analysis"
   ]
  },
  {
   "cell_type": "code",
   "execution_count": 51,
   "id": "55e70bbd",
   "metadata": {},
   "outputs": [
    {
     "data": {
      "text/html": [
       "<div>\n",
       "<style scoped>\n",
       "    .dataframe tbody tr th:only-of-type {\n",
       "        vertical-align: middle;\n",
       "    }\n",
       "\n",
       "    .dataframe tbody tr th {\n",
       "        vertical-align: top;\n",
       "    }\n",
       "\n",
       "    .dataframe thead th {\n",
       "        text-align: right;\n",
       "    }\n",
       "</style>\n",
       "<table border=\"1\" class=\"dataframe\">\n",
       "  <thead>\n",
       "    <tr style=\"text-align: right;\">\n",
       "      <th></th>\n",
       "      <th>citing_year</th>\n",
       "      <th>citing_id</th>\n",
       "      <th>citing_gender</th>\n",
       "      <th>cited_id</th>\n",
       "    </tr>\n",
       "  </thead>\n",
       "  <tbody>\n",
       "    <tr>\n",
       "      <th>0</th>\n",
       "      <td>1913</td>\n",
       "      <td>109426</td>\n",
       "      <td>male</td>\n",
       "      <td>106864</td>\n",
       "    </tr>\n",
       "    <tr>\n",
       "      <th>1</th>\n",
       "      <td>1932</td>\n",
       "      <td>211997</td>\n",
       "      <td>male</td>\n",
       "      <td>106864</td>\n",
       "    </tr>\n",
       "    <tr>\n",
       "      <th>2</th>\n",
       "      <td>1923</td>\n",
       "      <td>212878</td>\n",
       "      <td>male</td>\n",
       "      <td>106864</td>\n",
       "    </tr>\n",
       "    <tr>\n",
       "      <th>3</th>\n",
       "      <td>1916</td>\n",
       "      <td>165511</td>\n",
       "      <td>female</td>\n",
       "      <td>106864</td>\n",
       "    </tr>\n",
       "    <tr>\n",
       "      <th>4</th>\n",
       "      <td>1913</td>\n",
       "      <td>109426</td>\n",
       "      <td>male</td>\n",
       "      <td>31368</td>\n",
       "    </tr>\n",
       "  </tbody>\n",
       "</table>\n",
       "</div>"
      ],
      "text/plain": [
       "   citing_year  citing_id citing_gender  cited_id\n",
       "0         1913     109426          male    106864\n",
       "1         1932     211997          male    106864\n",
       "2         1923     212878          male    106864\n",
       "3         1916     165511        female    106864\n",
       "4         1913     109426          male     31368"
      ]
     },
     "execution_count": 51,
     "metadata": {},
     "output_type": "execute_result"
    }
   ],
   "source": [
    "self1 = citinfo.copy()\n",
    "self2 = primdata[['doi','id','gender']]\n",
    "\n",
    "selfinfo = self1.merge(self2, left_on='citing_doi', right_on='doi').drop(\n",
    "    ['citing_doi', 'doi'], axis=1).drop_duplicates().reset_index(drop=True)\n",
    "selfinfo.columns = ['citing_year', 'cited_doi', 'citing_id', 'citing_gender']\n",
    "\n",
    "selfinfo = selfinfo.merge(self2, left_on='cited_doi', right_on='doi').drop(\n",
    "    ['cited_doi', 'doi', 'gender'], axis=1).drop_duplicates().reset_index(drop=True)\n",
    "selfinfo.columns = ['citing_year', 'citing_id', 'citing_gender', 'cited_id']\n",
    "\n",
    "selfinfo.head()"
   ]
  },
  {
   "cell_type": "code",
   "execution_count": 46,
   "id": "6c0573f8",
   "metadata": {},
   "outputs": [],
   "source": [
    "# create a DataFrame with self-citing authors by gender\n",
    "\n",
    "# all sample (population)\n",
    "pop = selfinfo.copy().groupby(['citing_year'])['citing_year'].count()\n",
    "\n",
    "# men authors\n",
    "mpop = selfinfo.copy().loc[selfinfo['citing_gender'] == 'male'].groupby(\n",
    "    ['citing_year'])['citing_year'].count()\n",
    "# women authors\n",
    "wpop = selfinfo.copy().loc[selfinfo['citing_gender'] == 'female'].groupby(\n",
    "    ['citing_year'])['citing_year'].count()\n",
    "\n",
    "# self citing authors\n",
    "selfcit = selfinfo.copy().loc[selfinfo['citing_id'] == selfinfo['cited_id']].groupby(\n",
    "    ['citing_year'])['citing_year'].count()\n",
    "\n",
    "# men self citing authors\n",
    "m_sc = selfinfo.copy().loc[(selfinfo['citing_id'] == selfinfo['cited_id']) &\n",
    "                   (selfinfo['citing_gender'] == 'male')].groupby(\n",
    "                       ['citing_year'])['citing_year'].count()\n",
    "# women self citing authors\n",
    "w_sc = selfinfo.copy().loc[(selfinfo['citing_id'] == selfinfo['cited_id']) & \n",
    "                     (selfinfo['citing_gender'] == 'female')].groupby(\n",
    "                         ['citing_year'])['citing_year'].count()\n",
    "\n",
    "# missing values to 0\n",
    "pop[np.isnan(pop)] = 0\n",
    "mpop[np.isnan(mpop)] = 0\n",
    "wpop[np.isnan(wpop)] = 0\n",
    "selfcit[np.isnan(selfcit)] = 0\n",
    "m_sc[np.isnan(m_sc)] = 0\n",
    "w_sc[np.isnan(w_sc)] = 0"
   ]
  },
  {
   "cell_type": "code",
   "execution_count": 50,
   "id": "86b8b5a9",
   "metadata": {},
   "outputs": [
    {
     "data": {
      "image/png": "[encoded data removed]",
      "text/plain": [
       "<Figure size 432x324 with 1 Axes>"
      ]
     },
     "metadata": {
      "needs_background": "light"
     },
     "output_type": "display_data"
    }
   ],
   "source": [
    "# calculate r-value\n",
    "r1 = ((m_sc/selfcit)/(w_sc/selfcit))\n",
    "r2 = ((wpop/pop)/(mpop/pop))\n",
    "r = r1*r2\n",
    "\n",
    "# create r-value plot\n",
    "fig, ax = plt.subplots(figsize=(6,4.5))\n",
    "right_side = ax.spines[\"right\"]\n",
    "top_side = ax.spines[\"top\"]\n",
    "right_side.set_visible(False)\n",
    "top_side.set_visible(False)\n",
    "\n",
    "r.plot(style='.-', color='black', lw=3)\n",
    "\n",
    "plt.xlabel('Year', fontsize=20)\n",
    "plt.xlim(xmin=1950)\n",
    "# plt.xlim(xmin=1960)\n",
    "plt.xlim(xmax=2010)\n",
    "plt.ylabel('Men / women\\n self-citation bias (r)', fontsize=20)\n",
    "plt.ylim(ymin=0.5,ymax=3.5)\n",
    "# plt.ylim(ymin=0.5,ymax=2.5)\n",
    "plt.hlines(1,xmin=1903,xmax=2010,linestyles='dashed', lw=3)\n",
    "\n",
    "plt.xticks(fontsize=20, rotation=45)\n",
    "plt.yticks(fontsize=20)\n",
    "plt.tight_layout()\n",
    "fig.savefig(f\"/Users/robinkong/codes/Fig_1D.pdf\")"
   ]
  },
  {
   "cell_type": "markdown",
   "id": "92e29e05",
   "metadata": {},
   "source": [
    "## Degree & PageRank Centrality Statistics\n",
    "\n",
    "### Degree Centrality Proportion of Women Authors"
   ]
  },
  {
   "cell_type": "code",
   "execution_count": 53,
   "id": "96811208",
   "metadata": {},
   "outputs": [
    {
     "data": {
      "text/html": [
       "<div>\n",
       "<style scoped>\n",
       "    .dataframe tbody tr th:only-of-type {\n",
       "        vertical-align: middle;\n",
       "    }\n",
       "\n",
       "    .dataframe tbody tr th {\n",
       "        vertical-align: top;\n",
       "    }\n",
       "\n",
       "    .dataframe thead th {\n",
       "        text-align: right;\n",
       "    }\n",
       "</style>\n",
       "<table border=\"1\" class=\"dataframe\">\n",
       "  <thead>\n",
       "    <tr style=\"text-align: right;\">\n",
       "      <th></th>\n",
       "      <th>cited_doi</th>\n",
       "      <th>doi</th>\n",
       "      <th>id</th>\n",
       "      <th>gender</th>\n",
       "      <th>order</th>\n",
       "      <th>numAuthor</th>\n",
       "      <th>is_alpha</th>\n",
       "      <th>year</th>\n",
       "      <th>articleType</th>\n",
       "      <th>journal</th>\n",
       "      <th>...</th>\n",
       "      <th>pacs10</th>\n",
       "      <th>pacs20</th>\n",
       "      <th>pacs30</th>\n",
       "      <th>pacs40</th>\n",
       "      <th>pacs50</th>\n",
       "      <th>pacs60</th>\n",
       "      <th>pacs70</th>\n",
       "      <th>pacs80</th>\n",
       "      <th>pacs90</th>\n",
       "      <th>yeard</th>\n",
       "    </tr>\n",
       "  </thead>\n",
       "  <tbody>\n",
       "    <tr>\n",
       "      <th>16644</th>\n",
       "      <td>5214</td>\n",
       "      <td>10.1103/PhysRev.140.A1133</td>\n",
       "      <td>219005</td>\n",
       "      <td>male</td>\n",
       "      <td>1</td>\n",
       "      <td>2</td>\n",
       "      <td>False</td>\n",
       "      <td>1965</td>\n",
       "      <td>article</td>\n",
       "      <td>PR</td>\n",
       "      <td>...</td>\n",
       "      <td>0</td>\n",
       "      <td>0</td>\n",
       "      <td>0</td>\n",
       "      <td>0</td>\n",
       "      <td>0</td>\n",
       "      <td>0</td>\n",
       "      <td>0</td>\n",
       "      <td>0</td>\n",
       "      <td>0</td>\n",
       "      <td>45</td>\n",
       "    </tr>\n",
       "    <tr>\n",
       "      <th>14878</th>\n",
       "      <td>4100</td>\n",
       "      <td>10.1103/PhysRev.136.B864</td>\n",
       "      <td>12626</td>\n",
       "      <td>male</td>\n",
       "      <td>1</td>\n",
       "      <td>2</td>\n",
       "      <td>False</td>\n",
       "      <td>1964</td>\n",
       "      <td>article</td>\n",
       "      <td>PR</td>\n",
       "      <td>...</td>\n",
       "      <td>0</td>\n",
       "      <td>0</td>\n",
       "      <td>0</td>\n",
       "      <td>0</td>\n",
       "      <td>0</td>\n",
       "      <td>0</td>\n",
       "      <td>0</td>\n",
       "      <td>0</td>\n",
       "      <td>0</td>\n",
       "      <td>46</td>\n",
       "    </tr>\n",
       "    <tr>\n",
       "      <th>151046</th>\n",
       "      <td>2519</td>\n",
       "      <td>10.1103/PhysRevB.13.5188</td>\n",
       "      <td>133666</td>\n",
       "      <td>male</td>\n",
       "      <td>1</td>\n",
       "      <td>2</td>\n",
       "      <td>False</td>\n",
       "      <td>1976</td>\n",
       "      <td>article</td>\n",
       "      <td>PRB</td>\n",
       "      <td>...</td>\n",
       "      <td>0</td>\n",
       "      <td>0</td>\n",
       "      <td>0</td>\n",
       "      <td>0</td>\n",
       "      <td>0</td>\n",
       "      <td>0</td>\n",
       "      <td>0</td>\n",
       "      <td>0</td>\n",
       "      <td>0</td>\n",
       "      <td>34</td>\n",
       "    </tr>\n",
       "    <tr>\n",
       "      <th>258031</th>\n",
       "      <td>2337</td>\n",
       "      <td>10.1103/PhysRevB.54.11169</td>\n",
       "      <td>157378</td>\n",
       "      <td>male</td>\n",
       "      <td>1</td>\n",
       "      <td>2</td>\n",
       "      <td>False</td>\n",
       "      <td>1996</td>\n",
       "      <td>article</td>\n",
       "      <td>PRB</td>\n",
       "      <td>...</td>\n",
       "      <td>0</td>\n",
       "      <td>0</td>\n",
       "      <td>0</td>\n",
       "      <td>0</td>\n",
       "      <td>0</td>\n",
       "      <td>0</td>\n",
       "      <td>1</td>\n",
       "      <td>0</td>\n",
       "      <td>0</td>\n",
       "      <td>14</td>\n",
       "    </tr>\n",
       "    <tr>\n",
       "      <th>3428</th>\n",
       "      <td>1679</td>\n",
       "      <td>10.1103/PhysRev.108.1175</td>\n",
       "      <td>165388</td>\n",
       "      <td>male</td>\n",
       "      <td>1</td>\n",
       "      <td>3</td>\n",
       "      <td>False</td>\n",
       "      <td>1957</td>\n",
       "      <td>article</td>\n",
       "      <td>PR</td>\n",
       "      <td>...</td>\n",
       "      <td>0</td>\n",
       "      <td>0</td>\n",
       "      <td>0</td>\n",
       "      <td>0</td>\n",
       "      <td>0</td>\n",
       "      <td>0</td>\n",
       "      <td>0</td>\n",
       "      <td>0</td>\n",
       "      <td>0</td>\n",
       "      <td>53</td>\n",
       "    </tr>\n",
       "  </tbody>\n",
       "</table>\n",
       "<p>5 rows × 21 columns</p>\n",
       "</div>"
      ],
      "text/plain": [
       "        cited_doi                        doi      id gender  order  numAuthor  \\\n",
       "16644        5214  10.1103/PhysRev.140.A1133  219005   male      1          2   \n",
       "14878        4100   10.1103/PhysRev.136.B864   12626   male      1          2   \n",
       "151046       2519   10.1103/PhysRevB.13.5188  133666   male      1          2   \n",
       "258031       2337  10.1103/PhysRevB.54.11169  157378   male      1          2   \n",
       "3428         1679   10.1103/PhysRev.108.1175  165388   male      1          3   \n",
       "\n",
       "        is_alpha  year articleType journal  ...  pacs10  pacs20  pacs30  \\\n",
       "16644      False  1965     article      PR  ...       0       0       0   \n",
       "14878      False  1964     article      PR  ...       0       0       0   \n",
       "151046     False  1976     article     PRB  ...       0       0       0   \n",
       "258031     False  1996     article     PRB  ...       0       0       0   \n",
       "3428       False  1957     article      PR  ...       0       0       0   \n",
       "\n",
       "        pacs40  pacs50  pacs60  pacs70  pacs80  pacs90  yeard  \n",
       "16644        0       0       0       0       0       0     45  \n",
       "14878        0       0       0       0       0       0     46  \n",
       "151046       0       0       0       0       0       0     34  \n",
       "258031       0       0       0       1       0       0     14  \n",
       "3428         0       0       0       0       0       0     53  \n",
       "\n",
       "[5 rows x 21 columns]"
      ]
     },
     "execution_count": 53,
     "metadata": {},
     "output_type": "execute_result"
    }
   ],
   "source": [
    "# exclude alphabetically ordered papers\n",
    "# only consider primary authors\n",
    "degcen = paperdata.query('is_alpha == False & order == 1')\n",
    "\n",
    "# calculate degree centrality per paper\n",
    "vc = cb['cited_doi'].value_counts()\n",
    "cb_sub = vc[vc.to_numpy() > 0].to_frame()\n",
    "\n",
    "# create a DataFrame with degree centrality\n",
    "cited = pd.merge(cb_sub, degcen, left_index = True, right_on = 'doi')\n",
    "cited['yeard'] = 2010-cited['year']\n",
    "cited.head()"
   ]
  },
  {
   "cell_type": "code",
   "execution_count": 77,
   "id": "724dfc10",
   "metadata": {},
   "outputs": [],
   "source": [
    "def cummean(x):\n",
    "    return x.cumsum() / (np.arange(1, len(x) + 1))\n",
    "\n",
    "# def plot_topk_mean_m(x):\n",
    "#     n = len(x)\n",
    "#     plt.plot(100 * (1 + np.arange(n)) / n, cummean(x[::-1]), color='#67a9cf',\n",
    "#              lw=3, label='men')\n",
    "\n",
    "# def plot_topk_mean_w(x):\n",
    "#     n = len(x)\n",
    "#     plt.plot(100 * (1 + np.arange(n)) / n, cummean(x[::-1]), color='#ef8a62',\n",
    "#              lw=3, label='women')\n",
    "\n",
    "def plot_topk_mean_w(x):\n",
    "    n = len(x)\n",
    "    plt.plot(100 * (1 + np.arange(n)) / n, cummean(x[::-1]), color='black',\n",
    "             lw=3)"
   ]
  },
  {
   "cell_type": "code",
   "execution_count": 81,
   "id": "fdb0576c",
   "metadata": {},
   "outputs": [
    {
     "data": {
      "image/png": "[encoded data removed]",
      "text/plain": [
       "<Figure size 432x324 with 1 Axes>"
      ]
     },
     "metadata": {
      "needs_background": "light"
     },
     "output_type": "display_data"
    }
   ],
   "source": [
    "fig, ax = plt.subplots(figsize=(6,4.5))\n",
    "right_side = ax.spines[\"right\"]\n",
    "top_side = ax.spines[\"top\"]\n",
    "right_side.set_visible(False)\n",
    "top_side.set_visible(False)\n",
    "\n",
    "plot_topk_mean_w(cited.sort_values(by='cited_doi')['gender'] == 'female')\n",
    "\n",
    "plt.axhline(y=len(cited[cited['gender'] == 'female'])/len(cited),\n",
    "            color='black', linestyle='dotted', lw=3)\n",
    "\n",
    "plt.xlabel(\"Top h% Degree Centrality\", fontsize=20)\n",
    "plt.ylabel(\"Proportion of \\n Female Primary Authors\", fontsize=20)\n",
    "\n",
    "plt.xticks(fontsize=20)\n",
    "plt.yticks(fontsize=20)\n",
    "plt.tight_layout()\n",
    "\n",
    "# plt.legend(loc='upper right', fontsize=20)\n",
    "fig.savefig(f\"/Users/robinkong/codes/Fig_3A_degree.pdf\")"
   ]
  },
  {
   "cell_type": "markdown",
   "id": "83d2b01c",
   "metadata": {},
   "source": [
    "### PageRank Centrality Proportion of Women Authors"
   ]
  },
  {
   "cell_type": "code",
   "execution_count": 68,
   "id": "9d2e47f5",
   "metadata": {},
   "outputs": [
    {
     "data": {
      "text/html": [
       "<div>\n",
       "<style scoped>\n",
       "    .dataframe tbody tr th:only-of-type {\n",
       "        vertical-align: middle;\n",
       "    }\n",
       "\n",
       "    .dataframe tbody tr th {\n",
       "        vertical-align: top;\n",
       "    }\n",
       "\n",
       "    .dataframe thead th {\n",
       "        text-align: right;\n",
       "    }\n",
       "</style>\n",
       "<table border=\"1\" class=\"dataframe\">\n",
       "  <thead>\n",
       "    <tr style=\"text-align: right;\">\n",
       "      <th></th>\n",
       "      <th>citing_doi</th>\n",
       "      <th>cited_doi</th>\n",
       "      <th>citing_gender</th>\n",
       "      <th>cited_gender</th>\n",
       "    </tr>\n",
       "  </thead>\n",
       "  <tbody>\n",
       "    <tr>\n",
       "      <th>0</th>\n",
       "      <td>10.1103/PhysRevSeriesI.11.215</td>\n",
       "      <td>10.1103/PhysRevSeriesI.1.1</td>\n",
       "      <td>male</td>\n",
       "      <td>male</td>\n",
       "    </tr>\n",
       "    <tr>\n",
       "      <th>1</th>\n",
       "      <td>10.1103/PhysRevSeriesI.17.267</td>\n",
       "      <td>10.1103/PhysRevSeriesI.1.1</td>\n",
       "      <td>male</td>\n",
       "      <td>male</td>\n",
       "    </tr>\n",
       "    <tr>\n",
       "      <th>2</th>\n",
       "      <td>10.1103/RevModPhys.51.863</td>\n",
       "      <td>10.1103/PhysRevSeriesI.1.1</td>\n",
       "      <td>male</td>\n",
       "      <td>male</td>\n",
       "    </tr>\n",
       "    <tr>\n",
       "      <th>3</th>\n",
       "      <td>10.1103/PhysRevSeriesI.4.433</td>\n",
       "      <td>10.1103/PhysRevSeriesI.1.1</td>\n",
       "      <td>male</td>\n",
       "      <td>male</td>\n",
       "    </tr>\n",
       "    <tr>\n",
       "      <th>4</th>\n",
       "      <td>10.1103/PhysRevSeriesI.17.267</td>\n",
       "      <td>10.1103/PhysRevSeriesI.11.215</td>\n",
       "      <td>male</td>\n",
       "      <td>male</td>\n",
       "    </tr>\n",
       "  </tbody>\n",
       "</table>\n",
       "</div>"
      ],
      "text/plain": [
       "                      citing_doi                      cited_doi citing_gender  \\\n",
       "0  10.1103/PhysRevSeriesI.11.215     10.1103/PhysRevSeriesI.1.1          male   \n",
       "1  10.1103/PhysRevSeriesI.17.267     10.1103/PhysRevSeriesI.1.1          male   \n",
       "2      10.1103/RevModPhys.51.863     10.1103/PhysRevSeriesI.1.1          male   \n",
       "3   10.1103/PhysRevSeriesI.4.433     10.1103/PhysRevSeriesI.1.1          male   \n",
       "4  10.1103/PhysRevSeriesI.17.267  10.1103/PhysRevSeriesI.11.215          male   \n",
       "\n",
       "  cited_gender  \n",
       "0         male  \n",
       "1         male  \n",
       "2         male  \n",
       "3         male  \n",
       "4         male  "
      ]
     },
     "execution_count": 68,
     "metadata": {},
     "output_type": "execute_result"
    }
   ],
   "source": [
    "cen1 = cb.copy()\n",
    "cen2 = primdata[['doi','gender']]\n",
    "\n",
    "cen = cen1.merge(cen2, left_on='citing_doi', right_on='doi').drop('doi', axis=1).reset_index(drop=True)\n",
    "cen = cen.merge(cen2, left_on='cited_doi', right_on='doi').drop('doi', axis=1).reset_index(drop=True)\n",
    "cen.columns = ['citing_doi', 'cited_doi', 'citing_gender', 'cited_gender']\n",
    "cen.head()"
   ]
  },
  {
   "cell_type": "code",
   "execution_count": 70,
   "id": "7921b536",
   "metadata": {},
   "outputs": [
    {
     "name": "stdout",
     "output_type": "stream",
     "text": [
      "Name: \n",
      "Type: DiGraph\n",
      "Number of nodes: 267446\n",
      "Number of edges: 1899640\n",
      "Average in degree:   7.1029\n",
      "Average out degree:   7.1029\n"
     ]
    }
   ],
   "source": [
    "# apply nx.graph to citation relationship network\n",
    "Graphtype = nx.DiGraph()\n",
    "\n",
    "C = nx.from_pandas_edgelist(cen, source='citing_doi',\n",
    "                            target='cited_doi', create_using=Graphtype)\n",
    "print(nx.info(C))"
   ]
  },
  {
   "cell_type": "code",
   "execution_count": 72,
   "id": "0cd91187",
   "metadata": {},
   "outputs": [],
   "source": [
    "# observe author id & gender (primary author)\n",
    "nodedata = primdata[['doi','id','gender']]"
   ]
  },
  {
   "cell_type": "code",
   "execution_count": 74,
   "id": "679248ec",
   "metadata": {},
   "outputs": [
    {
     "data": {
      "text/html": [
       "<div>\n",
       "<style scoped>\n",
       "    .dataframe tbody tr th:only-of-type {\n",
       "        vertical-align: middle;\n",
       "    }\n",
       "\n",
       "    .dataframe tbody tr th {\n",
       "        vertical-align: top;\n",
       "    }\n",
       "\n",
       "    .dataframe thead th {\n",
       "        text-align: right;\n",
       "    }\n",
       "</style>\n",
       "<table border=\"1\" class=\"dataframe\">\n",
       "  <thead>\n",
       "    <tr style=\"text-align: right;\">\n",
       "      <th></th>\n",
       "      <th>doi</th>\n",
       "      <th>PRcen</th>\n",
       "      <th>id</th>\n",
       "      <th>gender</th>\n",
       "    </tr>\n",
       "  </thead>\n",
       "  <tbody>\n",
       "    <tr>\n",
       "      <th>5469</th>\n",
       "      <td>10.1103/PhysRev.140.A1133</td>\n",
       "      <td>0.001709</td>\n",
       "      <td>219005</td>\n",
       "      <td>male</td>\n",
       "    </tr>\n",
       "    <tr>\n",
       "      <th>42329</th>\n",
       "      <td>10.1103/PhysRev.136.B864</td>\n",
       "      <td>0.001404</td>\n",
       "      <td>12626</td>\n",
       "      <td>male</td>\n",
       "    </tr>\n",
       "    <tr>\n",
       "      <th>33589</th>\n",
       "      <td>10.1103/PhysRev.108.1175</td>\n",
       "      <td>0.001370</td>\n",
       "      <td>165388</td>\n",
       "      <td>male</td>\n",
       "    </tr>\n",
       "    <tr>\n",
       "      <th>48</th>\n",
       "      <td>10.1103/PhysRev.47.777</td>\n",
       "      <td>0.001022</td>\n",
       "      <td>38494</td>\n",
       "      <td>male</td>\n",
       "    </tr>\n",
       "    <tr>\n",
       "      <th>117022</th>\n",
       "      <td>10.1103/PhysRev.65.117</td>\n",
       "      <td>0.000763</td>\n",
       "      <td>59830</td>\n",
       "      <td>male</td>\n",
       "    </tr>\n",
       "  </tbody>\n",
       "</table>\n",
       "</div>"
      ],
      "text/plain": [
       "                              doi     PRcen      id gender\n",
       "5469    10.1103/PhysRev.140.A1133  0.001709  219005   male\n",
       "42329    10.1103/PhysRev.136.B864  0.001404   12626   male\n",
       "33589    10.1103/PhysRev.108.1175  0.001370  165388   male\n",
       "48         10.1103/PhysRev.47.777  0.001022   38494   male\n",
       "117022     10.1103/PhysRev.65.117  0.000763   59830   male"
      ]
     },
     "execution_count": 74,
     "metadata": {},
     "output_type": "execute_result"
    }
   ],
   "source": [
    "# assign PageRank centrality to each paper\n",
    "pr = nx.pagerank(C)\n",
    "\n",
    "# create a centrality dataframe\n",
    "prs = pd.DataFrame()\n",
    "prs['doi'] = pr.keys()\n",
    "prs['PRcen'] = pr.values()\n",
    "\n",
    "# merge and create a dataframe: id, gender, PageRank centrality\n",
    "prs_new = prs.merge(nodedata, on='doi', how='left').sort_values('PRcen', ascending=False)\n",
    "prs_new.head()"
   ]
  },
  {
   "cell_type": "code",
   "execution_count": 75,
   "id": "317e6885",
   "metadata": {},
   "outputs": [],
   "source": [
    "pr_age = prs_new.merge(cited, on='doi', how='inner')\n",
    "pr_age = pr_age[['PRcen', 'doi', 'id_x', 'gender_x', 'yeard']]\n",
    "pr_age = pr_age.rename(columns={'id_x': \"id\", \"gender_x\": \"gender\"}\n",
    "                      ).sort_values('PRcen',ascending=False)"
   ]
  },
  {
   "cell_type": "code",
   "execution_count": 82,
   "id": "0dafe71a",
   "metadata": {},
   "outputs": [
    {
     "data": {
      "image/png": "[encoded data removed]",
      "text/plain": [
       "<Figure size 432x324 with 1 Axes>"
      ]
     },
     "metadata": {
      "needs_background": "light"
     },
     "output_type": "display_data"
    }
   ],
   "source": [
    "# Comparative graph for actual female proportion vs. expected female proportion\n",
    "\n",
    "prs_gender = prs_new['gender'].to_numpy()\n",
    "cumulate_prs_gender = np.cumsum(prs_gender == \"female\")\n",
    "\n",
    "fig, ax = plt.subplots(figsize=(6,4.5))\n",
    "right_side = ax.spines[\"right\"]\n",
    "top_side = ax.spines[\"top\"]\n",
    "right_side.set_visible(False)\n",
    "top_side.set_visible(False)\n",
    "\n",
    "plt.plot((np.arange(len(prs_new))*100)/len(prs_new),\n",
    "         cumulate_prs_gender/np.arange(1, len(prs_new)+1), color='red', lw=3)\n",
    "# plt.axhline(y=0.08274119036274367, color='black', linestyle='dotted', lw=3)\n",
    "plt.axhline(y=len(cited[cited['gender'] == 'female'])/len(cited),\n",
    "            color='black', linestyle='dotted', lw=3)\n",
    "\n",
    "plt.xlabel(\"top h% PageRank Centrality\", fontsize=20)\n",
    "plt.ylabel(\"Proportion of \\n Female Primary Authors\", fontsize = 20)\n",
    "\n",
    "plt.xticks(fontsize=20)\n",
    "plt.yticks(fontsize=20)\n",
    "plt.tight_layout()\n",
    "fig.savefig(f\"/Users/robinkong/codes/Fig_3A_PageRank.pdf\")"
   ]
  },
  {
   "cell_type": "markdown",
   "id": "2ebc00ad",
   "metadata": {},
   "source": [
    "## Similarity Analysis"
   ]
  },
  {
   "cell_type": "code",
   "execution_count": 76,
   "id": "1748b1f1",
   "metadata": {},
   "outputs": [],
   "source": [
    "# filter conditions\n",
    "\n",
    "# sdoi = primdata[primdata['journal'] == \"PRL\"].doi\n",
    "# sdoi = primdata[primdata['pacs90'] == 1].doi\n",
    "\n",
    "df = sim_mf.copy()\n",
    "\n",
    "# df = df[df['paper1'].isin(sdoi)]\n",
    "# df = df[df['paper2'].isin(sdoi)].reset_index(drop=True)"
   ]
  },
  {
   "cell_type": "code",
   "execution_count": null,
   "id": "323ce5cc",
   "metadata": {},
   "outputs": [],
   "source": [
    "# filter year constraints\n",
    "\n",
    "N = 3\n",
    "\n",
    "df = df[df['yeard'] >= -N]\n",
    "df = df[df['yeard'] <= N].reset_index(drop=True)"
   ]
  },
  {
   "cell_type": "code",
   "execution_count": 77,
   "id": "e7230629",
   "metadata": {},
   "outputs": [
    {
     "name": "stdout",
     "output_type": "stream",
     "text": [
      "N:  2730100\n",
      "M:  410418\n",
      "M/N:  0.15033075711512398\n"
     ]
    }
   ],
   "source": [
    "p = 0.001\n",
    "df_vld = df[df['qval'] < p]\n",
    "\n",
    "print(\"N: \", len(df))\n",
    "print(\"M: \", len(df_vld))\n",
    "print(\"M/N: \", len(df_vld)/len(df))"
   ]
  },
  {
   "cell_type": "code",
   "execution_count": 78,
   "id": "68de8796",
   "metadata": {},
   "outputs": [
    {
     "name": "stderr",
     "output_type": "stream",
     "text": [
      "100%|██████████| 410418/410418 [00:04<00:00, 95449.02it/s]\n"
     ]
    },
    {
     "data": {
      "text/plain": [
       "(19.150151095942956, 9.65063481804804e-82)"
      ]
     },
     "execution_count": 78,
     "metadata": {},
     "output_type": "execute_result"
    }
   ],
   "source": [
    "# getting mlist and fmlist (count per gender)\n",
    "\n",
    "mlist = []\n",
    "fmlist = []\n",
    "\n",
    "for i in tqdm(range(len(df_vld))):\n",
    "    if df_vld['gender1'][i] == 'male':\n",
    "        mlist.append(df_vld['count1'][i])\n",
    "        fmlist.append(df_vld['count2'][i])\n",
    "    else:\n",
    "        mlist.append(df_vld['count2'][i])\n",
    "        fmlist.append(df_vld['count1'][i])\n",
    "\n",
    "# Find z-scores (for p-values)\n",
    "ztest(mlist, fmlist, value=0)"
   ]
  },
  {
   "cell_type": "code",
   "execution_count": null,
   "id": "27bb902a",
   "metadata": {},
   "outputs": [],
   "source": [
    "# Find z-scores (for p-values)\n",
    "print(ztest(mlist, fmlist, value=0))\n",
    "print('')\n",
    "\n",
    "# Find effect size\n",
    "print(pg.compute_effsize(mlist, fmlist, paired=True, eftype='hedges'))"
   ]
  },
  {
   "cell_type": "markdown",
   "id": "fb6d869c",
   "metadata": {},
   "source": [
    "## Centrality Difference Trend by Year (m-f pairs)"
   ]
  },
  {
   "cell_type": "code",
   "execution_count": 2,
   "id": "b80828d5",
   "metadata": {},
   "outputs": [
    {
     "data": {
      "text/html": [
       "<div>\n",
       "<style scoped>\n",
       "    .dataframe tbody tr th:only-of-type {\n",
       "        vertical-align: middle;\n",
       "    }\n",
       "\n",
       "    .dataframe tbody tr th {\n",
       "        vertical-align: top;\n",
       "    }\n",
       "\n",
       "    .dataframe thead th {\n",
       "        text-align: right;\n",
       "    }\n",
       "</style>\n",
       "<table border=\"1\" class=\"dataframe\">\n",
       "  <thead>\n",
       "    <tr style=\"text-align: right;\">\n",
       "      <th></th>\n",
       "      <th>paper1</th>\n",
       "      <th>paper2</th>\n",
       "      <th>gender1</th>\n",
       "      <th>gender2</th>\n",
       "      <th>year1</th>\n",
       "      <th>year2</th>\n",
       "      <th>keyval</th>\n",
       "      <th>qval</th>\n",
       "      <th>count1</th>\n",
       "      <th>count2</th>\n",
       "      <th>countd</th>\n",
       "      <th>yeard</th>\n",
       "    </tr>\n",
       "  </thead>\n",
       "  <tbody>\n",
       "    <tr>\n",
       "      <th>0</th>\n",
       "      <td>10.1103/PhysRevB.74.035411</td>\n",
       "      <td>10.1103/PhysRevB.75.205440</td>\n",
       "      <td>female</td>\n",
       "      <td>male</td>\n",
       "      <td>2006</td>\n",
       "      <td>2007</td>\n",
       "      <td>4</td>\n",
       "      <td>-1.117244e-10</td>\n",
       "      <td>1</td>\n",
       "      <td>1</td>\n",
       "      <td>0</td>\n",
       "      <td>1</td>\n",
       "    </tr>\n",
       "    <tr>\n",
       "      <th>1</th>\n",
       "      <td>10.1103/PhysRevB.73.075112</td>\n",
       "      <td>10.1103/PhysRevB.74.045113</td>\n",
       "      <td>female</td>\n",
       "      <td>male</td>\n",
       "      <td>2006</td>\n",
       "      <td>2006</td>\n",
       "      <td>4</td>\n",
       "      <td>-1.117173e-10</td>\n",
       "      <td>9</td>\n",
       "      <td>2</td>\n",
       "      <td>-7</td>\n",
       "      <td>0</td>\n",
       "    </tr>\n",
       "    <tr>\n",
       "      <th>2</th>\n",
       "      <td>10.1103/PhysRev.88.1109</td>\n",
       "      <td>10.1103/RevModPhys.24.321</td>\n",
       "      <td>male</td>\n",
       "      <td>female</td>\n",
       "      <td>1952</td>\n",
       "      <td>1952</td>\n",
       "      <td>2</td>\n",
       "      <td>-9.355250e-11</td>\n",
       "      <td>45</td>\n",
       "      <td>79</td>\n",
       "      <td>-34</td>\n",
       "      <td>0</td>\n",
       "    </tr>\n",
       "    <tr>\n",
       "      <th>3</th>\n",
       "      <td>10.1103/PhysRevE.70.011103</td>\n",
       "      <td>10.1103/PhysRevE.70.056128</td>\n",
       "      <td>male</td>\n",
       "      <td>female</td>\n",
       "      <td>2004</td>\n",
       "      <td>2004</td>\n",
       "      <td>3</td>\n",
       "      <td>-8.545054e-11</td>\n",
       "      <td>1</td>\n",
       "      <td>1</td>\n",
       "      <td>0</td>\n",
       "      <td>0</td>\n",
       "    </tr>\n",
       "    <tr>\n",
       "      <th>4</th>\n",
       "      <td>10.1103/PhysRevB.76.174508</td>\n",
       "      <td>10.1103/PhysRevLett.99.087001</td>\n",
       "      <td>male</td>\n",
       "      <td>female</td>\n",
       "      <td>2007</td>\n",
       "      <td>2007</td>\n",
       "      <td>3</td>\n",
       "      <td>-8.545054e-11</td>\n",
       "      <td>1</td>\n",
       "      <td>3</td>\n",
       "      <td>-2</td>\n",
       "      <td>0</td>\n",
       "    </tr>\n",
       "  </tbody>\n",
       "</table>\n",
       "</div>"
      ],
      "text/plain": [
       "                       paper1                         paper2 gender1 gender2  \\\n",
       "0  10.1103/PhysRevB.74.035411     10.1103/PhysRevB.75.205440  female    male   \n",
       "1  10.1103/PhysRevB.73.075112     10.1103/PhysRevB.74.045113  female    male   \n",
       "2     10.1103/PhysRev.88.1109      10.1103/RevModPhys.24.321    male  female   \n",
       "3  10.1103/PhysRevE.70.011103     10.1103/PhysRevE.70.056128    male  female   \n",
       "4  10.1103/PhysRevB.76.174508  10.1103/PhysRevLett.99.087001    male  female   \n",
       "\n",
       "   year1  year2  keyval          qval  count1  count2  countd  yeard  \n",
       "0   2006   2007       4 -1.117244e-10       1       1       0      1  \n",
       "1   2006   2006       4 -1.117173e-10       9       2      -7      0  \n",
       "2   1952   1952       2 -9.355250e-11      45      79     -34      0  \n",
       "3   2004   2004       3 -8.545054e-11       1       1       0      0  \n",
       "4   2007   2007       3 -8.545054e-11       1       3      -2      0  "
      ]
     },
     "execution_count": 2,
     "metadata": {},
     "output_type": "execute_result"
    }
   ],
   "source": [
    "sim_mf = pd.read_csv(\"/Users/robinkong/codes/mfpairs_similarity.csv\")\n",
    "sim_mf.head()"
   ]
  },
  {
   "cell_type": "code",
   "execution_count": 3,
   "id": "9e3d9dcb",
   "metadata": {},
   "outputs": [
    {
     "name": "stderr",
     "output_type": "stream",
     "text": [
      "100%|██████████| 5611686/5611686 [00:36<00:00, 153994.48it/s]\n"
     ]
    },
    {
     "data": {
      "text/html": [
       "<div>\n",
       "<style scoped>\n",
       "    .dataframe tbody tr th:only-of-type {\n",
       "        vertical-align: middle;\n",
       "    }\n",
       "\n",
       "    .dataframe tbody tr th {\n",
       "        vertical-align: top;\n",
       "    }\n",
       "\n",
       "    .dataframe thead th {\n",
       "        text-align: right;\n",
       "    }\n",
       "</style>\n",
       "<table border=\"1\" class=\"dataframe\">\n",
       "  <thead>\n",
       "    <tr style=\"text-align: right;\">\n",
       "      <th></th>\n",
       "      <th>paper1</th>\n",
       "      <th>paper2</th>\n",
       "      <th>gender1</th>\n",
       "      <th>gender2</th>\n",
       "      <th>year1</th>\n",
       "      <th>year2</th>\n",
       "      <th>keyval</th>\n",
       "      <th>qval</th>\n",
       "      <th>count1</th>\n",
       "      <th>count2</th>\n",
       "      <th>countd</th>\n",
       "      <th>yeard</th>\n",
       "      <th>lateryear</th>\n",
       "    </tr>\n",
       "  </thead>\n",
       "  <tbody>\n",
       "    <tr>\n",
       "      <th>0</th>\n",
       "      <td>10.1103/PhysRevB.74.035411</td>\n",
       "      <td>10.1103/PhysRevB.75.205440</td>\n",
       "      <td>female</td>\n",
       "      <td>male</td>\n",
       "      <td>2006</td>\n",
       "      <td>2007</td>\n",
       "      <td>4</td>\n",
       "      <td>-1.117244e-10</td>\n",
       "      <td>1</td>\n",
       "      <td>1</td>\n",
       "      <td>0</td>\n",
       "      <td>1</td>\n",
       "      <td>2007</td>\n",
       "    </tr>\n",
       "    <tr>\n",
       "      <th>1</th>\n",
       "      <td>10.1103/PhysRevB.73.075112</td>\n",
       "      <td>10.1103/PhysRevB.74.045113</td>\n",
       "      <td>female</td>\n",
       "      <td>male</td>\n",
       "      <td>2006</td>\n",
       "      <td>2006</td>\n",
       "      <td>4</td>\n",
       "      <td>-1.117173e-10</td>\n",
       "      <td>9</td>\n",
       "      <td>2</td>\n",
       "      <td>-7</td>\n",
       "      <td>0</td>\n",
       "      <td>2006</td>\n",
       "    </tr>\n",
       "    <tr>\n",
       "      <th>2</th>\n",
       "      <td>10.1103/PhysRev.88.1109</td>\n",
       "      <td>10.1103/RevModPhys.24.321</td>\n",
       "      <td>male</td>\n",
       "      <td>female</td>\n",
       "      <td>1952</td>\n",
       "      <td>1952</td>\n",
       "      <td>2</td>\n",
       "      <td>-9.355250e-11</td>\n",
       "      <td>45</td>\n",
       "      <td>79</td>\n",
       "      <td>-34</td>\n",
       "      <td>0</td>\n",
       "      <td>1952</td>\n",
       "    </tr>\n",
       "    <tr>\n",
       "      <th>3</th>\n",
       "      <td>10.1103/PhysRevE.70.011103</td>\n",
       "      <td>10.1103/PhysRevE.70.056128</td>\n",
       "      <td>male</td>\n",
       "      <td>female</td>\n",
       "      <td>2004</td>\n",
       "      <td>2004</td>\n",
       "      <td>3</td>\n",
       "      <td>-8.545054e-11</td>\n",
       "      <td>1</td>\n",
       "      <td>1</td>\n",
       "      <td>0</td>\n",
       "      <td>0</td>\n",
       "      <td>2004</td>\n",
       "    </tr>\n",
       "    <tr>\n",
       "      <th>4</th>\n",
       "      <td>10.1103/PhysRevB.76.174508</td>\n",
       "      <td>10.1103/PhysRevLett.99.087001</td>\n",
       "      <td>male</td>\n",
       "      <td>female</td>\n",
       "      <td>2007</td>\n",
       "      <td>2007</td>\n",
       "      <td>3</td>\n",
       "      <td>-8.545054e-11</td>\n",
       "      <td>1</td>\n",
       "      <td>3</td>\n",
       "      <td>-2</td>\n",
       "      <td>0</td>\n",
       "      <td>2007</td>\n",
       "    </tr>\n",
       "  </tbody>\n",
       "</table>\n",
       "</div>"
      ],
      "text/plain": [
       "                       paper1                         paper2 gender1 gender2  \\\n",
       "0  10.1103/PhysRevB.74.035411     10.1103/PhysRevB.75.205440  female    male   \n",
       "1  10.1103/PhysRevB.73.075112     10.1103/PhysRevB.74.045113  female    male   \n",
       "2     10.1103/PhysRev.88.1109      10.1103/RevModPhys.24.321    male  female   \n",
       "3  10.1103/PhysRevE.70.011103     10.1103/PhysRevE.70.056128    male  female   \n",
       "4  10.1103/PhysRevB.76.174508  10.1103/PhysRevLett.99.087001    male  female   \n",
       "\n",
       "   year1  year2  keyval          qval  count1  count2  countd  yeard  \\\n",
       "0   2006   2007       4 -1.117244e-10       1       1       0      1   \n",
       "1   2006   2006       4 -1.117173e-10       9       2      -7      0   \n",
       "2   1952   1952       2 -9.355250e-11      45      79     -34      0   \n",
       "3   2004   2004       3 -8.545054e-11       1       1       0      0   \n",
       "4   2007   2007       3 -8.545054e-11       1       3      -2      0   \n",
       "\n",
       "   lateryear  \n",
       "0       2007  \n",
       "1       2006  \n",
       "2       1952  \n",
       "3       2004  \n",
       "4       2007  "
      ]
     },
     "execution_count": 3,
     "metadata": {},
     "output_type": "execute_result"
    }
   ],
   "source": [
    "mfs = sim_mf[sim_mf['yeard'] <= 3]\n",
    "mfs = mfs[mfs['yeard'] >= -3].reset_index(drop=True)\n",
    "\n",
    "lateryear = []\n",
    "\n",
    "for i in tqdm(range(len(mfs))):\n",
    "    lateryear.append(max(mfs['year1'][i], mfs['year2'][i]))\n",
    "\n",
    "mfs['lateryear'] = lateryear\n",
    "\n",
    "mfs.head()"
   ]
  },
  {
   "cell_type": "code",
   "execution_count": 4,
   "id": "c264c632",
   "metadata": {},
   "outputs": [
    {
     "name": "stdout",
     "output_type": "stream",
     "text": [
      "0.10213864425058708\n"
     ]
    }
   ],
   "source": [
    "p = 0.001\n",
    "\n",
    "simp = mfs[mfs['qval'] < p].sort_values('countd').reset_index(drop=True)\n",
    "print(len(simp)/len(mfs))"
   ]
  },
  {
   "cell_type": "code",
   "execution_count": 5,
   "id": "fc9ace36",
   "metadata": {},
   "outputs": [
    {
     "name": "stdout",
     "output_type": "stream",
     "text": [
      "573170\n"
     ]
    },
    {
     "data": {
      "text/html": [
       "<div>\n",
       "<style scoped>\n",
       "    .dataframe tbody tr th:only-of-type {\n",
       "        vertical-align: middle;\n",
       "    }\n",
       "\n",
       "    .dataframe tbody tr th {\n",
       "        vertical-align: top;\n",
       "    }\n",
       "\n",
       "    .dataframe thead th {\n",
       "        text-align: right;\n",
       "    }\n",
       "</style>\n",
       "<table border=\"1\" class=\"dataframe\">\n",
       "  <thead>\n",
       "    <tr style=\"text-align: right;\">\n",
       "      <th></th>\n",
       "      <th>lateryear</th>\n",
       "      <th>countd</th>\n",
       "    </tr>\n",
       "  </thead>\n",
       "  <tbody>\n",
       "    <tr>\n",
       "      <th>214976</th>\n",
       "      <td>1903</td>\n",
       "      <td>-1</td>\n",
       "    </tr>\n",
       "    <tr>\n",
       "      <th>217369</th>\n",
       "      <td>1903</td>\n",
       "      <td>-1</td>\n",
       "    </tr>\n",
       "    <tr>\n",
       "      <th>303830</th>\n",
       "      <td>1903</td>\n",
       "      <td>0</td>\n",
       "    </tr>\n",
       "    <tr>\n",
       "      <th>474746</th>\n",
       "      <td>1916</td>\n",
       "      <td>6</td>\n",
       "    </tr>\n",
       "    <tr>\n",
       "      <th>354486</th>\n",
       "      <td>1918</td>\n",
       "      <td>1</td>\n",
       "    </tr>\n",
       "  </tbody>\n",
       "</table>\n",
       "</div>"
      ],
      "text/plain": [
       "        lateryear  countd\n",
       "214976       1903      -1\n",
       "217369       1903      -1\n",
       "303830       1903       0\n",
       "474746       1916       6\n",
       "354486       1918       1"
      ]
     },
     "execution_count": 5,
     "metadata": {},
     "output_type": "execute_result"
    }
   ],
   "source": [
    "simp = simp[['lateryear', 'countd']].sort_values(by=['lateryear', 'countd'])\n",
    "\n",
    "print(len(simp))\n",
    "simp.head()"
   ]
  },
  {
   "cell_type": "code",
   "execution_count": 6,
   "id": "c63bde2f",
   "metadata": {},
   "outputs": [
    {
     "data": {
      "text/plain": [
       "lateryear\n",
       "1903    3\n",
       "1916    1\n",
       "1918    1\n",
       "1921    1\n",
       "1923    2\n",
       "Name: lateryear, dtype: int64"
      ]
     },
     "execution_count": 6,
     "metadata": {},
     "output_type": "execute_result"
    }
   ],
   "source": [
    "simp = simp.groupby(['lateryear'])['lateryear'].count()\n",
    "simp.head()"
   ]
  },
  {
   "cell_type": "code",
   "execution_count": 7,
   "id": "4b492254",
   "metadata": {},
   "outputs": [
    {
     "data": {
      "image/png": "[encoded data removed]",
      "text/plain": [
       "<Figure size 432x324 with 1 Axes>"
      ]
     },
     "metadata": {
      "needs_background": "light"
     },
     "output_type": "display_data"
    }
   ],
   "source": [
    "fig, ax = plt.subplots(figsize=(6,4.5))\n",
    "right_side = ax.spines[\"right\"]\n",
    "top_side = ax.spines[\"top\"]\n",
    "right_side.set_visible(False)\n",
    "top_side.set_visible(False)\n",
    "\n",
    "simp.plot(style='.-',color='red', lw=3)\n",
    "\n",
    "plt.xlabel('Year', fontsize=20)\n",
    "plt.xlim(xmin=1970, xmax=2010)\n",
    "plt.xticks(np.arange(1970, 2011, 10), fontsize=20)\n",
    "plt.ylabel('Number of Sampled\\nSimilar Pairs', fontsize=20)\n",
    "plt.yticks(fontsize=20)\n",
    "plt.ylim(ymin=0)\n",
    "\n",
    "plt.tight_layout()\n",
    "# fig.savefig(f\"/Users/robinkong/codes/SI_Fig_7.pdf\")"
   ]
  },
  {
   "cell_type": "code",
   "execution_count": 12,
   "id": "f6652f72",
   "metadata": {},
   "outputs": [],
   "source": [
    "simp = pd.DataFrame({'year':simp.index, 'count':simp.values})"
   ]
  },
  {
   "cell_type": "code",
   "execution_count": 30,
   "id": "585dea42",
   "metadata": {},
   "outputs": [
    {
     "data": {
      "image/png": "[encoded data removed]",
      "text/plain": [
       "<Figure size 576x432 with 1 Axes>"
      ]
     },
     "metadata": {
      "needs_background": "light"
     },
     "output_type": "display_data"
    }
   ],
   "source": [
    "fig, ax = plt.subplots(figsize=(8,6))\n",
    "right_side = ax.spines[\"right\"]\n",
    "top_side = ax.spines[\"top\"]\n",
    "right_side.set_visible(False)\n",
    "top_side.set_visible(False)\n",
    "\n",
    "plt.plot(simp['year'], simp['count'], color='black', lw=3)\n",
    "\n",
    "inset_ax = ax.inset_axes([0.15, 0.5, 0.6, 0.45])\n",
    "inset_ax.plot(simp['year'][52:71], simp['count'][52:71], color='black', lw=2)\n",
    "inset_ax.tick_params(labelsize=15)\n",
    "\n",
    "plt.xlabel('Year', fontsize=20)\n",
    "plt.xlim(xmin=1970, xmax=2010)\n",
    "plt.xticks(np.arange(1970, 2011, 10), fontsize=20)\n",
    "plt.ylabel('Number of Sampled\\nSimilar Pairs', fontsize=20)\n",
    "plt.yticks(fontsize=20)\n",
    "plt.ylim(ymin=0)\n",
    "ax.indicate_inset_zoom(inset_ax, edgecolor=\"black\", linewidth = 4)\n",
    "\n",
    "plt.tight_layout()\n",
    "fig.savefig(f\"/Users/robinkong/codes/simpairs_zoomed.pdf\")"
   ]
  },
  {
   "cell_type": "markdown",
   "id": "fcc91772",
   "metadata": {},
   "source": [
    "## Comparing similar m-m pairs and m-w pairs\n",
    "\n",
    "### Percentile plots of centrality difference by year"
   ]
  },
  {
   "cell_type": "code",
   "execution_count": 34,
   "id": "8551ad3c",
   "metadata": {},
   "outputs": [
    {
     "name": "stderr",
     "output_type": "stream",
     "text": [
      "100%|██████████| 5611686/5611686 [00:35<00:00, 157885.24it/s]\n"
     ]
    },
    {
     "name": "stdout",
     "output_type": "stream",
     "text": [
      "0.10213864425058708\n"
     ]
    }
   ],
   "source": [
    "# man-woman pairs\n",
    "\n",
    "sim_mf = pd.read_csv(\"/Users/robinkong/codes/mfpairs_similarity.csv\")\n",
    "\n",
    "# apply year restriction\n",
    "\n",
    "mfs = sim_mf[sim_mf['yeard'] <= 3]\n",
    "mfs = mfs[mfs['yeard'] >= -3].reset_index(drop=True)\n",
    "\n",
    "# label the publication year of pairs as the publication year of a latter one\n",
    "\n",
    "lateryear = []\n",
    "\n",
    "for i in tqdm(range(len(mfs))):\n",
    "    lateryear.append(max(mfs['year1'][i], mfs['year2'][i]))\n",
    "\n",
    "mfs['lateryear'] = lateryear\n",
    "\n",
    "# apply similarity threshold\n",
    "\n",
    "p = 0.001\n",
    "\n",
    "simp = mfs[mfs['qval'] < p].sort_values('countd').reset_index(drop=True)\n",
    "print(len(simp)/len(mfs))\n",
    "\n",
    "simp = simp[['lateryear', 'countd']].sort_values(by=['lateryear', 'countd'])"
   ]
  },
  {
   "cell_type": "code",
   "execution_count": 35,
   "id": "a0a32663",
   "metadata": {},
   "outputs": [
    {
     "name": "stderr",
     "output_type": "stream",
     "text": [
      "100%|██████████| 19193545/19193545 [02:09<00:00, 148304.87it/s]\n"
     ]
    },
    {
     "name": "stdout",
     "output_type": "stream",
     "text": [
      "0.11612544738348231\n"
     ]
    }
   ],
   "source": [
    "# man-man pairs\n",
    "\n",
    "sim_mm = pd.read_csv(\"/Users/robinkong/codes/mmpairs_similarity.csv\")\n",
    "\n",
    "# apply year restriction\n",
    "\n",
    "mms = sim_mm[sim_mm['yeard'] <= 3]\n",
    "mms = mms[mms['yeard'] >= -3].reset_index(drop=True)\n",
    "\n",
    "# label the publication year of pairs as the publication year of a latter one\n",
    "\n",
    "lateryear = []\n",
    "\n",
    "for i in tqdm(range(len(mms))):\n",
    "    lateryear.append(max(mms['year1'][i], mms['year2'][i]))\n",
    "\n",
    "mms['lateryear'] = lateryear\n",
    "\n",
    "# apply similarity threshold\n",
    "\n",
    "p = 0.001\n",
    "\n",
    "simp_mm = mms[mms['qval'] < p].sort_values('countd').reset_index(drop=True)\n",
    "print(len(simp_mm)/len(mms))\n",
    "\n",
    "simp_mm = simp_mm[['lateryear', 'countd']].sort_values(by=['lateryear', 'countd'])"
   ]
  },
  {
   "cell_type": "code",
   "execution_count": 37,
   "id": "98e96c0d",
   "metadata": {},
   "outputs": [],
   "source": [
    "def percentile(n):\n",
    "    def percentile_(x):\n",
    "        return np.percentile(x, n)\n",
    "    percentile_.__name__ = 'percentile_%s' % n\n",
    "    return percentile_"
   ]
  },
  {
   "cell_type": "code",
   "execution_count": 38,
   "id": "3d87f798",
   "metadata": {},
   "outputs": [],
   "source": [
    "# find the percentile statistics for m-w pairs\n",
    "\n",
    "paired_mf = simp.groupby('lateryear').agg([np.mean, percentile(10), percentile(20),\n",
    "                                      percentile(30), percentile(40), np.median,\n",
    "                                      percentile(60), percentile(70), percentile(80),\n",
    "                                      percentile(90)]).reset_index()"
   ]
  },
  {
   "cell_type": "code",
   "execution_count": 87,
   "id": "ba1f5b3d",
   "metadata": {},
   "outputs": [
    {
     "data": {
      "image/png": "[encoded data removed]",
      "text/plain": [
       "<Figure size 432x324 with 1 Axes>"
      ]
     },
     "metadata": {
      "needs_background": "light"
     },
     "output_type": "display_data"
    }
   ],
   "source": [
    "# m-w pair percentile plot\n",
    "\n",
    "fig, ax = plt.subplots(figsize=(6,4.5))\n",
    "right_side = ax.spines[\"right\"]\n",
    "top_side = ax.spines[\"top\"]\n",
    "right_side.set_visible(False)\n",
    "top_side.set_visible(False)\n",
    "\n",
    "cm = sns.color_palette(\"Reds\",10)\n",
    "\n",
    "plt.axhline(y=0, color='black', linestyle='dotted', lw=3)\n",
    "plt.plot(paired_mf.lateryear,paired_mf.countd[\"median\"],\"-\",label=\"M-F Median\", color=cm[9], lw=3)\n",
    "\n",
    "plt.fill_between(paired_mf.lateryear, paired_mf.countd[\"percentile_10\"],\n",
    "                 paired_mf.countd[\"percentile_20\"], color=cm[1])\n",
    "plt.fill_between(paired_mf.lateryear, paired_mf.countd[\"percentile_20\"],\n",
    "                 paired_mf.countd[\"percentile_30\"], color=cm[3])\n",
    "plt.fill_between(paired_mf.lateryear, paired_mf.countd[\"percentile_30\"],\n",
    "                 paired_mf.countd[\"percentile_40\"], color=cm[5])\n",
    "plt.fill_between(paired_mf.lateryear, paired_mf.countd[\"percentile_40\"],\n",
    "                 paired_mf.countd[\"median\"], color=cm[7])\n",
    "plt.fill_between(paired_mf.lateryear, paired_mf.countd[\"median\"],\n",
    "                 paired_mf.countd[\"percentile_60\"], color=cm[7])\n",
    "plt.fill_between(paired_mf.lateryear, paired_mf.countd[\"percentile_60\"],\n",
    "                 paired_mf.countd[\"percentile_70\"], color=cm[5])\n",
    "plt.fill_between(paired_mf.lateryear, paired_mf.countd[\"percentile_70\"],\n",
    "                 paired_mf.countd[\"percentile_80\"], color=cm[3])\n",
    "plt.fill_between(paired_mf.lateryear, paired_mf.countd[\"percentile_80\"],\n",
    "                 paired_mf.countd[\"percentile_90\"], color=cm[1])\n",
    "\n",
    "plt.xticks(fontsize=20, rotation=45)\n",
    "plt.yticks(fontsize=20)\n",
    "plt.xlabel(\"Publication Year\", fontsize=20)\n",
    "plt.ylabel(\"\\u0394(Citation)\", fontsize=20)\n",
    "\n",
    "plt.xlim(xmin=1970, xmax=2009)\n",
    "plt.ylim(ymin=-30, ymax=30)\n",
    "\n",
    "plt.tight_layout()\n",
    "fig.savefig(f\"/Users/robinkong/codes/mfpair_pp.pdf\")"
   ]
  },
  {
   "cell_type": "code",
   "execution_count": 75,
   "id": "898c9e05",
   "metadata": {},
   "outputs": [
    {
     "name": "stderr",
     "output_type": "stream",
     "text": [
      "100%|██████████| 100/100 [08:03<00:00,  4.84s/it]\n"
     ]
    }
   ],
   "source": [
    "ref = simp.lateryear.unique()\n",
    "numlist = []\n",
    "\n",
    "mm_centrality = pd.DataFrame(columns=['lateryear'])\n",
    "\n",
    "for num in ref:\n",
    "    numlist.append(num)\n",
    "mm_centrality['lateryear'] = numlist\n",
    "\n",
    "# take the average of 100 random m-m pair samples per year and calculate the centrality difference\n",
    "\n",
    "for k in tqdm(range(100)):\n",
    "    df1 = pd.DataFrame(columns=['lateryear', 'countd'])\n",
    "    vlist = []\n",
    "\n",
    "    for i in range(len(ref)):\n",
    "        df2 = simp_mm[simp_mm['lateryear'] == ref[i]].sample(\n",
    "            simp.lateryear.value_counts().sort_index().iloc[i], replace=True)\n",
    "        df1 = pd.concat([df1,df2])\n",
    "    \n",
    "    for j in range(len(new_df)):\n",
    "        if randint(0,1) == 0:\n",
    "            vlist.append(df1.countd.iloc[j])\n",
    "        else:\n",
    "            vlist.append(df1.countd.iloc[j] * -1)\n",
    "    \n",
    "    df1['value'] = vlist\n",
    "    df1 = df1.groupby(\"lateryear\").agg([np.mean]).reset_index().drop(['lateryear'], axis=1)\n",
    "\n",
    "    mm_centrality = pd.concat([mm_centrality, df1], axis=1)"
   ]
  },
  {
   "cell_type": "code",
   "execution_count": 76,
   "id": "11323166",
   "metadata": {},
   "outputs": [
    {
     "data": {
      "text/html": [
       "<div>\n",
       "<style scoped>\n",
       "    .dataframe tbody tr th:only-of-type {\n",
       "        vertical-align: middle;\n",
       "    }\n",
       "\n",
       "    .dataframe tbody tr th {\n",
       "        vertical-align: top;\n",
       "    }\n",
       "\n",
       "    .dataframe thead th {\n",
       "        text-align: right;\n",
       "    }\n",
       "</style>\n",
       "<table border=\"1\" class=\"dataframe\">\n",
       "  <thead>\n",
       "    <tr style=\"text-align: right;\">\n",
       "      <th></th>\n",
       "      <th>lateryear</th>\n",
       "      <th>(value, mean)</th>\n",
       "      <th>(value, mean)</th>\n",
       "      <th>(value, mean)</th>\n",
       "      <th>(value, mean)</th>\n",
       "      <th>(value, mean)</th>\n",
       "      <th>(value, mean)</th>\n",
       "      <th>(value, mean)</th>\n",
       "      <th>(value, mean)</th>\n",
       "      <th>(value, mean)</th>\n",
       "      <th>...</th>\n",
       "      <th>(value, mean)</th>\n",
       "      <th>(value, mean)</th>\n",
       "      <th>(value, mean)</th>\n",
       "      <th>(value, mean)</th>\n",
       "      <th>(value, mean)</th>\n",
       "      <th>(value, mean)</th>\n",
       "      <th>(value, mean)</th>\n",
       "      <th>(value, mean)</th>\n",
       "      <th>(value, mean)</th>\n",
       "      <th>(value, mean)</th>\n",
       "    </tr>\n",
       "  </thead>\n",
       "  <tbody>\n",
       "    <tr>\n",
       "      <th>0</th>\n",
       "      <td>1903</td>\n",
       "      <td>0.000000</td>\n",
       "      <td>1.333333</td>\n",
       "      <td>0.000000</td>\n",
       "      <td>1.333333</td>\n",
       "      <td>0.000000</td>\n",
       "      <td>0.000000</td>\n",
       "      <td>-0.666667</td>\n",
       "      <td>0.000000</td>\n",
       "      <td>0.000000</td>\n",
       "      <td>...</td>\n",
       "      <td>0.666667</td>\n",
       "      <td>0.666667</td>\n",
       "      <td>0.666667</td>\n",
       "      <td>0.000000</td>\n",
       "      <td>0.666667</td>\n",
       "      <td>-0.666667</td>\n",
       "      <td>0.000000</td>\n",
       "      <td>-1.333333</td>\n",
       "      <td>0.666667</td>\n",
       "      <td>-0.666667</td>\n",
       "    </tr>\n",
       "    <tr>\n",
       "      <th>1</th>\n",
       "      <td>1916</td>\n",
       "      <td>0.000000</td>\n",
       "      <td>1.000000</td>\n",
       "      <td>1.000000</td>\n",
       "      <td>1.000000</td>\n",
       "      <td>5.000000</td>\n",
       "      <td>-1.000000</td>\n",
       "      <td>-5.000000</td>\n",
       "      <td>0.000000</td>\n",
       "      <td>0.000000</td>\n",
       "      <td>...</td>\n",
       "      <td>-5.000000</td>\n",
       "      <td>-1.000000</td>\n",
       "      <td>0.000000</td>\n",
       "      <td>0.000000</td>\n",
       "      <td>9.000000</td>\n",
       "      <td>-5.000000</td>\n",
       "      <td>-6.000000</td>\n",
       "      <td>-9.000000</td>\n",
       "      <td>-4.000000</td>\n",
       "      <td>-1.000000</td>\n",
       "    </tr>\n",
       "    <tr>\n",
       "      <th>2</th>\n",
       "      <td>1918</td>\n",
       "      <td>1.000000</td>\n",
       "      <td>0.000000</td>\n",
       "      <td>0.000000</td>\n",
       "      <td>-1.000000</td>\n",
       "      <td>-1.000000</td>\n",
       "      <td>0.000000</td>\n",
       "      <td>0.000000</td>\n",
       "      <td>0.000000</td>\n",
       "      <td>-2.000000</td>\n",
       "      <td>...</td>\n",
       "      <td>0.000000</td>\n",
       "      <td>1.000000</td>\n",
       "      <td>-14.000000</td>\n",
       "      <td>0.000000</td>\n",
       "      <td>-11.000000</td>\n",
       "      <td>-2.000000</td>\n",
       "      <td>-1.000000</td>\n",
       "      <td>0.000000</td>\n",
       "      <td>1.000000</td>\n",
       "      <td>0.000000</td>\n",
       "    </tr>\n",
       "    <tr>\n",
       "      <th>3</th>\n",
       "      <td>1921</td>\n",
       "      <td>0.000000</td>\n",
       "      <td>1.000000</td>\n",
       "      <td>1.000000</td>\n",
       "      <td>-3.000000</td>\n",
       "      <td>0.000000</td>\n",
       "      <td>0.000000</td>\n",
       "      <td>-3.000000</td>\n",
       "      <td>0.000000</td>\n",
       "      <td>0.000000</td>\n",
       "      <td>...</td>\n",
       "      <td>-1.000000</td>\n",
       "      <td>-3.000000</td>\n",
       "      <td>-3.000000</td>\n",
       "      <td>-1.000000</td>\n",
       "      <td>2.000000</td>\n",
       "      <td>-3.000000</td>\n",
       "      <td>1.000000</td>\n",
       "      <td>2.000000</td>\n",
       "      <td>3.000000</td>\n",
       "      <td>-2.000000</td>\n",
       "    </tr>\n",
       "    <tr>\n",
       "      <th>4</th>\n",
       "      <td>1923</td>\n",
       "      <td>1.000000</td>\n",
       "      <td>1.500000</td>\n",
       "      <td>4.500000</td>\n",
       "      <td>0.000000</td>\n",
       "      <td>0.500000</td>\n",
       "      <td>1.000000</td>\n",
       "      <td>-6.000000</td>\n",
       "      <td>-14.500000</td>\n",
       "      <td>0.500000</td>\n",
       "      <td>...</td>\n",
       "      <td>0.000000</td>\n",
       "      <td>0.500000</td>\n",
       "      <td>0.500000</td>\n",
       "      <td>-4.000000</td>\n",
       "      <td>-0.500000</td>\n",
       "      <td>-9.500000</td>\n",
       "      <td>-8.500000</td>\n",
       "      <td>0.000000</td>\n",
       "      <td>-4.500000</td>\n",
       "      <td>1.500000</td>\n",
       "    </tr>\n",
       "    <tr>\n",
       "      <th>...</th>\n",
       "      <td>...</td>\n",
       "      <td>...</td>\n",
       "      <td>...</td>\n",
       "      <td>...</td>\n",
       "      <td>...</td>\n",
       "      <td>...</td>\n",
       "      <td>...</td>\n",
       "      <td>...</td>\n",
       "      <td>...</td>\n",
       "      <td>...</td>\n",
       "      <td>...</td>\n",
       "      <td>...</td>\n",
       "      <td>...</td>\n",
       "      <td>...</td>\n",
       "      <td>...</td>\n",
       "      <td>...</td>\n",
       "      <td>...</td>\n",
       "      <td>...</td>\n",
       "      <td>...</td>\n",
       "      <td>...</td>\n",
       "      <td>...</td>\n",
       "    </tr>\n",
       "    <tr>\n",
       "      <th>86</th>\n",
       "      <td>2005</td>\n",
       "      <td>0.076646</td>\n",
       "      <td>-0.013245</td>\n",
       "      <td>-0.018389</td>\n",
       "      <td>0.049143</td>\n",
       "      <td>0.010394</td>\n",
       "      <td>0.104603</td>\n",
       "      <td>-0.080591</td>\n",
       "      <td>-0.083869</td>\n",
       "      <td>-0.038696</td>\n",
       "      <td>...</td>\n",
       "      <td>-0.005677</td>\n",
       "      <td>0.066972</td>\n",
       "      <td>0.008501</td>\n",
       "      <td>0.088479</td>\n",
       "      <td>-0.061749</td>\n",
       "      <td>-0.066732</td>\n",
       "      <td>0.034326</td>\n",
       "      <td>-0.136743</td>\n",
       "      <td>-0.011060</td>\n",
       "      <td>-0.039363</td>\n",
       "    </tr>\n",
       "    <tr>\n",
       "      <th>87</th>\n",
       "      <td>2006</td>\n",
       "      <td>0.167065</td>\n",
       "      <td>-0.162214</td>\n",
       "      <td>0.041498</td>\n",
       "      <td>0.025824</td>\n",
       "      <td>0.042079</td>\n",
       "      <td>0.092879</td>\n",
       "      <td>0.082683</td>\n",
       "      <td>-0.090799</td>\n",
       "      <td>0.037295</td>\n",
       "      <td>...</td>\n",
       "      <td>-0.007803</td>\n",
       "      <td>-0.165746</td>\n",
       "      <td>-0.043466</td>\n",
       "      <td>-0.024237</td>\n",
       "      <td>-0.093639</td>\n",
       "      <td>-0.040939</td>\n",
       "      <td>-0.133169</td>\n",
       "      <td>0.163376</td>\n",
       "      <td>-0.039508</td>\n",
       "      <td>0.071683</td>\n",
       "    </tr>\n",
       "    <tr>\n",
       "      <th>88</th>\n",
       "      <td>2007</td>\n",
       "      <td>0.013874</td>\n",
       "      <td>0.016114</td>\n",
       "      <td>-0.061370</td>\n",
       "      <td>0.056909</td>\n",
       "      <td>-0.026450</td>\n",
       "      <td>0.021695</td>\n",
       "      <td>-0.028592</td>\n",
       "      <td>0.012773</td>\n",
       "      <td>-0.020889</td>\n",
       "      <td>...</td>\n",
       "      <td>0.026843</td>\n",
       "      <td>0.030773</td>\n",
       "      <td>-0.065733</td>\n",
       "      <td>-0.028946</td>\n",
       "      <td>-0.024544</td>\n",
       "      <td>-0.050680</td>\n",
       "      <td>-0.138834</td>\n",
       "      <td>-0.028907</td>\n",
       "      <td>0.054355</td>\n",
       "      <td>0.039341</td>\n",
       "    </tr>\n",
       "    <tr>\n",
       "      <th>89</th>\n",
       "      <td>2008</td>\n",
       "      <td>-0.027920</td>\n",
       "      <td>-0.001675</td>\n",
       "      <td>0.026430</td>\n",
       "      <td>-0.064696</td>\n",
       "      <td>-0.017124</td>\n",
       "      <td>0.005351</td>\n",
       "      <td>0.001303</td>\n",
       "      <td>-0.047960</td>\n",
       "      <td>-0.022692</td>\n",
       "      <td>...</td>\n",
       "      <td>-0.014177</td>\n",
       "      <td>0.022723</td>\n",
       "      <td>-0.061035</td>\n",
       "      <td>-0.025810</td>\n",
       "      <td>0.037567</td>\n",
       "      <td>0.027889</td>\n",
       "      <td>-0.016240</td>\n",
       "      <td>0.061997</td>\n",
       "      <td>0.029440</td>\n",
       "      <td>0.046812</td>\n",
       "    </tr>\n",
       "    <tr>\n",
       "      <th>90</th>\n",
       "      <td>2009</td>\n",
       "      <td>-0.035254</td>\n",
       "      <td>0.020883</td>\n",
       "      <td>-0.040243</td>\n",
       "      <td>0.076778</td>\n",
       "      <td>0.004206</td>\n",
       "      <td>0.010273</td>\n",
       "      <td>0.036684</td>\n",
       "      <td>-0.016353</td>\n",
       "      <td>0.023323</td>\n",
       "      <td>...</td>\n",
       "      <td>0.044098</td>\n",
       "      <td>-0.003397</td>\n",
       "      <td>0.035484</td>\n",
       "      <td>-0.032666</td>\n",
       "      <td>-0.011581</td>\n",
       "      <td>-0.004557</td>\n",
       "      <td>0.011513</td>\n",
       "      <td>0.003788</td>\n",
       "      <td>-0.003829</td>\n",
       "      <td>-0.013010</td>\n",
       "    </tr>\n",
       "  </tbody>\n",
       "</table>\n",
       "<p>91 rows × 101 columns</p>\n",
       "</div>"
      ],
      "text/plain": [
       "    lateryear  (value, mean)  (value, mean)  (value, mean)  (value, mean)  \\\n",
       "0        1903       0.000000       1.333333       0.000000       1.333333   \n",
       "1        1916       0.000000       1.000000       1.000000       1.000000   \n",
       "2        1918       1.000000       0.000000       0.000000      -1.000000   \n",
       "3        1921       0.000000       1.000000       1.000000      -3.000000   \n",
       "4        1923       1.000000       1.500000       4.500000       0.000000   \n",
       "..        ...            ...            ...            ...            ...   \n",
       "86       2005       0.076646      -0.013245      -0.018389       0.049143   \n",
       "87       2006       0.167065      -0.162214       0.041498       0.025824   \n",
       "88       2007       0.013874       0.016114      -0.061370       0.056909   \n",
       "89       2008      -0.027920      -0.001675       0.026430      -0.064696   \n",
       "90       2009      -0.035254       0.020883      -0.040243       0.076778   \n",
       "\n",
       "    (value, mean)  (value, mean)  (value, mean)  (value, mean)  (value, mean)  \\\n",
       "0        0.000000       0.000000      -0.666667       0.000000       0.000000   \n",
       "1        5.000000      -1.000000      -5.000000       0.000000       0.000000   \n",
       "2       -1.000000       0.000000       0.000000       0.000000      -2.000000   \n",
       "3        0.000000       0.000000      -3.000000       0.000000       0.000000   \n",
       "4        0.500000       1.000000      -6.000000     -14.500000       0.500000   \n",
       "..            ...            ...            ...            ...            ...   \n",
       "86       0.010394       0.104603      -0.080591      -0.083869      -0.038696   \n",
       "87       0.042079       0.092879       0.082683      -0.090799       0.037295   \n",
       "88      -0.026450       0.021695      -0.028592       0.012773      -0.020889   \n",
       "89      -0.017124       0.005351       0.001303      -0.047960      -0.022692   \n",
       "90       0.004206       0.010273       0.036684      -0.016353       0.023323   \n",
       "\n",
       "    ...  (value, mean)  (value, mean)  (value, mean)  (value, mean)  \\\n",
       "0   ...       0.666667       0.666667       0.666667       0.000000   \n",
       "1   ...      -5.000000      -1.000000       0.000000       0.000000   \n",
       "2   ...       0.000000       1.000000     -14.000000       0.000000   \n",
       "3   ...      -1.000000      -3.000000      -3.000000      -1.000000   \n",
       "4   ...       0.000000       0.500000       0.500000      -4.000000   \n",
       "..  ...            ...            ...            ...            ...   \n",
       "86  ...      -0.005677       0.066972       0.008501       0.088479   \n",
       "87  ...      -0.007803      -0.165746      -0.043466      -0.024237   \n",
       "88  ...       0.026843       0.030773      -0.065733      -0.028946   \n",
       "89  ...      -0.014177       0.022723      -0.061035      -0.025810   \n",
       "90  ...       0.044098      -0.003397       0.035484      -0.032666   \n",
       "\n",
       "    (value, mean)  (value, mean)  (value, mean)  (value, mean)  (value, mean)  \\\n",
       "0        0.666667      -0.666667       0.000000      -1.333333       0.666667   \n",
       "1        9.000000      -5.000000      -6.000000      -9.000000      -4.000000   \n",
       "2      -11.000000      -2.000000      -1.000000       0.000000       1.000000   \n",
       "3        2.000000      -3.000000       1.000000       2.000000       3.000000   \n",
       "4       -0.500000      -9.500000      -8.500000       0.000000      -4.500000   \n",
       "..            ...            ...            ...            ...            ...   \n",
       "86      -0.061749      -0.066732       0.034326      -0.136743      -0.011060   \n",
       "87      -0.093639      -0.040939      -0.133169       0.163376      -0.039508   \n",
       "88      -0.024544      -0.050680      -0.138834      -0.028907       0.054355   \n",
       "89       0.037567       0.027889      -0.016240       0.061997       0.029440   \n",
       "90      -0.011581      -0.004557       0.011513       0.003788      -0.003829   \n",
       "\n",
       "    (value, mean)  \n",
       "0       -0.666667  \n",
       "1       -1.000000  \n",
       "2        0.000000  \n",
       "3       -2.000000  \n",
       "4        1.500000  \n",
       "..            ...  \n",
       "86      -0.039363  \n",
       "87       0.071683  \n",
       "88       0.039341  \n",
       "89       0.046812  \n",
       "90      -0.013010  \n",
       "\n",
       "[91 rows x 101 columns]"
      ]
     },
     "execution_count": 76,
     "metadata": {},
     "output_type": "execute_result"
    }
   ],
   "source": [
    "mm_centrality"
   ]
  },
  {
   "cell_type": "code",
   "execution_count": 78,
   "id": "f73d6d66",
   "metadata": {},
   "outputs": [],
   "source": [
    "# record the percentiles of the average statistics of 100 m-m pairs per year\n",
    "\n",
    "paired_mm = mm_centrality.copy()\n",
    "\n",
    "list_1, list_2, list_3, list_4, list_5, list_6, list_7, list_8, list_9 = [], [], [], [], [], [], [], [], []\n",
    "\n",
    "for i in range(len(paired_mm)):\n",
    "    list_1.append(np.percentile(paired_mm.iloc[i,1:],10))\n",
    "    list_2.append(np.percentile(paired_mm.iloc[i,1:],20))\n",
    "    list_3.append(np.percentile(paired_mm.iloc[i,1:],30))\n",
    "    list_4.append(np.percentile(paired_mm.iloc[i,1:],40))\n",
    "    list_5.append(np.median(paired_mm.iloc[i,1:]))\n",
    "    list_6.append(np.percentile(paired_mm.iloc[i,1:],60))\n",
    "    list_7.append(np.percentile(paired_mm.iloc[i,1:],70))\n",
    "    list_8.append(np.percentile(paired_mm.iloc[i,1:],80))\n",
    "    list_9.append(np.percentile(paired_mm.iloc[i,1:],90))\n",
    "\n",
    "paired_mm['percentile_10'] = list_1\n",
    "paired_mm['percentile_20'] = list_2\n",
    "paired_mm['percentile_30'] = list_3\n",
    "paired_mm['percentile_40'] = list_4\n",
    "paired_mm['median'] = list_5\n",
    "paired_mm['percentile_60'] = list_6\n",
    "paired_mm['percentile_70'] = list_7\n",
    "paired_mm['percentile_80'] = list_8\n",
    "paired_mm['percentile_90'] = list_9\n",
    "\n",
    "paired_mm = paired_mm[['lateryear', 'percentile_10','percentile_20','percentile_30',\n",
    "                       'percentile_40','median','percentile_60','percentile_70',\n",
    "                       'percentile_80','percentile_90']]"
   ]
  },
  {
   "cell_type": "code",
   "execution_count": 89,
   "id": "28ea3b14",
   "metadata": {},
   "outputs": [
    {
     "data": {
      "image/png": "[encoded data removed]",
      "text/plain": [
       "<Figure size 432x324 with 1 Axes>"
      ]
     },
     "metadata": {
      "needs_background": "light"
     },
     "output_type": "display_data"
    }
   ],
   "source": [
    "# m-m averaged percentile plot\n",
    "\n",
    "fig, ax = plt.subplots(figsize=(6,4.5))\n",
    "right_side = ax.spines[\"right\"]\n",
    "top_side = ax.spines[\"top\"]\n",
    "right_side.set_visible(False)\n",
    "top_side.set_visible(False)\n",
    "\n",
    "cm2 = sns.color_palette(\"Blues\",10)\n",
    "\n",
    "plt.axhline(y=0, color='black', linestyle='dotted', lw=3)\n",
    "plt.plot(paired_mm.lateryear,paired_mm[\"median\"],\"-\",label=\"M-M Median\", color=cm2[9], lw=3)\n",
    "\n",
    "plt.fill_between(paired_mm.lateryear, paired_mm[\"percentile_10\"],\n",
    "                 paired_mm[\"percentile_20\"], color=cm2[1])\n",
    "plt.fill_between(paired_mm.lateryear, paired_mm[\"percentile_20\"],\n",
    "                 paired_mm[\"percentile_30\"], color=cm2[3])\n",
    "plt.fill_between(paired_mm.lateryear, paired_mm[\"percentile_30\"],\n",
    "                 paired_mm[\"percentile_40\"], color=cm2[5])\n",
    "plt.fill_between(paired_mm.lateryear, paired_mm[\"percentile_40\"],\n",
    "                 paired_mm[\"median\"], color=cm2[7])\n",
    "plt.fill_between(paired_mm.lateryear, paired_mm[\"median\"],\n",
    "                 paired_mm[\"percentile_60\"], color=cm2[7])\n",
    "plt.fill_between(paired_mm.lateryear, paired_mm[\"percentile_60\"],\n",
    "                 paired_mm[\"percentile_70\"], color=cm2[5])\n",
    "plt.fill_between(paired_mm.lateryear, paired_mm[\"percentile_70\"],\n",
    "                 paired_mm[\"percentile_80\"], color=cm2[3])\n",
    "plt.fill_between(paired_mm.lateryear, paired_mm[\"percentile_80\"],\n",
    "                 paired_mm[\"percentile_90\"], color=cm2[1])\n",
    "\n",
    "plt.xticks(fontsize=20, rotation=45)\n",
    "plt.yticks(fontsize=20)\n",
    "plt.xlabel(\"Publication Year\", fontsize=20)\n",
    "plt.ylabel(\"\\u0394(Citation)\", fontsize=20)\n",
    "\n",
    "plt.xlim(xmin=1970, xmax=2009)\n",
    "plt.ylim(ymin=-3, ymax=3)\n",
    "\n",
    "plt.tight_layout()\n",
    "fig.savefig(f\"/Users/robinkong/codes/mmpair_pp.pdf\")"
   ]
  },
  {
   "cell_type": "markdown",
   "id": "76546f31",
   "metadata": {},
   "source": [
    "### Centrality differences of similar m-m & m-f pairs by year"
   ]
  },
  {
   "cell_type": "code",
   "execution_count": 123,
   "id": "3aec827d",
   "metadata": {},
   "outputs": [],
   "source": [
    "# mm_ms is the DataFrame for the difference plot (M-M pairs)\n",
    "mm_ms = mm_centrality.copy()\n",
    "\n",
    "# Retrieving the list of means and SDs\n",
    "meanlist = mm_ms.iloc[:,1:].mean(axis=1).tolist()\n",
    "sdlist = mm_ms.iloc[:,1:].std(axis=1).tolist()\n",
    "\n",
    "# Appending to the DataFrame\n",
    "mm_ms['avg'] = meanlist\n",
    "mm_ms['sd'] = sdlist\n",
    "mm_ms = mm_ms[['lateryear','avg','sd']]"
   ]
  },
  {
   "cell_type": "code",
   "execution_count": 124,
   "id": "a862bc8a",
   "metadata": {},
   "outputs": [],
   "source": [
    "# mf_ms is the DataFrame for the difference plot (M-F pairs)\n",
    "mf_ms = simp.groupby(\"lateryear\").agg(['count', np.mean, np.std]).reset_index()\n",
    "\n",
    "# Retrieve a standard error list for M-F pairs\n",
    "semlist = []\n",
    "\n",
    "for i in range(len(mf_ms)):\n",
    "    semlist.append(mf_ms.countd['std'][i]/math.sqrt(mf_ms.countd['count'][i]))\n",
    "\n",
    "mf_ms['sem'] = semlist"
   ]
  },
  {
   "cell_type": "code",
   "execution_count": 125,
   "id": "ade209da",
   "metadata": {},
   "outputs": [],
   "source": [
    "# remove sparse year data (not used in visualization regardlessly)\n",
    "\n",
    "mm_ms = mm_ms.loc[4:].reset_index(drop=True)\n",
    "mf_ms = mf_ms.loc[4:].reset_index(drop=True)"
   ]
  },
  {
   "cell_type": "code",
   "execution_count": 129,
   "id": "45e804ce",
   "metadata": {},
   "outputs": [
    {
     "data": {
      "image/png": "[encoded data removed]",
      "text/plain": [
       "<Figure size 432x324 with 1 Axes>"
      ]
     },
     "metadata": {
      "needs_background": "light"
     },
     "output_type": "display_data"
    }
   ],
   "source": [
    "# Creating a year vs. centrality difference plot, separated by gender\n",
    "\n",
    "fig, ax = plt.subplots(figsize=(6,4.5))\n",
    "right_side = ax.spines[\"right\"]\n",
    "top_side = ax.spines[\"top\"]\n",
    "right_side.set_visible(False)\n",
    "top_side.set_visible(False)\n",
    "\n",
    "# Equilibrium line\n",
    "plt.axhline(y=0, color='black', linestyle='dotted', lw=3)\n",
    "\n",
    "# Plotting M-M pairs\n",
    "plt.plot(mm_ms.lateryear,mm_ms.avg,\"-\",label=\"M-M Pair\",\n",
    "         color='#67a9cf', lw=3)\n",
    "\n",
    "# shading the SD area (M-M)\n",
    "X  = np.linspace(min(mm_ms.lateryear),max(mm_ms.lateryear),mm_ms.lateryear.nunique())\n",
    "plt.fill_between(X,\n",
    "                 mm_ms.avg + mm_ms.sd,\n",
    "                 mm_ms.avg - mm_ms.sd,\n",
    "                 color='C0',alpha=.4,edgecolor=\"none\")\n",
    "\n",
    "# Plotting M-F pairs\n",
    "plt.plot(mf_ms.lateryear,mf_ms.countd['mean'],\"-\",label=\"M-F Pair\",\n",
    "         color='#ef8a62', lw=3)\n",
    "\n",
    "# shading the SE area (M-F)\n",
    "plt.fill_between(X,\n",
    "                 mf_ms.countd['mean'] + mf_ms['sem'],\n",
    "                 mf_ms.countd['mean'] - mf_ms['sem'],\n",
    "                 color='C1',alpha=.4,edgecolor=\"none\")\n",
    "\n",
    "plt.xticks(fontsize=20, rotation=45)\n",
    "plt.yticks(fontsize=20)\n",
    "plt.xlabel(\"Year\",fontsize=20)\n",
    "plt.ylabel(\"\\u0394c\",fontsize=20)\n",
    "plt.xlim(xmin=1970, xmax=2009)\n",
    "plt.ylim(ymin=-10, ymax=10)\n",
    "\n",
    "plt.legend(loc='lower right', fontsize=20)\n",
    "\n",
    "plt.tight_layout()\n",
    "fig.savefig(f\"/Users/robinkong/codes/mm_mf_cdiff.pdf\")"
   ]
  },
  {
   "cell_type": "code",
   "execution_count": null,
   "id": "3500cd0f",
   "metadata": {},
   "outputs": [],
   "source": []
  }
 ],
 "metadata": {
  "kernelspec": {
   "display_name": "Python 3",
   "language": "python",
   "name": "python3"
  },
  "language_info": {
   "codemirror_mode": {
    "name": "ipython",
    "version": 3
   },
   "file_extension": ".py",
   "mimetype": "text/x-python",
   "name": "python",
   "nbconvert_exporter": "python",
   "pygments_lexer": "ipython3",
   "version": "3.8.8"
  }
 },
 "nbformat": 4,
 "nbformat_minor": 5
}
